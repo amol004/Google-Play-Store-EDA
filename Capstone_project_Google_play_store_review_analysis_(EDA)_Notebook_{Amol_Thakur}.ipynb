{
  "nbformat": 4,
  "nbformat_minor": 0,
  "metadata": {
    "colab": {
      "provenance": [],
      "mount_file_id": "1Z1ii3IQ7FNqKvMHdXCvLtwNrBXPB_MlP",
      "authorship_tag": "ABX9TyMrwYoY1Un1R9zx00fQjjkD",
      "include_colab_link": true
    },
    "kernelspec": {
      "name": "python3",
      "display_name": "Python 3"
    },
    "language_info": {
      "name": "python"
    }
  },
  "cells": [
    {
      "cell_type": "markdown",
      "metadata": {
        "id": "view-in-github",
        "colab_type": "text"
      },
      "source": [
        "<a href=\"https://colab.research.google.com/github/amol004/Google-Play-Store-EDA/blob/main/Capstone_project_Google_play_store_review_analysis_(EDA)_Notebook_%7BAmol_Thakur%7D.ipynb\" target=\"_parent\"><img src=\"https://colab.research.google.com/assets/colab-badge.svg\" alt=\"Open In Colab\"/></a>"
      ]
    },
    {
      "cell_type": "markdown",
      "source": [
        "# **EDA on Google Play Store**\n",
        "### **By Amol Thakur**\n",
        "\n",
        "---\n",
        "\n",
        "![1_75SwvWQrspM0aKlN02uWTQ.webp](data:image/webp;base64,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)"
      ],
      "metadata": {
        "id": "p6G7UAGNhr9t"
      }
    },
    {
      "cell_type": "markdown",
      "source": [
        "### **The Play Store applications data set(PlayStoreData.csv) offers a lot of promise to help app-making enterprises succeed.**\n",
        "### **Each row in this collection contains values for its category, rating, size, and other attributes.**\n",
        "### **Customer reviews of the Android apps are included in another dataset.(UserReviews.csv)**"
      ],
      "metadata": {
        "id": "7jZZNRgghr6P"
      }
    },
    {
      "cell_type": "markdown",
      "source": [
        "# There are basically 2 data sets that we will be working on in this project \n",
        "1.**PlayStoreData.csv : contains information regarding Applications**\n",
        "\n",
        "**2. UserReviews.csv : contains information regarding Reviews and Sentiments of users**"
      ],
      "metadata": {
        "id": "9L2x00d2H4ox"
      }
    },
    {
      "cell_type": "markdown",
      "source": [
        "\n",
        "\n",
        "\n",
        "# **Let's have a look on our PlayStoreData.csv dataset and the features/information it holds :**\n",
        "\n",
        "\n",
        "**App :- Name of the App.**\n",
        "\n",
        "**Category :- The classification that the App belongs in.**\n",
        "\n",
        "**Rating :- App's rating on playstore.**\n",
        "\n",
        "**Reviews :- Number of reviews of the App.**\n",
        "\n",
        "**Size :- Size of the App.**\n",
        "\n",
        "**Install :- Number of Installs of the App.**\n",
        "\n",
        "**Type :- Whether the App is free or paid.**\n",
        "\n",
        "**Price :- Price of the app.**\n",
        "\n",
        "**Content Rating :- Audience that the app should be targeting.**\n",
        "\n",
        "**Genres:- Genre under which the App falls.**\n",
        "\n",
        "**Last Updated :- Date when the App was last updated.**\n",
        "\n",
        "**Current Ver :- Current Version of the Application.**\n",
        "\n",
        "**Android Ver :- Minimum Android Version required to run the App.**\n",
        "\n",
        "\n",
        "\n",
        "\n"
      ],
      "metadata": {
        "id": "wq2JcucHCdeX"
      }
    },
    {
      "cell_type": "markdown",
      "source": [
        "# **Now let's study the features of our 2nd dataset which is UserReviews.csv :**\n",
        "\n",
        "**App : Name of the App.**\n",
        "\n",
        "**Translated_Review : Opinions of people regarding a specific application**\n",
        "\n",
        "**Sentiment : Weather the opinion/review of user is negative/positive/neutral**\n",
        "\n",
        "**Sentiment_Polarity: Defines the orientation of the expressed sentiment(between -1(negative) to 1(positive) or 0(neutral)**\n",
        "\n",
        "**Sentiment_Subjectivity : Refers to the degree to which a person's review is related to the App (lies between 0 to 1)**\n"
      ],
      "metadata": {
        "id": "72h7ytuIhr0F"
      }
    },
    {
      "cell_type": "markdown",
      "source": [
        "# **The data from Play Store applications has a huge potential to propel app-making companies to success. For developers to work on and take the Android market, actionable insights may be derived.**"
      ],
      "metadata": {
        "id": "WIDjKPnohrxI"
      }
    },
    {
      "cell_type": "markdown",
      "source": [
        "# **Therefore, without further ado, let's start our analysis to get some insightful conclusions.**"
      ],
      "metadata": {
        "id": "Ah62cQCzkumR"
      }
    },
    {
      "cell_type": "markdown",
      "source": [
        "# **Importing all the necessary packages and libraries required for our EDA** \n",
        "\n",
        "\n",
        "\n"
      ],
      "metadata": {
        "id": "7YB2Vli0b1qk"
      }
    },
    {
      "cell_type": "code",
      "execution_count": 1,
      "metadata": {
        "id": "fn9-8UdDw84r"
      },
      "outputs": [],
      "source": [
        "# used for numerical operations\n",
        "import numpy as np\n",
        "# for data manipulation\n",
        "import pandas as pd \n",
        "# for data vizulization\n",
        "import matplotlib.pyplot as plt\n",
        "%matplotlib inline\n",
        "import seaborn as sns\n",
        "from wordcloud import WordCloud ,STOPWORDS\n",
        "# for visualizing missing/null values in our data frame\n",
        "import missingno as msno \n",
        "# for manipulation of data with type datetime\n",
        "from datetime import datetime\n",
        "# used to remove warnings for better asthetics of our project\n",
        "import warnings\n",
        "warnings.filterwarnings('ignore')\n",
        "# to increase the number of visible columns in our data frame\n",
        "from google.colab.data_table import DataTable\n",
        "DataTable.max_columns = 30"
      ]
    },
    {
      "cell_type": "code",
      "source": [
        "#Mounting Drive\n",
        "from google.colab import drive\n",
        "drive.mount('/content/drive')"
      ],
      "metadata": {
        "id": "b7ep2CB7f0sO",
        "colab": {
          "base_uri": "https://localhost:8080/"
        },
        "outputId": "632c8246-ac71-45f1-d25b-9a323a263b5a"
      },
      "execution_count": 2,
      "outputs": [
        {
          "output_type": "stream",
          "name": "stdout",
          "text": [
            "Drive already mounted at /content/drive; to attempt to forcibly remount, call drive.mount(\"/content/drive\", force_remount=True).\n"
          ]
        }
      ]
    },
    {
      "cell_type": "code",
      "source": [
        "# Reading our first csv file (PlayStoreData.csv) and storing it in a variable play_df\n",
        "play_df = pd.read_csv('/content/drive/MyDrive/Google Playstore dataset/Play Store Data.csv')\n"
      ],
      "metadata": {
        "id": "_Aq1z-cMaBbF"
      },
      "execution_count": 3,
      "outputs": []
    },
    {
      "cell_type": "code",
      "source": [
        "# Reading our 2nd csv file (UserReviews.scv) and storing it in a variable reviews_df\n",
        "reviews_df = pd.read_csv('/content/drive/MyDrive/Google Playstore dataset/User Reviews.csv')"
      ],
      "metadata": {
        "id": "toxyfksYaBZo"
      },
      "execution_count": 4,
      "outputs": []
    },
    {
      "cell_type": "code",
      "source": [
        "#Analyzing top 5 rows of our play_df dataset using .head()\n",
        "play_df.head()"
      ],
      "metadata": {
        "colab": {
          "base_uri": "https://localhost:8080/",
          "height": 617
        },
        "id": "fGmf1YGkaBXF",
        "outputId": "b980410e-d6e8-4052-8003-ca06fefc474a"
      },
      "execution_count": 5,
      "outputs": [
        {
          "output_type": "execute_result",
          "data": {
            "text/plain": [
              "                                                 App        Category  Rating  \\\n",
              "0     Photo Editor & Candy Camera & Grid & ScrapBook  ART_AND_DESIGN     4.1   \n",
              "1                                Coloring book moana  ART_AND_DESIGN     3.9   \n",
              "2  U Launcher Lite – FREE Live Cool Themes, Hide ...  ART_AND_DESIGN     4.7   \n",
              "3                              Sketch - Draw & Paint  ART_AND_DESIGN     4.5   \n",
              "4              Pixel Draw - Number Art Coloring Book  ART_AND_DESIGN     4.3   \n",
              "\n",
              "  Reviews  Size     Installs  Type Price Content Rating  \\\n",
              "0     159   19M      10,000+  Free     0       Everyone   \n",
              "1     967   14M     500,000+  Free     0       Everyone   \n",
              "2   87510  8.7M   5,000,000+  Free     0       Everyone   \n",
              "3  215644   25M  50,000,000+  Free     0           Teen   \n",
              "4     967  2.8M     100,000+  Free     0       Everyone   \n",
              "\n",
              "                      Genres      Last Updated         Current Ver  \\\n",
              "0               Art & Design   January 7, 2018               1.0.0   \n",
              "1  Art & Design;Pretend Play  January 15, 2018               2.0.0   \n",
              "2               Art & Design    August 1, 2018               1.2.4   \n",
              "3               Art & Design      June 8, 2018  Varies with device   \n",
              "4    Art & Design;Creativity     June 20, 2018                 1.1   \n",
              "\n",
              "    Android Ver  \n",
              "0  4.0.3 and up  \n",
              "1  4.0.3 and up  \n",
              "2  4.0.3 and up  \n",
              "3    4.2 and up  \n",
              "4    4.4 and up  "
            ],
            "text/html": [
              "\n",
              "  <div id=\"df-f9487a06-4f58-4bca-b52f-d6a03d5a14dc\">\n",
              "    <div class=\"colab-df-container\">\n",
              "      <div>\n",
              "<style scoped>\n",
              "    .dataframe tbody tr th:only-of-type {\n",
              "        vertical-align: middle;\n",
              "    }\n",
              "\n",
              "    .dataframe tbody tr th {\n",
              "        vertical-align: top;\n",
              "    }\n",
              "\n",
              "    .dataframe thead th {\n",
              "        text-align: right;\n",
              "    }\n",
              "</style>\n",
              "<table border=\"1\" class=\"dataframe\">\n",
              "  <thead>\n",
              "    <tr style=\"text-align: right;\">\n",
              "      <th></th>\n",
              "      <th>App</th>\n",
              "      <th>Category</th>\n",
              "      <th>Rating</th>\n",
              "      <th>Reviews</th>\n",
              "      <th>Size</th>\n",
              "      <th>Installs</th>\n",
              "      <th>Type</th>\n",
              "      <th>Price</th>\n",
              "      <th>Content Rating</th>\n",
              "      <th>Genres</th>\n",
              "      <th>Last Updated</th>\n",
              "      <th>Current Ver</th>\n",
              "      <th>Android Ver</th>\n",
              "    </tr>\n",
              "  </thead>\n",
              "  <tbody>\n",
              "    <tr>\n",
              "      <th>0</th>\n",
              "      <td>Photo Editor &amp; Candy Camera &amp; Grid &amp; ScrapBook</td>\n",
              "      <td>ART_AND_DESIGN</td>\n",
              "      <td>4.1</td>\n",
              "      <td>159</td>\n",
              "      <td>19M</td>\n",
              "      <td>10,000+</td>\n",
              "      <td>Free</td>\n",
              "      <td>0</td>\n",
              "      <td>Everyone</td>\n",
              "      <td>Art &amp; Design</td>\n",
              "      <td>January 7, 2018</td>\n",
              "      <td>1.0.0</td>\n",
              "      <td>4.0.3 and up</td>\n",
              "    </tr>\n",
              "    <tr>\n",
              "      <th>1</th>\n",
              "      <td>Coloring book moana</td>\n",
              "      <td>ART_AND_DESIGN</td>\n",
              "      <td>3.9</td>\n",
              "      <td>967</td>\n",
              "      <td>14M</td>\n",
              "      <td>500,000+</td>\n",
              "      <td>Free</td>\n",
              "      <td>0</td>\n",
              "      <td>Everyone</td>\n",
              "      <td>Art &amp; Design;Pretend Play</td>\n",
              "      <td>January 15, 2018</td>\n",
              "      <td>2.0.0</td>\n",
              "      <td>4.0.3 and up</td>\n",
              "    </tr>\n",
              "    <tr>\n",
              "      <th>2</th>\n",
              "      <td>U Launcher Lite – FREE Live Cool Themes, Hide ...</td>\n",
              "      <td>ART_AND_DESIGN</td>\n",
              "      <td>4.7</td>\n",
              "      <td>87510</td>\n",
              "      <td>8.7M</td>\n",
              "      <td>5,000,000+</td>\n",
              "      <td>Free</td>\n",
              "      <td>0</td>\n",
              "      <td>Everyone</td>\n",
              "      <td>Art &amp; Design</td>\n",
              "      <td>August 1, 2018</td>\n",
              "      <td>1.2.4</td>\n",
              "      <td>4.0.3 and up</td>\n",
              "    </tr>\n",
              "    <tr>\n",
              "      <th>3</th>\n",
              "      <td>Sketch - Draw &amp; Paint</td>\n",
              "      <td>ART_AND_DESIGN</td>\n",
              "      <td>4.5</td>\n",
              "      <td>215644</td>\n",
              "      <td>25M</td>\n",
              "      <td>50,000,000+</td>\n",
              "      <td>Free</td>\n",
              "      <td>0</td>\n",
              "      <td>Teen</td>\n",
              "      <td>Art &amp; Design</td>\n",
              "      <td>June 8, 2018</td>\n",
              "      <td>Varies with device</td>\n",
              "      <td>4.2 and up</td>\n",
              "    </tr>\n",
              "    <tr>\n",
              "      <th>4</th>\n",
              "      <td>Pixel Draw - Number Art Coloring Book</td>\n",
              "      <td>ART_AND_DESIGN</td>\n",
              "      <td>4.3</td>\n",
              "      <td>967</td>\n",
              "      <td>2.8M</td>\n",
              "      <td>100,000+</td>\n",
              "      <td>Free</td>\n",
              "      <td>0</td>\n",
              "      <td>Everyone</td>\n",
              "      <td>Art &amp; Design;Creativity</td>\n",
              "      <td>June 20, 2018</td>\n",
              "      <td>1.1</td>\n",
              "      <td>4.4 and up</td>\n",
              "    </tr>\n",
              "  </tbody>\n",
              "</table>\n",
              "</div>\n",
              "      <button class=\"colab-df-convert\" onclick=\"convertToInteractive('df-f9487a06-4f58-4bca-b52f-d6a03d5a14dc')\"\n",
              "              title=\"Convert this dataframe to an interactive table.\"\n",
              "              style=\"display:none;\">\n",
              "        \n",
              "  <svg xmlns=\"http://www.w3.org/2000/svg\" height=\"24px\"viewBox=\"0 0 24 24\"\n",
              "       width=\"24px\">\n",
              "    <path d=\"M0 0h24v24H0V0z\" fill=\"none\"/>\n",
              "    <path d=\"M18.56 5.44l.94 2.06.94-2.06 2.06-.94-2.06-.94-.94-2.06-.94 2.06-2.06.94zm-11 1L8.5 8.5l.94-2.06 2.06-.94-2.06-.94L8.5 2.5l-.94 2.06-2.06.94zm10 10l.94 2.06.94-2.06 2.06-.94-2.06-.94-.94-2.06-.94 2.06-2.06.94z\"/><path d=\"M17.41 7.96l-1.37-1.37c-.4-.4-.92-.59-1.43-.59-.52 0-1.04.2-1.43.59L10.3 9.45l-7.72 7.72c-.78.78-.78 2.05 0 2.83L4 21.41c.39.39.9.59 1.41.59.51 0 1.02-.2 1.41-.59l7.78-7.78 2.81-2.81c.8-.78.8-2.07 0-2.86zM5.41 20L4 18.59l7.72-7.72 1.47 1.35L5.41 20z\"/>\n",
              "  </svg>\n",
              "      </button>\n",
              "      \n",
              "  <style>\n",
              "    .colab-df-container {\n",
              "      display:flex;\n",
              "      flex-wrap:wrap;\n",
              "      gap: 12px;\n",
              "    }\n",
              "\n",
              "    .colab-df-convert {\n",
              "      background-color: #E8F0FE;\n",
              "      border: none;\n",
              "      border-radius: 50%;\n",
              "      cursor: pointer;\n",
              "      display: none;\n",
              "      fill: #1967D2;\n",
              "      height: 32px;\n",
              "      padding: 0 0 0 0;\n",
              "      width: 32px;\n",
              "    }\n",
              "\n",
              "    .colab-df-convert:hover {\n",
              "      background-color: #E2EBFA;\n",
              "      box-shadow: 0px 1px 2px rgba(60, 64, 67, 0.3), 0px 1px 3px 1px rgba(60, 64, 67, 0.15);\n",
              "      fill: #174EA6;\n",
              "    }\n",
              "\n",
              "    [theme=dark] .colab-df-convert {\n",
              "      background-color: #3B4455;\n",
              "      fill: #D2E3FC;\n",
              "    }\n",
              "\n",
              "    [theme=dark] .colab-df-convert:hover {\n",
              "      background-color: #434B5C;\n",
              "      box-shadow: 0px 1px 3px 1px rgba(0, 0, 0, 0.15);\n",
              "      filter: drop-shadow(0px 1px 2px rgba(0, 0, 0, 0.3));\n",
              "      fill: #FFFFFF;\n",
              "    }\n",
              "  </style>\n",
              "\n",
              "      <script>\n",
              "        const buttonEl =\n",
              "          document.querySelector('#df-f9487a06-4f58-4bca-b52f-d6a03d5a14dc button.colab-df-convert');\n",
              "        buttonEl.style.display =\n",
              "          google.colab.kernel.accessAllowed ? 'block' : 'none';\n",
              "\n",
              "        async function convertToInteractive(key) {\n",
              "          const element = document.querySelector('#df-f9487a06-4f58-4bca-b52f-d6a03d5a14dc');\n",
              "          const dataTable =\n",
              "            await google.colab.kernel.invokeFunction('convertToInteractive',\n",
              "                                                     [key], {});\n",
              "          if (!dataTable) return;\n",
              "\n",
              "          const docLinkHtml = 'Like what you see? Visit the ' +\n",
              "            '<a target=\"_blank\" href=https://colab.research.google.com/notebooks/data_table.ipynb>data table notebook</a>'\n",
              "            + ' to learn more about interactive tables.';\n",
              "          element.innerHTML = '';\n",
              "          dataTable['output_type'] = 'display_data';\n",
              "          await google.colab.output.renderOutput(dataTable, element);\n",
              "          const docLink = document.createElement('div');\n",
              "          docLink.innerHTML = docLinkHtml;\n",
              "          element.appendChild(docLink);\n",
              "        }\n",
              "      </script>\n",
              "    </div>\n",
              "  </div>\n",
              "  "
            ]
          },
          "metadata": {},
          "execution_count": 5
        }
      ]
    },
    {
      "cell_type": "code",
      "source": [
        "#Analyzing top 5 rows of our reviews_df dataset using .head()\n",
        "reviews_df.head()"
      ],
      "metadata": {
        "colab": {
          "base_uri": "https://localhost:8080/",
          "height": 337
        },
        "id": "FyM_Bzq6oQEG",
        "outputId": "95af2843-61f1-4cfc-c9f2-720c90ffebd3"
      },
      "execution_count": 6,
      "outputs": [
        {
          "output_type": "execute_result",
          "data": {
            "text/plain": [
              "                     App                                  Translated_Review  \\\n",
              "0  10 Best Foods for You  I like eat delicious food. That's I'm cooking ...   \n",
              "1  10 Best Foods for You    This help eating healthy exercise regular basis   \n",
              "2  10 Best Foods for You                                                NaN   \n",
              "3  10 Best Foods for You         Works great especially going grocery store   \n",
              "4  10 Best Foods for You                                       Best idea us   \n",
              "\n",
              "  Sentiment  Sentiment_Polarity  Sentiment_Subjectivity  \n",
              "0  Positive                1.00                0.533333  \n",
              "1  Positive                0.25                0.288462  \n",
              "2       NaN                 NaN                     NaN  \n",
              "3  Positive                0.40                0.875000  \n",
              "4  Positive                1.00                0.300000  "
            ],
            "text/html": [
              "\n",
              "  <div id=\"df-1c2971d1-4d44-4789-8422-de82fb8b3522\">\n",
              "    <div class=\"colab-df-container\">\n",
              "      <div>\n",
              "<style scoped>\n",
              "    .dataframe tbody tr th:only-of-type {\n",
              "        vertical-align: middle;\n",
              "    }\n",
              "\n",
              "    .dataframe tbody tr th {\n",
              "        vertical-align: top;\n",
              "    }\n",
              "\n",
              "    .dataframe thead th {\n",
              "        text-align: right;\n",
              "    }\n",
              "</style>\n",
              "<table border=\"1\" class=\"dataframe\">\n",
              "  <thead>\n",
              "    <tr style=\"text-align: right;\">\n",
              "      <th></th>\n",
              "      <th>App</th>\n",
              "      <th>Translated_Review</th>\n",
              "      <th>Sentiment</th>\n",
              "      <th>Sentiment_Polarity</th>\n",
              "      <th>Sentiment_Subjectivity</th>\n",
              "    </tr>\n",
              "  </thead>\n",
              "  <tbody>\n",
              "    <tr>\n",
              "      <th>0</th>\n",
              "      <td>10 Best Foods for You</td>\n",
              "      <td>I like eat delicious food. That's I'm cooking ...</td>\n",
              "      <td>Positive</td>\n",
              "      <td>1.00</td>\n",
              "      <td>0.533333</td>\n",
              "    </tr>\n",
              "    <tr>\n",
              "      <th>1</th>\n",
              "      <td>10 Best Foods for You</td>\n",
              "      <td>This help eating healthy exercise regular basis</td>\n",
              "      <td>Positive</td>\n",
              "      <td>0.25</td>\n",
              "      <td>0.288462</td>\n",
              "    </tr>\n",
              "    <tr>\n",
              "      <th>2</th>\n",
              "      <td>10 Best Foods for You</td>\n",
              "      <td>NaN</td>\n",
              "      <td>NaN</td>\n",
              "      <td>NaN</td>\n",
              "      <td>NaN</td>\n",
              "    </tr>\n",
              "    <tr>\n",
              "      <th>3</th>\n",
              "      <td>10 Best Foods for You</td>\n",
              "      <td>Works great especially going grocery store</td>\n",
              "      <td>Positive</td>\n",
              "      <td>0.40</td>\n",
              "      <td>0.875000</td>\n",
              "    </tr>\n",
              "    <tr>\n",
              "      <th>4</th>\n",
              "      <td>10 Best Foods for You</td>\n",
              "      <td>Best idea us</td>\n",
              "      <td>Positive</td>\n",
              "      <td>1.00</td>\n",
              "      <td>0.300000</td>\n",
              "    </tr>\n",
              "  </tbody>\n",
              "</table>\n",
              "</div>\n",
              "      <button class=\"colab-df-convert\" onclick=\"convertToInteractive('df-1c2971d1-4d44-4789-8422-de82fb8b3522')\"\n",
              "              title=\"Convert this dataframe to an interactive table.\"\n",
              "              style=\"display:none;\">\n",
              "        \n",
              "  <svg xmlns=\"http://www.w3.org/2000/svg\" height=\"24px\"viewBox=\"0 0 24 24\"\n",
              "       width=\"24px\">\n",
              "    <path d=\"M0 0h24v24H0V0z\" fill=\"none\"/>\n",
              "    <path d=\"M18.56 5.44l.94 2.06.94-2.06 2.06-.94-2.06-.94-.94-2.06-.94 2.06-2.06.94zm-11 1L8.5 8.5l.94-2.06 2.06-.94-2.06-.94L8.5 2.5l-.94 2.06-2.06.94zm10 10l.94 2.06.94-2.06 2.06-.94-2.06-.94-.94-2.06-.94 2.06-2.06.94z\"/><path d=\"M17.41 7.96l-1.37-1.37c-.4-.4-.92-.59-1.43-.59-.52 0-1.04.2-1.43.59L10.3 9.45l-7.72 7.72c-.78.78-.78 2.05 0 2.83L4 21.41c.39.39.9.59 1.41.59.51 0 1.02-.2 1.41-.59l7.78-7.78 2.81-2.81c.8-.78.8-2.07 0-2.86zM5.41 20L4 18.59l7.72-7.72 1.47 1.35L5.41 20z\"/>\n",
              "  </svg>\n",
              "      </button>\n",
              "      \n",
              "  <style>\n",
              "    .colab-df-container {\n",
              "      display:flex;\n",
              "      flex-wrap:wrap;\n",
              "      gap: 12px;\n",
              "    }\n",
              "\n",
              "    .colab-df-convert {\n",
              "      background-color: #E8F0FE;\n",
              "      border: none;\n",
              "      border-radius: 50%;\n",
              "      cursor: pointer;\n",
              "      display: none;\n",
              "      fill: #1967D2;\n",
              "      height: 32px;\n",
              "      padding: 0 0 0 0;\n",
              "      width: 32px;\n",
              "    }\n",
              "\n",
              "    .colab-df-convert:hover {\n",
              "      background-color: #E2EBFA;\n",
              "      box-shadow: 0px 1px 2px rgba(60, 64, 67, 0.3), 0px 1px 3px 1px rgba(60, 64, 67, 0.15);\n",
              "      fill: #174EA6;\n",
              "    }\n",
              "\n",
              "    [theme=dark] .colab-df-convert {\n",
              "      background-color: #3B4455;\n",
              "      fill: #D2E3FC;\n",
              "    }\n",
              "\n",
              "    [theme=dark] .colab-df-convert:hover {\n",
              "      background-color: #434B5C;\n",
              "      box-shadow: 0px 1px 3px 1px rgba(0, 0, 0, 0.15);\n",
              "      filter: drop-shadow(0px 1px 2px rgba(0, 0, 0, 0.3));\n",
              "      fill: #FFFFFF;\n",
              "    }\n",
              "  </style>\n",
              "\n",
              "      <script>\n",
              "        const buttonEl =\n",
              "          document.querySelector('#df-1c2971d1-4d44-4789-8422-de82fb8b3522 button.colab-df-convert');\n",
              "        buttonEl.style.display =\n",
              "          google.colab.kernel.accessAllowed ? 'block' : 'none';\n",
              "\n",
              "        async function convertToInteractive(key) {\n",
              "          const element = document.querySelector('#df-1c2971d1-4d44-4789-8422-de82fb8b3522');\n",
              "          const dataTable =\n",
              "            await google.colab.kernel.invokeFunction('convertToInteractive',\n",
              "                                                     [key], {});\n",
              "          if (!dataTable) return;\n",
              "\n",
              "          const docLinkHtml = 'Like what you see? Visit the ' +\n",
              "            '<a target=\"_blank\" href=https://colab.research.google.com/notebooks/data_table.ipynb>data table notebook</a>'\n",
              "            + ' to learn more about interactive tables.';\n",
              "          element.innerHTML = '';\n",
              "          dataTable['output_type'] = 'display_data';\n",
              "          await google.colab.output.renderOutput(dataTable, element);\n",
              "          const docLink = document.createElement('div');\n",
              "          docLink.innerHTML = docLinkHtml;\n",
              "          element.appendChild(docLink);\n",
              "        }\n",
              "      </script>\n",
              "    </div>\n",
              "  </div>\n",
              "  "
            ]
          },
          "metadata": {},
          "execution_count": 6
        }
      ]
    },
    {
      "cell_type": "markdown",
      "source": [
        "# **For now let's just focus on our 1st dataset i.e play_df and try finding some useful insights**"
      ],
      "metadata": {
        "id": "mQLZSuzJnu5q"
      }
    },
    {
      "cell_type": "code",
      "source": [
        "# checking the data types of every column in our play_df dataframe using .info()\n",
        "# here we can aslo notice that our play_df dataframe has 10841 rows and 13 columns\n",
        "play_df.info()"
      ],
      "metadata": {
        "colab": {
          "base_uri": "https://localhost:8080/"
        },
        "id": "7gwsgcebaBQ0",
        "outputId": "93d72547-941d-437c-9d71-d005110d3673"
      },
      "execution_count": 7,
      "outputs": [
        {
          "output_type": "stream",
          "name": "stdout",
          "text": [
            "<class 'pandas.core.frame.DataFrame'>\n",
            "RangeIndex: 10841 entries, 0 to 10840\n",
            "Data columns (total 13 columns):\n",
            " #   Column          Non-Null Count  Dtype  \n",
            "---  ------          --------------  -----  \n",
            " 0   App             10841 non-null  object \n",
            " 1   Category        10841 non-null  object \n",
            " 2   Rating          9367 non-null   float64\n",
            " 3   Reviews         10841 non-null  object \n",
            " 4   Size            10841 non-null  object \n",
            " 5   Installs        10841 non-null  object \n",
            " 6   Type            10840 non-null  object \n",
            " 7   Price           10841 non-null  object \n",
            " 8   Content Rating  10840 non-null  object \n",
            " 9   Genres          10841 non-null  object \n",
            " 10  Last Updated    10841 non-null  object \n",
            " 11  Current Ver     10833 non-null  object \n",
            " 12  Android Ver     10838 non-null  object \n",
            "dtypes: float64(1), object(12)\n",
            "memory usage: 1.1+ MB\n"
          ]
        }
      ]
    },
    {
      "cell_type": "markdown",
      "source": [
        "# **For performing Data Cleaning following operations would be used :**\n",
        "\n",
        "## 1. Handling null/missing values\n",
        "## 2. Finding Outliers\n",
        "## 3. Correcting Datatypes\n",
        "## 4. Filtering unnecessary values\n",
        "## 5. Removing unnecessary symbols ($,+,M etc)\n",
        "## 6. Removing Duplicate values\n",
        "## 7. Transforming values from one format to other (from Kb to Mb)\n",
        "\n",
        "\n",
        "\n",
        "\n",
        "\n",
        "\n",
        "\n",
        "\n",
        "\n",
        "\n",
        "\n",
        "\n",
        "\n",
        "\n",
        "\n",
        "\n",
        "\n",
        "\n"
      ],
      "metadata": {
        "id": "4YrKd0IDq5Za"
      }
    },
    {
      "cell_type": "markdown",
      "source": [
        "# Analysing Null/Missing values"
      ],
      "metadata": {
        "id": "SzSfRA0Ifoay"
      }
    },
    {
      "cell_type": "code",
      "source": [
        "# let's plot all the null values present in our dataframe using bargraph and missingno library\n",
        "plt.figure(figsize=(10,8)) # used to provide a specific size to our graph\n",
        "msno.bar(play_df);"
      ],
      "metadata": {
        "id": "iPldNUtQZ_Pn",
        "colab": {
          "base_uri": "https://localhost:8080/",
          "height": 397
        },
        "outputId": "2c24c283-4d34-412b-e93f-13fe38e3fadd"
      },
      "execution_count": 8,
      "outputs": [
        {
          "output_type": "display_data",
          "data": {
            "text/plain": [
              "<Figure size 1800x720 with 3 Axes>"
            ],
            "image/png": "[encoded data removed]"
          },
          "metadata": {
            "needs_background": "light"
          }
        }
      ]
    },
    {
      "cell_type": "code",
      "source": [
        "# we can also use the matrix method for performing the above task (the horizontal white lines represents missing values present in columns )\n",
        "# it seems like there aren't much missing values present in our dataframe except for the column 'Rating'\n",
        "plt.figure(figsize=(10,8))\n",
        "msno.matrix(play_df);"
      ],
      "metadata": {
        "colab": {
          "base_uri": "https://localhost:8080/",
          "height": 393
        },
        "id": "Yow2ZfzpopkM",
        "outputId": "02d9e24c-a568-4ea8-a87a-817dab7ca347"
      },
      "execution_count": 9,
      "outputs": [
        {
          "output_type": "display_data",
          "data": {
            "text/plain": [
              "<Figure size 720x576 with 0 Axes>"
            ]
          },
          "metadata": {}
        },
        {
          "output_type": "display_data",
          "data": {
            "text/plain": [
              "<Figure size 1800x720 with 2 Axes>"
            ],
            "image/png": "[encoded data removed]"
          },
          "metadata": {
            "needs_background": "light"
          }
        }
      ]
    },
    {
      "cell_type": "code",
      "source": [
        "#checking the amount of null values present in every column of our playstore dataframe by combining .isnull() and .sum() methods\n",
        "play_df.isnull().sum()"
      ],
      "metadata": {
        "colab": {
          "base_uri": "https://localhost:8080/"
        },
        "id": "AASvHS-xopwn",
        "outputId": "3bd07c16-3f73-4c6a-e91d-42def4dde6ef"
      },
      "execution_count": 10,
      "outputs": [
        {
          "output_type": "execute_result",
          "data": {
            "text/plain": [
              "App                  0\n",
              "Category             0\n",
              "Rating            1474\n",
              "Reviews              0\n",
              "Size                 0\n",
              "Installs             0\n",
              "Type                 1\n",
              "Price                0\n",
              "Content Rating       1\n",
              "Genres               0\n",
              "Last Updated         0\n",
              "Current Ver          8\n",
              "Android Ver          3\n",
              "dtype: int64"
            ]
          },
          "metadata": {},
          "execution_count": 10
        }
      ]
    },
    {
      "cell_type": "code",
      "source": [
        "# finding the percentage of null values present in every column of play_df\n",
        "play_df.isnull().sum()/len(play_df)*100"
      ],
      "metadata": {
        "colab": {
          "base_uri": "https://localhost:8080/"
        },
        "id": "sLdcAsIXop3a",
        "outputId": "9bc0d2ba-cd11-4cc8-aad8-77ed81599843"
      },
      "execution_count": 11,
      "outputs": [
        {
          "output_type": "execute_result",
          "data": {
            "text/plain": [
              "App                0.000000\n",
              "Category           0.000000\n",
              "Rating            13.596532\n",
              "Reviews            0.000000\n",
              "Size               0.000000\n",
              "Installs           0.000000\n",
              "Type               0.009224\n",
              "Price              0.000000\n",
              "Content Rating     0.009224\n",
              "Genres             0.000000\n",
              "Last Updated       0.000000\n",
              "Current Ver        0.073794\n",
              "Android Ver        0.027673\n",
              "dtype: float64"
            ]
          },
          "metadata": {},
          "execution_count": 11
        }
      ]
    },
    {
      "cell_type": "markdown",
      "source": [
        "# Outliers Detection and Removal"
      ],
      "metadata": {
        "id": "vFzyHa5CfPin"
      }
    },
    {
      "cell_type": "code",
      "source": [
        "# performing a check for any possible outliers by using unique() method\n",
        "# here we can see a value(19.0) which is far off from max possible value(5.0) which an app can get\n",
        "play_df.Rating.unique()"
      ],
      "metadata": {
        "colab": {
          "base_uri": "https://localhost:8080/"
        },
        "id": "rhlSNG6lbOJ3",
        "outputId": "6c18675c-95a0-45c3-e244-838ee94e882b"
      },
      "execution_count": 12,
      "outputs": [
        {
          "output_type": "execute_result",
          "data": {
            "text/plain": [
              "array([ 4.1,  3.9,  4.7,  4.5,  4.3,  4.4,  3.8,  4.2,  4.6,  3.2,  4. ,\n",
              "        nan,  4.8,  4.9,  3.6,  3.7,  3.3,  3.4,  3.5,  3.1,  5. ,  2.6,\n",
              "        3. ,  1.9,  2.5,  2.8,  2.7,  1. ,  2.9,  2.3,  2.2,  1.7,  2. ,\n",
              "        1.8,  2.4,  1.6,  2.1,  1.4,  1.5,  1.2, 19. ])"
            ]
          },
          "metadata": {},
          "execution_count": 12
        }
      ]
    },
    {
      "cell_type": "code",
      "source": [
        "# confirming the above outlier using box plot \n",
        "plt.figure(figsize=(10,8))\n",
        "play_df.Rating.plot(kind='box');"
      ],
      "metadata": {
        "colab": {
          "base_uri": "https://localhost:8080/",
          "height": 483
        },
        "id": "f0wd4dXRbOWT",
        "outputId": "db6a806f-d384-4e3a-fbdd-7c2e6e4ed26b"
      },
      "execution_count": 14,
      "outputs": [
        {
          "output_type": "display_data",
          "data": {
            "text/plain": [
              "<Figure size 720x576 with 1 Axes>"
            ],
            "image/png": "[encoded data removed]"
          },
          "metadata": {
            "needs_background": "light"
          }
        }
      ]
    },
    {
      "cell_type": "code",
      "source": [
        "# Removing the above outlier form the column Rating\n",
        "play_df.drop(play_df[play_df.Rating>5.0].index,inplace=True)"
      ],
      "metadata": {
        "id": "pAMhQdijbOZK"
      },
      "execution_count": 15,
      "outputs": []
    },
    {
      "cell_type": "code",
      "source": [
        "#performing a check just to ensure that the outlier is removed\n",
        "plt.figure(figsize=(10,8))\n",
        "play_df.Rating.plot(kind='box');\n",
        "# here we can see that we have sucessfully removed the outlier from the required column\n"
      ],
      "metadata": {
        "colab": {
          "base_uri": "https://localhost:8080/",
          "height": 483
        },
        "id": "81QcBp04bOby",
        "outputId": "f93354d9-459b-42c1-80d2-2bb1600cdbc2"
      },
      "execution_count": 17,
      "outputs": [
        {
          "output_type": "display_data",
          "data": {
            "text/plain": [
              "<Figure size 720x576 with 1 Axes>"
            ],
            "image/png": "[encoded data removed]"
          },
          "metadata": {
            "needs_background": "light"
          }
        }
      ]
    },
    {
      "cell_type": "markdown",
      "source": [
        "# Removing duplicate values"
      ],
      "metadata": {
        "id": "SH0CNp-8fdS1"
      }
    },
    {
      "cell_type": "code",
      "source": [
        "# Dropping duplicate values present in our dataframe meanwhile retaining the first value\n",
        "play_df=play_df.drop_duplicates(keep='first')"
      ],
      "metadata": {
        "id": "vEKPqWqKbOjI"
      },
      "execution_count": 20,
      "outputs": []
    },
    {
      "cell_type": "code",
      "source": [
        "#dropping row with 0 Installs using .drop() as it is an outlier and it is not possible for an app to have 0 installs \n",
        "# further storing in play_df to update our dataframe\n",
        "play_df=play_df.drop(play_df[play_df.Installs == '0'].index)\n",
        "play_df"
      ],
      "metadata": {
        "colab": {
          "base_uri": "https://localhost:8080/",
          "height": 1000
        },
        "id": "JatUoCN7bOlc",
        "outputId": "c2bf1436-dbf2-477b-800d-5a48b5054cb2"
      },
      "execution_count": 23,
      "outputs": [
        {
          "output_type": "execute_result",
          "data": {
            "text/plain": [
              "                                                     App             Category  \\\n",
              "0         Photo Editor & Candy Camera & Grid & ScrapBook       ART_AND_DESIGN   \n",
              "1                                    Coloring book moana       ART_AND_DESIGN   \n",
              "2      U Launcher Lite – FREE Live Cool Themes, Hide ...       ART_AND_DESIGN   \n",
              "3                                  Sketch - Draw & Paint       ART_AND_DESIGN   \n",
              "4                  Pixel Draw - Number Art Coloring Book       ART_AND_DESIGN   \n",
              "...                                                  ...                  ...   \n",
              "10836                                   Sya9a Maroc - FR               FAMILY   \n",
              "10837                   Fr. Mike Schmitz Audio Teachings               FAMILY   \n",
              "10838                             Parkinson Exercices FR              MEDICAL   \n",
              "10839                      The SCP Foundation DB fr nn5n  BOOKS_AND_REFERENCE   \n",
              "10840      iHoroscope - 2018 Daily Horoscope & Astrology            LIFESTYLE   \n",
              "\n",
              "       Rating Reviews                Size     Installs  Type Price  \\\n",
              "0         4.1     159                 19M      10,000+  Free     0   \n",
              "1         3.9     967                 14M     500,000+  Free     0   \n",
              "2         4.7   87510                8.7M   5,000,000+  Free     0   \n",
              "3         4.5  215644                 25M  50,000,000+  Free     0   \n",
              "4         4.3     967                2.8M     100,000+  Free     0   \n",
              "...       ...     ...                 ...          ...   ...   ...   \n",
              "10836     4.5      38                 53M       5,000+  Free     0   \n",
              "10837     5.0       4                3.6M         100+  Free     0   \n",
              "10838     NaN       3                9.5M       1,000+  Free     0   \n",
              "10839     4.5     114  Varies with device       1,000+  Free     0   \n",
              "10840     4.5  398307                 19M  10,000,000+  Free     0   \n",
              "\n",
              "      Content Rating                     Genres      Last Updated  \\\n",
              "0           Everyone               Art & Design   January 7, 2018   \n",
              "1           Everyone  Art & Design;Pretend Play  January 15, 2018   \n",
              "2           Everyone               Art & Design    August 1, 2018   \n",
              "3               Teen               Art & Design      June 8, 2018   \n",
              "4           Everyone    Art & Design;Creativity     June 20, 2018   \n",
              "...              ...                        ...               ...   \n",
              "10836       Everyone                  Education     July 25, 2017   \n",
              "10837       Everyone                  Education      July 6, 2018   \n",
              "10838       Everyone                    Medical  January 20, 2017   \n",
              "10839     Mature 17+          Books & Reference  January 19, 2015   \n",
              "10840       Everyone                  Lifestyle     July 25, 2018   \n",
              "\n",
              "              Current Ver         Android Ver  \n",
              "0                   1.0.0        4.0.3 and up  \n",
              "1                   2.0.0        4.0.3 and up  \n",
              "2                   1.2.4        4.0.3 and up  \n",
              "3      Varies with device          4.2 and up  \n",
              "4                     1.1          4.4 and up  \n",
              "...                   ...                 ...  \n",
              "10836                1.48          4.1 and up  \n",
              "10837                 1.0          4.1 and up  \n",
              "10838                 1.0          2.2 and up  \n",
              "10839  Varies with device  Varies with device  \n",
              "10840  Varies with device  Varies with device  \n",
              "\n",
              "[10356 rows x 13 columns]"
            ],
            "text/html": [
              "\n",
              "  <div id=\"df-a304e823-4867-4d90-8a1a-327676637e8e\">\n",
              "    <div class=\"colab-df-container\">\n",
              "      <div>\n",
              "<style scoped>\n",
              "    .dataframe tbody tr th:only-of-type {\n",
              "        vertical-align: middle;\n",
              "    }\n",
              "\n",
              "    .dataframe tbody tr th {\n",
              "        vertical-align: top;\n",
              "    }\n",
              "\n",
              "    .dataframe thead th {\n",
              "        text-align: right;\n",
              "    }\n",
              "</style>\n",
              "<table border=\"1\" class=\"dataframe\">\n",
              "  <thead>\n",
              "    <tr style=\"text-align: right;\">\n",
              "      <th></th>\n",
              "      <th>App</th>\n",
              "      <th>Category</th>\n",
              "      <th>Rating</th>\n",
              "      <th>Reviews</th>\n",
              "      <th>Size</th>\n",
              "      <th>Installs</th>\n",
              "      <th>Type</th>\n",
              "      <th>Price</th>\n",
              "      <th>Content Rating</th>\n",
              "      <th>Genres</th>\n",
              "      <th>Last Updated</th>\n",
              "      <th>Current Ver</th>\n",
              "      <th>Android Ver</th>\n",
              "    </tr>\n",
              "  </thead>\n",
              "  <tbody>\n",
              "    <tr>\n",
              "      <th>0</th>\n",
              "      <td>Photo Editor &amp; Candy Camera &amp; Grid &amp; ScrapBook</td>\n",
              "      <td>ART_AND_DESIGN</td>\n",
              "      <td>4.1</td>\n",
              "      <td>159</td>\n",
              "      <td>19M</td>\n",
              "      <td>10,000+</td>\n",
              "      <td>Free</td>\n",
              "      <td>0</td>\n",
              "      <td>Everyone</td>\n",
              "      <td>Art &amp; Design</td>\n",
              "      <td>January 7, 2018</td>\n",
              "      <td>1.0.0</td>\n",
              "      <td>4.0.3 and up</td>\n",
              "    </tr>\n",
              "    <tr>\n",
              "      <th>1</th>\n",
              "      <td>Coloring book moana</td>\n",
              "      <td>ART_AND_DESIGN</td>\n",
              "      <td>3.9</td>\n",
              "      <td>967</td>\n",
              "      <td>14M</td>\n",
              "      <td>500,000+</td>\n",
              "      <td>Free</td>\n",
              "      <td>0</td>\n",
              "      <td>Everyone</td>\n",
              "      <td>Art &amp; Design;Pretend Play</td>\n",
              "      <td>January 15, 2018</td>\n",
              "      <td>2.0.0</td>\n",
              "      <td>4.0.3 and up</td>\n",
              "    </tr>\n",
              "    <tr>\n",
              "      <th>2</th>\n",
              "      <td>U Launcher Lite – FREE Live Cool Themes, Hide ...</td>\n",
              "      <td>ART_AND_DESIGN</td>\n",
              "      <td>4.7</td>\n",
              "      <td>87510</td>\n",
              "      <td>8.7M</td>\n",
              "      <td>5,000,000+</td>\n",
              "      <td>Free</td>\n",
              "      <td>0</td>\n",
              "      <td>Everyone</td>\n",
              "      <td>Art &amp; Design</td>\n",
              "      <td>August 1, 2018</td>\n",
              "      <td>1.2.4</td>\n",
              "      <td>4.0.3 and up</td>\n",
              "    </tr>\n",
              "    <tr>\n",
              "      <th>3</th>\n",
              "      <td>Sketch - Draw &amp; Paint</td>\n",
              "      <td>ART_AND_DESIGN</td>\n",
              "      <td>4.5</td>\n",
              "      <td>215644</td>\n",
              "      <td>25M</td>\n",
              "      <td>50,000,000+</td>\n",
              "      <td>Free</td>\n",
              "      <td>0</td>\n",
              "      <td>Teen</td>\n",
              "      <td>Art &amp; Design</td>\n",
              "      <td>June 8, 2018</td>\n",
              "      <td>Varies with device</td>\n",
              "      <td>4.2 and up</td>\n",
              "    </tr>\n",
              "    <tr>\n",
              "      <th>4</th>\n",
              "      <td>Pixel Draw - Number Art Coloring Book</td>\n",
              "      <td>ART_AND_DESIGN</td>\n",
              "      <td>4.3</td>\n",
              "      <td>967</td>\n",
              "      <td>2.8M</td>\n",
              "      <td>100,000+</td>\n",
              "      <td>Free</td>\n",
              "      <td>0</td>\n",
              "      <td>Everyone</td>\n",
              "      <td>Art &amp; Design;Creativity</td>\n",
              "      <td>June 20, 2018</td>\n",
              "      <td>1.1</td>\n",
              "      <td>4.4 and up</td>\n",
              "    </tr>\n",
              "    <tr>\n",
              "      <th>...</th>\n",
              "      <td>...</td>\n",
              "      <td>...</td>\n",
              "      <td>...</td>\n",
              "      <td>...</td>\n",
              "      <td>...</td>\n",
              "      <td>...</td>\n",
              "      <td>...</td>\n",
              "      <td>...</td>\n",
              "      <td>...</td>\n",
              "      <td>...</td>\n",
              "      <td>...</td>\n",
              "      <td>...</td>\n",
              "      <td>...</td>\n",
              "    </tr>\n",
              "    <tr>\n",
              "      <th>10836</th>\n",
              "      <td>Sya9a Maroc - FR</td>\n",
              "      <td>FAMILY</td>\n",
              "      <td>4.5</td>\n",
              "      <td>38</td>\n",
              "      <td>53M</td>\n",
              "      <td>5,000+</td>\n",
              "      <td>Free</td>\n",
              "      <td>0</td>\n",
              "      <td>Everyone</td>\n",
              "      <td>Education</td>\n",
              "      <td>July 25, 2017</td>\n",
              "      <td>1.48</td>\n",
              "      <td>4.1 and up</td>\n",
              "    </tr>\n",
              "    <tr>\n",
              "      <th>10837</th>\n",
              "      <td>Fr. Mike Schmitz Audio Teachings</td>\n",
              "      <td>FAMILY</td>\n",
              "      <td>5.0</td>\n",
              "      <td>4</td>\n",
              "      <td>3.6M</td>\n",
              "      <td>100+</td>\n",
              "      <td>Free</td>\n",
              "      <td>0</td>\n",
              "      <td>Everyone</td>\n",
              "      <td>Education</td>\n",
              "      <td>July 6, 2018</td>\n",
              "      <td>1.0</td>\n",
              "      <td>4.1 and up</td>\n",
              "    </tr>\n",
              "    <tr>\n",
              "      <th>10838</th>\n",
              "      <td>Parkinson Exercices FR</td>\n",
              "      <td>MEDICAL</td>\n",
              "      <td>NaN</td>\n",
              "      <td>3</td>\n",
              "      <td>9.5M</td>\n",
              "      <td>1,000+</td>\n",
              "      <td>Free</td>\n",
              "      <td>0</td>\n",
              "      <td>Everyone</td>\n",
              "      <td>Medical</td>\n",
              "      <td>January 20, 2017</td>\n",
              "      <td>1.0</td>\n",
              "      <td>2.2 and up</td>\n",
              "    </tr>\n",
              "    <tr>\n",
              "      <th>10839</th>\n",
              "      <td>The SCP Foundation DB fr nn5n</td>\n",
              "      <td>BOOKS_AND_REFERENCE</td>\n",
              "      <td>4.5</td>\n",
              "      <td>114</td>\n",
              "      <td>Varies with device</td>\n",
              "      <td>1,000+</td>\n",
              "      <td>Free</td>\n",
              "      <td>0</td>\n",
              "      <td>Mature 17+</td>\n",
              "      <td>Books &amp; Reference</td>\n",
              "      <td>January 19, 2015</td>\n",
              "      <td>Varies with device</td>\n",
              "      <td>Varies with device</td>\n",
              "    </tr>\n",
              "    <tr>\n",
              "      <th>10840</th>\n",
              "      <td>iHoroscope - 2018 Daily Horoscope &amp; Astrology</td>\n",
              "      <td>LIFESTYLE</td>\n",
              "      <td>4.5</td>\n",
              "      <td>398307</td>\n",
              "      <td>19M</td>\n",
              "      <td>10,000,000+</td>\n",
              "      <td>Free</td>\n",
              "      <td>0</td>\n",
              "      <td>Everyone</td>\n",
              "      <td>Lifestyle</td>\n",
              "      <td>July 25, 2018</td>\n",
              "      <td>Varies with device</td>\n",
              "      <td>Varies with device</td>\n",
              "    </tr>\n",
              "  </tbody>\n",
              "</table>\n",
              "<p>10356 rows × 13 columns</p>\n",
              "</div>\n",
              "      <button class=\"colab-df-convert\" onclick=\"convertToInteractive('df-a304e823-4867-4d90-8a1a-327676637e8e')\"\n",
              "              title=\"Convert this dataframe to an interactive table.\"\n",
              "              style=\"display:none;\">\n",
              "        \n",
              "  <svg xmlns=\"http://www.w3.org/2000/svg\" height=\"24px\"viewBox=\"0 0 24 24\"\n",
              "       width=\"24px\">\n",
              "    <path d=\"M0 0h24v24H0V0z\" fill=\"none\"/>\n",
              "    <path d=\"M18.56 5.44l.94 2.06.94-2.06 2.06-.94-2.06-.94-.94-2.06-.94 2.06-2.06.94zm-11 1L8.5 8.5l.94-2.06 2.06-.94-2.06-.94L8.5 2.5l-.94 2.06-2.06.94zm10 10l.94 2.06.94-2.06 2.06-.94-2.06-.94-.94-2.06-.94 2.06-2.06.94z\"/><path d=\"M17.41 7.96l-1.37-1.37c-.4-.4-.92-.59-1.43-.59-.52 0-1.04.2-1.43.59L10.3 9.45l-7.72 7.72c-.78.78-.78 2.05 0 2.83L4 21.41c.39.39.9.59 1.41.59.51 0 1.02-.2 1.41-.59l7.78-7.78 2.81-2.81c.8-.78.8-2.07 0-2.86zM5.41 20L4 18.59l7.72-7.72 1.47 1.35L5.41 20z\"/>\n",
              "  </svg>\n",
              "      </button>\n",
              "      \n",
              "  <style>\n",
              "    .colab-df-container {\n",
              "      display:flex;\n",
              "      flex-wrap:wrap;\n",
              "      gap: 12px;\n",
              "    }\n",
              "\n",
              "    .colab-df-convert {\n",
              "      background-color: #E8F0FE;\n",
              "      border: none;\n",
              "      border-radius: 50%;\n",
              "      cursor: pointer;\n",
              "      display: none;\n",
              "      fill: #1967D2;\n",
              "      height: 32px;\n",
              "      padding: 0 0 0 0;\n",
              "      width: 32px;\n",
              "    }\n",
              "\n",
              "    .colab-df-convert:hover {\n",
              "      background-color: #E2EBFA;\n",
              "      box-shadow: 0px 1px 2px rgba(60, 64, 67, 0.3), 0px 1px 3px 1px rgba(60, 64, 67, 0.15);\n",
              "      fill: #174EA6;\n",
              "    }\n",
              "\n",
              "    [theme=dark] .colab-df-convert {\n",
              "      background-color: #3B4455;\n",
              "      fill: #D2E3FC;\n",
              "    }\n",
              "\n",
              "    [theme=dark] .colab-df-convert:hover {\n",
              "      background-color: #434B5C;\n",
              "      box-shadow: 0px 1px 3px 1px rgba(0, 0, 0, 0.15);\n",
              "      filter: drop-shadow(0px 1px 2px rgba(0, 0, 0, 0.3));\n",
              "      fill: #FFFFFF;\n",
              "    }\n",
              "  </style>\n",
              "\n",
              "      <script>\n",
              "        const buttonEl =\n",
              "          document.querySelector('#df-a304e823-4867-4d90-8a1a-327676637e8e button.colab-df-convert');\n",
              "        buttonEl.style.display =\n",
              "          google.colab.kernel.accessAllowed ? 'block' : 'none';\n",
              "\n",
              "        async function convertToInteractive(key) {\n",
              "          const element = document.querySelector('#df-a304e823-4867-4d90-8a1a-327676637e8e');\n",
              "          const dataTable =\n",
              "            await google.colab.kernel.invokeFunction('convertToInteractive',\n",
              "                                                     [key], {});\n",
              "          if (!dataTable) return;\n",
              "\n",
              "          const docLinkHtml = 'Like what you see? Visit the ' +\n",
              "            '<a target=\"_blank\" href=https://colab.research.google.com/notebooks/data_table.ipynb>data table notebook</a>'\n",
              "            + ' to learn more about interactive tables.';\n",
              "          element.innerHTML = '';\n",
              "          dataTable['output_type'] = 'display_data';\n",
              "          await google.colab.output.renderOutput(dataTable, element);\n",
              "          const docLink = document.createElement('div');\n",
              "          docLink.innerHTML = docLinkHtml;\n",
              "          element.appendChild(docLink);\n",
              "        }\n",
              "      </script>\n",
              "    </div>\n",
              "  </div>\n",
              "  "
            ]
          },
          "metadata": {},
          "execution_count": 23
        }
      ]
    },
    {
      "cell_type": "markdown",
      "source": [
        "# Converting columns into numeric type from str and removing unnecessary signs('$' , '+' , 'M' , 'K' , ',' ) attatched to the values present in our columns (Correcting Datatypes and Removing unnecessary symbols)"
      ],
      "metadata": {
        "id": "Ws6xHCrgd3bX"
      }
    },
    {
      "cell_type": "code",
      "source": [
        "# Changing the datatype of column named \"Price\" to float meanwhile also replacing '$' symbol with empty string\n",
        "play_df['Price']= play_df['Price'].str.replace('$','').astype('float64')"
      ],
      "metadata": {
        "id": "68Iql0nobOn6"
      },
      "execution_count": 24,
      "outputs": []
    },
    {
      "cell_type": "code",
      "source": [
        "# Changing the datatype of column 'Rating' to float \n",
        "play_df['Rating']=play_df['Rating'].astype('float64')"
      ],
      "metadata": {
        "id": "aYTGTVC7bOqK"
      },
      "execution_count": 25,
      "outputs": []
    },
    {
      "cell_type": "code",
      "source": [
        "# Converting the datatype of column 'Installs' to int and also replacing (\"+\" and \",\") with empty string\n",
        "play_df['Installs']=play_df['Installs'].str.replace('+','')\n",
        "play_df['Installs']=play_df.Installs.str.replace(',','').astype('int')"
      ],
      "metadata": {
        "id": "yANOohZmbOsk"
      },
      "execution_count": 26,
      "outputs": []
    },
    {
      "cell_type": "code",
      "source": [
        "# Changing datatype of 'Size' column and replacing string('Varies with device') with np.nan to replace this string with NaN value\n",
        "# We will not change the datatype of this column for now as there are some symbols which needs to be removed and some values which needs to be converted from Kb to Mb , we will remove and convert them with the help of a function further in our journey\n",
        "play_df['Size']=play_df.Size.str.replace('M','')\n",
        "play_df['Size']=play_df.Size.replace('Varies with device',np.nan)"
      ],
      "metadata": {
        "id": "0lAfC74JbOwK"
      },
      "execution_count": 27,
      "outputs": []
    },
    {
      "cell_type": "code",
      "source": [],
      "metadata": {
        "id": "kjltQJKpfHiI"
      },
      "execution_count": null,
      "outputs": []
    },
    {
      "cell_type": "code",
      "source": [],
      "metadata": {
        "id": "xy5q3XXJfHfv"
      },
      "execution_count": null,
      "outputs": []
    },
    {
      "cell_type": "code",
      "source": [],
      "metadata": {
        "id": "xN9Bc7yDfHdM"
      },
      "execution_count": null,
      "outputs": []
    },
    {
      "cell_type": "code",
      "source": [],
      "metadata": {
        "id": "s1K8Jj3SfHZ5"
      },
      "execution_count": null,
      "outputs": []
    },
    {
      "cell_type": "code",
      "source": [],
      "metadata": {
        "id": "MCKoOHHofHR_"
      },
      "execution_count": null,
      "outputs": []
    }
  ]
}