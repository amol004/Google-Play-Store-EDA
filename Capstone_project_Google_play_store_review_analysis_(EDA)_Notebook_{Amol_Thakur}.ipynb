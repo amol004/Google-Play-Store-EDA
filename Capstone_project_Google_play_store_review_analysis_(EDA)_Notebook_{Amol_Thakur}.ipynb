{
  "nbformat": 4,
  "nbformat_minor": 0,
  "metadata": {
    "colab": {
      "provenance": [],
      "mount_file_id": "1Z1ii3IQ7FNqKvMHdXCvLtwNrBXPB_MlP",
      "authorship_tag": "ABX9TyNpd0nfuGgwrJSdkwJOE5kB",
      "include_colab_link": true
    },
    "kernelspec": {
      "name": "python3",
      "display_name": "Python 3"
    },
    "language_info": {
      "name": "python"
    }
  },
  "cells": [
    {
      "cell_type": "markdown",
      "metadata": {
        "id": "view-in-github",
        "colab_type": "text"
      },
      "source": [
        "<a href=\"https://colab.research.google.com/github/amol004/Google-Play-Store-EDA/blob/main/Capstone_project_Google_play_store_review_analysis_(EDA)_Notebook_%7BAmol_Thakur%7D.ipynb\" target=\"_parent\"><img src=\"https://colab.research.google.com/assets/colab-badge.svg\" alt=\"Open In Colab\"/></a>"
      ]
    },
    {
      "cell_type": "markdown",
      "source": [
        "# **EDA on Google Play Store**\n",
        "### **By Amol Thakur**\n",
        "\n",
        "\n",
        "---\n",
        "\n",
        "\n",
        "\n",
        "![Google-Play-Store.jpg](data:image/jpeg;base64,/9j/4AAQSkZJRgABAQAAAQABAAD/2wBDAAYEBAUEBAYFBQUGBgYHCQ4JCQgICRINDQoOFRIWFhUSFBQXGiEcFxgfGRQUHScdHyIjJSUlFhwpLCgkKyEkJST/2wBDAQYGBgkICREJCREkGBQYJCQkJCQkJCQkJCQkJCQkJCQkJCQkJCQkJCQkJCQkJCQkJCQkJCQkJCQkJCQkJCQkJCT/wgARCAJ2BLADASIAAhEBAxEB/8QAGwABAAIDAQEAAAAAAAAAAAAAAAUGAQQHAgP/xAAbAQEBAAMBAQEAAAAAAAAAAAAAAQIEBQYDB//aAAwDAQACEAMQAAAB6oAAAAAAAAAAAAAAAAAAAAAAAAAAAAAAAAAAAAAAAAAAAAAAAAAAAAAAAAAAAAAAAAAAAAAAAAAAAAAAAAAAAAAAAAAAAAAAAAAAAAAAAAAAAAAAAAAAAAAAAAAAAAAAAAAAAAAAAAAAAAAAAAAAAAAAAAAAAAAAAAAAAAAAAAAAAAAAAAAAAAAAAAAAAAAAAAAAAAAAAAAAAAAAAAAAAAAAAAAAAAAAAAAAAAAAAAAAAAAAAAAAAAAAAAAAAAAAAAAAAAAAAAAAAAAAAAAAAAAAAAAAAAAAAAAAAAAAAAAAAAAAAAAAAAAAAAAAAAAAAAAAAAAAAAAAAAAAAAAAAAAAAAAAAAAAAAAAAAAAAAAAAAAAAAAAAAAAAAAAAAAAAAAAAAAAAAAAAAAAAAAAAAAAAAAAAAAAAAAAAAAAAAAAAAAAAAAAAAAAAAAAAAAAAAAAAAAAAAAAAAAAAAAAAAAAAAAAAAAAAAAAAAAAAAAAAAAAAAAAAAAAAAAAAAAAAAAAAAAAAAAAAAAAAAAAAAAAAAAAAAAAAAAAAAAAAAAAAAAAAAAAAAAAAAAAAAAAAAAAAAAAAAAAAAAAAAAAAAAAAAAAAAAAAAAAAAAAAAAAAAAAAAAAAAAAAAAAAAAAAAAAAAAAAAAAAAAAAAAAAAAAAAAAAAAAAAAAAAAAAAAAAAAAAAAAAAAAAAAAAAAAAAAAAAAAAAAAAAAAAAAAAAAAAAAAAAAAAAAAAAAAAAAAAAAAAAAAAAfNPoqvnDn2xo7uW9kXMAAAAAAAAAAAAAAAAAAAAAAAAAAAAAAAAAAAAAAAAAAAAAAAAAAAAAAAAAAAAAAAAAAAAAABX7BWNjmwHn6ednxuZuCzxNm/bHP5/wCvo7C+f0+vXBQAAAAAAAAAAAAAAAAAAAAAAAAAAAAAAAAAAAAAAAAAAAAAAAAAAAAAAAAAAAAAAAAAAAAFYs9Y2uXBY9ee54vGcZ5VyeuC2bDVM5b/AED1TbFsenkGM59AFAAAAAAAAAAAAAAAAAAAAAAAAAAAAAAAAAAAAAAAAAAAAAAAAAAAAAAAAAAAAAAAAAAAViz1jZ5UHj157vi8Yzi5PfzzyX0HAxZwWYsFH9/Xs37Ndnvv6X6DLaAAAAAAAAAHwPuiPkTiIkD7gAAAAAAAAAAAAAAAAAAAAAAAAAAAAAAAAAAAAAAAAAAAAAAAAAAAAAViz1jZ5UJjOO74vzjOLljGcW+vfx9cl9RwPmEZ2NZfpaZfn+99vQ3RH7/29DkX6AAAAAAI/QppLRGPpZ8/Uvsld9S8UTFs5x9Y6a1dpQAAAAAAAAAAAAAAHOei8vNronL+oHsAAAAAFZr03WU22qrZ9aYmbBRkdSVG3LoUe788SXvnOuiqAAAAAAAAAAAAAAAAAAAAAArFnrGzyoTGXc8X5xnGV849ebljGcXL19tb1yZ9x5/5BAL6lYj7YdG57FYlNb30o8e+x8QyAAAIeV5wa7Fos+dp+yUB8PuKZvWUgKAAAAAAAAAAAAAABjmHT+YJ56fzDp57CgAAAAVOsWesWWm0Vi0x58/REDTun1aqteaNPVY+fdB59G70XnXRVAAAAAAAAAAAAAAAAAAAAAAViz1jZ5ULjOO54rGM4uXnGcW+cesZZeGcXL1safvkTZHn/iPt8dlJeffl/wBJyZ0en9ZSHzvfCx+oOS9PobQ6fyCgICl2CAs2ujVW2ShAUAAAA8xFPLx8aGTo+5yyTOgNDfUB5iqcXf40MnRt3lkkvQUfIADEZTS6/GhrOmfbmEvLeHLp4ufMOn8wTz0/mHTz2RayWhStKr3v81zHUlLuJ7ABU6zZqzZaLVVrTKAgp2jENMQ9lsnOe9C57G90XnXRVPhTEt+lRvJfpDmP0Xp6s2Y8ufx51HMBPgDERRjqDm3Rz2AAAAAAAAAAAABWbNWdnlQmM47nimM4t849ebl5x683LyzjLLxj15yz+mzo/Th/ffkPP0/Nv0LOcZ0OrnOMzH0Mcc+vPpjIyMBPex5+R2tcCgxcrFWXKwVyxygKtaaiQrTWbedQbbVR02M36Cur5zbLInetyOeaHUKVUV0Lm89F0iZbni6GMWuyL3rejnmh1CmEP0DnU4XaNkufroeMWeyO37cjnej0+jERPwE/Vz5h0/mEeen8w6eadAl4Osy27byqw3QYSKTPwOa6ijpGUCp1iz1iyamqZiLp4p2SYhs7FfPoWrLRHc96Fz03ui866KtOrvUYZKnM2byVSD6XDlKu1Jlan6X1DnEbV/5d0IkDWWoQuc2We06+xKAAAAAAAAAAAAArNmrOzyoTGcdzxTGcW48+vNuMZxcvOM4yzx49/H57mPhjHlf1vfn6jIec3bFnx78/zM5xnHH0Jjn1mR39f5SjPsNANvACpVroPPbJy78u6HLvAfL6j4vsPj52IYpGPMjZdOd9C57H26Vz3ogErS3flZzL76/1rofOOhc8j69M5z0gCVqbfzrmH3+HqzpfNOi85j30vnXSQFRMtonOp+BnkufMOn8wPPTuY9NOb/H35roURV/BtakjYSpz1r+kau0KBU6zZqyknJ+7SVPNrEHMfQoEdz3oXPU3ui866Kvzqnwg0+vx2Zyq3vTEURu9o7p0ar2j4RzOwwOa6fV7Fz2XUsFf6FZIiUAAAAAAAAAAAABWbLWtnlQuM47fisYytx59ebcYzjLLzj18PnuY0mPL/ruRpd7IiQsNP3+TzrJn57/J4+tIb329Fz/H0O1rhkAAUi7/ABOZbvrQs6Vs80sctoaOwfZow5N0L5/GxcIS9ny5r1GkxC9H5tJl/au0qF+9JTVkNC3VP8z6jTIgejc4ka6C1NuVD/ekJq7mna6snM+n06K90XnUidBae4qvbtINefgJ+y58w6fzCPPT+YdPOe6VrqlS1ppd4jezjUNj3QfoXtr7CgVOsWesWWq01a0ygAAR3Pehc9Te6Fz3oa8vz682dI2YqVhE/ejmnu6W7XRhLTa90XndkzDBKX6Em5QAAAAAAAAAAAAAFZs1Z2eVC4zjt+Jwzi3GPXm5YxnXw3MRzHmf170w0+7nOEuWNt89WUs1h2ODHyOX14YZ4gAAAAfCnXgcszfYKyvYkfiazfkSvzdgl4+X1FfD7jnej02tpV/pufCtVLThD3Z6h8fsXneh0+uJVPpva1auZWcIa759Q+P2Lz6O6fWkqv03PlWqnZAqE/AWAufL+oU2K/0+n3EUe9eTl64QdR/jY2SNkpqxnn6koFTrN2iE2rTCTagAAR/Pej1ZI7otUta1Os9RryU/3v8AxrT2ZWzHO92T2C1CVRb1TSv7epbLLJ6MaFAAAAAAAAAAAAAKzZa1s8qFx6x2/E4ZwuMZ1sNzEb5x539fyw0+9nOEnr6Tly+vIrdr+mfv54MviAAAAAAAAAAAAAAAAAAAAAAAxmoE1I8wni6vHsVyZoJq2esX6yUGNCgAAAAAAAAAAAAAAAAANfnNmqqfTpFVuACgAAAAAAAAAAAAAKzZqzs8qGxnHa8SNXDbxE4x5/8AYMsZ1O9ltXTLn1e6ynr7edwyz0gUAAAAAAAAAAAAAAAAAAAAAAABq7Q5p8OkVayF2Pj8jGNufNC7Y9QCgAAAAAAAAAAAAAAAAAPHuMKP8Zncsnt4lAAAAAAAAAAAAAAAVmzVnZ5UPjOp1vJ4hWOF+wPWLLrdSv26y7efn/n9TPmBQAAAAAAAAAAAAAAAAAAAAAAAAAAADz6AAAAAAAAAAAAAAAAAAAAAAAAAAAAAAAAAAAAAAAGICwfH6a3PIOc+TuQ03arDr7EVK5fTiggAAAAAAAAAAAAAAAAAAAAAAAAAAAAAAAAAAAAAAAAAAAAAAAAAAAAAAAAAAAAAAAAAAAAAAGMiBKFAAAAAAAAAAAAAAAAAAAAAAAAAAAAAAAAAAAAAAAAAAAAAAAAAAAAAAAAAAAAAAAAAAAAAAAAAAAAAAAAAAAAAAAAAAAAAAAAAAAAAAAAAAAAAAAAAAAAAAAAAAAAAAAAAAAAAAAAAAAAAAAAAAAAAAAAAAAAAAAAAAAAAAAAAAAAAAAAAAAAAAAAAAAAAAAAAAAAAAAAAAAAAAAAAAAAAAAAAAAAAAAAAAAAAAAAAAAAAAAAAAAAAAAAAAAAAAAAAAAAAAAAAAAAAAAAAAAAAAAAAAAAAAAAAAAAAAAAAAAAAAAAAAAAAAAAAAAAAAAAAAAAAAAAAAAAAAAAAAAAAAAAAAAAAAAAAAAAAAAAAAAAAAAAAAAAAAAAAAAAAAAAAAAAAAAAAAAAAAAAAAAAAAAAAAAAAAAAAAAAAAAAAAAAAAAAAAAAAAAAAAAAAAAAAAAAAAAAAAAAAAAAAAAAAAAAAAAAAAAAAAAAAAAAAAAAAAAAAAAAAAAAAAAAAAAAAAAAAAAAAAAAAAAAAAAAAAAAAAAAAAAAAAAAAAAAAAAAAAAAAAAAAAAAAAAAAAAAAAAAAAAAAAAAAAAAAAAAAAAAAAAAAAAAAAAAAAAAAAAAAAAAAAAAAAAAAAAAAAAAAAAAAAAAAAAAAAAAAAAAAAAAAAAAAAAAAAAAAAAAAAAAAAAAAAAAAAAAAAAAAAAAAAAAAAAAAAAAAAAAAAAAAAAAAAAAAAAAAAAAAAAAAAAAAAAAAAAAAAAAAAAAAAAAAAAAAAAAAAAAAAAAAAAAAAAAAAAAAAAAAAAAAAAAAAAAAAAAAAAAAAAAAAAAAAAAAAAAAAAAAAAAAAAAAAAAAAAAAAAAAAAAAAAAAAAAAAAAAAAAAAAAAAAAAAAAAAAAAAAAAAAAAAAAAAAAAAAAAAAAAAAAAAAAAAAAAAAAAAAAAAAAAAAAAAAAAAAAAAAAAAAAAAAAAAAAAAAAAAAAAAAAAAAAAAAAAAAAAAAAAAAAAAAAAAAAAAAAAAAAAAAAAAAAAAAAAAAAAAAAAAAAAAAAAAAAAAAAAAAAAAAAAAAAAAAAAAAAAAAAAAAAAAAAAAAAAAAAAAAAAAAAAAAAAAAAAAAf/xAAuEAABBAEBBwQCAgMBAQAAAAADAAECBAUREBITIDAyNBQVM1AhQDFwIiNgsMD/2gAIAQEAAQUC/wDRbnNoMXKy1hlZsg2xm/pPKE0Z9kXeL18jKKGaBW/pDKfJyDJIbgyTOozaX9H5T5OYVmYXBfiRM7P/AEblPk6AbkxINsZv6MyfydFn0Ve/KDjPArf0Tk/k6cZyg4MgozabfqkMMTSylWK94rKOVqyQzDL/ANdk/k5mfnEeYXBkIzTOz/pWbgqzWMocqd3k+1neL18qYSBaHZj9DK2fe9XYUe3qZYxBS9WderOvVnXqzprlhkPK2IKtkxH23ZPGr6s6qWTSs/XZP5Odn6ALZAuC2M36F/I8BSk8nUBzI8MVZmvZTKeKswU4Sg6GSYp15zIL991LuUO3qZrv2aOtH5MdkHi6yHhql5f12T+ToM/Q10QL8hoRolj1Mhc9KPXV1TxTzYYoCbaQMDNcxkhLHY/c+hdS7lDt6mb71hWWjLRk8IurWLGWM4uOSxljjV8h4ao+X9dk/k6LS06Ax77w/wAEO0mk0ulOTQjYM9gyxdH6l1LuUO3qZvvWE5cyBtFh56WMh4ao+X9dk/k6UZcwx7yZtNsJvBDsNJa9DLl3K6qh452i0W6ruzKd+sNe61UO2AvO7synfrDXutVDuALzu+iJkKw02UquhmGVlqy1TqXcodux30U79Ya91qoVgRufN96wnLmJM1VYrzMh4ao+XtJaCJPlaqjk6slAkCbdWWrc2rLVv3cn8nTjLTkgN5pm05oGlBQNGfPmJ71hYUf56tzIwrI1ox32175671bg7UdtzIQqo1o1h9te8au9W4O1HbcvQqse2Y77IycbzyDnq6rDeS6l3KHarl6FVj2zWH02auz1MpMSjJpx5M33rCcuTtNYKsKLWWQ8NUfLRSxDC1kiHX87YTmN6WU33V8L17OrrEn3wbcmfg1tUATnNGLRj+3k/k6kZabIQ3kzadEJubJvrdWG8bky5SDn6uwvV2F6qwvVWF6o69WdDfehkLnphv8AnYDG2DN7JNHpGrbBFkAlc8bAlfuelE7vJ0DGWDN7JNHomr7BlkGdWw1kKu22qilKU5IGNOZeyT0PSNX24byXUu5Q7bdlqoZzcs0DGnO3sr6WaRq2zF3OFPkzfesddhUXvIV7yFPmgqzkynihwkWdYDVw5Dw1R8tZYhZTQKpbLthJouINBnZ4usXa4wstX4gFjzcCztyp+JYWGB+7k/k6sCNGUdNOjHu5co2l1YWX+rkzfyLVarXaD8V7Z3sWFjKOkdmmqyVL08liD7hleO57KxlFt3ZpqslSavJYk3DsLIH49hYuiztseLSbI1PTEWG8l1LuUO3LG4lhYuk09muis5GtGOyif1Ffbm+/mDXJYlSoxqxWQ8NUfLWmqPiwFQhwAN7IWUSjmspVYgljJ7lyUWkxxOAyon9RWRysETu8njF5yAJgi/cyfydST6bK9hxuztJugAW9zZoX+SxJuHY5JDhNcES4AlwRJxCZpy3pN+XP/qqIMOIVm0bbcExq6BLcPZnw66FHiEZtOS0PigQp7hCS3RqMd+UItCO3Jj4lRYbyXUu5Q7DS3yqMx1QHzMWRrRrGwYiGcOHm6BXHWjtzfeqdJ7i9kmvZJJsI6Hia8FCERx2ZDw1R8tTm0I2cvKSmWZX2RunhFUvKWZB+Fhz7pVmTaRWJBvm/dyfydOUtFrtr2OG7O0m5YRebjqsy05rwePWTO8XqWGsh58nY4NdUBca1f8NUn0t8hH0God9/801U/FnkJ2bLPiqs7NY5Lr6VVhvJdS7lHsl3KU5TdAonOgYgcFCEYNy5vvWE6GQ8NUfLWUtOYqBXJYlHCz0fCSR6BwbKflIw2KOcXhIc3EQZGIO2Xj2FRBwK/wC7k/k6U5aL+eWtZcbxk0trfyOrqmi0ejlKvBKqtqVUoLELEOWxZHXhZPKyVYivuDLDiCdtHZ3i9czHFtydjg11SHxLU4b8JReMmd4vWM1gO3JWGDWVQXGsyjvRnF4TVQ/qAbcwfdAsN5LqXcodt0fCtKnR9WgUAA2ynGDcub71hOhkPDVHy5Puxd9XZt5wBiAezIn4NZU/K2ZgG4RCu7lFY4HGs/vZP5OiSe6nfXnrWHG7SZ0OtKagKI26RRRNC5UnVIhGICQMyyhdrzXFGpXa8EfMxZimIeSoU/VTZmZlla3CMqV16sg2RHZWLwa7WDzsEWIrbsVlq3DKqV2VWYbQjsrF4NdrFidkixFZ2ZZetukVO3KpMNoR2Vm+KuxzSsEWG8lS7lDtzFbeZVbM6pAXA2GRrQgNduytTqZAldAPCwPbm+9YToZDw1R8t21aUXhJvw9S+KxFHugrq1anaIqflbLgGsV9NNuKBwq/72S+ToEJurXV+erjz2lVpQqw6pRQNC3jCA5NOSnjZncY4ijsMKJx2qs6s1/D8SemyhQexJm02FFEw7dSdWabVlxCPto0JWZRi0WRRRNC5TnVns4k9FuvosN5Kl3KHbKLSa9QlWls4hNtOlO1MY4ihtzfesJ0L/hql5aytN9dm/PRArzO6p+VtygODZVYPqDs2n7+S+TnITcTvrz16xbMqmHGFaafo2McCwiYYsVKjZgvTHUaNmaHhzOq+NCDmIOJYnwynj7MF6Y6HjLJFXxAxpm0bbOESMfDs6nj7MF6Y6HjLJFXxAxpmZm2yi02sYfV50LME1Q7oOINNXq8K1BYbyU+HPr7OdR/DJ2aTWMRAiJjrI16Y6Hj7JFXw7M8YtFuTIUiWn9mOsdTJU6FoTnB7MdV8WYRlpqrOJhNTx1mCanYdBxBpvCtAQPZjIGKKI23MG3irDA0h+/kvk5ik3E7680ITLKphVAcRt9kfIgCoTYkduZJoFYSP5+oMRgiJNyThByTFBhj/fyXycpS7id9X5P5erhyFQKoq0Ps8u5ozWOyHAUZxmyPZFXazYeyVY4PBrfUZix+FhwbxPoMl8nIY3DZ5O78lXGntKrjw1PtrAI2BHBOuRQKQSe9ZdO7ydY6k55/USk0YnK5jfyqgPT1/oMl8m0xuGzy1fbXqltSp4cQFp9weuOxE+ILBSCWC3XQ6hyvWxGjxi0W+ovjKUHtNlVMYWB/ocl8mwxmGzu8n2DHM0qeDZlCEYN95o3/ACGS+RGOw2eTydN/k9PCkKgVhVo/0dkoIx2Ezu8n10VPFntKrjwVP6RINiwsYi3CQsPcI9PDhrf/AAwn/8QALREAAQMCBAQGAQUAAAAAAAAAAwECBAAFEBEhNCAiMWASE0FCUGIUFWFxkKD/2gAIAQMBAT8B/r0VURM1r9TBnlnTCNembeybo9Wx1ypHUCW8K5tWot3YTR+i0iovTse77Zcc6i3IoNPSotyEf+exrvtlxVMEcqdKiXh4+V+qVHlDMmbV7Eu+2XgyxGVzFzatQ717TUMrSJm1ewrxtl4VbwW7z1KjQ1+K9rUVevYN42y8Tm54Roz5D/AyrZbGRGfvgQLX0QLm/P3jbLxx4T5L/ANNatlrZDZl68C60diIunz142y8UOISURBjSrNZhwR/apMb3N4CGa2nv8S5/PXjbLwJUOISSTyxpVmsw4AvtjJi+5tEIjOtEkK7p2BeNsvBDhklEQY0qy2UcAf2xIVo0zctSrvnyipzlcua9g3jbLjDhklEQY6sllHAF9sFcidalXZrNB60aQQq5vXsO8bZcIcMkoiDGlWWyjgD+3rhJuQxadakzyn69OxbxtlqHDJKKghpqtWSyjgD6c3rR5YwpzLUq5kLo3ROx5cfzxqOrJCiQA5581Srtnyip73PXN3+Kf8A/8QAKBEAAQMCBAcBAAMAAAAAAAAAAQIDBAAREBIxMwUgISJQYGFRQZCg/9oACAECAQE/Af69c4vb0qKLuC9TIWbuRWYppLgPpEPdGE2Fn70a0RakrIpKwfRom6MZ0HN3o1o/aFJcoKv6JE3ByToObvRVra4A2pLv7V/Qom4OWdBz96NaItit8MpzGo/GG3DZXSkqCuo9Aibg5p0DP3o1oixsaeeDacxqXLLyvmEbiDrB6HpUTijT/TQ+fibg5+KRUJQXRUuSp5RvgcASNK4PJW6ghX8eeibg5nXQ2nMqpk1T6vlTYWbuRrRFuho4ReGuv6aVEiJjoyp89E3OVx1LYzKqZLLyvmM6Dm7k60zDdeNkionB0N9znU0lIT0Hn4m5yOOBAzKqVKU8r5iBfSks/tJbSnQegxNzFxwIFzUqSp1XzFLV9aAt6HE3MHHAgXNSZKnTglF6CAPRYm5TjgQLmpEkumgm9BFvR2l5FZqkOqcNBP8Aio//xAA7EAABAgMEBggGAgIBBQAAAAABAAIDEBESITFRICIzQXFyEzAyUFJhgZFAQmKSobEjcARg8YKwwMHh/9oACAEBAAY/Av8AuLdSqMbd5rWaFcf6TDM53FUiXrVP9It0atKpEuVxr/R7dO4qjrj/AEc3qb7wsaf0Y3qqhUfeFqn+im9ZVpVIiu+Gq94bxW0r6L5vZbSnELUeHcP9ub12qVR1x+D1zflvVGmw3yVSdCrTQ+SpE/kb+VWGe4j/ACv91tn+6HWw7Dy2tcFtn+62z/dbZ/uts/3W2f7q8h/FUOo7IziOaaEBbZ/uoYMV5Bdn3e34DGoWN/wHRw73/pVcamVGMLuCwa3itoxYB3KVRwIMg9hIcg6I2y7LuEyHDrYXrPBYaAhRTUHA5Si8soXN3e34Kj7wqtPW0btHYeSqZW49QPCqMaGjQo9oKtQaublkhFijW3Ny7iMhw62F6yi+iwWCvaFWGLDkWOFCJUJ1mXKLyyhc3d7fgvJaq1ld1RccAnRD/wAS6d45R3UZDh1sL1lF9NFsYY4GTm+IKLyyhc3d7fgfJUncVfd1IZ4zJsP3VALuuvV8Uel67R+1UbFaTp1Kvij0vXbP2rVit6i+KPS9ds/aqscHcNEyHCd6vij0vXbPstSIDpwvWUX00aZukOBUXllC5tDXiNC7R9ltKcQtVwdwnise5G/HtZ4WyiRPTrrLdZ+WS13nhodq03wlapvGI0LI1n5Kr3nhoXOtN8JWrjloU7T8lrvNPDunVpoUYUQ6+eaxTuWRkOEqYvyWu80yE6g0QbG1m55IFpqNGF6yi+mjZYdVv5k+LuwCi8soXNIveaAKjKsZ5aFWOLShDj4+KTh8pvCxXRk3s0CB2nXSbDG9ADAfGN62hnTqbLtJ8nc2jDsRHNu3FbeL9y28X7lt4v3LbxfuW3i/ctvF+5NOYVG9t2CqZVpYH1LatVXtuzEg9hvCD2yu7bsFUm+VaWB9S2rfZVc2rcxIPYbwg8esq/MeyEXONSZVpZH1Latqtdt2Ym7lkZDgi/fuRe68mVewMyttfwVXCrcxLoXdl2HlowvWT7YcbWS7D12Hq5jyrA1G+UgxovKEMKLyyhc0rNlwhjfmZUht9VfFCq0teqOFCJFjjVzPyrYxZJp3HVOhYGDLpOjngPjW9cLWCu6oaTvOT25HRh8NOHyhOfuwEumiY/L5aHSM7DvxIwtz/wByc6twuEhHiC/5dDpGDUP4l0dbnyd4W3CXTxByidCLlVvYdJ3LIyHBWNzJdNEFfDMs2tdwm1x7WB0IXrp0htqq4vOJlF5ZQuaer/GfJBjRQBbVnutV7XcCjEA12/mTPO5UO9Oh5Sa7fgZOiHcEScSg0YlNhjd8a3r6HBVHU2jhpQ4n/TKwcH6Os0FbNnstmz2WzZ7Kphs9kTSlSqJ/kyTGeI0VBoPb5Shu+pRHjc2TWZlU0Ht8pMdk6qc7IVkG53INGA0HZtvk7lkZDgnuzMm23BoAVILa+ZWu+oylSG0u4KsZ1kZBWYYpoQvWTqPs2fJbdv2rbt+1Xx/Zq1rT+KstaAJxeWULmlacaAKkC4eJa7i7jMtt2mm6jpQuaTY4HkZGEcHSbBG+8yMQ4M/fxzeHwFk9lVGlRoVXax03M34iQIxQfv39QWg6z7pMG4XlReWUKvi0XHyk3iovLKHzDRPCcQfSZQifENGLyydyyMhwR4yq41lqsoM3KsQ2z+FRoA0oXrKL6dRF5ZQuaXRDsN/MqQ21/wDS1ooCujD2VS203NsoXMJOYd6LXYhNeMWmqEQYEVT3+d0mtOOJ+Ob8DR2CunQXlVf7K7qekaNR34MrYw3jNWmHStPKL3egykYrhe5OZmFRAjdemxBv0C0dp90oY86pzTvFEWnEIEJsQb9Aj5n3CUNvmiM05pxBk1+/fodGMXydyyMhwURvnWRNsABXMqc3Tq40GlC9ZRvTqIvLKFzIlVQCaxom7N90oXMJiKB2sZRIVdb5eEh4W3n49vVefUWT2VctbVC1R1ZY4VBVDe04GVqG4hUjNp5hXRWrtt91fFaqQWknNytRHVMqnZtx81QS6QDVf+5ZsOIVWPBleauyCL3/APEjGcL3XCXTAar/ANyzYcQtR4le6pyCtu9spGO7fhLpmi52PGWbTiFqO9JG+07whGI/H9SdyyMhwQjN3XGVpt+YzWq6/Iyq94CyYMArLtdmWStsw0IXrKN6dRF5ZQuZURYcQqoawD8paz78hirTsNwylC5hNzPbQtntPv8Aj29T5qvUVAsM8RVBecz11h4qFaZrs/XUB0TVh/koNaKATLHi4qjhq7jKqpbd7zD33Qx+VdIseKgqhFW7nT7bvedp4pD/AGqC4SLH3grNhwM6W3e8q0k7lkZDgqEVCLm3w/1Olt3vPKHvKDGCgGhC9ZRfTqIvLKFzS6dgu+adLR95Gzg0VJylC5tCo7L75NZ78FQfHt6jz6ikNtfPcrUX+R/4+CrSy7Nq1HB6vgv9L1sIv2q6C71uWu5rFWlt2btKy4VCrBd6OV8IngtjE+1XsscVWIbZy3KmhZcKhVgup5FbIngtjE+1dizzKsU2zluVBoUcKhVgOp9JWyceF6ugxPtVYh6MItYN4r5ydyy7TF2mISoVahGwcty2drlWxifatkRzK1Gda+kKjRQaLCwtFM12mJ9sg2suofDGLgu2xMeXMoDO1BNg5blsyeC2L/ZfyagRhQxSoW0YmRC9uqdBsIfLjJ0Y/NcO4G6fnp2YbS4+SDv8k1+kKjQAO86WrTsmoOGB0Gw95MoruA7pc87gi92JQY3EprBuu7gbpearo03qsb+NuW9WYbAO9Bru6I7pdHFOpuOSq01EqxHU8kXn0Em1xdee6WwW8XSMY4NuHcLdG7tKp0a9hniK1RV3iPexhuRY8f8A2VYb3N4LbPVSamQiOGoPz3SScAnRDvk2Hv39wt0PqVdCkNt3i3K1E/kf+u+bL21VYRtjLetaG8eiwK1YTuKtRzX6QqAUHdPRwqX4r5PdNfFs2W9xNn5qpvnYhtL3eSDv8k2j4dyo0ADv3D/UGypi5VMqC8oOj6jfDvVmG2g/o9r19SqZVp0bMyqsbreI4/0iWneiQOl8wuxY5irT/wCR+Z/8GE//xAAuEAEAAgAEBQIGAwEBAQEAAAABABEQITFRIEFhcaGBsTBQkcHw8UBw0eFgsMD/2gAIAQEAAT8h/wDoto3oI1iN0NZw6QnTdmDf9JIP1sEqWhB6MSqruS0G/wBI+K8NgIzKK28Dsh/R/iseLOnW2HEJY/0b4Lg4nBlykZlZsy/6L8VwcGDB4EdlPSZq96XwX+ivFeIeLLQZ03qS+Oz+LcoCuqc6diwJCrSB3358lv8A8T4ri/DLYvaNnq00Vv8AhaqXoYR7C1fWLFK78AJG9kiH1DRM6Xc5nyF0lM52/CGe3Y+KUVS1u3CtSvaJFp3dMq/fTFnFqJhsHwBH5e8V4nCnX4Aj0bBMqbGX8crdVeUt2tquFqF0QzPvf+TI5vrCbJzoLpwMiOZLrYZ/IGiefh4b4vifZgFzqJ1EqtcsebWW/Rh5bDw3y/xXFjw16/AErGmU1m9MzD4ueV/sIpLFc1wM3DTm9Z2DBwVXPWGu8eaO6Y3l8h0Tz4Tw3xfA+zAHOD+06T6TpPpBqT3ImF09GLaXSYalktPLYeG+X+K/wo9jCy6Jyvrh1q/hK3RWseHXQ2bYA1e3Pf5Tonnwnhvi+B9mH4vXhAVqwn5b5SeWw8N8v8V+A40tcprws84AU0xWuGTZ0LS+OuHOh7YbXL9EJmBkHxhVQBHKW7f4T92j3RC6ZfELZQc2OU92/wAp+9TVo7LU14gFrRNQrt/lFKo7qUB3VFDWdaAdJonn4eGxAqqJzy/hpB2vNg3pd58fgfZh+P14QKcwrALTLy2HhuDUk2vOCav7OLVn9QglndV49JOkgjpwaTrTrQb/AJnivwHg5jgY6QDRxc4snPKevG/IPcwzoZlH7/GyS8buiNQbcg4BFOSkatZ1ODJjp+XeOVDa5GJrA98G9ujq9Tg5sOh+8RvQDkmsq9ZbNvDUyrREMW3ROY8/vNE8/Dw2HNb0295cdgygwVCyC3I4p098BETMTh8D7MPzevCIuZd7sESMhd7zy2HhsXknrNks3vHNbmxw7a4ZaAHkbsDLcbqIzWMnPbgvByctvE3c+fbnNJIo/meK/AcHHpjB30hGmBCGJDKMpqbw4cwcgPGGs6/bhHrtXcT9ln7LP3GfuM/eZ+0zoqMO89p1lmpa5qznBVD84aMrOzDsx35hXM85tOe9qbOBBl0jt1jlim1YQFVvf4jTld3S79UZLlViWtNoNnBiacrcit9c4Ble/DovSMzC3vjHyvuTRPPhPDRwZ6Dux5bdrgIqLDaI5avQ8FFXzHD4H2Ycioqf0pP0pCat6RkF2ts3C0E1BKlFNXdnlsPDYEVoXkgZzOpObyCVNf0GO+jTJj5uQRlxt508koy5vpKisofTODMy/K5wmTzP/f8Am+K/DcGDijL8uJCHDk7kOFbvIPjC3r3hVd1LN5TpKbym+Oucvam8t6OAEQvR7pWCBSWQT1LTdgrjzzsw+05eGfCsw8uuKBSWQhWXM3YZ4yfnBazm/wDfAEBLzPeVgxMrUgmPMOnTDyvuTRPPhPDTLblV64C5YOT74IFrRLlFFOn9Y1bRU00nKc+rweB9nHdI+byJo4bR9sPLYeGwQESyWqH6P6QQB5qR+meN7YHam+zB9sVxGVgqOLny7YWG2fq4b7lM4pLWGba0TSdNfzfFeF42eql8+cFT3gswIQxMEQFDTrDhpKalvt98L5KGvXhUtfqT9Vn6LP1WPgAz0wDwGaIKhqx5LLK8YdHmALQMuBDBd074dPBHygskZ02yAQGRlwArzWCG8qOu74TVuV3qwQ36CjgFNGjw8r7k0Tz4TwUVnV3APDOrLRL7JNdvoIS80h09SbHNG9eDwPswyq5Wtp+B/wBn4n/Zayq/DnOenrgzZIMfLYeGwTCzCsY78jN7S4NO68NGyZaQtmYeEw5sj/nh1fJ3wvLmv8sO3q/nPNfBcSPWNnFw/wCKGEshw5kURt9iHErr/QTvHaoNkNXQNn4BckCe+D0uf6RPIYE/Rk4bo0FgLo2wUTW2Csun3uFUvVOUNStYHcfaw0GD3uEFrzYeV9yaJ58ILI2wfVYXZvrGZv6DEXHbWkU5vQ4vA+zD8/r8Dy2HhsFL7/VGWSbnlD7J7BcoajrBv1BcGKW6NQfqemckEMHxM1rGnZO0q8XPU/neA8TwmesW1vCAbP4gFrLGzQdgj1WuiHUAPg/Rs4BTMWW2ge+czmcSOpsc2aaH0GC1ZlnadaoiMtRpjlUqk5DPzwXI5Htzw521d2IWkmjUfaZqFDcWHRn0eAlvKMG7vexnAR0FTkppnbWFbaK7uACbe7YeV9yaJ58J46LUZZHZwcW2pDWZuXfIGFSu8wbLOHwPsw977vgeWw8NOmBcdlq5soDVahUwD64kc2v34caLmXuwuGhaXV+P1wz/APz28B4nGpRoqEVvGYteTpCRzXp1j19jzZWKPhhSFEQWr38BKHpoxpaXpwHzGp+rQp+jbiDs1EuM9rBc8EzeyCgANDBV567YKOj+6kH9EaP0lx0bNLUSdDZtgtaF6OCddHTBmaYsjOjk4IKJzPL5A0GAMbe3fBS5TwrzPW413ZMuZFR0gnGbQweV9yOk8+E8dEHZn0MNIxymuJ7spJc7GQZsydf5llejuteyAHV78HgfZh733fA8th4aXS5lQ3aWmKgamcBmipbz6YAZT3UIMoZbbhwgzOr7opU5JlDClGvC5fz/ABHicQOUKsa8d7ykvHJ17EKOl8YUBaWNvR1jXAlNiVjcFJMtogxtmS1wHZcBaDTvLbKNsQRqOcgAFBhVscT2nCSWKdokpU6uc7wIMOQJgZAYBdo0lLRwHmNjUX0Da2AqCo1cPK+5HSefh46IzJkjADVcnAZN84EUq2vNW3XAg0h+JCwaI4PA+zD3fu+B57Dx2AHeek5dcOdzaPaO8oVgE8ZwWBcn354OHosAJkBkfz/EeJwMZQjt47Hzz5XrKujraPSAGX8CpYL01Lqu65M9sD7J+8zTD+XOZqJ0zZm6A04Vo35MzGnJ/It88Haz+6ckG7jBPA0ADbgUjfkx17f5R/T754X1n902L3VRA7WQKAA0Dgelbky0/KecdpDvJOrXcRkB3LZR2u9zzYHN/OZGITru/wDyfu/+QUtisGACPJjDbuaNmN1c7z3RbIe+SFsk7EHkDQOE2AW4/bv+TknlfAJaFAuftX/IvQNacEBEsY6kmN5l3zxCj1aQUs79sFXYL3es/IYzCCocA1nLfc4KTz+h+QeI8YnKEduvF0zHFNL1eXrvAJ1yPmWk93KiQ2FnANhqqwt5X4BUr5A4WV0Ty1thSW9E00D8geI8DgRy9Me5rwmQc1oGrK+/Y6v8hAz7yvmekQ6dLwsXL/h6QmduZhQR5GZVRpsEuKYfKaYa1/5YUM9w+Q+I8IUZloREluJHKVJOk+xDr9WGB8108HR2ZmIuTBHLB1QD70QK3nB0w/1QKPlCJ0FsbTXl2gWA1dIXIhfd8h8RxqFWVbQiIs14M/LmWj1lBTuunYQB84pKHJ5kQQeih2nes/rpVK+4olQGmmj6wGYMgPlK7NPMtZTpxFixeTefyLxHGgGvlGCWxMrnI6TIkM6+7eDzrID55U6T/wAh4DhUnYjBLXAImpoGrLZP5FwycpX9HNkGRkyoFPIRwlrEC2LDWz5vYmuJa5igV/SGnGJVx8mBfSZiJ3D7R4DpuR2IAaf0nUr/APB3/wD/2gAMAwEAAgADAAAAEPPPPPPPPPPPPPPPPPPPPPPPPPPPPPPPPPPPPPPPPPPPPPPPPPPPPPPPPPPPPPPPPPPPPPPPPPPPPPPPPPPPPPPPPPPPPPPPPPPPPPPPPPPPPPPPPPPPPPPPPPPPPPPPPPPPPPPPPPPPPPPPPPPPPPPPPPPPPPPPPPPPPPPPPPPPPPPPPPPPPPPPPPPPPPPPPPPPPPPPPPPPPPPPPPPPPPPPPPPPPPPPPPPPPPPPPPPPPPPPPPPPPPPPPPPPPPPPPPPPPPPPPPPPPPPPPPPPPPPPPPPPPPPPPPPPPPPPPPPPPPPPPPPPPPPPPPPPPPPPPPPPPPPPPPPPPPPPPPPPPPPPPPPPPPPPPPPPPPPPPPPPPPPPPPPPPPPPPPPPPPPPPPPPPPPPPPPPPPPPPPPPPPPPPPPPPPPPPPPPPPPPPPPPPPPPPPPPPPPPPPPPPPPPPPPPPPPPPPPPPPPPPPPPPPPPPPPPPPPPPPPPPPPPPPPPPPPPPPPPPPPPPPPPPPPPPPPPPPPPPPPPPPPPPPPPPPPPPPPPPPPPPPPPPPPPPPPPPPPPPPPPPPPPPPPPPPPPPPPPPPPPPPPPPPPPPPPPPPPPPPPPPPPPPPPPPPPPPPPPPPPPPPPPPPPPPPPPPPPPPPPPPPPPPPPPPPPPPPPPPPPPPPPPPPPPPPPPPPPPPPPPPPPPPPPPPPPPPPPPPPPPPPPPPPPPPPPPPPPPPPPPPPPPPPPPPPPPPPPPPPPPPPPPPPPPPPPPPPntvPPPPPPPPPPPPPPPPPPPPPPPPPPPPPPPPPPPPPPPPPPPPPPPPPPPPPPPPPPPPPPPPPPPPPPPIxj7vPPPPPPPPPPPPPPPPPPPPPPPPPPPPPPPPPPPPPPPPPPPPPPPPPPPPPPPPPPPPPPPPPPPPPPCJWUCVNfPPPPPPPPPPPPPPPPPPPPPPPPPPPPPPPPPPPPPPPPPPPPPPPPPPPPPPPPPPPPPPPPPPPA5QMwkl8/PPPPPPPPPMPsPPPPPPPPPPPPPPPPPPNPPPPPPOPMPPONPPPPPPPPPPPPPPPPPPPPPPAxTiUQQjxtvPPPPPPPr7db/ADzzzzzzzzzzzzzzxorzzzzzysThdQfbzzzzzzzzzzzzzzzzzzzzzyvsiSEQMMJ6r/zzzyLFTxyvzzzzzzzzzzzzzzzyoLzzzzzxX/OEWtbzzzzzzzzzzzzzzzzzzzzzy9W67mu8NOhu2XbzzU77zzzzzaYPzz6ILTyJzYauvjyrzzwHTyTn9a2d7RrzxDzzzzzzzzzzzzzyNQGSaKSDADtfsjzz3Tzo+f8A0bXYGofnr3oYFr9rrlpP588VHfp7/Wu/ntzT8Pc8888888888888D8Nd9oeBZMvRnQ88tS88MM5Lz+pZvr+ovHb8syrXV91zc8DHfs8/WXZltJ32t88888888888888KC6eMgR88AxP1888odW84Qljvw9h31wvdb74+4rDxblx08V8888/GhRnv8d3m8888888888888oCvkgv7M05cc888888qp1ZLcsXBVdsbFF18T5R5VLd5px88D+888v2T/nt8ut+8888888888888sKwivhMkK988888888888s88888c888Mc88Kk2B+88sM88888888888s888mv888888888888884G+vmJKr98888888888888888888888888stxtV888888888888888888889888888888888888sGW9t/u88888888888888888888888888888c888888888888888888888888888888888888888oorh888888888888888888888888888888888888888888888888888888888888888888888888Ne888888888888888888888888888888888888888888888888888888888888888888888888888888888888888888888888888888888888888888888888888888888888888888888888888888888888888888888888888888888888888888888888888888888888888888888888888888888888888888888888888888888888888888888888888888888888888888888888888888888888888888888888888888888888888888888888888888888888888888888888888888888888888888888888888888888888888888888888888888888888888888888888888888888888888888888888888888888888888888888888888888888888888888888888888888888888888888888888888888888888888888888888888888888888888888888888888888888888888888888888888888888888888888888888888888888888888888888888888888888888888888888888888888888888888888888888888888888888888888888888888888888888888888888888888888888888888888888888888888888888888888888888888888888888888888888888888888888888888888888888888888888888888888888888888888888888888888888888888888888888888888888888888888888888888888888888888888888888888888888888888888888888888888888888888888888888888888888888888888888888888888888888888888888888888888888888888888888888888888888888888888888888888888888888888888888888/8QAKhEBAAIAAwcDBAMAAAAAAAAAAQARECExIDBAQVFgsVCh0WFxgZGQoMH/2gAIAQMBAT8Q/j0dJQRlrAWdks7qV5MtqhfxkEtWdj+LDDJHAN9DCKGuhg32Lm/DCGIzaplX9059irS9nAg3G+kTCz4YgH7YVMnoq7K8R4GBCEuzIlQjG4tv6/M1UUziJrtPCpD0TxJcIQYTVEqmHytYfKt6sdIJSRXqbC7m2XsW7K4u/uDwvgQgQhCGkP2lDlL52MYwGRlz5tt2FgRxWVsOw792RwXf+BBhCDCWRl9oMytasuyc49IsYDrbEub13jwbwXg4GIleX2hQq3q/EI1oy4pgWeZRkIq67LuXZd4bu+F8GDgS7ssD5WtX4hLlNwfWPYcustjbuK4RwfQmeDCEIu19oOEtavxFqE2qJz/deUzEPHqdb9niwl3ZfaHsrer4ghmzI2boRBtXQROLr0nwZdCgPqz1fEsGd05y2/2IqtvYwKNXMhatXn+Ilxr685YK3skP6L3/xAAmEQEAAgICAQQCAgMAAAAAAAABABEQMSAhQDBBUWBhgVDhkKCh/9oACAECAQE/EP8AHoC9EQS2QR19JMUGXqT2+YIR2fSgFXO8EMkdk611Pcfo8JVyil0/7AjW0VNxRpha+pX81ibO4ZS7+IpVthFZLWpA69AIS5fhEeZCOQj5GIYq9ww/qRFTvHtGS9YzgLbOJxvwSPoMuEYR8nGCbhW/WiahlkaJu3T2l1qHOwezKBP4GDfZkjHkESVkIkrIRJUqEcVK9BcOAiYrw8QhBxVk6g03+YEdQ0cCtqmd7fy4OCBEzqLLvN1Ll3EzcGMI4XC87wwZbBjBzXgYgwwR+3USB17CEX+5GXuYUxIRXyYG/dkjxMOXDlOKww4ZfG+DKl4YRIEfX0ZMOUoi5ehowglMov8AexGUUACmjgOKyEWHBeLLyEYYuNzcrg8WbwGTD6+mGCL06IyL/CVKiqhD3OgjmNS5eL4EuOBwsvgseF4Xg8WDLl/EvBh9fRBy/wChNfCVKvoiwMUHlJgI+KRfA0wllup1l6nd1F282Lm5fjX4OiWGnVOiPBdn6PS/CdL1K9wK+lP+i7//xAAtEAEAAgAEBAUEAwEBAQAAAAABABEhMUFREGFxgSCRobHwMFDB0UDh8XCwwP/aAAgBAQABPxD/AM8ZZf8AxQKArVgwRkOPowZ39GF0tXCSBk/4lfdSegVh6zJnTBRtrRDeAcMJ8oUI8nEln/D9ZjH4YRIkqBB5lsyqXpHEh9gyRl8v+HfBcoIzWGUIS6N3myUS8hygISO0v/hmL5WUSCVjLqY5UCFjgp0jNjaXEhPniECmGP8Awv5rlHgeCtlvgEo31AiUcBmQ90a5QRy/4T81yjKjHGGEQhlxeB5++MES7RVh3gY7aj/FQZzZxlJfQ1gjVLfe5OZ8+ssnmGPaCSfJXyzJf2Na+uuXyly5cvw2by5eP2/5rlweJjFMHEg2X4e0F1GrWmLmNuohgkM8P4Q3AV4tG9aHWIhJkj5ozwCKu4ZmxFazY253DCDGzB0rKYYkb0dB17yr2uD4PzPsLpJBmMEV/ZP9nGqSqyvT6pKZNgusGXeP92/c/wBv+5/vv3P9H+5aeaX7lOEMzFe5UZtPkuC5MG+Ddcp0j1J/sIm5wCJ9v+a5cEiRKicDymUyQbPBfAwbMzWBChzS06SvtrYLAJhiS5f1GW/FM3A/cR4aqtVgQ+6YYrLJyn9Zl7a9uT2jUuZ4j5IMxW1VNPDBxIWWm1a9IYg5FuvsGbB5/wB4E+U2+q/h68CZR8o/1E/yIsWEbpCtK7NzUdsSPtw2OLduc4N5ZcPVUx/Gx+3/ADXKMeIx4uqyQRxPGSUGSMXV3ZIbKHzg/UMDBQ7NX0joJWG1d1jpzaALV2iI4obSObSGzjQ1fWBWXChbouOXvbddIcQ7cz9xBOWNw7uftK5fYM2er+/D8xt9X4feBhOaM5zj/PT/AD0oQdhYM74lafZNO0toMWjLTJSOCsU21NF4OZ8Fv9u3nxXKJEiRIkSMYsyTiQbL38RMRIdY5GXtKqv5CEhh2fpHLadoEelbrSBwEJQ0MHKSHiqV9hzZ6v7zBMPzMPq/D78GI6/fFcalWrITMqxfKUxAOPXqWPlcdcO+C3+3bz4rlGPBjGVw5RiWG4EFmXgcCWMIM2AxoQhe8sqOWkNF6+UAiIj9AlHUA1Of4iRzhxyNBiwpj0DAPrYlUFWgiw33fyT57+IKVC7+gcYBLGzxMQY5Sgiwl3F7ofBfaFg4xLHyaggERPEtEGatB3lqAub90tjnaPtO46x8syC2gN2cvFKQ9Jmz1f3hPjNuIVQxVaCPo0Zn9yF6d6tXtAbd5CnkcfH8PvwZev3eFkJP71a+nB3GAj0w4eZ8FvxshL0cvkMZ3G0BHGP9hJzL6fs4mfgZXZP9QgFqzPwKBVoMVnIzkYAERHU/l7wfK2jGVEicKgiSox3SwgiWa8WS0HNYZOghAlQIRyrbDCANyRZp4ryYRTml9glQW0ByV4+w+hcuXL4vJqbfcIwetidkEoTEIhRgRlFhwVsrk5kZMTQ8zp4DbKl6HU0jATlU6RHmEo2gAIUmpNNEq2VycyLNZvC+Oe4eW57CLjPKl2pRewxlcgesGDeSl5kbwkMFRpyyZ/qRRKllLyTNnq/vCYvkYcHgAlk9jsItDva4gDdFxnnSEp84zb4F80hhDELE8Pw+/Bk6/f4CgW6TG0ehwTNOWHDDLDnHH8OHmfBb8Cmntfwc4vIGzzE/BHZimrjDcMCtNpSxdavOWEQCKHz2ZcTcNn6OfrP9iPqYBVq8TyxPLwYF64LiGa9j3IJq85dIGIctbsS1MADjh/L3nwG5GPBiRI4cDwMTCKrL0O0ESzKAVJprRxZOAhBctkwY8CrAhX4W/wAYnAGGLbHfB4TN7AatmdM+D/mfB/zPl/5nw/8AM+f/AJnxf8x3m1V6kJiqQ5019nnEknWFq73DIAq7FxQ46yF6GM7V11RgPXajrqdzg/pGGNGotyMlkrW1DgQtKs8y6e8u1KC1d11YFuheRjLITiYT6Flly66Jh5mSeZt3gGXdJY6PJNSIwYaenmcM7gJq36EcYdo5xzCltoovHaGxIsar7Us9SKqFbQuxYKdNuMDNnq/vwfEbQshcS6GHaY9Chn06GkcMXKw3xlODWYK9Co5XrMPvFsXsHvu1I5cpZTdNcP1vh+H34AcXsINVedpvPkn5nyT8wD0YPeBxwRsHZdukMLjCyAc9ekq1GzM/N+aBw8z4LfhoQHkVquVVgTBuMUDmPNfqOw/m3uwsyaS/nh6xHHUdIy2mESoUBMdF/EJUuUm+h9h4MFiauFkp7IQ431Beb/g7cCGOKysq0e3b+ZpPgOUqMYxjEiRIwSpgSMSu01jUaRizM1hxZOEhBl3GoLyGEynTwteQfmYPxCFqZ9if14RvoXntak5TznM805DznJec/dcGWZS17I7GzR0Dl54vfhf7tcsHVrAcGAkzEsYGdUH0xyfxwoQBRtsdR9CXBElcBwAph1z78E5OjYDk32mvBgJCkSxjh8GcT9bjhGIjBhV4BxHrp3lx0sYV51n3OMxmQszWYNX/ABDulQ9C0hgkYBjW6teKBmz1f34H8jSMFvBLwtm+x2hChVb8lPgO/BkYM1aCXyiYouv6RJqS2F3UFQpEpEcoigpq5ML7lPg+H34CVKhcZjhisjqOUtormQNzk9+PmfBb8DhJmJYy/wDmrxddHaoCrgVRfN5xWmPlrMCecj2BgtimhjqDCAA4JcnH3CEacQ6jLnxptqsR8o2IjSayk4F24174PfgxmDDm5B51HTstwrnGjCGarBwKaTV1fO/5mk+A5eB4HgxjKnJMkY6CLVTizYwCr0hgCZJDgycJDgsMVo3jNmXbPm6QUHhfCZl5mPofJAahj1IXbifnwlhQoTUnyb8T4N+J8m/ED7alwg7QRiEqAWMLtAOq1FUS0KwqqTIoynO1Oi4w3qMByPAxxY0yJZ7QS4mJU1rqR+LSbNYRWxaDBl2th0gQGwZQy4n6YoXRMmOczWcCzwZRqlJ2TFUWKtsTRNG61KaBByPBccoZNszyjwgZs9X9+BUnwqZrZ+7DKGaPAhWi6M1uB6F8I7axhvjYWj2Jkqg6Qkn7LDq6QlGY0J3yJf1VuJvn4Ph9+Dqi5vd8+U/2kf7yPXgSK1HSJ5FQQHKKx4PM+C34BpZQwIl2my5g0jLOspAW24y0kR3HGFVL4EpKw114Om1ovvKl6DNQ0XE92u/CyYHj7dDqX5cNlnWgZPPHtCVDsNGby8i/P+d8RuSuFRIkSVGYIkcCYYTlY6N4sHg4NrC9YAAhYnAFQmUuoNS9WqDvKtthMHaAGBXiUzZPZvzKRQIjSMUMEnOP0FN2Of0AEY1rGqtdj34Y4nqE96gcEusA4aNRbZcvCSeknyYxiC1o62RQFqvylQWuC3yQ4VwB4sLulQyMukFSVW91+ZqoCw64ZRQqfXYg8FDIr7pR68YGbPV/fgZxSgPaMAlIHrKmyb1rUV4XbtDb/wDkWr2IMO6WntmwWU6UTLLA8Pw+/Bk6xFSo+LzPgt+FGlKA9e+kWUvDTQrqMuCurB5zPBzIejH5yxUoG6ZnD5bfgPSfj02ezUZogXMjzIDqHyu8c6iWdCrjWJReTA/feAqAVWgJRgwjuxrsV/NZ8Zy4PBjxMSZylGMqmIvhRMtnugECsRNYNwgEpaFxJYGT+7rBIxoFH0GPYLbQYah3mcsFzww/ZtLolmVZsnioXshzdgmDXltw0D24P2TS6H9sJK/fSEfTg2TMjIh2NzKNdgKm2o8BjeWXianlwYsQAdxhdW47lQ8KSWyZxyEMHmQ1SHXWnE8FwQU2davQJTVaQAliDNMR86TEHUh2SoVVLLmMtEVQbHmQQhVDY5ngofoINrfvXGBmz1f34PiNo5ENc3EODizaQ86qq7xY6x3sOB2gAVQGRwxapVtFwCQRxE18Pw+/Bk+iXmfBbygcb/JEItlN1xfWJQKQvdgAFChiqxWXwfCiTM8cF2OHy2/G5arCyD+zHtwZXAZmWX5VDl3jvN92rI868v5zMXzMox4pBKicAKtuQxGlrB43LjFQRhgthfqHJ7DWY/fkOUq1Grqytq+kg8wjpzIoxQJgNnmQqGh+YvMNYDy7MddTT1h5x+lz1nyL8xww2Ze9IkBYAVdDN9IpY9XA5A0JnK72AMLbPzCbFQZBKjN7bIYap3z85cTMLAaT8kdFutp7sY00YdGtti3z0IrBkC4aAlMzWwJy290PLggxhTNn817y5hspw8+pzh9q5tT1GWdpWWTBBb57StFVadAfvgVscO+buyhMQwDmmQXqVCOgKgFqzc5lwC3ZpT1GIJh9DE2rpbkEvDNgOAMg8+MA456v78HxG0es0nqsfVhBVYrDQIILpiDqCAUBuMVhrWdAxggKt6zz5pSwMFLDm/EwhIYKR28Hw+/Bk+kXvgt4eTG80v4GXMajtKYDzgDMKcurmJcQ7RxTlX7ikZQZcD5bfjcwfRnL9d4gFVYdGYO2XLg1wkVmIcnu9/5unD4zcjHi+BUcSyIyW1DLhdcbldQAXjBSUaunqdcucBTmK29tiBR9UlV4iZO5zlVAKiLPZNesvRTUx0YN4f1EAZATWOBlcH7PUlBy2OcAvlAru84cKe1pNuZLfFMMwObowYKUOhp843R7yqViurm78MemwwK2OUDoCgMg4GEpEdOcc4hQME0HZ4WJG6qckkIPK5SpZubCKGjFyUaHLnA0iAUAacKCOsRAkKEwdh2eA3ktxqWi+9R5XM13YyxpmBjWM14QM6er+8J8RtB/HRWJLl7sxvo8ucqWINZrM5SR2qPeK3C7nOVLEFpSh5bmCJag8Hw+8V9LXgwIfha8KUAvVP3M+nAsFsTLfznvHKjaqrtt5sJalJMAF088MpU+X38AuwFhkWoez34XXV1mgzfx3h0AgDQNP5uk3nxm5GMqVHiSjFZEcoqwYMuMJv5wVrxYdX8C3lCaeyr5f7Q4ADKBX10MvBbmHqZMbR3IeF7RJvc/3E+H/iZem4PwRs2dX9XrEhOdhNPI0gGQDw5s+QgONepYdHOIqXtn0x9JWHJP64+g7LPQt9ImY9RR7a94EGSgFAbVDiFLKTsYdFOdrsTE8pWnckPpj6RVXJf1xDIGh9Bb6Slv8jy5sIE1AoDkSuI5qpOxhgpcXFO2iNhjRp6S6BsfcE1MRKeSYes6oOlpm6zJiIDAVwFiTPUDmg/vEK6lgq5HAQ7UhYw6+aC+00jjjLMHoz9JiV0n9cQULHAPrjBfLFYjebrCW/QaDwk7EtS7rKh24EM5mVq1V52G/wBBCxWSA86lQRBO5JFodLOBcgUiWJEAjNlv9dpUt3Ife/SYiLme6WibaA8kw9YDhsGKglrWA5+X+kERxDaG2HgIBFlrscqK84RDQ3aZvd9v52nD4zcjHgxiSk1XkRytqEuDLgwwm6Vpzdjm4RAg5lQ9X9IFUKAo/iUMo2lQKygAYFfRZUou6x+gkDCVjeF+FQWoHOY6oagvO69Yds9jUZRtAqJcLmH1Oh/cS2NQtAHnip7cEHMlG3hrKVQFSsv5FSvFROc+3ypYMdubK3BlzYDYHFcjPvn3/nMcp8ZuRIkqCOEJjFZftECqs4MHiUapoVpsBiy72dEKd1IPBcVDFbrq84U2+52fktaAzGs5gKkLEgvNs7xlFKexlxW1CwN9I1iyrZnA8iJGsbcucrxXXZi5HlUPtFYlfYMnnj5SouEOu6rOuh7/AM94fGbkY8GIaMwac2IEXNfAQbaozi1y4uKT1OrRDpqacV/XQgBRh91F0pycdJJV1GVkNx2mCdRloPWUysdqvmR8wbVte7KllIgOFWnSAAZBX2g8qCOgZxXyq20yB5RxStQM1iKKsG6xf10P5+k1nz3KMeBQqDE92M+5teFywq0hpdlYB9tzyLZSoWNON8Mc4SABWBUqVK+69nZHRZpIckDzwfOKgDRj1lrRftaCkl/b2iGbavNOrXtBnHRUBtD7QGYOYUONHXAh8h+IahgN5GWFZcD+dpw+M3OCTPOGGzmxmi5rwJu2QlN1yDmtRUTAFwPNn6DlDUjQ0Bt97cZTYgaOKZNSsftaXwr7AxynynLhh9TK2XWM2RauvBZj0O05Gcv2+NW31ZHa4BnNM13XNebCsI/8LY4u1U2uqj5Un+sctmliFKCL7WLgzmY+dQ/AavXjbkYf8QlQ3cQdHeX+twJOaQO0ImvfYLQQwY5x8g9XnBQBhKlf8R8/BX/wd3//2Q==)\n",
        "\n"
      ],
      "metadata": {
        "id": "p6G7UAGNhr9t"
      }
    },
    {
      "cell_type": "markdown",
      "source": [
        "### **The Play Store applications data set(PlayStoreData.csv) offers a lot of promise to help app-making enterprises succeed.**\n",
        "### **Each row in this collection contains values for its category, rating, size, and other attributes.**\n",
        "### **Customer reviews of the Android apps are included in another dataset.(UserReviews.csv)**"
      ],
      "metadata": {
        "id": "7jZZNRgghr6P"
      }
    },
    {
      "cell_type": "markdown",
      "source": [
        "# **There are basically 2 data sets that we will be working on in this project :**\n",
        "\n",
        "**1. PlayStoreData.csv : contains information regarding Applications**\n",
        "\n",
        "**2. UserReviews.csv : contains information regarding Reviews and Sentiments of users**"
      ],
      "metadata": {
        "id": "9L2x00d2H4ox"
      }
    },
    {
      "cell_type": "markdown",
      "source": [
        "\n",
        "\n",
        "\n",
        "# **Let's have a look on our PlayStoreData.csv dataset and the features/information it holds :**\n",
        "\n",
        "\n",
        "**App :- Name of the App.**\n",
        "\n",
        "**Category :- The classification that the App belongs in.**\n",
        "\n",
        "**Rating :- App's rating on playstore.**\n",
        "\n",
        "**Reviews :- Number of reviews of the App.**\n",
        "\n",
        "**Size :- Size of the App.**\n",
        "\n",
        "**Install :- Number of Installs of the App.**\n",
        "\n",
        "**Type :- Whether the App is free or paid.**\n",
        "\n",
        "**Price :- Price of the app.**\n",
        "\n",
        "**Content Rating :- Audience that the app should be targeting.**\n",
        "\n",
        "**Genres:- Genre under which the App falls.**\n",
        "\n",
        "**Last Updated :- Date when the App was last updated.**\n",
        "\n",
        "**Current Ver :- Current Version of the Application.**\n",
        "\n",
        "**Android Ver :- Minimum Android Version required to run the App.**\n",
        "\n",
        "\n",
        "\n",
        "\n"
      ],
      "metadata": {
        "id": "wq2JcucHCdeX"
      }
    },
    {
      "cell_type": "markdown",
      "source": [
        "# **Now let's study the features of our 2nd dataset which is UserReviews.csv :**\n",
        "\n",
        "**App : Name of the App.**\n",
        "\n",
        "**Translated_Review : Opinions of people regarding a specific application**\n",
        "\n",
        "**Sentiment : Weather the opinion/review of user is negative/positive/neutral**\n",
        "\n",
        "**Sentiment_Polarity: Defines the orientation of the expressed sentiment(between -1(negative) to 1(positive) or 0(neutral)**\n",
        "\n",
        "**Sentiment_Subjectivity : Refers to the degree to which a person's review is related to the App (lies between 0 to 1)**\n"
      ],
      "metadata": {
        "id": "72h7ytuIhr0F"
      }
    },
    {
      "cell_type": "markdown",
      "source": [
        "# **The data from Play Store applications has a huge potential to propel app-making companies to success. For developers to work on and take the Android market, actionable insights may be derived.**"
      ],
      "metadata": {
        "id": "WIDjKPnohrxI"
      }
    },
    {
      "cell_type": "markdown",
      "source": [
        "# **Therefore, without further ado, let's start our analysis to get some insightful conclusions.**"
      ],
      "metadata": {
        "id": "Ah62cQCzkumR"
      }
    },
    {
      "cell_type": "markdown",
      "source": [
        "# **Part 1 : Importing all the necessary packages and libraries required for our EDA** \n",
        "\n",
        "\n",
        "\n",
        "---\n",
        "\n",
        "\n",
        "\n",
        "\n",
        "\n"
      ],
      "metadata": {
        "id": "7YB2Vli0b1qk"
      }
    },
    {
      "cell_type": "code",
      "execution_count": 2,
      "metadata": {
        "id": "fn9-8UdDw84r"
      },
      "outputs": [],
      "source": [
        "# used for numerical operations\n",
        "import numpy as np\n",
        "# for data manipulation\n",
        "import pandas as pd \n",
        "# for data vizulization\n",
        "import matplotlib.pyplot as plt\n",
        "%matplotlib inline\n",
        "import seaborn as sns\n",
        "from wordcloud import WordCloud ,STOPWORDS\n",
        "# for visualizing missing/null values in our data frame\n",
        "import missingno as msno \n",
        "# for manipulation of data with type datetime\n",
        "from datetime import datetime\n",
        "# used to remove warnings for better asthetics of our project\n",
        "import warnings\n",
        "warnings.filterwarnings('ignore')\n",
        "# to increase the number of visible columns in our data frame\n",
        "from google.colab.data_table import DataTable\n",
        "DataTable.max_columns = 30"
      ]
    },
    {
      "cell_type": "code",
      "source": [
        "# Mounting Drive\n",
        "from google.colab import drive\n",
        "drive.mount('/content/drive')"
      ],
      "metadata": {
        "id": "b7ep2CB7f0sO",
        "colab": {
          "base_uri": "https://localhost:8080/"
        },
        "outputId": "c84b951c-3788-4508-eab1-3b4c6332ede1"
      },
      "execution_count": 3,
      "outputs": [
        {
          "output_type": "stream",
          "name": "stdout",
          "text": [
            "Drive already mounted at /content/drive; to attempt to forcibly remount, call drive.mount(\"/content/drive\", force_remount=True).\n"
          ]
        }
      ]
    },
    {
      "cell_type": "code",
      "source": [
        "# Reading our first csv file (PlayStoreData.csv) and storing it in a variable play_df\n",
        "play_df = pd.read_csv('/content/drive/MyDrive/Google Playstore dataset/Play Store Data.csv')\n"
      ],
      "metadata": {
        "id": "_Aq1z-cMaBbF"
      },
      "execution_count": 4,
      "outputs": []
    },
    {
      "cell_type": "code",
      "source": [
        "# Reading our 2nd csv file (UserReviews.scv) and storing it in a variable reviews_df\n",
        "reviews_df = pd.read_csv('/content/drive/MyDrive/Google Playstore dataset/User Reviews.csv')"
      ],
      "metadata": {
        "id": "toxyfksYaBZo"
      },
      "execution_count": 5,
      "outputs": []
    },
    {
      "cell_type": "code",
      "source": [
        "# Analyzing top 5 rows of our play_df dataset using .head()\n",
        "play_df.head()"
      ],
      "metadata": {
        "colab": {
          "base_uri": "https://localhost:8080/",
          "height": 337
        },
        "id": "fGmf1YGkaBXF",
        "outputId": "40152158-41fd-45d3-f607-87613f50f1b9"
      },
      "execution_count": 6,
      "outputs": [
        {
          "output_type": "execute_result",
          "data": {
            "text/plain": [
              "                                                 App        Category  Rating  \\\n",
              "0     Photo Editor & Candy Camera & Grid & ScrapBook  ART_AND_DESIGN     4.1   \n",
              "1                                Coloring book moana  ART_AND_DESIGN     3.9   \n",
              "2  U Launcher Lite – FREE Live Cool Themes, Hide ...  ART_AND_DESIGN     4.7   \n",
              "3                              Sketch - Draw & Paint  ART_AND_DESIGN     4.5   \n",
              "4              Pixel Draw - Number Art Coloring Book  ART_AND_DESIGN     4.3   \n",
              "\n",
              "  Reviews  Size     Installs  Type Price Content Rating  \\\n",
              "0     159   19M      10,000+  Free     0       Everyone   \n",
              "1     967   14M     500,000+  Free     0       Everyone   \n",
              "2   87510  8.7M   5,000,000+  Free     0       Everyone   \n",
              "3  215644   25M  50,000,000+  Free     0           Teen   \n",
              "4     967  2.8M     100,000+  Free     0       Everyone   \n",
              "\n",
              "                      Genres      Last Updated         Current Ver  \\\n",
              "0               Art & Design   January 7, 2018               1.0.0   \n",
              "1  Art & Design;Pretend Play  January 15, 2018               2.0.0   \n",
              "2               Art & Design    August 1, 2018               1.2.4   \n",
              "3               Art & Design      June 8, 2018  Varies with device   \n",
              "4    Art & Design;Creativity     June 20, 2018                 1.1   \n",
              "\n",
              "    Android Ver  \n",
              "0  4.0.3 and up  \n",
              "1  4.0.3 and up  \n",
              "2  4.0.3 and up  \n",
              "3    4.2 and up  \n",
              "4    4.4 and up  "
            ],
            "text/html": [
              "\n",
              "  <div id=\"df-bbfbeda7-0de8-4e0a-a4be-4192b054abe0\">\n",
              "    <div class=\"colab-df-container\">\n",
              "      <div>\n",
              "<style scoped>\n",
              "    .dataframe tbody tr th:only-of-type {\n",
              "        vertical-align: middle;\n",
              "    }\n",
              "\n",
              "    .dataframe tbody tr th {\n",
              "        vertical-align: top;\n",
              "    }\n",
              "\n",
              "    .dataframe thead th {\n",
              "        text-align: right;\n",
              "    }\n",
              "</style>\n",
              "<table border=\"1\" class=\"dataframe\">\n",
              "  <thead>\n",
              "    <tr style=\"text-align: right;\">\n",
              "      <th></th>\n",
              "      <th>App</th>\n",
              "      <th>Category</th>\n",
              "      <th>Rating</th>\n",
              "      <th>Reviews</th>\n",
              "      <th>Size</th>\n",
              "      <th>Installs</th>\n",
              "      <th>Type</th>\n",
              "      <th>Price</th>\n",
              "      <th>Content Rating</th>\n",
              "      <th>Genres</th>\n",
              "      <th>Last Updated</th>\n",
              "      <th>Current Ver</th>\n",
              "      <th>Android Ver</th>\n",
              "    </tr>\n",
              "  </thead>\n",
              "  <tbody>\n",
              "    <tr>\n",
              "      <th>0</th>\n",
              "      <td>Photo Editor &amp; Candy Camera &amp; Grid &amp; ScrapBook</td>\n",
              "      <td>ART_AND_DESIGN</td>\n",
              "      <td>4.1</td>\n",
              "      <td>159</td>\n",
              "      <td>19M</td>\n",
              "      <td>10,000+</td>\n",
              "      <td>Free</td>\n",
              "      <td>0</td>\n",
              "      <td>Everyone</td>\n",
              "      <td>Art &amp; Design</td>\n",
              "      <td>January 7, 2018</td>\n",
              "      <td>1.0.0</td>\n",
              "      <td>4.0.3 and up</td>\n",
              "    </tr>\n",
              "    <tr>\n",
              "      <th>1</th>\n",
              "      <td>Coloring book moana</td>\n",
              "      <td>ART_AND_DESIGN</td>\n",
              "      <td>3.9</td>\n",
              "      <td>967</td>\n",
              "      <td>14M</td>\n",
              "      <td>500,000+</td>\n",
              "      <td>Free</td>\n",
              "      <td>0</td>\n",
              "      <td>Everyone</td>\n",
              "      <td>Art &amp; Design;Pretend Play</td>\n",
              "      <td>January 15, 2018</td>\n",
              "      <td>2.0.0</td>\n",
              "      <td>4.0.3 and up</td>\n",
              "    </tr>\n",
              "    <tr>\n",
              "      <th>2</th>\n",
              "      <td>U Launcher Lite – FREE Live Cool Themes, Hide ...</td>\n",
              "      <td>ART_AND_DESIGN</td>\n",
              "      <td>4.7</td>\n",
              "      <td>87510</td>\n",
              "      <td>8.7M</td>\n",
              "      <td>5,000,000+</td>\n",
              "      <td>Free</td>\n",
              "      <td>0</td>\n",
              "      <td>Everyone</td>\n",
              "      <td>Art &amp; Design</td>\n",
              "      <td>August 1, 2018</td>\n",
              "      <td>1.2.4</td>\n",
              "      <td>4.0.3 and up</td>\n",
              "    </tr>\n",
              "    <tr>\n",
              "      <th>3</th>\n",
              "      <td>Sketch - Draw &amp; Paint</td>\n",
              "      <td>ART_AND_DESIGN</td>\n",
              "      <td>4.5</td>\n",
              "      <td>215644</td>\n",
              "      <td>25M</td>\n",
              "      <td>50,000,000+</td>\n",
              "      <td>Free</td>\n",
              "      <td>0</td>\n",
              "      <td>Teen</td>\n",
              "      <td>Art &amp; Design</td>\n",
              "      <td>June 8, 2018</td>\n",
              "      <td>Varies with device</td>\n",
              "      <td>4.2 and up</td>\n",
              "    </tr>\n",
              "    <tr>\n",
              "      <th>4</th>\n",
              "      <td>Pixel Draw - Number Art Coloring Book</td>\n",
              "      <td>ART_AND_DESIGN</td>\n",
              "      <td>4.3</td>\n",
              "      <td>967</td>\n",
              "      <td>2.8M</td>\n",
              "      <td>100,000+</td>\n",
              "      <td>Free</td>\n",
              "      <td>0</td>\n",
              "      <td>Everyone</td>\n",
              "      <td>Art &amp; Design;Creativity</td>\n",
              "      <td>June 20, 2018</td>\n",
              "      <td>1.1</td>\n",
              "      <td>4.4 and up</td>\n",
              "    </tr>\n",
              "  </tbody>\n",
              "</table>\n",
              "</div>\n",
              "      <button class=\"colab-df-convert\" onclick=\"convertToInteractive('df-bbfbeda7-0de8-4e0a-a4be-4192b054abe0')\"\n",
              "              title=\"Convert this dataframe to an interactive table.\"\n",
              "              style=\"display:none;\">\n",
              "        \n",
              "  <svg xmlns=\"http://www.w3.org/2000/svg\" height=\"24px\"viewBox=\"0 0 24 24\"\n",
              "       width=\"24px\">\n",
              "    <path d=\"M0 0h24v24H0V0z\" fill=\"none\"/>\n",
              "    <path d=\"M18.56 5.44l.94 2.06.94-2.06 2.06-.94-2.06-.94-.94-2.06-.94 2.06-2.06.94zm-11 1L8.5 8.5l.94-2.06 2.06-.94-2.06-.94L8.5 2.5l-.94 2.06-2.06.94zm10 10l.94 2.06.94-2.06 2.06-.94-2.06-.94-.94-2.06-.94 2.06-2.06.94z\"/><path d=\"M17.41 7.96l-1.37-1.37c-.4-.4-.92-.59-1.43-.59-.52 0-1.04.2-1.43.59L10.3 9.45l-7.72 7.72c-.78.78-.78 2.05 0 2.83L4 21.41c.39.39.9.59 1.41.59.51 0 1.02-.2 1.41-.59l7.78-7.78 2.81-2.81c.8-.78.8-2.07 0-2.86zM5.41 20L4 18.59l7.72-7.72 1.47 1.35L5.41 20z\"/>\n",
              "  </svg>\n",
              "      </button>\n",
              "      \n",
              "  <style>\n",
              "    .colab-df-container {\n",
              "      display:flex;\n",
              "      flex-wrap:wrap;\n",
              "      gap: 12px;\n",
              "    }\n",
              "\n",
              "    .colab-df-convert {\n",
              "      background-color: #E8F0FE;\n",
              "      border: none;\n",
              "      border-radius: 50%;\n",
              "      cursor: pointer;\n",
              "      display: none;\n",
              "      fill: #1967D2;\n",
              "      height: 32px;\n",
              "      padding: 0 0 0 0;\n",
              "      width: 32px;\n",
              "    }\n",
              "\n",
              "    .colab-df-convert:hover {\n",
              "      background-color: #E2EBFA;\n",
              "      box-shadow: 0px 1px 2px rgba(60, 64, 67, 0.3), 0px 1px 3px 1px rgba(60, 64, 67, 0.15);\n",
              "      fill: #174EA6;\n",
              "    }\n",
              "\n",
              "    [theme=dark] .colab-df-convert {\n",
              "      background-color: #3B4455;\n",
              "      fill: #D2E3FC;\n",
              "    }\n",
              "\n",
              "    [theme=dark] .colab-df-convert:hover {\n",
              "      background-color: #434B5C;\n",
              "      box-shadow: 0px 1px 3px 1px rgba(0, 0, 0, 0.15);\n",
              "      filter: drop-shadow(0px 1px 2px rgba(0, 0, 0, 0.3));\n",
              "      fill: #FFFFFF;\n",
              "    }\n",
              "  </style>\n",
              "\n",
              "      <script>\n",
              "        const buttonEl =\n",
              "          document.querySelector('#df-bbfbeda7-0de8-4e0a-a4be-4192b054abe0 button.colab-df-convert');\n",
              "        buttonEl.style.display =\n",
              "          google.colab.kernel.accessAllowed ? 'block' : 'none';\n",
              "\n",
              "        async function convertToInteractive(key) {\n",
              "          const element = document.querySelector('#df-bbfbeda7-0de8-4e0a-a4be-4192b054abe0');\n",
              "          const dataTable =\n",
              "            await google.colab.kernel.invokeFunction('convertToInteractive',\n",
              "                                                     [key], {});\n",
              "          if (!dataTable) return;\n",
              "\n",
              "          const docLinkHtml = 'Like what you see? Visit the ' +\n",
              "            '<a target=\"_blank\" href=https://colab.research.google.com/notebooks/data_table.ipynb>data table notebook</a>'\n",
              "            + ' to learn more about interactive tables.';\n",
              "          element.innerHTML = '';\n",
              "          dataTable['output_type'] = 'display_data';\n",
              "          await google.colab.output.renderOutput(dataTable, element);\n",
              "          const docLink = document.createElement('div');\n",
              "          docLink.innerHTML = docLinkHtml;\n",
              "          element.appendChild(docLink);\n",
              "        }\n",
              "      </script>\n",
              "    </div>\n",
              "  </div>\n",
              "  "
            ]
          },
          "metadata": {},
          "execution_count": 6
        }
      ]
    },
    {
      "cell_type": "code",
      "source": [
        "# Analyzing top 5 rows of our reviews_df dataset using .head()\n",
        "reviews_df.head()"
      ],
      "metadata": {
        "colab": {
          "base_uri": "https://localhost:8080/",
          "height": 206
        },
        "id": "FyM_Bzq6oQEG",
        "outputId": "31b23eda-fd66-499c-bf5f-d4e9c68dc451"
      },
      "execution_count": 7,
      "outputs": [
        {
          "output_type": "execute_result",
          "data": {
            "text/plain": [
              "                     App                                  Translated_Review  \\\n",
              "0  10 Best Foods for You  I like eat delicious food. That's I'm cooking ...   \n",
              "1  10 Best Foods for You    This help eating healthy exercise regular basis   \n",
              "2  10 Best Foods for You                                                NaN   \n",
              "3  10 Best Foods for You         Works great especially going grocery store   \n",
              "4  10 Best Foods for You                                       Best idea us   \n",
              "\n",
              "  Sentiment  Sentiment_Polarity  Sentiment_Subjectivity  \n",
              "0  Positive                1.00                0.533333  \n",
              "1  Positive                0.25                0.288462  \n",
              "2       NaN                 NaN                     NaN  \n",
              "3  Positive                0.40                0.875000  \n",
              "4  Positive                1.00                0.300000  "
            ],
            "text/html": [
              "\n",
              "  <div id=\"df-0f8835fa-3efb-4507-9f42-1f20441e3a57\">\n",
              "    <div class=\"colab-df-container\">\n",
              "      <div>\n",
              "<style scoped>\n",
              "    .dataframe tbody tr th:only-of-type {\n",
              "        vertical-align: middle;\n",
              "    }\n",
              "\n",
              "    .dataframe tbody tr th {\n",
              "        vertical-align: top;\n",
              "    }\n",
              "\n",
              "    .dataframe thead th {\n",
              "        text-align: right;\n",
              "    }\n",
              "</style>\n",
              "<table border=\"1\" class=\"dataframe\">\n",
              "  <thead>\n",
              "    <tr style=\"text-align: right;\">\n",
              "      <th></th>\n",
              "      <th>App</th>\n",
              "      <th>Translated_Review</th>\n",
              "      <th>Sentiment</th>\n",
              "      <th>Sentiment_Polarity</th>\n",
              "      <th>Sentiment_Subjectivity</th>\n",
              "    </tr>\n",
              "  </thead>\n",
              "  <tbody>\n",
              "    <tr>\n",
              "      <th>0</th>\n",
              "      <td>10 Best Foods for You</td>\n",
              "      <td>I like eat delicious food. That's I'm cooking ...</td>\n",
              "      <td>Positive</td>\n",
              "      <td>1.00</td>\n",
              "      <td>0.533333</td>\n",
              "    </tr>\n",
              "    <tr>\n",
              "      <th>1</th>\n",
              "      <td>10 Best Foods for You</td>\n",
              "      <td>This help eating healthy exercise regular basis</td>\n",
              "      <td>Positive</td>\n",
              "      <td>0.25</td>\n",
              "      <td>0.288462</td>\n",
              "    </tr>\n",
              "    <tr>\n",
              "      <th>2</th>\n",
              "      <td>10 Best Foods for You</td>\n",
              "      <td>NaN</td>\n",
              "      <td>NaN</td>\n",
              "      <td>NaN</td>\n",
              "      <td>NaN</td>\n",
              "    </tr>\n",
              "    <tr>\n",
              "      <th>3</th>\n",
              "      <td>10 Best Foods for You</td>\n",
              "      <td>Works great especially going grocery store</td>\n",
              "      <td>Positive</td>\n",
              "      <td>0.40</td>\n",
              "      <td>0.875000</td>\n",
              "    </tr>\n",
              "    <tr>\n",
              "      <th>4</th>\n",
              "      <td>10 Best Foods for You</td>\n",
              "      <td>Best idea us</td>\n",
              "      <td>Positive</td>\n",
              "      <td>1.00</td>\n",
              "      <td>0.300000</td>\n",
              "    </tr>\n",
              "  </tbody>\n",
              "</table>\n",
              "</div>\n",
              "      <button class=\"colab-df-convert\" onclick=\"convertToInteractive('df-0f8835fa-3efb-4507-9f42-1f20441e3a57')\"\n",
              "              title=\"Convert this dataframe to an interactive table.\"\n",
              "              style=\"display:none;\">\n",
              "        \n",
              "  <svg xmlns=\"http://www.w3.org/2000/svg\" height=\"24px\"viewBox=\"0 0 24 24\"\n",
              "       width=\"24px\">\n",
              "    <path d=\"M0 0h24v24H0V0z\" fill=\"none\"/>\n",
              "    <path d=\"M18.56 5.44l.94 2.06.94-2.06 2.06-.94-2.06-.94-.94-2.06-.94 2.06-2.06.94zm-11 1L8.5 8.5l.94-2.06 2.06-.94-2.06-.94L8.5 2.5l-.94 2.06-2.06.94zm10 10l.94 2.06.94-2.06 2.06-.94-2.06-.94-.94-2.06-.94 2.06-2.06.94z\"/><path d=\"M17.41 7.96l-1.37-1.37c-.4-.4-.92-.59-1.43-.59-.52 0-1.04.2-1.43.59L10.3 9.45l-7.72 7.72c-.78.78-.78 2.05 0 2.83L4 21.41c.39.39.9.59 1.41.59.51 0 1.02-.2 1.41-.59l7.78-7.78 2.81-2.81c.8-.78.8-2.07 0-2.86zM5.41 20L4 18.59l7.72-7.72 1.47 1.35L5.41 20z\"/>\n",
              "  </svg>\n",
              "      </button>\n",
              "      \n",
              "  <style>\n",
              "    .colab-df-container {\n",
              "      display:flex;\n",
              "      flex-wrap:wrap;\n",
              "      gap: 12px;\n",
              "    }\n",
              "\n",
              "    .colab-df-convert {\n",
              "      background-color: #E8F0FE;\n",
              "      border: none;\n",
              "      border-radius: 50%;\n",
              "      cursor: pointer;\n",
              "      display: none;\n",
              "      fill: #1967D2;\n",
              "      height: 32px;\n",
              "      padding: 0 0 0 0;\n",
              "      width: 32px;\n",
              "    }\n",
              "\n",
              "    .colab-df-convert:hover {\n",
              "      background-color: #E2EBFA;\n",
              "      box-shadow: 0px 1px 2px rgba(60, 64, 67, 0.3), 0px 1px 3px 1px rgba(60, 64, 67, 0.15);\n",
              "      fill: #174EA6;\n",
              "    }\n",
              "\n",
              "    [theme=dark] .colab-df-convert {\n",
              "      background-color: #3B4455;\n",
              "      fill: #D2E3FC;\n",
              "    }\n",
              "\n",
              "    [theme=dark] .colab-df-convert:hover {\n",
              "      background-color: #434B5C;\n",
              "      box-shadow: 0px 1px 3px 1px rgba(0, 0, 0, 0.15);\n",
              "      filter: drop-shadow(0px 1px 2px rgba(0, 0, 0, 0.3));\n",
              "      fill: #FFFFFF;\n",
              "    }\n",
              "  </style>\n",
              "\n",
              "      <script>\n",
              "        const buttonEl =\n",
              "          document.querySelector('#df-0f8835fa-3efb-4507-9f42-1f20441e3a57 button.colab-df-convert');\n",
              "        buttonEl.style.display =\n",
              "          google.colab.kernel.accessAllowed ? 'block' : 'none';\n",
              "\n",
              "        async function convertToInteractive(key) {\n",
              "          const element = document.querySelector('#df-0f8835fa-3efb-4507-9f42-1f20441e3a57');\n",
              "          const dataTable =\n",
              "            await google.colab.kernel.invokeFunction('convertToInteractive',\n",
              "                                                     [key], {});\n",
              "          if (!dataTable) return;\n",
              "\n",
              "          const docLinkHtml = 'Like what you see? Visit the ' +\n",
              "            '<a target=\"_blank\" href=https://colab.research.google.com/notebooks/data_table.ipynb>data table notebook</a>'\n",
              "            + ' to learn more about interactive tables.';\n",
              "          element.innerHTML = '';\n",
              "          dataTable['output_type'] = 'display_data';\n",
              "          await google.colab.output.renderOutput(dataTable, element);\n",
              "          const docLink = document.createElement('div');\n",
              "          docLink.innerHTML = docLinkHtml;\n",
              "          element.appendChild(docLink);\n",
              "        }\n",
              "      </script>\n",
              "    </div>\n",
              "  </div>\n",
              "  "
            ]
          },
          "metadata": {},
          "execution_count": 7
        }
      ]
    },
    {
      "cell_type": "markdown",
      "source": [
        "# **For now let's just focus on our 1st dataset i.e play_df and try finding some useful insights**"
      ],
      "metadata": {
        "id": "mQLZSuzJnu5q"
      }
    },
    {
      "cell_type": "code",
      "source": [
        "# Checking the data types of every column in our play_df dataframe using .info()\n",
        "# Here we can aslo notice that our play_df dataframe has 10841 rows and 13 columns\n",
        "play_df.info()"
      ],
      "metadata": {
        "colab": {
          "base_uri": "https://localhost:8080/"
        },
        "id": "7gwsgcebaBQ0",
        "outputId": "732d5446-0829-4309-9544-8ab5997357a7"
      },
      "execution_count": 8,
      "outputs": [
        {
          "output_type": "stream",
          "name": "stdout",
          "text": [
            "<class 'pandas.core.frame.DataFrame'>\n",
            "RangeIndex: 10841 entries, 0 to 10840\n",
            "Data columns (total 13 columns):\n",
            " #   Column          Non-Null Count  Dtype  \n",
            "---  ------          --------------  -----  \n",
            " 0   App             10841 non-null  object \n",
            " 1   Category        10841 non-null  object \n",
            " 2   Rating          9367 non-null   float64\n",
            " 3   Reviews         10841 non-null  object \n",
            " 4   Size            10841 non-null  object \n",
            " 5   Installs        10841 non-null  object \n",
            " 6   Type            10840 non-null  object \n",
            " 7   Price           10841 non-null  object \n",
            " 8   Content Rating  10840 non-null  object \n",
            " 9   Genres          10841 non-null  object \n",
            " 10  Last Updated    10841 non-null  object \n",
            " 11  Current Ver     10833 non-null  object \n",
            " 12  Android Ver     10838 non-null  object \n",
            "dtypes: float64(1), object(12)\n",
            "memory usage: 1.1+ MB\n"
          ]
        }
      ]
    },
    {
      "cell_type": "markdown",
      "source": [
        "\n",
        "\n",
        "---\n",
        "\n",
        "\n",
        "\n",
        "# **Part 2 : Performing Data Cleaning , following operations would be used :**\n",
        "\n",
        "## 1. Analyzing or handling null/missing values if required\n",
        "## 2. Finding Outliers\n",
        "## 3. Correcting Datatypes\n",
        "## 4. Filtering unnecessary values\n",
        "## 5. Removing unnecessary symbols ($,+,M etc)\n",
        "## 6. Removing Duplicate values\n",
        "## 7. Transforming values from one format to other (from Kb to Mb)\n",
        "\n",
        "\n",
        "---\n",
        "\n",
        "\n",
        "\n",
        "\n",
        "\n",
        "\n",
        "\n",
        "\n",
        "\n",
        "\n",
        "\n",
        "\n",
        "\n",
        "\n",
        "\n",
        "\n",
        "\n",
        "\n",
        "\n",
        "\n"
      ],
      "metadata": {
        "id": "4YrKd0IDq5Za"
      }
    },
    {
      "cell_type": "markdown",
      "source": [
        "# Analysing Null/Missing values"
      ],
      "metadata": {
        "id": "SzSfRA0Ifoay"
      }
    },
    {
      "cell_type": "code",
      "source": [
        "# Let's plot all the null values present in our dataframe using bargraph and missingno library\n",
        "plt.figure(figsize=(10,8)) # used to provide a specific size to our graph\n",
        "msno.bar(play_df);"
      ],
      "metadata": {
        "id": "iPldNUtQZ_Pn",
        "colab": {
          "base_uri": "https://localhost:8080/",
          "height": 691
        },
        "outputId": "824a0dcd-e5ab-481a-b83d-62172c1f2bea"
      },
      "execution_count": 9,
      "outputs": [
        {
          "output_type": "display_data",
          "data": {
            "text/plain": [
              "<Figure size 1800x720 with 3 Axes>"
            ],
            "image/png": "[encoded data removed]"
          },
          "metadata": {
            "needs_background": "light"
          }
        }
      ]
    },
    {
      "cell_type": "code",
      "source": [
        "# We can also use the matrix method for performing the above task (the horizontal white lines represents missing values present in columns )\n",
        "# It seems like there aren't much missing values present in our dataframe except for the column 'Rating'\n",
        "plt.figure(figsize=(10,8))\n",
        "msno.matrix(play_df);"
      ],
      "metadata": {
        "colab": {
          "base_uri": "https://localhost:8080/",
          "height": 669
        },
        "id": "Yow2ZfzpopkM",
        "outputId": "e6ae1c4c-80fc-43ee-e75c-b86dc5c1007b"
      },
      "execution_count": 10,
      "outputs": [
        {
          "output_type": "display_data",
          "data": {
            "text/plain": [
              "<Figure size 720x576 with 0 Axes>"
            ]
          },
          "metadata": {}
        },
        {
          "output_type": "display_data",
          "data": {
            "text/plain": [
              "<Figure size 1800x720 with 2 Axes>"
            ],
            "image/png": "[encoded data removed]"
          },
          "metadata": {
            "needs_background": "light"
          }
        }
      ]
    },
    {
      "cell_type": "code",
      "source": [
        "#checking the amount of null values present in every column of our playstore dataframe by combining .isnull() and .sum() methods\n",
        "play_df.isnull().sum()"
      ],
      "metadata": {
        "colab": {
          "base_uri": "https://localhost:8080/"
        },
        "id": "AASvHS-xopwn",
        "outputId": "d63c2a48-64fc-4321-a6a9-9a51da009ecd"
      },
      "execution_count": 11,
      "outputs": [
        {
          "output_type": "execute_result",
          "data": {
            "text/plain": [
              "App                  0\n",
              "Category             0\n",
              "Rating            1474\n",
              "Reviews              0\n",
              "Size                 0\n",
              "Installs             0\n",
              "Type                 1\n",
              "Price                0\n",
              "Content Rating       1\n",
              "Genres               0\n",
              "Last Updated         0\n",
              "Current Ver          8\n",
              "Android Ver          3\n",
              "dtype: int64"
            ]
          },
          "metadata": {},
          "execution_count": 11
        }
      ]
    },
    {
      "cell_type": "code",
      "source": [
        "# finding the percentage of null values present in every column of play_df\n",
        "play_df.isnull().sum()/len(play_df)*100"
      ],
      "metadata": {
        "colab": {
          "base_uri": "https://localhost:8080/"
        },
        "id": "sLdcAsIXop3a",
        "outputId": "5b318b97-5b7b-45a3-8e69-760eaea93c75"
      },
      "execution_count": 12,
      "outputs": [
        {
          "output_type": "execute_result",
          "data": {
            "text/plain": [
              "App                0.000000\n",
              "Category           0.000000\n",
              "Rating            13.596532\n",
              "Reviews            0.000000\n",
              "Size               0.000000\n",
              "Installs           0.000000\n",
              "Type               0.009224\n",
              "Price              0.000000\n",
              "Content Rating     0.009224\n",
              "Genres             0.000000\n",
              "Last Updated       0.000000\n",
              "Current Ver        0.073794\n",
              "Android Ver        0.027673\n",
              "dtype: float64"
            ]
          },
          "metadata": {},
          "execution_count": 12
        }
      ]
    },
    {
      "cell_type": "markdown",
      "source": [
        "# Outliers Detection and Removal"
      ],
      "metadata": {
        "id": "vFzyHa5CfPin"
      }
    },
    {
      "cell_type": "code",
      "source": [
        "# performing a check for any possible outliers by using unique() method\n",
        "# here we can see a value(19.0) which is far off from max possible value(5.0) which an app can get\n",
        "play_df.Rating.unique()"
      ],
      "metadata": {
        "colab": {
          "base_uri": "https://localhost:8080/"
        },
        "id": "rhlSNG6lbOJ3",
        "outputId": "d9ed56f4-b898-4f75-e328-b232b449238f"
      },
      "execution_count": 13,
      "outputs": [
        {
          "output_type": "execute_result",
          "data": {
            "text/plain": [
              "array([ 4.1,  3.9,  4.7,  4.5,  4.3,  4.4,  3.8,  4.2,  4.6,  3.2,  4. ,\n",
              "        nan,  4.8,  4.9,  3.6,  3.7,  3.3,  3.4,  3.5,  3.1,  5. ,  2.6,\n",
              "        3. ,  1.9,  2.5,  2.8,  2.7,  1. ,  2.9,  2.3,  2.2,  1.7,  2. ,\n",
              "        1.8,  2.4,  1.6,  2.1,  1.4,  1.5,  1.2, 19. ])"
            ]
          },
          "metadata": {},
          "execution_count": 13
        }
      ]
    },
    {
      "cell_type": "code",
      "source": [
        "# confirming the above outlier using box plot \n",
        "plt.figure(figsize=(10,8))\n",
        "play_df.Rating.plot(kind='box');"
      ],
      "metadata": {
        "colab": {
          "base_uri": "https://localhost:8080/",
          "height": 483
        },
        "id": "f0wd4dXRbOWT",
        "outputId": "3539aa6e-2c18-464c-8a21-5a286eaa3ef7"
      },
      "execution_count": 14,
      "outputs": [
        {
          "output_type": "display_data",
          "data": {
            "text/plain": [
              "<Figure size 720x576 with 1 Axes>"
            ],
            "image/png": "[encoded data removed]"
          },
          "metadata": {
            "needs_background": "light"
          }
        }
      ]
    },
    {
      "cell_type": "code",
      "source": [
        "# Removing the above outlier form the column Rating\n",
        "play_df.drop(play_df[play_df.Rating>5.0].index,inplace=True)"
      ],
      "metadata": {
        "id": "pAMhQdijbOZK"
      },
      "execution_count": 15,
      "outputs": []
    },
    {
      "cell_type": "code",
      "source": [
        "# Performing a check just to ensure that the outlier is removed\n",
        "plt.figure(figsize=(10,8))\n",
        "play_df.Rating.plot(kind='box');\n",
        "# Here we can see that we have sucessfully removed the outlier from the required column\n"
      ],
      "metadata": {
        "colab": {
          "base_uri": "https://localhost:8080/",
          "height": 483
        },
        "id": "81QcBp04bOby",
        "outputId": "174f7a76-4d40-4084-c7dc-7197098c4ac1"
      },
      "execution_count": 16,
      "outputs": [
        {
          "output_type": "display_data",
          "data": {
            "text/plain": [
              "<Figure size 720x576 with 1 Axes>"
            ],
            "image/png": "[encoded data removed]"
          },
          "metadata": {
            "needs_background": "light"
          }
        }
      ]
    },
    {
      "cell_type": "markdown",
      "source": [
        "# Removing duplicate values"
      ],
      "metadata": {
        "id": "SH0CNp-8fdS1"
      }
    },
    {
      "cell_type": "code",
      "source": [
        "# Dropping duplicate values present in our dataframe meanwhile retaining the first value\n",
        "play_df=play_df.drop_duplicates(keep='first')"
      ],
      "metadata": {
        "id": "vEKPqWqKbOjI"
      },
      "execution_count": 17,
      "outputs": []
    },
    {
      "cell_type": "code",
      "source": [
        "# Dropping row with 0 Installs using .drop() as it is an outlier and it is not possible for an app to have 0 installs \n",
        "# Further storing in play_df to update our dataframe\n",
        "play_df=play_df.drop(play_df[play_df.Installs == '0'].index)\n",
        "play_df.head(5)"
      ],
      "metadata": {
        "colab": {
          "base_uri": "https://localhost:8080/",
          "height": 337
        },
        "id": "JatUoCN7bOlc",
        "outputId": "61261cd4-4980-4977-df6b-2762fab25fee"
      },
      "execution_count": 18,
      "outputs": [
        {
          "output_type": "execute_result",
          "data": {
            "text/plain": [
              "                                                 App        Category  Rating  \\\n",
              "0     Photo Editor & Candy Camera & Grid & ScrapBook  ART_AND_DESIGN     4.1   \n",
              "1                                Coloring book moana  ART_AND_DESIGN     3.9   \n",
              "2  U Launcher Lite – FREE Live Cool Themes, Hide ...  ART_AND_DESIGN     4.7   \n",
              "3                              Sketch - Draw & Paint  ART_AND_DESIGN     4.5   \n",
              "4              Pixel Draw - Number Art Coloring Book  ART_AND_DESIGN     4.3   \n",
              "\n",
              "  Reviews  Size     Installs  Type Price Content Rating  \\\n",
              "0     159   19M      10,000+  Free     0       Everyone   \n",
              "1     967   14M     500,000+  Free     0       Everyone   \n",
              "2   87510  8.7M   5,000,000+  Free     0       Everyone   \n",
              "3  215644   25M  50,000,000+  Free     0           Teen   \n",
              "4     967  2.8M     100,000+  Free     0       Everyone   \n",
              "\n",
              "                      Genres      Last Updated         Current Ver  \\\n",
              "0               Art & Design   January 7, 2018               1.0.0   \n",
              "1  Art & Design;Pretend Play  January 15, 2018               2.0.0   \n",
              "2               Art & Design    August 1, 2018               1.2.4   \n",
              "3               Art & Design      June 8, 2018  Varies with device   \n",
              "4    Art & Design;Creativity     June 20, 2018                 1.1   \n",
              "\n",
              "    Android Ver  \n",
              "0  4.0.3 and up  \n",
              "1  4.0.3 and up  \n",
              "2  4.0.3 and up  \n",
              "3    4.2 and up  \n",
              "4    4.4 and up  "
            ],
            "text/html": [
              "\n",
              "  <div id=\"df-c5c6a2da-d7ac-403a-b511-01b977c144ef\">\n",
              "    <div class=\"colab-df-container\">\n",
              "      <div>\n",
              "<style scoped>\n",
              "    .dataframe tbody tr th:only-of-type {\n",
              "        vertical-align: middle;\n",
              "    }\n",
              "\n",
              "    .dataframe tbody tr th {\n",
              "        vertical-align: top;\n",
              "    }\n",
              "\n",
              "    .dataframe thead th {\n",
              "        text-align: right;\n",
              "    }\n",
              "</style>\n",
              "<table border=\"1\" class=\"dataframe\">\n",
              "  <thead>\n",
              "    <tr style=\"text-align: right;\">\n",
              "      <th></th>\n",
              "      <th>App</th>\n",
              "      <th>Category</th>\n",
              "      <th>Rating</th>\n",
              "      <th>Reviews</th>\n",
              "      <th>Size</th>\n",
              "      <th>Installs</th>\n",
              "      <th>Type</th>\n",
              "      <th>Price</th>\n",
              "      <th>Content Rating</th>\n",
              "      <th>Genres</th>\n",
              "      <th>Last Updated</th>\n",
              "      <th>Current Ver</th>\n",
              "      <th>Android Ver</th>\n",
              "    </tr>\n",
              "  </thead>\n",
              "  <tbody>\n",
              "    <tr>\n",
              "      <th>0</th>\n",
              "      <td>Photo Editor &amp; Candy Camera &amp; Grid &amp; ScrapBook</td>\n",
              "      <td>ART_AND_DESIGN</td>\n",
              "      <td>4.1</td>\n",
              "      <td>159</td>\n",
              "      <td>19M</td>\n",
              "      <td>10,000+</td>\n",
              "      <td>Free</td>\n",
              "      <td>0</td>\n",
              "      <td>Everyone</td>\n",
              "      <td>Art &amp; Design</td>\n",
              "      <td>January 7, 2018</td>\n",
              "      <td>1.0.0</td>\n",
              "      <td>4.0.3 and up</td>\n",
              "    </tr>\n",
              "    <tr>\n",
              "      <th>1</th>\n",
              "      <td>Coloring book moana</td>\n",
              "      <td>ART_AND_DESIGN</td>\n",
              "      <td>3.9</td>\n",
              "      <td>967</td>\n",
              "      <td>14M</td>\n",
              "      <td>500,000+</td>\n",
              "      <td>Free</td>\n",
              "      <td>0</td>\n",
              "      <td>Everyone</td>\n",
              "      <td>Art &amp; Design;Pretend Play</td>\n",
              "      <td>January 15, 2018</td>\n",
              "      <td>2.0.0</td>\n",
              "      <td>4.0.3 and up</td>\n",
              "    </tr>\n",
              "    <tr>\n",
              "      <th>2</th>\n",
              "      <td>U Launcher Lite – FREE Live Cool Themes, Hide ...</td>\n",
              "      <td>ART_AND_DESIGN</td>\n",
              "      <td>4.7</td>\n",
              "      <td>87510</td>\n",
              "      <td>8.7M</td>\n",
              "      <td>5,000,000+</td>\n",
              "      <td>Free</td>\n",
              "      <td>0</td>\n",
              "      <td>Everyone</td>\n",
              "      <td>Art &amp; Design</td>\n",
              "      <td>August 1, 2018</td>\n",
              "      <td>1.2.4</td>\n",
              "      <td>4.0.3 and up</td>\n",
              "    </tr>\n",
              "    <tr>\n",
              "      <th>3</th>\n",
              "      <td>Sketch - Draw &amp; Paint</td>\n",
              "      <td>ART_AND_DESIGN</td>\n",
              "      <td>4.5</td>\n",
              "      <td>215644</td>\n",
              "      <td>25M</td>\n",
              "      <td>50,000,000+</td>\n",
              "      <td>Free</td>\n",
              "      <td>0</td>\n",
              "      <td>Teen</td>\n",
              "      <td>Art &amp; Design</td>\n",
              "      <td>June 8, 2018</td>\n",
              "      <td>Varies with device</td>\n",
              "      <td>4.2 and up</td>\n",
              "    </tr>\n",
              "    <tr>\n",
              "      <th>4</th>\n",
              "      <td>Pixel Draw - Number Art Coloring Book</td>\n",
              "      <td>ART_AND_DESIGN</td>\n",
              "      <td>4.3</td>\n",
              "      <td>967</td>\n",
              "      <td>2.8M</td>\n",
              "      <td>100,000+</td>\n",
              "      <td>Free</td>\n",
              "      <td>0</td>\n",
              "      <td>Everyone</td>\n",
              "      <td>Art &amp; Design;Creativity</td>\n",
              "      <td>June 20, 2018</td>\n",
              "      <td>1.1</td>\n",
              "      <td>4.4 and up</td>\n",
              "    </tr>\n",
              "  </tbody>\n",
              "</table>\n",
              "</div>\n",
              "      <button class=\"colab-df-convert\" onclick=\"convertToInteractive('df-c5c6a2da-d7ac-403a-b511-01b977c144ef')\"\n",
              "              title=\"Convert this dataframe to an interactive table.\"\n",
              "              style=\"display:none;\">\n",
              "        \n",
              "  <svg xmlns=\"http://www.w3.org/2000/svg\" height=\"24px\"viewBox=\"0 0 24 24\"\n",
              "       width=\"24px\">\n",
              "    <path d=\"M0 0h24v24H0V0z\" fill=\"none\"/>\n",
              "    <path d=\"M18.56 5.44l.94 2.06.94-2.06 2.06-.94-2.06-.94-.94-2.06-.94 2.06-2.06.94zm-11 1L8.5 8.5l.94-2.06 2.06-.94-2.06-.94L8.5 2.5l-.94 2.06-2.06.94zm10 10l.94 2.06.94-2.06 2.06-.94-2.06-.94-.94-2.06-.94 2.06-2.06.94z\"/><path d=\"M17.41 7.96l-1.37-1.37c-.4-.4-.92-.59-1.43-.59-.52 0-1.04.2-1.43.59L10.3 9.45l-7.72 7.72c-.78.78-.78 2.05 0 2.83L4 21.41c.39.39.9.59 1.41.59.51 0 1.02-.2 1.41-.59l7.78-7.78 2.81-2.81c.8-.78.8-2.07 0-2.86zM5.41 20L4 18.59l7.72-7.72 1.47 1.35L5.41 20z\"/>\n",
              "  </svg>\n",
              "      </button>\n",
              "      \n",
              "  <style>\n",
              "    .colab-df-container {\n",
              "      display:flex;\n",
              "      flex-wrap:wrap;\n",
              "      gap: 12px;\n",
              "    }\n",
              "\n",
              "    .colab-df-convert {\n",
              "      background-color: #E8F0FE;\n",
              "      border: none;\n",
              "      border-radius: 50%;\n",
              "      cursor: pointer;\n",
              "      display: none;\n",
              "      fill: #1967D2;\n",
              "      height: 32px;\n",
              "      padding: 0 0 0 0;\n",
              "      width: 32px;\n",
              "    }\n",
              "\n",
              "    .colab-df-convert:hover {\n",
              "      background-color: #E2EBFA;\n",
              "      box-shadow: 0px 1px 2px rgba(60, 64, 67, 0.3), 0px 1px 3px 1px rgba(60, 64, 67, 0.15);\n",
              "      fill: #174EA6;\n",
              "    }\n",
              "\n",
              "    [theme=dark] .colab-df-convert {\n",
              "      background-color: #3B4455;\n",
              "      fill: #D2E3FC;\n",
              "    }\n",
              "\n",
              "    [theme=dark] .colab-df-convert:hover {\n",
              "      background-color: #434B5C;\n",
              "      box-shadow: 0px 1px 3px 1px rgba(0, 0, 0, 0.15);\n",
              "      filter: drop-shadow(0px 1px 2px rgba(0, 0, 0, 0.3));\n",
              "      fill: #FFFFFF;\n",
              "    }\n",
              "  </style>\n",
              "\n",
              "      <script>\n",
              "        const buttonEl =\n",
              "          document.querySelector('#df-c5c6a2da-d7ac-403a-b511-01b977c144ef button.colab-df-convert');\n",
              "        buttonEl.style.display =\n",
              "          google.colab.kernel.accessAllowed ? 'block' : 'none';\n",
              "\n",
              "        async function convertToInteractive(key) {\n",
              "          const element = document.querySelector('#df-c5c6a2da-d7ac-403a-b511-01b977c144ef');\n",
              "          const dataTable =\n",
              "            await google.colab.kernel.invokeFunction('convertToInteractive',\n",
              "                                                     [key], {});\n",
              "          if (!dataTable) return;\n",
              "\n",
              "          const docLinkHtml = 'Like what you see? Visit the ' +\n",
              "            '<a target=\"_blank\" href=https://colab.research.google.com/notebooks/data_table.ipynb>data table notebook</a>'\n",
              "            + ' to learn more about interactive tables.';\n",
              "          element.innerHTML = '';\n",
              "          dataTable['output_type'] = 'display_data';\n",
              "          await google.colab.output.renderOutput(dataTable, element);\n",
              "          const docLink = document.createElement('div');\n",
              "          docLink.innerHTML = docLinkHtml;\n",
              "          element.appendChild(docLink);\n",
              "        }\n",
              "      </script>\n",
              "    </div>\n",
              "  </div>\n",
              "  "
            ]
          },
          "metadata": {},
          "execution_count": 18
        }
      ]
    },
    {
      "cell_type": "markdown",
      "source": [
        "# Converting columns into numeric type from str and removing unnecessary signs('$' , '+' , 'M' , 'K' , ',' ) attatched to the values present in our columns (Correcting Datatypes and Removing unnecessary symbols)"
      ],
      "metadata": {
        "id": "Ws6xHCrgd3bX"
      }
    },
    {
      "cell_type": "code",
      "source": [
        "# Changing the datatype of column named \"Price\" to float meanwhile also replacing '$' symbol with empty string\n",
        "play_df['Price']= play_df['Price'].str.replace('$','').astype('float64')"
      ],
      "metadata": {
        "id": "68Iql0nobOn6"
      },
      "execution_count": 19,
      "outputs": []
    },
    {
      "cell_type": "code",
      "source": [
        "# Changing the datatype of column 'Rating' to float \n",
        "play_df['Rating']=play_df['Rating'].astype('float64')"
      ],
      "metadata": {
        "id": "aYTGTVC7bOqK"
      },
      "execution_count": 20,
      "outputs": []
    },
    {
      "cell_type": "code",
      "source": [
        "# Converting the datatype of column 'Installs' to int and also replacing (\"+\" and \",\") with empty string\n",
        "play_df['Installs']=play_df['Installs'].str.replace('+','')\n",
        "play_df['Installs']=play_df.Installs.str.replace(',','').astype('int')"
      ],
      "metadata": {
        "id": "yANOohZmbOsk"
      },
      "execution_count": 21,
      "outputs": []
    },
    {
      "cell_type": "code",
      "source": [
        "# Changing datatype of 'Size' column and replacing string('Varies with device') with np.nan to replace this string with NaN value\n",
        "# We will not change the datatype of this column for now as there are some symbols which needs to be removed \n",
        "# And there are some values too which needs to be converted from Kb to Mb\n",
        "# we will remove and convert them with the help of a function further in our journey\n",
        "play_df['Size']=play_df.Size.str.replace('M','')\n",
        "play_df['Size']=play_df.Size.replace('Varies with device',np.nan)"
      ],
      "metadata": {
        "id": "0lAfC74JbOwK"
      },
      "execution_count": 22,
      "outputs": []
    },
    {
      "cell_type": "code",
      "source": [
        "# Updating datatype of column 'Reviews' to int\n",
        "play_df['Reviews']=play_df.Reviews.astype('int')"
      ],
      "metadata": {
        "id": "kjltQJKpfHiI"
      },
      "execution_count": 23,
      "outputs": []
    },
    {
      "cell_type": "code",
      "source": [
        "# Changing the data type of Last Updated column from 'object' to Datetime\n",
        "play_df['Last Updated'] = pd.to_datetime(play_df['Last Updated'])"
      ],
      "metadata": {
        "id": "xy5q3XXJfHfv"
      },
      "execution_count": 24,
      "outputs": []
    },
    {
      "cell_type": "code",
      "source": [
        "# Let's rename our 'Price' column to 'Price($)' and update the value in our play_df dataframe\n",
        "play_df=play_df.rename(columns={'Price':'Price($)'})"
      ],
      "metadata": {
        "id": "s1K8Jj3SfHZ5"
      },
      "execution_count": 25,
      "outputs": []
    },
    {
      "cell_type": "code",
      "source": [
        "# Writing a function to remove 'k' from all the values present in 'Size' column\n",
        "def remove(i):\n",
        "        if i[-1]=='k':\n",
        "            return float(i[0:-1])/1000  #converting values from 'Kb' to 'Mb' by dividing all the values by 1000\n",
        "        else :\n",
        "            return i"
      ],
      "metadata": {
        "id": "MCKoOHHofHR_"
      },
      "execution_count": 26,
      "outputs": []
    },
    {
      "cell_type": "code",
      "source": [
        "# Changing the datatype of 'Size' column to str so that we can apply the above function as it is only applicabe for a value having datatype str\n",
        "play_df.Size=play_df['Size'].astype('str')\n"
      ],
      "metadata": {
        "id": "R5X6C6IjrKax"
      },
      "execution_count": 27,
      "outputs": []
    },
    {
      "cell_type": "code",
      "source": [
        "# Applying the function remove() that we created , to the column 'Size' so that we can have pure numeric values\n",
        "play_df[\"Size\"]=play_df[\"Size\"].apply(lambda x: remove(x)) # using .apply() method with the help of lambda function to filter values in column 'Size'\n",
        "# we can also use .map() here to perform the same task"
      ],
      "metadata": {
        "id": "kvcsniierZuw"
      },
      "execution_count": 28,
      "outputs": []
    },
    {
      "cell_type": "code",
      "source": [
        "# Now let's just verfiying weather we have got the desired results or not\n",
        "play_df.Size.unique()\n",
        "# It seems that all our values are puerly numeric now , so let's change the datatype of this column"
      ],
      "metadata": {
        "colab": {
          "base_uri": "https://localhost:8080/"
        },
        "id": "5j0CPOOlsdTH",
        "outputId": "3b152953-ef1e-4ca1-e797-542d9c9a5225"
      },
      "execution_count": 29,
      "outputs": [
        {
          "output_type": "execute_result",
          "data": {
            "text/plain": [
              "array(['19', '14', '8.7', '25', '2.8', '5.6', '29', '33', '3.1', '28',\n",
              "       '12', '20', '21', '37', '2.7', '5.5', '17', '39', '31', '4.2',\n",
              "       '7.0', '23', '6.0', '6.1', '4.6', '9.2', '5.2', '11', '24', 'nan',\n",
              "       '9.4', '15', '10', '1.2', '26', '8.0', '7.9', '56', '57', '35',\n",
              "       '54', 0.201, '3.6', '5.7', '8.6', '2.4', '27', '2.5', '16', '3.4',\n",
              "       '8.9', '3.9', '2.9', '38', '32', '5.4', '18', '1.1', '2.2', '4.5',\n",
              "       '9.8', '52', '9.0', '6.7', '30', '2.6', '7.1', '3.7', '22', '7.4',\n",
              "       '6.4', '3.2', '8.2', '9.9', '4.9', '9.5', '5.0', '5.9', '13', '73',\n",
              "       '6.8', '3.5', '4.0', '2.3', '7.2', '2.1', '42', '7.3', '9.1', '55',\n",
              "       0.023, '6.5', '1.5', '7.5', '51', '41', '48', '8.5', '46', '8.3',\n",
              "       '4.3', '4.7', '3.3', '40', '7.8', '8.8', '6.6', '5.1', '61', '66',\n",
              "       0.079, '8.4', 0.118, '44', 0.695, '1.6', '6.2', 0.018, '53', '1.4',\n",
              "       '3.0', '5.8', '3.8', '9.6', '45', '63', '49', '77', '4.4', '4.8',\n",
              "       '70', '6.9', '9.3', '10.0', '8.1', '36', '84', '97', '2.0', '1.9',\n",
              "       '1.8', '5.3', '47', 0.556, 0.526, '76', '7.6', '59', '9.7', '78',\n",
              "       '72', '43', '7.7', '6.3', 0.334, '34', '93', '65', '79', '100',\n",
              "       '58', '50', '68', '64', '67', '60', '94', 0.232, '99', 0.624, '95',\n",
              "       0.0085, 0.041, 0.292, 0.011, '80', '1.7', '74', '62', '69', '75',\n",
              "       '98', '85', '82', '96', '87', '71', '86', '91', '81', '92', '83',\n",
              "       '88', 0.704, 0.862, 0.899, 0.378, 0.266, 0.375, '1.3', 0.975, 0.98,\n",
              "       '4.1', '89', 0.696, 0.544, 0.525, 0.92, 0.779, 0.853, 0.72, 0.713,\n",
              "       0.772, 0.318, 0.058, 0.241, 0.196, 0.857, 0.051, 0.953, 0.865,\n",
              "       0.251, 0.93, 0.54, 0.313, 0.746, 0.203, 0.026, 0.314, 0.239, 0.371,\n",
              "       0.22, 0.73, 0.756, 0.091, 0.293, 0.017, 0.074, 0.014, 0.317, 0.078,\n",
              "       0.924, 0.902, 0.818, 0.081, 0.939, 0.169, 0.045, 0.475, 0.965,\n",
              "       '90', 0.545, 0.061, 0.283, 0.655, 0.714, 0.093, 0.872, 0.121,\n",
              "       0.322, '1.0', 0.976, 0.172, 0.238, 0.549, 0.206, 0.954, 0.444,\n",
              "       0.717, 0.21, 0.609, 0.308, 0.705, 0.306, 0.904, 0.473, 0.175, 0.35,\n",
              "       0.383, 0.454, 0.421, 0.07, 0.812, 0.442, 0.842, 0.417, 0.412,\n",
              "       0.459, 0.478, 0.335, 0.782, 0.721, 0.43, 0.429, 0.192, 0.2, 0.46,\n",
              "       0.728, 0.496, 0.816, 0.414, 0.506, 0.887, 0.613, 0.243, 0.569,\n",
              "       0.778, 0.683, 0.592, 0.319, 0.186, 0.84, 0.647, 0.191, 0.373,\n",
              "       0.437, 0.598, 0.716, 0.585, 0.982, 0.222, 0.219, 0.055, 0.948,\n",
              "       0.323, 0.691, 0.511, 0.951, 0.963, 0.025, 0.554, 0.351, 0.027,\n",
              "       0.082, 0.208, 0.913, 0.514, 0.551, 0.029, 0.103, 0.898, 0.743,\n",
              "       0.116, 0.153, 0.209, 0.353, 0.499, 0.173, 0.597, 0.809, 0.122,\n",
              "       0.411, 0.4, 0.801, 0.787, 0.237, 0.05, 0.643, 0.986, 0.097, 0.516,\n",
              "       0.837, 0.78, 0.961, 0.269, 0.02, 0.498, 0.6, 0.749, 0.642, 0.881,\n",
              "       0.072, 0.656, 0.601, 0.221, 0.228, 0.108, 0.94, 0.176, 0.033,\n",
              "       0.663, 0.034, 0.942, 0.259, 0.164, 0.458, 0.245, 0.629, 0.028,\n",
              "       0.288, 0.775, 0.785, 0.636, 0.916, 0.994, 0.309, 0.485, 0.914,\n",
              "       0.903, 0.608, 0.5, 0.054, 0.562, 0.847, 0.957, 0.688, 0.811, 0.27,\n",
              "       0.048, 0.329, 0.523, 0.921, 0.874, 0.981, 0.784, 0.28, 0.024,\n",
              "       0.518, 0.754, 0.892, 0.154, 0.86, 0.364, 0.387, 0.626, 0.161,\n",
              "       0.879, 0.039, 0.97, 0.17, 0.141, 0.16, 0.144, 0.143, 0.19, 0.376,\n",
              "       0.193, 0.246, 0.073, 0.658, 0.992, 0.253, 0.42, 0.404, 0.47, 0.226,\n",
              "       0.24, 0.089, 0.234, 0.257, 0.861, 0.467, 0.157, 0.044, 0.676,\n",
              "       0.067, 0.552, 0.885, 1.02, 0.582, 0.619], dtype=object)"
            ]
          },
          "metadata": {},
          "execution_count": 29
        }
      ]
    },
    {
      "cell_type": "code",
      "source": [
        "# Changing the datatype of column 'Size' to float \n",
        "play_df['Size']=play_df['Size'].astype('float')"
      ],
      "metadata": {
        "id": "yhRs5g5Ks-Tz"
      },
      "execution_count": 30,
      "outputs": []
    },
    {
      "cell_type": "code",
      "source": [
        "# Renaming the column as all the values now are in 'Mb'\n",
        "play_df=play_df.rename(columns={'Size':'Size(in Mb)'})"
      ],
      "metadata": {
        "id": "Q5Qao0RSs-dH"
      },
      "execution_count": 31,
      "outputs": []
    },
    {
      "cell_type": "code",
      "source": [
        "# Let's have a final look at our updated dataframe before moving further  \n",
        "play_df.head()"
      ],
      "metadata": {
        "colab": {
          "base_uri": "https://localhost:8080/",
          "height": 337
        },
        "id": "X7Ms_ROZs-gH",
        "outputId": "e1c9d161-2c90-4a6c-b194-00f071f7b15f"
      },
      "execution_count": 32,
      "outputs": [
        {
          "output_type": "execute_result",
          "data": {
            "text/plain": [
              "                                                 App        Category  Rating  \\\n",
              "0     Photo Editor & Candy Camera & Grid & ScrapBook  ART_AND_DESIGN     4.1   \n",
              "1                                Coloring book moana  ART_AND_DESIGN     3.9   \n",
              "2  U Launcher Lite – FREE Live Cool Themes, Hide ...  ART_AND_DESIGN     4.7   \n",
              "3                              Sketch - Draw & Paint  ART_AND_DESIGN     4.5   \n",
              "4              Pixel Draw - Number Art Coloring Book  ART_AND_DESIGN     4.3   \n",
              "\n",
              "   Reviews  Size(in Mb)  Installs  Type  Price($) Content Rating  \\\n",
              "0      159         19.0     10000  Free       0.0       Everyone   \n",
              "1      967         14.0    500000  Free       0.0       Everyone   \n",
              "2    87510          8.7   5000000  Free       0.0       Everyone   \n",
              "3   215644         25.0  50000000  Free       0.0           Teen   \n",
              "4      967          2.8    100000  Free       0.0       Everyone   \n",
              "\n",
              "                      Genres Last Updated         Current Ver   Android Ver  \n",
              "0               Art & Design   2018-01-07               1.0.0  4.0.3 and up  \n",
              "1  Art & Design;Pretend Play   2018-01-15               2.0.0  4.0.3 and up  \n",
              "2               Art & Design   2018-08-01               1.2.4  4.0.3 and up  \n",
              "3               Art & Design   2018-06-08  Varies with device    4.2 and up  \n",
              "4    Art & Design;Creativity   2018-06-20                 1.1    4.4 and up  "
            ],
            "text/html": [
              "\n",
              "  <div id=\"df-b9a02642-5a1d-4bae-b731-6a7f9e84883e\">\n",
              "    <div class=\"colab-df-container\">\n",
              "      <div>\n",
              "<style scoped>\n",
              "    .dataframe tbody tr th:only-of-type {\n",
              "        vertical-align: middle;\n",
              "    }\n",
              "\n",
              "    .dataframe tbody tr th {\n",
              "        vertical-align: top;\n",
              "    }\n",
              "\n",
              "    .dataframe thead th {\n",
              "        text-align: right;\n",
              "    }\n",
              "</style>\n",
              "<table border=\"1\" class=\"dataframe\">\n",
              "  <thead>\n",
              "    <tr style=\"text-align: right;\">\n",
              "      <th></th>\n",
              "      <th>App</th>\n",
              "      <th>Category</th>\n",
              "      <th>Rating</th>\n",
              "      <th>Reviews</th>\n",
              "      <th>Size(in Mb)</th>\n",
              "      <th>Installs</th>\n",
              "      <th>Type</th>\n",
              "      <th>Price($)</th>\n",
              "      <th>Content Rating</th>\n",
              "      <th>Genres</th>\n",
              "      <th>Last Updated</th>\n",
              "      <th>Current Ver</th>\n",
              "      <th>Android Ver</th>\n",
              "    </tr>\n",
              "  </thead>\n",
              "  <tbody>\n",
              "    <tr>\n",
              "      <th>0</th>\n",
              "      <td>Photo Editor &amp; Candy Camera &amp; Grid &amp; ScrapBook</td>\n",
              "      <td>ART_AND_DESIGN</td>\n",
              "      <td>4.1</td>\n",
              "      <td>159</td>\n",
              "      <td>19.0</td>\n",
              "      <td>10000</td>\n",
              "      <td>Free</td>\n",
              "      <td>0.0</td>\n",
              "      <td>Everyone</td>\n",
              "      <td>Art &amp; Design</td>\n",
              "      <td>2018-01-07</td>\n",
              "      <td>1.0.0</td>\n",
              "      <td>4.0.3 and up</td>\n",
              "    </tr>\n",
              "    <tr>\n",
              "      <th>1</th>\n",
              "      <td>Coloring book moana</td>\n",
              "      <td>ART_AND_DESIGN</td>\n",
              "      <td>3.9</td>\n",
              "      <td>967</td>\n",
              "      <td>14.0</td>\n",
              "      <td>500000</td>\n",
              "      <td>Free</td>\n",
              "      <td>0.0</td>\n",
              "      <td>Everyone</td>\n",
              "      <td>Art &amp; Design;Pretend Play</td>\n",
              "      <td>2018-01-15</td>\n",
              "      <td>2.0.0</td>\n",
              "      <td>4.0.3 and up</td>\n",
              "    </tr>\n",
              "    <tr>\n",
              "      <th>2</th>\n",
              "      <td>U Launcher Lite – FREE Live Cool Themes, Hide ...</td>\n",
              "      <td>ART_AND_DESIGN</td>\n",
              "      <td>4.7</td>\n",
              "      <td>87510</td>\n",
              "      <td>8.7</td>\n",
              "      <td>5000000</td>\n",
              "      <td>Free</td>\n",
              "      <td>0.0</td>\n",
              "      <td>Everyone</td>\n",
              "      <td>Art &amp; Design</td>\n",
              "      <td>2018-08-01</td>\n",
              "      <td>1.2.4</td>\n",
              "      <td>4.0.3 and up</td>\n",
              "    </tr>\n",
              "    <tr>\n",
              "      <th>3</th>\n",
              "      <td>Sketch - Draw &amp; Paint</td>\n",
              "      <td>ART_AND_DESIGN</td>\n",
              "      <td>4.5</td>\n",
              "      <td>215644</td>\n",
              "      <td>25.0</td>\n",
              "      <td>50000000</td>\n",
              "      <td>Free</td>\n",
              "      <td>0.0</td>\n",
              "      <td>Teen</td>\n",
              "      <td>Art &amp; Design</td>\n",
              "      <td>2018-06-08</td>\n",
              "      <td>Varies with device</td>\n",
              "      <td>4.2 and up</td>\n",
              "    </tr>\n",
              "    <tr>\n",
              "      <th>4</th>\n",
              "      <td>Pixel Draw - Number Art Coloring Book</td>\n",
              "      <td>ART_AND_DESIGN</td>\n",
              "      <td>4.3</td>\n",
              "      <td>967</td>\n",
              "      <td>2.8</td>\n",
              "      <td>100000</td>\n",
              "      <td>Free</td>\n",
              "      <td>0.0</td>\n",
              "      <td>Everyone</td>\n",
              "      <td>Art &amp; Design;Creativity</td>\n",
              "      <td>2018-06-20</td>\n",
              "      <td>1.1</td>\n",
              "      <td>4.4 and up</td>\n",
              "    </tr>\n",
              "  </tbody>\n",
              "</table>\n",
              "</div>\n",
              "      <button class=\"colab-df-convert\" onclick=\"convertToInteractive('df-b9a02642-5a1d-4bae-b731-6a7f9e84883e')\"\n",
              "              title=\"Convert this dataframe to an interactive table.\"\n",
              "              style=\"display:none;\">\n",
              "        \n",
              "  <svg xmlns=\"http://www.w3.org/2000/svg\" height=\"24px\"viewBox=\"0 0 24 24\"\n",
              "       width=\"24px\">\n",
              "    <path d=\"M0 0h24v24H0V0z\" fill=\"none\"/>\n",
              "    <path d=\"M18.56 5.44l.94 2.06.94-2.06 2.06-.94-2.06-.94-.94-2.06-.94 2.06-2.06.94zm-11 1L8.5 8.5l.94-2.06 2.06-.94-2.06-.94L8.5 2.5l-.94 2.06-2.06.94zm10 10l.94 2.06.94-2.06 2.06-.94-2.06-.94-.94-2.06-.94 2.06-2.06.94z\"/><path d=\"M17.41 7.96l-1.37-1.37c-.4-.4-.92-.59-1.43-.59-.52 0-1.04.2-1.43.59L10.3 9.45l-7.72 7.72c-.78.78-.78 2.05 0 2.83L4 21.41c.39.39.9.59 1.41.59.51 0 1.02-.2 1.41-.59l7.78-7.78 2.81-2.81c.8-.78.8-2.07 0-2.86zM5.41 20L4 18.59l7.72-7.72 1.47 1.35L5.41 20z\"/>\n",
              "  </svg>\n",
              "      </button>\n",
              "      \n",
              "  <style>\n",
              "    .colab-df-container {\n",
              "      display:flex;\n",
              "      flex-wrap:wrap;\n",
              "      gap: 12px;\n",
              "    }\n",
              "\n",
              "    .colab-df-convert {\n",
              "      background-color: #E8F0FE;\n",
              "      border: none;\n",
              "      border-radius: 50%;\n",
              "      cursor: pointer;\n",
              "      display: none;\n",
              "      fill: #1967D2;\n",
              "      height: 32px;\n",
              "      padding: 0 0 0 0;\n",
              "      width: 32px;\n",
              "    }\n",
              "\n",
              "    .colab-df-convert:hover {\n",
              "      background-color: #E2EBFA;\n",
              "      box-shadow: 0px 1px 2px rgba(60, 64, 67, 0.3), 0px 1px 3px 1px rgba(60, 64, 67, 0.15);\n",
              "      fill: #174EA6;\n",
              "    }\n",
              "\n",
              "    [theme=dark] .colab-df-convert {\n",
              "      background-color: #3B4455;\n",
              "      fill: #D2E3FC;\n",
              "    }\n",
              "\n",
              "    [theme=dark] .colab-df-convert:hover {\n",
              "      background-color: #434B5C;\n",
              "      box-shadow: 0px 1px 3px 1px rgba(0, 0, 0, 0.15);\n",
              "      filter: drop-shadow(0px 1px 2px rgba(0, 0, 0, 0.3));\n",
              "      fill: #FFFFFF;\n",
              "    }\n",
              "  </style>\n",
              "\n",
              "      <script>\n",
              "        const buttonEl =\n",
              "          document.querySelector('#df-b9a02642-5a1d-4bae-b731-6a7f9e84883e button.colab-df-convert');\n",
              "        buttonEl.style.display =\n",
              "          google.colab.kernel.accessAllowed ? 'block' : 'none';\n",
              "\n",
              "        async function convertToInteractive(key) {\n",
              "          const element = document.querySelector('#df-b9a02642-5a1d-4bae-b731-6a7f9e84883e');\n",
              "          const dataTable =\n",
              "            await google.colab.kernel.invokeFunction('convertToInteractive',\n",
              "                                                     [key], {});\n",
              "          if (!dataTable) return;\n",
              "\n",
              "          const docLinkHtml = 'Like what you see? Visit the ' +\n",
              "            '<a target=\"_blank\" href=https://colab.research.google.com/notebooks/data_table.ipynb>data table notebook</a>'\n",
              "            + ' to learn more about interactive tables.';\n",
              "          element.innerHTML = '';\n",
              "          dataTable['output_type'] = 'display_data';\n",
              "          await google.colab.output.renderOutput(dataTable, element);\n",
              "          const docLink = document.createElement('div');\n",
              "          docLink.innerHTML = docLinkHtml;\n",
              "          element.appendChild(docLink);\n",
              "        }\n",
              "      </script>\n",
              "    </div>\n",
              "  </div>\n",
              "  "
            ]
          },
          "metadata": {},
          "execution_count": 32
        }
      ]
    },
    {
      "cell_type": "code",
      "source": [
        "# Here we can see that the datatype of our columns have changed to 'float64','int64' and 'datetime' from 'object' as we desired\n",
        "play_df.info()"
      ],
      "metadata": {
        "colab": {
          "base_uri": "https://localhost:8080/"
        },
        "id": "b0MTtxAMs-io",
        "outputId": "b8f36b3f-ecb2-4e5f-ef12-20758fc65e2b"
      },
      "execution_count": 33,
      "outputs": [
        {
          "output_type": "stream",
          "name": "stdout",
          "text": [
            "<class 'pandas.core.frame.DataFrame'>\n",
            "Int64Index: 10356 entries, 0 to 10840\n",
            "Data columns (total 13 columns):\n",
            " #   Column          Non-Null Count  Dtype         \n",
            "---  ------          --------------  -----         \n",
            " 0   App             10356 non-null  object        \n",
            " 1   Category        10356 non-null  object        \n",
            " 2   Rating          8892 non-null   float64       \n",
            " 3   Reviews         10356 non-null  int64         \n",
            " 4   Size(in Mb)     8831 non-null   float64       \n",
            " 5   Installs        10356 non-null  int64         \n",
            " 6   Type            10356 non-null  object        \n",
            " 7   Price($)        10356 non-null  float64       \n",
            " 8   Content Rating  10356 non-null  object        \n",
            " 9   Genres          10356 non-null  object        \n",
            " 10  Last Updated    10356 non-null  datetime64[ns]\n",
            " 11  Current Ver     10348 non-null  object        \n",
            " 12  Android Ver     10354 non-null  object        \n",
            "dtypes: datetime64[ns](1), float64(3), int64(2), object(7)\n",
            "memory usage: 1.1+ MB\n"
          ]
        }
      ]
    },
    {
      "cell_type": "markdown",
      "source": [
        "### **The 2nd part of our analysis ends here which was Data Cleaning.**\n",
        "### **Our Data is now good enough to draw some insights from it , so let's move ahead in our journey.**"
      ],
      "metadata": {
        "id": "uqpA5kaKP47o"
      }
    },
    {
      "cell_type": "markdown",
      "source": [
        "\n",
        "\n",
        "---\n",
        "\n",
        "\n",
        "# **Part 3 : Data Visualization**\n",
        "\n",
        "\n",
        "\n",
        "\n",
        "\n",
        "\n",
        "\n",
        "![shutterstock_488322949.jpg](data:image/jpeg;base64,/9j/4AAQSkZJRgABAQAAAQABAAD/2wCEAAMDAwMDAwQEBAQFBQUFBQcHBgYHBwsICQgJCAsRCwwLCwwLEQ8SDw4PEg8bFRMTFRsfGhkaHyYiIiYwLTA+PlQBAwMDAwMDBAQEBAUFBQUFBwcGBgcHCwgJCAkICxELDAsLDAsRDxIPDg8SDxsVExMVGx8aGRofJiIiJjAtMD4+VP/CABEIAmgD6AMBIgACEQEDEQH/xAAdAAEAAQUBAQEAAAAAAAAAAAAABAIDBQYHAQgJ/9oACAEBAAAAAP1TAAAAAAAAAAAAAAAAAAAAAAAAAAAAAAAAAAAAAAAAAAAAAAAAAAAAAAAAAAAAAAAAAAAAAAAAAAAAAAAAAAAAAAAAAAAAAAAAAAAAAAAAAAAAAAAAAAAAAAAAAAAAAAAAAAAAAAAAAAAAPPQAAAAAAAAAAAAADwRrl4898YWVkQAAeD5u4N9U9h9AAAAAAAAAAAAABo9u5Cy+VydFftFzU9uwmYugAFv5I+QOPYPYut3bP0T90yQAAAAAAAAAAAAAAA1jZ8Z7kgAHNfyt5tNj27G1dVixt5/SjPAAAAAAAAAAAAAAADV8dC6MAA5B+SdqixZt2Oi73kKdS6l+m1QAAAAAAAAAAAAAADzQp0PZcuADA/jZiLFuxZt2uvbL2HFcp1r9BPpEAAAAAAAAAAAAAHj0DRZmE6FXY1TIbMA/O75GqsW7Fm3f7LNiRo3efvvKAAAAAAAAAAAAAGt4323d3G3cppuNE0eruXugYSJ0/Lgxv4mX4tOYxmEt5LttmF5um9/oRUAAAAAAAAAAAAAUVPQDkVUbpeZ5lBidVyIPnj8v7lrsd6Pwa3tvT8VuO63aPufbgAAAAAAAAAAAAC3AsWIkjYyNfo0XmOY7r7rPzpkfp/0Hxb8IU2rNqPao6T0rf7tumj7J6YAAAAAAAAAAAAAa3cm+T6a+Pch2T6e94dzp9RZTgOj+fQe6A+Jvhq1asW7FnsXdKqPLdNH2r0AAAAAAAAAAAAAAA8+YMT59UzeB6Nf+qrvP/nLN/WFQPlH87rdqxbs9w7NRTR5bpp/QHJgAAAAAAAAAAAAADlXzn1H6Qc4+S95+wfeUfKs37kyANJ/HPy1Yp771FRTR5bp3v7XAAAAAAAAAAAAAAHnynyyX91SvkbnNv7i2L5g4979tbKDz8teE2PPojoNDNZKzqFun6460AAAAAAAAAAAAAKVMO3lHylyvbftKrkPyT0z7H91X8/ei/c3oHOPyZx/0XulNDPxatft9O+wKgAAAAAAAAAAADz0pqata03lfTux08M+Oe1fafvzt8jZ/9GJfyj81P0K3kBxf5QzXlNCimjzcvs2aAAAAAAAAAAAUK2NyTDZkt3Hj4N5fsH6Q+/AfObv6YTfiviOT/R7JcD+ONp/Ra4AYD5Y0emhRTT2b6evAAAAAAAAAFNSir3ymtYvqLMljMmxWU81XNZI8+HeP9k+3vfnz4u+iPsxy/wDOHu/3t7y78x94/Uy6APOWcj0yLnN/7NtgAAAAAAAHnqir3yxIWL6zeKK1u4px2TYnLMVlNB1jo+fHyv8AEn1D9w+/GHyHvX6m1/BPzXc/WHZvhT5fq/UrfwAPD0AAAAAAAA8xGFlbQWrqitSqUVqanmCykKNn2r1aNZ3zajz8sNE2L9Z/fzp4XvP6nXPk34k7D+lfvKPjrrX2D6AAAAAAAAAABRiYEzOFFait49RZSLJ9jc6yFOB2CrCz8BG3Tezz5J+fvqX6T85Py3sXScZYuZXzTNwug/PrYPuT0AAAAAAAAADy1q8jZiPIRJahWjSVm9RpWk4CdXtGV1g1ns+yqNQ2+r2zy7q3qPzjp5E0XoVYPx4xP7N1AAAAAAAAAAUxtXn7H75GlI0lSqUVrdWoa9znYYGI2LM4uViJXS9uYHHbbUw2C2PJsVgM9lkDGz8kHn47YP7o+uPi59regAAAAAAAAFDVfNuKK1Fbz0orpxOE1TB4Tb9Yw8vF5dsszdNya5G2i48or9AD5c55td/6z/HfA9i/RX876P04lgBRrmzAAAAAAAPI2p5bP+qK1FZYvo1/SdGxOF17cfdnxmWa1lcg3bcAAAD889C0PWP2V/I3Bdk/Qr8+7f6XZIAecH65nQAAAAAAFPus3NhqRpKPf98iy0bDc91LIY/L4Dc2JyzAycq3PcwAAHw78t7/AM8179Pvzjw3YtH03tv6R5oAY61lgAAAAAADxql3ZK0Kaj3/AFbuMVo3E9hzWZYnLMVlTTNzbVvkbHZqPgdmAHnxbgPuv8quX9k5zhOpc3dj5XiO4fonsgBa1zaLV0AAAAAABR7gGerW7iist0anr+iQsxm6mJyzE5ZicZjd32Po2lZDHY7d8iAPPyc5v+pX5/c47PzDGdc5X72XkWN7r+hWzlMXH5v2jVds1uxtgAAAAAAChoOa2Ov2JK9iSvWsc8wOLy+bp9usRlvMTlqdUxOWwXQtrtYzOZmBulR6B+SvP+labiu08qh9Z5NI7PxmH3j772+3qGs2ab2843c8by3eNtAAAAAAAeMTblzUOYgzqsTzm1hdU6F5btX2IyrXoU3F1YPL+9d1fE7IyvRfT30+NYX2n+Smk9a5tC7NyWH1TlGR6Vy6H137d2/B23lNnTtXwOx9R3zbgAAAAAB4eRr/ADbLbLPQpqDdw3NrvmgbtLUxpPmJyvmhZuJAwMy3tG0Q5USdK6z7VU8+FNB5Lqv6y/mRqfTeaWer8q86ZocrofM/OofRWx5nYpyJhtW+GH0R9Qb5t4AAAAAB5SI0nGRoOckwpnup4TTMtFwe0xJXiFK81PZ8XqsjyziM5RC2nYkTC73uVu3at2/z3wnNsZ0jQ7fTeZ3Ovcnn9O5tP6VyK31D6B2VXlcjXmecfD3v0H9Ob5t4AAAAAHntB5REkc/vUT9qhS9d1DEY/O873+uLKp8hyfNGnRMVOpxdybTf2Px77l9wuV1Vfmry7snKbHVOXS+s8lk9k5RK6Ny6f03kN7p3cNlVYuTsOb0j4m9+gvpXfNvAAAAADxS8pop8iScdG1nJa1uWM0bn+d2z3Rd5piX6LeOhtayN/AS4d2xFt6pm6auk5XN7tfu3q/x/idx41V1jkeS67yuf0/lV/pXKJ/T+Oz+td3zGMxOWx2vb3rPyR73/AOkN6272rz0AAAACgot+U+UQpHNLm4atP5tm9MzWEXL+apiSKGsZPH4arG3clByOt6lO3HV5vSuW9Q3Pd7934Ex3CJXeOFTuucXznXOVS+oclk9O5JP6lxrI9c7tlI975N5d7914P5U97t9Gb3twrAAAAHinym1Hjx49izDkRYcvH6Zgda2quFnJsOV5GlLOo++4+3PxmK2OjmkyJ8jRat9+6cX0ndr+N/ObYuHZj6A+ecz2XhOz9X5BP6fzLzreDvdLrk7TIzUl8icr9+5sF8se9p710TeKhV6AAAAo1PV4Nmz5Xcv3b1qZo0jYcDah3yNK9jykbE0x4+GkL+Rot3cDz3bPiO5mdVp+pfpfN7xjfyOy/wBDfPG0/QfzXsPcOaZLq+Pq367NzNmTJoxFrhWtbh9I/JvLX3Rr3y47R3TdNuly6ir08egAAeYH5i2+Xdru1XJeQuWbtOPxmHpjSHsedf8AJ3uAyVdzW/JOHmqbDS9a+dtR+lJWhaHv/wBh53d8d+Te5fS3O8/3WFO6NqtufZrvCmnBU5rWfhWrsH1d8r80fdOt/LHvZu47ttVHkmbWq9PD0AAKKfnrXtur999uV569Go1jDZWhTeuXa7GKuXb/AJpexXMTlaafKbdFOkax8+c73PF4C59K9n7fnPeX7FtUe5nFzG65b8oteUW6MBayGtZSF8SVdb+ovmTnT7c1z5f97J2/dtqtWbFMzJXvR4egAHlLG/K+0Zf0rqv5pbgQq7NNvFQ8tTGgZzJYXA5uBj9mqUU+XKq9a57y7mmie+9R6X9e5nNyPJNjBxpOQxtim3RRapt4Cxl+G/Lfv1pu/wAb19V+lPm7n77O1/5l97H2zdtrsWI9iNTkc9X6AAA8pNE+aemX6qblVd7L02bFixRrV2XYa889nZe9ck37965cqppot8vz3y29yUz6W3udlb96nUFVVPvlNq3TBxNM7XNj4T831/U25fJNXTvoT580T36+wPzf713tG87VYjxo8WPGozW1VAAAKfI/MOMwel1Pa6qr+Xj2aYmtyNUx82JsE+Ux2EgWrmX2fc5XlHinzB6nuPFta3jqV7aZM+RewOKq8qe002sLEu5P4O0zZvuzinz9X9J7b8tVdG7twfS31hgvnr3rHYt52q3YhxIsaNGsUbHudYAAPKOU8/weu7PuPvntz32ZlbVqJgdYzUr33Iaby7nmHgw4cW37c6B2Pveep8eQNK8892Hcrl2VIal5V7VR7ExVrKw4mU+CcZsv2jx7h1f0DsvzZVv/AGriOpPqDCcEdY7Bumx027MSBBjxLFi22feLwAAec853g8Fq3UcvUuVqshk6LMeNYplvn7nsCDBgw4cW2Er6n+mKaaLGr5q7XVPlV3r2Jxj321hqpeR5T8eYr6h738U4/YPrTlHHK+47B8+1bx1zk+HyXfrOl53dtoyMu3Rbt24OIx9mNboNp3yQAALPJNT1/C6h2mVXcqVMvkKLFFNHnNOGQoEGDBhw4saxGiQYnTvunT9P0fQ8T9hdVuSZV+PEk4+qNjar+A0rVvo/lPyte+iex/I8POfS/NOXZDsGf5rk9t3fBUTNxrizclMuKaaKKfI+Bw8e3Q8No6DIAAMRyPXtcweH7LXc999e52VRat2vOLcshQIMGDDh4zFwrFmz1TLzKqIOPg9r+s67t2rBVYtVMykSd8X6NK+9+efPF3ufUeDyc/1nD4a9skrDycjPpuyZd25duVeW7dqPHiw41mPat0+eeU4jnPfuqgAPNH51gde03Y+iXD3x7sN2zaoo4ryK5CgwYMOHFt0wHUMG8kSLUCD1D7NuV3dYgV5uRjfjnB9T+qfnyBnvonFapktlyuoJOwRYtyZctV111+vVVR55Rbs2rEezZi69qmJswMNiqNo+wNuAAPOVahgNe5/2HOPFFPtzYPLdq3xblmKsW7EGHDi2xtUO6PcPznv/AN1XK4uL51zerv8AsnLM5uG8axDbjCwnuUm4yu5Ip8sx40ezboXL9+9duV1PKcfgcDDj4rC425Li4WEyvXfobIAABj+Ta7ruE0Hu1zzyminy/sHli3qXz9gsXicfY8otU+U2oPcPoHlPMce0rRPtX6trropsVSctXiJM6fhaL2YtR/fY0KLDhw4kev2u9cu3716/RjcdYvIkNfqxeExmOxmOhW7+wdx7vK9AAB5qHOsDrmC1Xt1FNNHimZnrdrF6tyLnmIxOOtU0U21un6B+rKovM+TcV7H9hbAu1+V3L12uuutajx48SDAi0WrVFKl77Th8DAnT1EnLZOuFEjxYGOx8CHFtLsmVOy+e37r+RAAAtc407A67oOxdGot00++MpmaImJjYHnugaVgIdFNzObj0zve4R7dq1DmZuYuV1KfKbdu3ZtWqKLNi1Zs0UUa9rOvJaJVmc7PhwvfaLdqzbt0ee13Ll29fkyZcqVLlSMl0vNgAA8x3L9dwGA4/3XLWqfHr3O5TyPAix7VNMeiRPlypmbyyzYsWfLlmzbooV1+VeqaLdNGJ1vXINyjHxMhmclBw0W3HtRrXi5fkTZk2bMlypMmRev3bl29drrquVL3UqgAANW51g9ewnFvpT23T777VVs+RLMaNbVV135F2/IpjxY0SzT6VVV+3PK42DwkC9ciwb+Rnx8Hio8GHAhRI9tckzsjkclkslkshOnSpEi9cuV1V++qvVVz25Iy+y1AAAU890/B69qeh/QVmhVVVVe2+b77XTZt26PPKVNu1as0UUW6arOCwuNmTfI1/LZSvF4mNEgQMbAgxo9tflTJ2QyORyOSyOQnTJV+Tdu3blftXvrz27ekSpkuVfe+gAAC1yrX8Hr3LMx1iy9rV1SctTR5cuXLlRTRTasxsBruD9kotzM5fIQMZHojRYcKHEj2aV6RJlTJ86fPmzZkuVJkX7127cuV11VVVV35EmVLl1KgAAAAMDzXDYbXvnf6F2G299quV3Ll25cquXfMPg8P5epx9vI5GbAw8K3GiR4kexZp9rv35UqXMmzJ0yZKlSJF69eu3q7ldddyuqu9IkSpUuX69AAAAAAeaLpmIwWu/NX1jJoe+1XLWCw0CdkJFirJ5SXBxMCxAgwYEKNGt01X5UyZMnz5s+dNlypN+/du3btz1XVVXVcu3pEqVMlSnvoAAAAAAAp5bgMRgMDxNIryWSlWpmw53JxMfFWbEWFBixY1m2uSJMyZOnZCdOmzJcqRIvXblddddXvlVVdy9JlS5kmWegAAAAAAAAxXMsTiMBicpMx+LxUT23ZtWLFFugqvXr1+TJly5kuZMlSpN+RevXbtyququ769rvSJUuXKknoAAAAAAAAAHmnaTi8TgcBg8dEi2bfldy/KkypcuXMly5ciVIkXr1+7dvV1V111VVV3Ll6TJlTJEjz30AAAAAAAAAAA85rgcbi8PiMRj465flS5sybLlSpF+9evXLlddVVVXvtdVy9IkypUuXWqAAAAAAAAAAAABB5rAg4+LFseXL0iTfv3r1+5drrrqqVVe13Lt+RMmyJnp6AAAAAAAAAAAAADzWtRj2bFHntddy7XXXVVXVVVVcvSJMqXKk+vQAAAAAAAAAAAAAADzSMZbo88Ve11V1VXb8mTKmSL730AAAAAAAAAAAAAAAAKdPgeUUVXL8qTKmy7vlQAAAAAAAAAAAAAAAAACmPC8vybyoAAAAAAAAAAAAAAAAAAAAAAAAAAAAAAAAAAAAAAAAAAAAAAAAAAAAAAAAAAAAAAAAAAAAAAAAAAAAAAAAAAAAAAAAAAAAAAAAAAAAAAAAAAAAAAAAAAAAAAAP//EABwBAQACAwEBAQAAAAAAAAAAAAACAwEEBQYHCP/aAAgBAhAAAAAAAAAAAAAAAAAAAAAAAAAAAAAAAAAAAAAAAAASiTxEAbW7yAAAAAAANlCstxSB0vZ+hl63xvyCsAAAAAAAOjVpg6n0nq2W9C7xPyQAAAAAAL8wgdSjX3+XFn6P6dfudbnfMvCgAAAAABOWac57eprd/wAzFufVNivpZbXkPloAAAAAAXQx0/ReJ9bz9D1Xiq299W2532Tl4r5kAAAAAAA6nrfn/ueVzfc/OKkvq/W2Lta7Y+ReaAAAAAAC/oaW77T5p77j8r6P8sqO/wDVNnNF3l/lYAAAADLEozQvofU/Ja3u/lH0jgcX6l8ewO59C7Oj4/xEQAAAzPEJIyjlieWd27jvr3jKPo3xb6v5zhfRPlFQAAAABm6FecxlGTHU6FNWxocy30HGzbqwhs6h9F+dAAAAAZujVLGM4lnf7lE6aqeNu6ebaLq09rqcT6ryfW/D6wnAAAAZujVJGUbep0M619tOpwwB7n6b8/63W7n561hLa0wAABmzNMkZWdHtayE87nJ5V1vKDsdv0nrruB1tr8/6cpV351wAABm1VljPc3qksbcWPP6mIsY6e59q4XUu4W/d8Tu3EY0cYAABnObZ0p7W/wBLVxK1GmmvmYRxH7fzeL7DkbVmjtZ+e0Tn7Hd+ZcYAACWczslt6/d1unp5Xzny8XXa+roqu19d4fZo5mzPR2ZfPKLJe03vlnGAADMsynbbdDt171euzdr0Sl3a5c/la/q/b2cbo62lbnnxr83r/SONsbnzHigADOZyst2Nna3ZoQhfXyZSs3OxtUw8hP6Fu6PFxXo00Qlb77y3s+I2/m/HjgABNOd1+zt7d1so69PIhic7d/0W1bz/ACOtKDX2ZZzZt+k4f0rw3peLPZ+ecjOIYABNKd9+zs7G9Xr1ak+hbp8uU59udnO41eNzCKfU7XH+j/P/AG3ke/yJ3+B5Us4hDAAynm266/YsjPp/QfT7+7ZreK+TaNm/boaVV9mJR7exb6rwPuvGet831+VGPkdHMsYhCIAZnKd1t911n0r0u7u7mrpfO/hnl+J1/s1eJZjj1vL6s+F2/I+i870uXnVppoGMRjDAAZnOd2xsbN/0D1G/u7tml+evztmHb+zY397i+s8rvcmqrUu07YSyYjjGMYjHEQAJzndfsbez3/bd3enKHmvzP5vgex91jMddryprjFmWZMmGMI4xgADOZytuvv2Nve7fXvr5vkvM0wtsxGMIxjEwJGQwwYAAEpynbZZZO2eK9fWpxEwxjEcAAywAAADMpZlLOSOIYxjDAwAAAAAAAznLOBjGAAAAAAAAADLAAAAAAAAAAAAAAAAAAAAAAAAAAAAAAAAAAAAAAAAAAAAAAAAAAAAAAAAAAAAAAAAAAAAAAD//xAAcAQEAAgMBAQEAAAAAAAAAAAAAAQIDBAUGBwj/2gAIAQMQAAAAAAAAAAAAAAAAAAAAAAAAAAAAAAAAAAAAAAAAFbFZkAamh2gAAAAAAMC9jHOUDn+S4er4r2H2TIAAAAAAAGnfZBzfA8ivP5ep7j7AAAAAAAGGL3Oflz6e/ZHgfO0xcPk7X1f3QAAAAAAUiMsOTs5+P3panzfXnQ4e5PrPpgAAAAAAY5tocX1Pndzc896m7T+aauHBgU9j9HAAAAAAAaPnvXeX39zzHscivzTl6mDPj1/q3ogAAAAAAw6e1rea9t5Lo9DxfvMhxPmerXLj9L9NAAAAAAIw53g/QZvKfQPE9fqfP/pcji+D5G16/wBnIAAAIkARiyxyqdp8z9Tm8L9W+cd3seH+j5AAAAABEgEcrQtl0+10MfF6kY9i99fZPmf0wAAAABCQKczl3zpydvU2ox5sV5pqcju/Iur5H71lClwAAAhIMXL17YcFbbnoAB4L5B9Q43n+J+ldsRq7YAAAQkMHN1NaYmjc7uOu4HF4XlvDYvTcHU/Se9WL4WYAAAIBk8/rYCKWyZu3lmZmeVpfBfR8OnpOXrffWqmdnpgAAIhESx6ehpIiK7V81+nYvb4H0u74Tu86/X0H0/arTymn9F6YAAIiIit9SvKtpIUmm+x61t3pM3E+J+i87udvTyb+nP0vax18pqfRumAAFYrXHix4svMpq0lFs9604G7kv0tjzPzzF3+L1uhr26TY9TseA61db33VAAFYrjxYNfW1uZEXve+TfjFi0uZs2v3afP8Ak9Pv039/Ns3rj8T6Xy/XnB7fpzYhIBRjxYNbS1dTVpGTczdTIrjwc7j567Xb2JyZNjXK01vP9nwvrON05w+w6cTawAKRXDh1dPS1dbPny7MaWLd6VMWLjbUZutlyYbSRzeV1fD+x833+bvxT1fSrRkySAKxGPDg19XWxZMeh4rzPL52Pa9p9U3KaOt0d/PReHKw14HrvMd/jdTS3Jt6Pcoi972kAisY8WHBr6uHF4jz3O5mhsbn2L9P+99v5H8YZL2tlyec39KOrzO9xetob1drYzZphOS82mQCsRiw4NfU1NfzXlOVzedj3f2B+28UeH/E2THr9Tg+h1ele21j2sU0qm15mZvabTIAVrTDg1tTR1Of5XyvFXy+t/XP1L6R8O/P1rX2Z2oz3mSIrWCZmZmZmQAViuPDg1dXU1tTicTFsdX1vqdjPp685L3va0zMoRAiQlYAArFcePFhw4qYqWzbO1mm0rTMpmZAIQkSAACqK1pWtZmb2tMzIlIAAAAAAiCEBMykAAAAAAAACEgAAAAAAAAAAAAAAAAAAAAAAAAAAAAAAAAAAAAAAAAAAAAAAAAAAAAAAAAAAAAAAAAAAAAAH/8QAPBAAAQQCAQMCAgYJBAICAwAAAQIDBAUABhEHEjEQExQhCBUgIjJBFiQwMzQ1QFBgIyVCURcmYZBDRVL/2gAIAQEAAQgA/wDumW422OVm3qW3FoXCsa6c4tMf7TsqOyCVnbdUaHK6rYKW3edahf0fOdw54znPpIdQL3Tq2hjUeu/Sk6oUjiU3XTzr9076gOohRv8AFbCLNdnS3Yq6eZNblfGt64hDLjaRpbS4MeHJVqcF6MyyYMB6tjCPESiyAIwRp7p+8uI+AAUV3d81uVsRRxNTWp+arqLDs58ekaZjsMJ4b2WBISiPaQIE6NYQWJUb9vNmRIEd2RK6g/TD0TW1PRNa2r6VfWbZFrRHsr3f79Rds/q+x57jT7Pv+tPtP0+x9WNi6qTa1++jp7YyMkx2JI7XulnX641JbNXsVNc1N/Xs2Nb/AI/Uk12zWkSTl9Zmqr1rZo6xNRWR4g/bdVOsGpdJ6cSrTqh1n3bqrMP1q1UngLloLcccR1kk8k4rzmrsnl5zFJCEBOL84vOnvUvYOm9qJUDUNypd0oI1vU/49uobYqEym1XO3L/DFl2StmrF3f7brP1gp+kuu++vZdj2HeNgk21uxHagfNKycOKw4rzmqxuERklzxkLW7+2mLiQv0UvnER1hwccjOj3UyT052dC3mXmpDKHWv8dmSDcX7i/SwgtWUN2K5rFrJtqGDLf/AGm37ZUaXrdje2m/7vd9Rdqm31o2wIDSkA4rDisOBBccCBrjIAdXiXlR3W3kvv29pfW6moNnVomz69OyxoMO3kMQl+c+jHva7/UX6GV/juwRRS3CLNBbcHmyT9YvsUzbT8FlKWwqyg9valy0hMNOPvfp9VLSlbNXu0GfPZgufsPpedRl2l/F0yFXteygy1L8YcVhxWHICO+YjKRr2q5CscxwBR+axntrc+6jox0y0jdJ627+g1uh1aEmFT/4jOf2Vue8iM65s7sRQU87sBnulpurtZSJiJkeheEwPyRJeSkEJcmE8hbtjiW7FI7ituYfkfhX0j5mEoDle9qjqgopmzrdEo8rYYgavNatojAYU2lbWbtPE15ijb8nkzYplxyhOsXYu6luSv7WwXMTXqGytpVvZ2GzXkyylyCgKCG1+MbYffLntJ1LZ3EVzgsKS0rG1rmKw5VNkrWQ20GGGmg5jq0o8sMPTHQ2zX6wpICpVDKTrtlDnRIz7clht5v/ABH4OKVFWJbQj8P7Kx99O1W6ZmTJSIUZx9eqVL9NQQIUjNrr11F2myGTH32m0ojUdSxTVceE19r6VV8uo6Rz2EVqeHHn8Vi/GaFGqE6ds4F81uGj00WXYbnGqrSisJcpWHNahqVPitrlzI8X96y9YWr3tQa3S+OHLCPFjRG/bYOfnnTWWqx0ijeX/iLtnWMKWh5V/TNhRI2WoUpKUDcqRKXlFG6Rn4634tVsT1rK9tv0dkMsjlxqxrngS2bKCkcJbnx1Kzfwwmp+uEL3RjkhvUraPsG0RGZnpvs+uhavY/GJsdkKEhyhvZFLsEGxsgQRyPtfTRlrboNTiZFHZXqOKxfjO5SeeF/NXJUB8jis7e8hOVUe/uJhci1PT9lrh2zjxo8RoNMH0OHOjqirQ4AP+IzNdgT5j0h0UMRKEpCasFaHiipbYcUpkRXm0hOfCuHyqC14PU2yjtoYo431ZXc8nVLhjUrtqXg4Pp1LvfjrFqlZzvksusyIuuXrOwUUKxazqRZyZuyogLxQSQQrpuqyOoV/xn2vpsJKq/S3A1/L44xWL8YcVhxWaL06MsN2dyywzGaS0yr0Poc/POksYMaFUlX+MbGzPjbRctz89iRLW1EjU0BNRVQoCc6i0Bprz6yZyFXybmwi1kWDBjVsKPEjZ1L1tdpWosYZ2CiCQc1dmv3K9jVLCUpQkJT9r6YdOqZ05rrBLJ7q5nFYvxhxWH58AaN07DHtWdz6K9D6HOFKPCddrxUUNbA/xnq/DhNUbV0pW0L/AOHR+ZCttklrl+nVu3g1mnTI76pdov8AF002hOt7Wy5P9Or+1GloU1kVICAAmusp1PYxLKFr15B2Kmh2cT7XVbU/006ebDRtwipUaS0pWL8YcCFurShGkdP26gN2Np6q9D6HOmlCb/ca9pX+M9WtoF5sP1bHyus5lJYRbKFT2bFvUwp7OdV7OfP3WVHk477ftL9zS2rmPqtUzcZ1opJ8PYmLdeJQ66tDTOk601quvRK4fb+kHoR0Dqc/KadQptakKX4xiO/LkNsMaXozGvoTMmH1oqlu0dfL8CrpZVaxLdtqdpEV1+EfQ50e1RVHQGwk/wCJdye7twvNJWlBFhBWhag9stI2W0iFsFNNkJZY9OrOpfo9fmxj5pGsHbdjjwFpSEJCRnWXURZUou4xuqoeOklZX7btiFK9OorFG9ptuLcX08pGdJdggNb7WG5/YdXumld1Q02VSvXFTaU06XW2sOBLs5TUWJqOmxNZY91eH1pNkmUnCG3LVgVrsdgbA+mM9HSfTplo69qthJlABIAH+FuOttdvf6x3xIaDg9JVDWv2bkxUDWa+G8h1G4y9Z0KpcnWCOudBEirjROl2+1+5ie1FUielIxMWV+JXXm9i1WqIqyqRMV+LoZuidd2VdXM9PpBbp8HWs6zE5JzVtjm6lfwriJT28C5qoljBz6Qe4Kfmx9XjYRz8s6XbFabJpFXPsf2HWXopUdSoiZ0em0lrSg9Fd9D9hXoc0rR7Lcp/Y3U1MCirmIMH/AlOISpKT6SXixHddyFJ+MiMSPWHJkKt7JhXpegBqEfsVR/U+37PVrchuG2PGPmrbLN1C/h3MRh332G3PTqxY29hv9x9ZYxHkS32o0alZsY1RBYsc676vOqNwXbrylp52wW8Kqg67RwNapINXDzr7ov1rUo2OHml6u/ueywqhqHEjV8ViNH/AGOy6fTbRE7J226Fdao8pTuH7CsSlS1BKdO6QWdspuXdV1dApoTUSH/efdb932vWZIVGjrdT615Upcrn0kt8TYPPpMT3R3k5rpCqCrI9IQ7NkskeuyJCK5pfo/IZjNFx6btqUAohaw65IqEOL+x1m0f9EdmMuLnRTTf0l2lM+T6fSD0xmXSp2hlVtXpz6OdNVX+wzrhz063OUMfpxbrtzfyvy+jttVZH30xrP06yb21oemS5LRW4QAenO7S9A2yFcNV0+JZQI8yJ+ycabeQptzYekGv2qlvQLXpDuMAqLMnU9nhqIfRQ3jh4RB6d7rYFIaqOh1m92rttc0TWtZ4VB/uKXEqWtA9JUhTJZCfWsVzCbKvQN8WqAfS1R/tslR9a/gOzk+s48Sq9XqodySM1lwnXqseoJRs8v12jtTTuZyACTsdkZbqWUZqiiadA+z9J/dY0Koha0wqXLV5+jR1EFTcPatP9PpO7978mPp8LOnG7S9A2uHcNV86HYQY02Ln0ld2kXO1I1xrGX3Yzrb7WjWtvdafSz7fPpSxdgRtlY/KxCVrWlCOlesTtO0OnqJv+BsISJ8riZs1HXyVxXnuoWuNR3XxW7LT7LFaer/WrWlMJI9XDxbsetogCslgJPKQfWEO2ZYD1sPk5BP2NbdQ1r0BS3LuAgcJc2BJ4CWHUPbEVoU+wlfYruHHObZZREUkviZbOvoW0l9z3Xlr9NLksyat4NfY6nSdgl79fuX2alSW2xbNV1lUwhxtltC86/wCjS9U3eRYjOnOlyN926BTIhRI9fEZixs+k7pEOXFh7FD9xseeiehfp5uTCZAAA4GdStdZ6l1c3WYjH0durDvHf0s+j3f0O2RLfZf8ABG1ATpIy21erspSJjkXS6KC+HW1UVTUNKfhetUCGHR6vJCbSGR6T/nBlDGDyy36x1q+Nm+s38cX1lTWooAXTSnpFRFC8WtLae5Tdy4xsKEt893zzuVxxmw/yOfkx4IaV6TZjVfDflvdLIq4WqoS/9jrroU3fXhf6xH6JdVpPHb0E6RWekrn3GwY681HZW65tmmo6tUrzE2P9FHXEfxHTvpVrXTVM01mW9u1UsN8VVGlpuTJs4+pazF/cMx2Y44aWtLaVLWra2tjX9WUFZXRKqE1Gj/a2r6UfUyJYTI9f0z+lbeu2DUDcweR/fh/MXMsJ8OtjKkSnt81Zlp54xdkpthrnnIHrBVwJA9X1EToh9Zg5jPDIZ5jMn1itkz5Y9Z6AlMc+kqS3EaUsuvuPvFxce1bq6N101V9Y1zaYl1e3n1ShlS3OPryKRCk9vDS1KCRydjnBVNYoaC1OBK1ZN/3m3RXjSjzDlj1ly4sGM5Iku2f6XrVDq48diKw2wzwPSzmNVsCVKXrl6/1BmvtTvWyRKdr5SYeg6/sNbLnzbz1tXatmEtux1yp03UHpS4sOdDms+9G+1sv3L63TlWeLOEcaPLaT/fisCyUTc0cW7rXIMmBoGvV3cGXNdo6lMuXB9Yf45Q9ZDZ+Mg8+jw5aWMgfODF9WSBaS/W1P6s2QpaUJKlT5qpbpUZE//i0f1mPHrstobs+CtlquiyZrsqbZQZZgWdfAnQ7utsJKmI63XHeO62HdVTxkY90dk5a30WB3x2aiu+rISWl6cf1ean12mvrbmtNdJ02BQ6xVprYiVBSQoel/sFfQRVOSGLyPWxguuoL2HeQ1PNel7HnyY6G4DlZsTqw0iiau40VTNr6XFMzaIYCmNTiRGBGFZQ1tM6+qF9rauU7NdJLDhZfacGp/SbslTktX1dYxLOvjzYe/fSB3uj3C4pa7TvpC7zBncbHGkty4rElH95AIsUjJcyLXxXJMl3fNWaQ+sxdqo9jr5ggetfwHZw9Zp7ZdefVQ5BGVJ5rInqgcW73o9KjsqActbOCiCops7hx7n3JMtToJVV28O2gMzGaBtb1vbvrx20l2zq41PYanEcn1rWT6LZHwyWnl7JRKROcmbZULrpHvwkXF7Cje5BroFYz7MPNOP3Z49bjWTazXHlr02POjttWNZAFbBbjH0dYZeSQ63XwGn1PpAA8fs+sHXLZNC2pVLXUf0jeorNk2/Y3/ANLinp3FtMaH9LfWL2xMPYG3Wn2W3Wtx+W4XwxH404nkoGdOD3aNr5zqwAjq3seEec1pZXrtSr9pLnRYEZ2TKodqF9aWDEf+2LPbYNnLinj3dXJgSY3TuhiKklMjW6WCJ1hFB5APrBHbLsB62HAdgq+xVECuj8ehWfrRRx51DLanFypCn3FvObRsSYMH2Yq17ilRUu9tNhRXLjOS51PLuWKddKWaGsn/ABwjT9i+/MaaaYaQ01O+VlVH085CCq5ybUGpPdVQT66UoBdjz/S/SdT29S8jfw7WX5/3N0YfBzV1pVqdHxu/3d62FOAHuGIB9tOdNVc6Dr+dYR2dW9iwg8HNRV3atTH9m4XAhRb2yHuLch2SdRr341SmRM/tjqUifGx55mMyt507zqgLgEXa6DYIc5muZPLSD6sL5mzwPSesqXE+xVj9Sa9UpV9aJGXM0OuCO3fXDECG++tENyLCnWlnNtVKjwl1sZ2wn3rbM2zpay4+G+Opdcq40+a4n0sPlOqj67A2tuM3YNUK0uUlctPppJ/W54/pepP0k9+1zaLioqtq6h7Tvd19aXsT70Vg5sZ4t3BhB4OaB1j6fWFbS0Y3w8dQdjAAPONA+0jNi2PbS85EYhLnomIcdI+RzS3AdQpD+zvLdFNDDg16nXWxnXpf9tkq4nReDjmj1q0K7VahrsGU7YxoZ5jMn1j/AMdLHrPQUpjK+xVcJgJPrcS/hJrZE2V28tpQizuLGWtiXJVfx2WQ3Rwm7NNg36V/ym2o9bP5SKs+vAV8jqctUWA3AlemoKInTAMureNSQVyHana6O4cLEfLW1g00F6VK1DYJmxQJE9f7PqB9KDa9Y2K3qazSfpeXqbMo2ussotrWxZ0PqyoJ6nbSMPjIA5gxs2g9t2sekOvhfDMqzYUpRsLoTxjA5ZbzYDxbSxjP75vOB25oyyvTaH9lPsIdVCelyqaFKnTDeWeRrBiW4+hr+2SEgS4eKUlCSpTm46whPOV2163fpfYrq8fqMZXqwUos5o9bU9rDKvsVH8M4MmzG4TJUHr2RyUrnWZdmsqybtkBE018DRGX/ANHCZcCoZpaRcNpB5Qg+sH5WVqPW1+S64+sm7hQrONCehVNda00BE126jatZCsUy+zIaQ61q8qOxauNOdxwy0WVs9ZOy4+s7QyG5Xw+yaqrvh20+s3pMOsr6OtYp6iJBb/Z9VVcdR9qGHwc6Y9RdHf13XaZvrArjqltQwjK4c18XNvPbeqGFIyEP1NjNm+WyLGduR0cx2s2MgX0pON/vEYEApGdPiVaRQk+q3mmhy4q8qWEnk7TVtkcRpcaY0HGcfeZjMuPPQGHdqnM2srNiufg2zFY08kR5XH9skhLciDk2K1PhyIrtb03r61ReZa0nXIM6PNYrHQK2JnOd2NuKFnIVncc7ssVJVDP2LLYWqCC9xNY2daQ8+Ye1IPKZdat8tybrWqxmtq2+1tpplJS3I+cd4YweWGj6c5EPFtZ5znJy3PCIZ9FKShJUqCmJPYeXOpJ9tBgpqkSK6viwjEWIt9ULDg1zVtecnyGJrw3GtaNWzPMaIzHrIeQL2VE4Q7Jt66O04/D16S+Z7iDgURndnP7Dq0rjqdtYzjK+rhmLHcO0ki8WpRScrEc10TN0+7sHGcZBSTCj5tn3dnOEZFT+qs5tB42WSnEgBScbSPbTnTtfOj0PpLsIUBHLszaH3AURXnnZCyt04ciy5EN0OsV22RVN9s1pte5OtyHst7RusileOOOPOKcXqH8PJ/tsz5OxCOcc2fXI6FLXXbNQW8gR4daea+N6g8WKvWy+UJ05+ZwKOXl5Fo4PxD8Bp5D86zsXXFOrK1XUpcWskKZdo5UKTAqGPR35tLGRSTFY9Y5AuZ+c5zmzTEwa5t4iXdUvEiyuHkTY0aExJfS8+pSaa1LNctrK67h3RlLYD7nw7sfNYMqNaKjusbBJbjLaXOnIhsd+UU2zQ03BuuR6a3KbVdrYT3D7AJGBWcj03X6Vk7XLixrYOj/S/TLsSxtcObGsITEuL1dPHVPaxhTlaP8Ab4ubgeLwYQnKpaBWROd5dbGxJwuoGQJrIgRs2x73tm5QHEJyPPX8O1xsMgqv3SVFRPIanP8Atozp3tgh6ZS/EPbsiSnshLcU6orV6HDjrrTDS3XbOwhuwXLS4ldc9Dhkll/6TUeNyIGg9VbLqRY2SZfOageY8r+1c4VHOTkjzHOEBQINb04j1UtiVFiaBrMKXAlt1n8Ax6//ALIetn/L5OPzI0fnvfuVq+TMGcLuzcu5Akl96TjrzbLa3V0ddZmbFU+/8n4mc+ivwnIR/U4+c+jR4vJedwzuGTVmfFNzIYtXA6oPqrIFUXpMXA84ULiMu1UNSGgy3YORnEMWFQrtsU5JlsRGFvPQmHnHjNlzIkeez7TsOc+2+IM6ZORCZDiun8Gwr33RYd2BRzvOe4M9xGF1Azrb1O3Wn3+zqq+i37qHR2SbBrZ7JczYrGU8p9Pac0nYWUadr7Q6uTvc6pbQrDJVlfLd+AjDNwfdN0nCtw5WLWa2Jm7lQv2+SDle3zCjk7MO27TnGRkn4ZnNh+V+sejQ/wBNGaota9brgpC1tnlMW3da4C49iw+PkCD4OTJkaBGXIktxJNu6iTYdX+T07u87M7M+j4OLK/8ATT/4eV/aCfsyiB7BOS7qngLWiVB2fXbGUmPErNiqjNVUZBsYdnDZmQ/cxThFi3nec9zL+0LkGU205YtJ/DsFjKsXWqVhptpltDbbS0trmqVHi2N7AbdmgBIAEk/6sXOT6cjIKv1NjO44VHJ91Dq9h7ZCXEuJStF5IcYq5HtXS0pgFhtRHJwrJASXn2o7LjrtI25+uyHuccQ282ttyCZVJLS6zUylXjca1dDqc99GTEQ5zJZepU2qVuyLminoRYA4bXDaL/I2Txwz5Bwy31YX3TnXYqPU625SD2JzYDxcujCjKY21Y5GmxNyfkzNokzJJQcrmlGBGzdEKTeNDPZWcqIi1VcQ5v8co2FkYzAH4lwIqTCYObaylF8gZ7Schx0KhsZtbPZsigC2RzjKeWW81D567BzjBiFKSeRGtHmuAp/YYcdCAYle88+idY51b+fT26zjOM+j+OLK+Ppp/8PK/s/d9juGFeS1K9tGc4jQIbFoizYR0/wBcS9FkKh1ut38Wwgq1IssQZcBPIxw/7hHxS0ISVKnWZe5baun/ANTfaEqdHgQXJb9HEfbaemzM3qfKr61wxmWkx2WmgFDJSh3R87hhVn5jIJ/VGs5zkZXyml3T859UCXUKL1O9cxraTEQ1aKH1fIwuDk57oxx346Z7eQ3OHJgz3DnuHIbqkzWCC+s+fdOdxzu59KXkThgwDAknA0c9lRHy2nqr1Sk2E1pl2wv501cuxaj8toObKjt2FxOFnIbAMRg5uKEov0DPaGVbANbFzqAns2BkYGVHxSoSKiHzv8dCtiYcPGVyCYEc5uqe2/awpyAnmDHzch27Pi2kkHGon6u0RqSFJ16Hz6AY/PcceXFgQoKISlu5HnvNfIsT2nfPVgpV0+us7RnbnQMcT7700/8Ah5X9lKvUkDCrCo5znOTT/oc4Tj9xVRS4Ho2wUc15LUayjSYDpvoEqDHuxFt6lyrtaW4rJsqfZxIllCbdlz3ZSvnebbGqJMiIuwcvXIiqdSX27+fEab5wHk5AZsbWz+KeK057iRkt1ADJwyEjDJTnxQ5xmeiNBU65F2armqCG7qU8IXsNSVpFq0hqPNejngTZEd1AW3Y/y+VncCOcmylsoShmO0iKwhluKoh+blncsVqeC/fw4MFqTORuN3ZzGkUor+pUsdyzX9Sof3kMb1c1byWLystK+3jh+GkZRoBnDEoTiW04lCRiUjCgAZbu83dgMCcZb/0W82v7u0OJwoyCj9SjZvP3dibz28qED6riZvsZpWwMLUEDjKhP+2Rc6gjtu4+BPyyrRzXRs30duwMZxlanmvjZvQ7dpRhT5yIjmKxmnsIc1yLy9CI+aZC24bS3pA+NtfDDEaEwhtuVseuwf4mV1P0aIDzDktzIrElrqO64dGtkHszszoMnibe+mo/w0r05IwK/sBV9hSs59OcJwryesfCrxTnzyToSZNwzZFzp9RvOokOw3ePicZdGr24jZs5M2qfiM3cb6uVDt3bS5MSHJfTRKN21MlWNzZJrq59/NJjfVtIIJjbO5Ztusw3JU3XW1uSaFCo8NltRUcJOSz/poPp5wDHyJjrVfj31XZJ7JH1NX1iviWHOfrCPk59USFIfTGs5rcds2Ls2FOgyhHCkpaC1QkmQtU1z5ZOs0VqpvE2aimSH3qnVHJjvx93KtaXXW4702X110GK4UIq+tPT6ycDalpr7eEAq4o5+nyhbU9Ddxr6vRLYolfr4xKsScBzqTv8Auje8Xlczrm1bxrdh8ZGtCpOwSkq7MYa5Yazc+U7g4MKMrmeYEY51CT2bM0MQyVqAyra4rYvG/p7byPgRlOj/AGuLnUgdt3FwJ5SMqUc1kXOoie2/j52nKpPNbFzqChSdnYOFByC2TCjEaaCmgYBl2aG3lRIzVL7rqJU92EQSU9Xw5+mTqCGgPBbPac11PFBVZ1GTzpdoM7M7BnQ5SGpl1yCD41H+Gl/ZCv60qJ9CQMLiBin2xipcceV2cROKuYacVeRvyVeNnwbgnxMs3lRXeDPdUTj1xGYKg8zs1NKeSy1GkBBmFVq/Cs4L8N5bmy1XKhZ7TVzPaZmL2upcbj1Mr65nz/5YzVPqfblT0sXLXxC4EGFHgMoQ0Vc8gpJ+Md9OMmJ4Zz2/nnYOcfcZjMuPOwu5EJ553CTxxj3ynxMlfrEtiN6WsGHNivfELpFvtQg0TinEoSVKM5tydZ20jUqh+c8u7ndReoLOmRkxY9pa2l3OVNsefTReoN1o85KmKuyrdiqWJsTW9XTr0ua61RkGcMScSeBkzY9frUkzN8nQ7LqDdyofs5bn/wBrkoz2jkZjmOzm9p7N3WnC15yqjlVbEzqajs2pgYwz2p5NU3zWRc6kJ7byLgT90ZSo/wBqi51KqbB2XGnNssOOJT2UlTYOVkUDa+mcu9U3JTH6YXLgHu1mi+xDYadstIqpraYsqNoGuseFRampioW6w3Z2DYSYkWLBYSxGwjnOsqP/AHh7Ow4UfdVlAnijq86iJ5020z2sDYzo42PibjELW3406Un2JQUFBXj7CVcf1a1gAqVY7VDhkpS/u0hR4bVtFm74Vc2Lg+ap8tflLzqvIUo4knE4k4FjJSv1V7AsZN0xVhZPy3H9GqZri35anQ01MThmOnwt5a/xPuKDkbFK7iCrvOd2QlfqjGc5ziT+urznOcmniMs4uynWTq0VXxmxx/3zst24caiOd633n15YN3MmbHYrfdtGP4tCo8x5h5muhLdbXLX8GPzchtLbUksxmUMtpz2mhmxvpjVi0puI65EqnpGmt51RuHciHb2s6/tZVhMOvX4YcfNNoW47BC+OrXGnWHVtuZ9Hm+ddjW1I4MpDxOGJObEso1y3ILDNi6CqsrhFlsFv4U5cp43iSjPZORWD8MxnURpTe/KBLXnKiNzVws6hdOr63so9xCY1DYZAHZUahbJr4yHdj6awLdCETI/SyClI92t06qiRGmky6GOlSUtMUzLSQEMwwltIx+tDiwrEwkgYlhKQBi2WUpU4sT37D5VU1qNr1dOuXpfX2xVyIkvrXvMjn2uk+5bTsW2usWmdYk87u9nZim/uqyjZIpKzOoaP/TrPOzOzOjqP1m4ztzVE/wChKxKloPyblDwpKkqHy9Un+pUc2H4j6rfLEW2fRYuR5SG+QCEozswJwcDArArI6A6rgiHxgjpGSm0/DPYkJ7UnFuIQCVfXFWpSUpnvdqpKMKs7hklX3o+d2d+BfzGQgv4VoYll4+ExJKsTWyTJ7ymtWfL0KLEYW/I+ql7Egl99yDHCWYbVi2j8cyxZfj+21Lk/BsLWIcUxWe1XGXFLX3TPszEMIYababKcUnEp+6nCnNr5W7BZz3e3eLSSapS2emGyTc1pyKzsNU7Kt7Zrf4G4N1zsaxduOlSqy6kahY7LtcB7edbmUsxEt76Pba1bdYrCRlG2ozQcSOMvmHJNBastM01vS3SYVnBguOy2AhnXLN7j29g6GW8u9btq+N0U2N3j3oPTUIZaS9edMaO0LcWbE6U6pH8QNbgxWGm2buvRKncoTWDG4YSgDH60OkLwQUjExgkAYqM2ofP2UjOxIxXAzn/pdyJC1NVqagyVJds+c3L56jfYG8CDnRNPG4OnOc6uJCt0dOdgxTf3VZSJH1LW51GSP0Nss7M7M6PJ4kXGduaon/QlYU4U4FrQeUtzB4UlaVjkeg+zyR/SLQlxBSrqJqRjvGbH161+Jb9h0YD6d2A4DiXClQIiyg8ngqVkjksugJUfbRzsOusXqmVmVpFfNW7IluQlpUEJ+DP5/CJ/NcJhXZ3CMyMDTQ8J4T4bWe0ZNsYtdHL8hCtqkfrDabHZI6/9f9KYzXykMwX5ziZ1zYWK5QU22xtNS7Nlx1IUhxAcQBzkVPx8tUzO3nCnCn5jCMKMKcCeEjC3m2ILciA6TH53q0inX4y53TXbq0QJs2rmsTYV11I3C/gvw5MDcNurK76uhtrebS6lDrj8koL3TFgaL0z2LcZHRJ7YbDSGp93AHD+JGPt98Z1OJ1WFNLYlQ9aix+32k1ycNMn3y4UMQCvsxuGgJGLrW1K78MVptJUqXYsJaU0wWkccEoSMIGKw4cOHCSfkHbpp1ama/wCqZE/52jsqDAaAdmb9pUHkP0l/U7FBMys2886peDA3gazoyjt2145znVVAVuDpz28Lf3VZTfyiuGdRRzp9jnYM7M6Qp/WLfOM1NP8AoSsUnCMUMUMDi2zylqw/Jbbrbg5Sk/P+qta9qxiLZc2Oola9ZqdbqbNqwjJWkHO7ORndgUcCsQ4pCgpLL6Xkc44funCeAMkodd4CVxVKPzWOOQDhOKPjJ1wzDeTHbG01rZ4lRbSumcfDz7NuAG2xGhGO4LG0l7WzDsYsRxu3WFcONXEYpPNhZAoW9ILUi2B99CQlAQlVHWFRcasa7YiyhmGhtDaQhvCnCnnCjA2pX4RFfVgr3j5FYfz2umQ7V+6NgaMZdLsEe3XF6ddTU3B37R5Om2oS32524BnTTppZb7YhxzZZP/lnbKvTNZr6+LWwo0KJCQQ7iE4GwcTEbSfuoZQMkTo0YlOSJr8r5LCRjMmRH/dC7ke2QXpD8lXLuHDhxXjD6LUEpUpRuxKJTVmpemjm0ShtptLbfXSVLj09QI62y4rucDOdGB26UBm1/PV7kYGjgZzpCjt2h85znU9HdtrpwN4pv7qspvlVQBnUIc6jYZ2Z2Z0iTw/b5xmpj/RlYRihihihi8UcDy2zymPblJ4dZnNPp+7/AFO4641bQ1LSh17WrIhTD6H2krRzhOc4k+nONPKaUCA4l1HcFeBhxQOKHPOFJwpOP2MmydVGqmW4VK2W2kWkdY4W7Wa/YHl1iFVUQWqPNs5MySpiO1UwUoV7yIU2BwYP6QwUPIjKYhOuuokzgBgAAxKVK8JiPqHyTXSD5FWrn7wq2vzFfGTgjto8dmdmFAz2xjsdDzS21tRY1bNkU9rt+hU24a59TPtWl50z9zUd3/8AFuibYfe1BH0ctxKuXGennSfSSH9revty6vJGuafoegU+g04gQENHIqeHcbAxI5wDJDojsLcJJUSTxwfXj0OHFeismTIkBn3pX1lYTvlXCiRJUldjJlxYieXzuWp/FsxEnOuae+qpsDOBg50hT2adxm0fPW7fA1gbzpUns2N84FZ1IT37S6c9vC3905U/Ksg5v/z1OdnZnZnSccSLb01H5sS8UMWMXisXisWcUojA+ttXKIWxOMKAfiT4kxPLP9IRwfSTKaitlbl/uCld7Ue1bRO9z3NZt3K6YauYM4zjB8sBwH0ZeLSsHCkghbaiTwponCjjJL8eIyt98tTdh+a35TMZpMaE/ZxG3VNBh/ZXZUknm9OOt7I/MjtKixGo7SWWExnz4bgyCfm7VwmX2ZMqVsWm15IkvdT+n0XwvrZprH7v/wA+awnG+v8AqH/ON1y6fPfvIPU7p9P4DUOZBsUBcP2xzhQMKMDeFGFsZ7WXdCzcRgg1tzLonfq+0lQKTZK5bEm6+jfo9ksuQU/Rfid3C6D6PHT6nWlyVJtKPXIqIrOu2NlbNvvyQjgYwOF4jE8elrI73EsgZzyPUn0OHCCTkq7r4zxjpV9fzxkWmgRHxIwfNQza9i2aTe2rLq2lOqKnNMY7dtouFHOtCPcragYI5wR86Vp7NUAzZfnr1qMDWBrOmaO2/ePp1AT3bK6cDeFsdpyr/lsLN7+erThnt52Z0sTw/aemonhiXijhxaOcWkjFnFHFnFHFnCs4HVoUFIgbXKjkIk19lAnIHsf0Rw/IZtM996QpoPt8g5IaI5yzrzPZ4b1O/NnGMeR6j0B9Ir/tK7VEDjkKTzhRxkmNHfQPfnvzJSVoYRRPzP42PSpjtBppNYj8/h4TZ4KkOJKPaa7VglNzvlJUFTbVr1I2SX3Jjzps2etS5TmOY5i/Jxfqy89GcDjNN1X36k7Qzr30iIzhQ1fUGza/tEf36gozswIOFBzsydWw7Fn2pL2nzobpeqxJ3mGOF/Xe3q+QTC2u1+7JqtOq4Sg48EjABjY4OJViTjzyWGlOFS1LUVKw4DgOE/PAeMm2EGtbDkz60nzP5eqnkTP5nGhx4bIZjTLSrgp5lVt3T3QeNcPxJzYI/OwWxwRc1GMU7TSnDnV1PfBqhgYwMZ01T2ayBmw/OisxgawNZ06R23bxznN5R3bE6cDQxTX3TlaeK+Hm7fPWZgzswIGdMWHfdsiEwpi/Gsx3ozEkOE+ijigFY40FY4hSMWcUccOKxSs7sStSFBSK/bZkbhEmut66ej/Q/oVJzZaohZeS+xxzkpo8Y832nLpMqueRdQaa3j3EBqU0FD1B9PGfI5EkhJDaygYUYsBIJwoaeHycgtnyIEYZ8Ax7ndjcdKBwl9UeMw489tW4ybtxTMZzwcdxz88dxzHMX5OL+1DsZdVKblxOlnXFV9Zw9evDwBhUPz7gcKk486ywgrdXuOuLmtwWfhVuHl1MJjPgmsTHW0eW2HFqBCxxiSAcCsSrLSQVKSykZzxgPPpIlRoTJeki9Er+WiHeTP4uHT1tc4XmCc6xW1tS6cZNZLutjsufi/g+48q6Bs+1UXWc8LGXUcm7szgjZq8ft2SoOHOqSO+JWYGMDGdP09mvcZejmlsRgZwNZoaOy3ewHnNsrpsq+dU01rNw74b0yxWD3waYtxI6FXtDFlVD7LkfT6pHiPQRmv3evQVMe/gZyGnsQrCQMKsJxR9FAKx+IF8lLzTjflRxRxRwnO7OcC1IUFJrdtnROESK66rrFPLX9BLhpkMKSq3rVRXlDJTHyOSWPOKBaXkeU5pd2hSIzyH20ON92DBnPpzxgOQ5XcPbWRhGLbCjznCk+SEnCAPTqdOXHqosRtXjHPzx3HPzx3HMcxfk4vFPso/EqfHT4XZgfhctJB8OTZS/Klk+ej60wuo+uzZc3qzpMMcJm9ca5HIhT+tWzugiLY9R93nghydMlzVlcpSig8o6T71K2mjVFlcSzifiU428vwtKsQvJkssBKUIspAxNs8PK3VLWpags5Mnwq9rvmC7ckcfV/wANfS/4iNRVcd4P5edSNL12a7DspnX3SWORHmfSISefgm3O9tCz1mb97Te3EwRiYOdGGfZqrbP+Qy1j91tPOCNmux+L6sOKzqQgLi1+Nw3XPwNUNo7+HTqedFpg27Z1Dr9bLbLWksf82dOrU+deoYMOUtTaIyU+LCv92WpWIqcRU41HAQkZIih1hSMbrEjEV6BkaMlru4CRifuj5c4ThVxhPpz6Orj8fflJh/MoWcJw/ZCikgis26wh8Ifrb2usxwz+3vqtMlklMyMW1qSZTHnJUc5NhRrKI9Cl6bsMils3ddtQc5znAr5YFZznOBZGRJYfT2qJxRzkYojCRndnV18srpl4rxjn547jn547jmOYvyckRWniSXK91HzQpKkHhRxWHIsdqIlJZRPHhxDiHR3Ixzxjh+WOH545nQJak7PYJzg4ORgOJURjjyWmysqcUtZWoE8E45sFS04Wk/HXEn+FFbZSf4yFT1cFz3I6uUgqW3Z1r0n4ZvnOqcAvb/crxFViKrGvky3nVJv3tX7cTBOJhA50uhPM11gMESUSMk6PavzpTimtAV/+Wo0mBGsYjpFdHGXdaw4hjE1//QrsrYvtRQnH44Ww4MTXDE14yLES2snA2MLCVK5xMdOIYTiQBg4wcDAcC8C8LiRhfbGGU2MVLSPCpqvyXNexcl8+XHVHyo4pWKOE4c5zkZzhUMJ4HJm3tLXJKpd11t0yq5RXdJOodhudYlm3/bEAjNkqe0qdRIZ85JY+RySwUknNpoHLyGh2H0929GxV3sP9xBzuPGd2d2d2Fed+JdUhYUmNKRIb5xSsKsUrnCrCvOqjoXMrEYla4g7cK0Oo70O45+eO45jmL8nF+i0IcHCna1pfzRXaxYW0oRmIXQXYHUBcz04Hd3BEt9Hn4tpzHTjh+ZxzgIUpf0ebAWe+2haHywYMByzsLBT4bifDX0j96KCud+9LZbaYaDTI+Xm7kvxaSyfjyNu6h2Cf9d6DaTzzK6NU6YG4e8PmrxuWqXNptli8xH6abG7x3R+lFgePebqUpQkK2HXq2fXJZktalr0f8DdfGYHDVOghl3CjHInLq8ELI0PtfbOdmS2A4lGCGDgigYy0Eo4xTYKTgZAwNjAnAnAnO5tPn4phOfGMDPjkfkJpPj4pw577hz3FHz34V4V4peFeKVil4TilYSTjz7LA5dmbfq0Hn4iX1c0OMSEq6uxJB4rlbt1Em/wL9l1ekfjfi7dJ/mDuq0Mj+Pa1LQ45Cm6Sil2kxEGj0XSYen1pR/QSWG3mihVzWGK8riQz5yUxyDjzZQrkbLAk09gNpq6G7i39c1LYBw4DhOKOd2FeMyFsuBaW30PoC0qOE4pWE51NaWJ8J7HfGOpKVlaFTVp+TvxLDvIS7jmOYvycX9ml2faKVBEKG4Zq1tsfYB4y5s2KtlDirG2mWagHvoxrUnc7MAJOBPGAZNWpDQSAM3/b7zWHIDVZ+l/VS0PEf6j6tW37/SqC1rdZgRJk+lMqvlsLjdLKFoD3WNC1SPxmvUtPAmcxQAPFjz8W7nBzg5/1lkkqYGewcEfILXYhecYY33lHBGxLAChnbikg52ADFOMN/NSrGAjyq7gJ8KvWf+JvHFfhNrLV4+Olq8+84ryk4lWJVgVgUcDmBzO/O/CvCogcmRaV0bkvSd21eNz3vdStf8R1bvdSf4Fy06lyv3T7O/vfxT1EuRz8erUtISeXm6zTofzji3EUcRX9itHAQXp7jv70yGgecMv/AKra21tnAiHrvR2ymKQ7b0WuVGuRPYg/0N1WplMKImxVNLUkyWMlx+ec+80vG3XOnt6y6wxIZlMNvM92c4ThOE4TnORpSoznOJWlxIWlWK84fGbVVtW0MMKsYciA8ph97H/zx4A84p51v8BsZI8mxJ+SjNbOGQyc9+PnxUYZ8c0PwqspP/B5515Xc50DbC9ltCbnRNcuu5Ttz0ktI3cutsKqyqnPbm+m5H/Thj0+jbp0msjSrqWEHAnAnHWEPBIWmJHGSq9Ly21IRXPcfNFU2fxsspZbShLjZW0tITUvH8SKdv8A5x4EeMvvQAMlRHHZLigmtdOJrFfmE482Fp4wRxnsAYFssg9y7KCjyu6rk+F7FHH4HNkd/wCC9gsFeF2tgvyuQ+5+I4DgOBeJVgXiVYlWJViV4kk+HJkaP83Xdr16P+N3qBrTX4RvqH/lETe7lK/hlfp+8OVrrbt3+LXrlKs8yk0moMeErp4v8Oq+loHDci7lufifnpUT3Oz0J54ds8dsxjtok8jFTnF+O6Wvw3AlvH70HXIrhBf1Cs6ftpbRIgRq1toCP/RkcjL6sC0l1ElngkGQz5yXH4OWNfDtYEmvm6HsMyht39UuznOE53Z3Z3ZzhOQ5Zjq7VE8jkKHpPTypGWtNDtmfbkXel2kEqcYkpUhSkqex7FfYPqcOfR8SDd3RwNEjPZyXXRpjSm5F10noZ3cuHc9Ntmqe5aNqrrCZNgwo/TnoQ8HmbLZaWIiPylHbnbgRnZnHGDAFYkKwA5wfzAwf/AAGKcbT5VMip8qs4oxdwyPC7tz/AIuXMs+HLOYry5JdX+JSxhVilYVZ3YTgOd3OA53f9gFXhx1pgcvSNu1WFz78jqro0b5AdXaZ49sFrcd3n/wCT1eljnDTb07/AB36Jw3f49nU9IYPKmYerRf3DVqiOOI6r+cry5aOL/Guc3irJIxyzAxy2SPLtyjHbcq8LsX1c8LflLxSJK/JhrV5FeMTXn8k168brVY1WLyPBcTxkVp1BGUd5NrykGqvY81sc/0bzaVpKVXdaWHSQ+z5yUx5yQz2nN11l7Ya9t6D033Zra6lLbysPjOfnhzn7ECWEEMuFPGFIyQx7iMWzi2csteqrRJEuz6VQXuVQrHpdszHJYmahs8Mn3XYU1gn3T8jhw41FlPHhqHp+0T+PYrejW4ziC9S9BqtgpXZ6jqlJSJXHhLrAOShURafJjnnFR/+zGBxysi+6HcajfPIjJQFHO04EYE4BgThW2jz8VHGGfGThtGh4Nmr8jYvnDNkHFPrV5KxhcwuYV4peKcwrxS8K8K85KvkHVBpJK5m16zX8/FS+rHT+J5e64asVdsFvqPuNl/KUyOvFif9Bes9ZJHznr6fvSP5s10z6aNHukx9Y6awuPYjy6WB/AfpXagcIdv57x/1FTULPKxYIT+E2oGG1GKuUDFXSPyNyo+DaSFeDMlrwrlK8+w8ryISj5EBRwVqjgqjgqVHE0yjiaQ4mkxFInEUoxFOMRVBOIrkjEQgMRFIyI47FWFIpLlMhIbc/oiMnw0y2FAz4amXFJMhnzkqPyDjrZSrNxr5mq26dzp6C9h7FVszoxGE4Th/+PX5ZXy/c4ZcKM7MdihfzDkUjyuNio+GOc9j/tURpf4lU1c5+Ma7Tfm3RVSPwNQI7f4UsAeERycbi5XNdi1EcYU4thJxUf8A6VH4xbbKeO5L8JHk2cJHhVyz/wAVXDh/CbSWcM+UvyXnFfi7sCjnec78Dme5nuHC7hcGFzC5ilL45Mq6qYQPxMrqDpkbnuk9XtTbPDI6l2k48VYs+sdj/BroOt8scyHdC2CR/OP/ABV09J7p8fSulFf+6ZGpV55hJ26xYT2xpG1XL/PuPWi3v3vxrKfmlVpx4VbJxVygYq9bw3oPj64dV4FhLX4S7MXiUSVeUxHFEct16sbrlHG6wnG6tRxFSrEU5xFOcTTj801CMTUpGJq04K1IwVycFenBAGJhDBDGCGnBFSM9jjAyM9vC3kRTjD6VJiLK2EKP9EoZeVodQXUSWCCckM5Lj8/MONJIWlcCTK6TbU1Fxl5mSy2+yoYfTznbgzgYPkRxXyxJT2L7M9vC0CPmqGk+FwFYqHxnwefBnBD4wRMTExEQYmJxiWkJ8p9hPlEyMzzwq2QPwrt3f+K7SWfCp8tXlby1/iJTnfnfndgXgXznfgcwLwOYXcClkfJ+fDjAl9/c9WjchcjqhqbHyT/5NRKPFem+6jz/AOCNZ1jmDlTmpbg7/MV9PNZePNg1pPTKH88bh6VD/hkbGuGOIb+3XTg4U/dSXefdcnM88lVoE+HLZI8rt0DHbtsYu+b/ACXeKP4VWslX4TLnrzia55TEkK8orVnGqpeNVCjjVMrGqVWM0ajjVEfzao+MbpUjEU6BjdWkYitSMRASMTCGJhDBDGCIMEYDBHTnspGBpIz2052Z2E57ZzsVgaUcDBwRlnBAkK8Ip5a8h0JSsKdSkJSAP6NxsKSRl5WlhwrS+zkljJUcj5jYKCBslTIq5vTbap2vWz+nbEcI4OH0Hp8sAxtam1hSYMpExrnO0Z2YG87APKnGB+IuwcU7CHgusf8AEuf9FSzh5PnhH59wHhSucKuMUsYpXOFRwqwrwrwucZ7mBS1eH5ceKnl9/dNUifJ2R1S01jwerNY+rtgtbZvlh/L0RutE4cpXqvUR3+YHQa57+ZNaH05jHlbNTosTj2GbWFCHENzbLYjhL97Nd/eOz2lHlZskI/C7bf8AblukY7doHl2+bBxy+B8LuH1eFWE1fhTs5fksSl+RXuq8oqVHEVCjiKRZxqhUcb19ZxrXjjWunGtdGNUCR5aokDG6ZAxFUgYiuSMTASMRDGJiDExhgjDBHGBgYGgMDYzszsOe3ntHPZwNH8hGWcTBfV4TUyVYikdPlFEkeU0rKByRWR0YmIwnwEJHj+nsoSJTBBnw1R3VIL7QPOSGPOSY/YSc6j6YraKsSYfSffxt9UYUxQOEnOec7sCsBwHAcjvuR3Q42bqWrwbOarDLkr/EFFXkEYF4FHArO7O453HCrC4BhcGKcGEk+HpLTA5dlbdrETkPSup+mxucc6v0y1dsNO7bxY/KtS11xsf3StP6svjmevpw0+f92a6Y9NGCFPM6302hgBqPLooHHwJ261QO1p7Y7J7947Ypc/eGwaR+FVt/2u3Ti7lAxy9bGLv0fk5eLPhdtKV4VMnLw/GL8mK+vyK5SvKatRxNQrEUqzjdCsnG9eWca1xWN64BjWuJxGvIGN0SU4imQMRUoxFWkYitQMRAA8IhDExAMTGAwR0jEsjA1gawNYEYEZ2DAjA2o+Aw4fCYMhWJq5CsRTOHymlSPxIp2RjdYwMEdlPgJSP7Be1fvNlaZDBBILzWSY4UMeaUhXy6jUdjp92xu2v6htMDcqJiziKGEAenJGA4CMBwHAcCsC8C8C8CsDnGJc58LkNsjlyRtOvReQ9I6jaixzjnVOmWSIo3Hap38AB1fn/uV6v1Uf8AnMc0Jx/+aJ6bdO2z3SWtY6awuPaaf12Dx8H+ltk0O1h/Zrd78b1mp3kumawj5pVbcfLF2w5xVwkYu7Qnyq/bxV6T4VcPq/CbCWvwXpq89qSvymE4rymuViKxRxFSs4inWcbo1nEUKjjevk4jXh+bevpxFCgYilbGIqEDEVaRiKxOJrkDEwU4IaRgjJGJjJwRgMDAwMjA0BgawN4EYG8DWBnnExXD4TAfViKp9XlFKr80UyB5RUsp8ormU+UsNJ8AAf2cgKBBvqwsrLiXmsfayXHyZFYlMvsSYrtn0T3PIFjAt4LE6Ac+Wc5zgOBQxPcfD02LFHL8jeNQich5/qtpDHj/AMuVDx7YTW4brYfy9pvrLPA9v9FOqb3zmq0RTv8AM2+nvT9B5kM6709h/umn6GH/AAn6UWDaeGXtktHPxvWbjv7xUxhJ5C7TgfJy1TjtskY5coGOXiBi73/pVy6rwqylr8GRMXnZKX5ER1XlNas4irVzjdSo43TKON0ijjdEr826I43QY3QjG6JOIpE4imQMRVNjE1yBiYCcEJOJiYIeCGMEVAwMJGeyMDIwNDA2MDee2cDRwNHEsk+ExHFeEVz6sRUPHEUqv+TdI2fKKlgDnEV7CfIabHjgD+3zIqJDKkmyhKivKSX2sfZ+RyTHIPInQKywhvwbOVoG9ahKel9PkdW+plKfa2E9f2E/JbfXGxl/dhM7v1htf5czX/SPtfB6ddZJHzsz0lhOnm5j9Jekkc8vxdV6VV/yYjydbgfwI2+0bHDDuz27v43bR57n3fi2AecNnx4VaD81WqRi7hIxy8QMcvAfCrlxXhdlKX4VJmrw/FK8mK6s/MV5OJrF4mpWcRTqOIpScRRKJ+bdAo41rxxrXx+bdCE43SDG6YDEVCRiKtAxFckYmAkYmFgh4mIMEVIwMJGBkYGcDWe3nYBnYcDSsDJwMnBHJ8JhOq8IrJCsRTPHEUn/AG3RN8clNVHRxyiBHSBgabHjgf3e8rUSGipL7JQopU61khnnJMcgnguux19wjbNMjYvcJJ+8l3cbvk+29s10/wDjesXX/wB98RGSeR9Y9vyCrL/s2YGKtUjFXKBirofkbZ0+DPlq8GRMVn60ryGHVeRDJxMA/kmuWcTVrOJqFHEUxOJpOcboiR8kUIxFAMRRJGIpUDEVCBiKtI8JrE4mvSMRBAxMNIwREjExhiWE4GUjA2kZ2jAjAjEtjA2M9sZ7ee3gZWfCYTyvCKuQrEUrp8oo/wA1N0rOCrjoAxMJhPHAbQPH9+IBGX9X2KLiXW+fljzXOPx+RkmLzzkmCPn2vsymjjjz6D83JboxUp/8lPSz4Pxis9iQrymEs+RX84iu48Ir1YitUcRVLxFQs4imJxFIcRSYikAxFMMRTJxFQnEVKRiKxIwVycTBAxMIYmIkYIgxMROCKkZ7AwMpwNJwN4GjntYGsDOBrA0MEdR8JhPK8IrJCsRTvHyikHlSKRoeRWR28TFYT4CUjx/gz7KX21JNpAVGeVjjYOPM849HBx+Hj8TyC9Xd2Lqzhq1YKpZxNSs4mnViKY4ikON0gxulTiKdOIqBiKtIxFaMTXJxMBIxMJIxMQYImCIMEUYI6cDCBntpz2xgRgbOdhwNKwMnAzgaP5JjOK8JgyFeEVUk4ildV5TSJH4kUzCfLdZHGJjsp8BKR/h9vARIaPEiOptaklbXOOsY5G5xUEKxdaCcNWM+qQcTUpxNSnEViBia9IxMFIxMIYmIMTExMQYIowRwMDCMDSRntjAg57Zzsz2znsk4GcDIwMnExXVeE10heIp3z5RSK/NuhR5KKdhPlutjpHzDDSfAAH+L3lZwS4gtjwVMc4qNhjjCwMMZJwRRnwuCJiYuCOMDKRgaTnYMCRgTgQMDee1gaz28DCj4TDeV4RWSFYinePlFL/8A0ilaA5KaphABKYMdOBpseOB/jziA4gpNjCMd0kFsEZ7ZwtE4Wc9tOBIGcYE4G+cDWBk4GcDIwR1HwmE8rwiskKxFO6rymjCfmpFI0PmRWMN4IjCfAQkeP8mmREyUEGTXusKPHb24Ug4pPIwN4GjiY61eEwXleEVcg4imdPlFIAPvIpWU/MorGE/Mpisp8BKR4/y5SUqHBeqGXD8jTIz6lQPKaZlPHKa2Og4mKyPASkf/AFof/8QAURAAAgEDAAYFBgkICAYCAgMBAQIDAAQRBRASITFBE1FhcbEgIlOBkbIGMDJCUlRicqEUI0NzgpKzwTNAUFVgY6LCBxVEg5PRJKM0kCVk0uL/2gAIAQEACT8A/wD3TMF343nHGr21V1UsUMyAhQcFiM8BV1DMYwCwRw2M93lyxqAMklgAAO+tN6OHZ+Uxkn2Gr6Cd4lDMqNwBOAe7+qnVpGSxvby8lkaWIKWEUCYIw4YYLPWiLH4Q2YIzLAv5JcesJlCfVV4+jtJvj/8Ajr9egmY/Y+bJ6v8AC2mpYhOwUKDI4hCooBVQpBIIYleBzWkr2YyJAsKxQzpHEYuJIyNrbIya/wCYMZW25CY12HbpTL5yO2CN+MV/zGZYYigzNFH8ve3DJ3k+qtGoscUKRD/5RTaEZyhbYXzipGQTUFrDECxCh5H3tvJ3gcant15kiJj4tV56xEo8c1fXB7thR+C1cXR/7zDwxXSN1lpXbxNW0RxzK58at4RHIBPf7MajFupwsf8A3WGPuhqjRB1KoXwqJpLzR7M6xg754m/pYP2wMr9sCpBJDPGsiOOasMj+oTxQQQoXklkYIiKOJZmwAKt5PhFdrkdMjGCzU/rCCz/sitLxaGgfhDo6FUb/AMr7b1pvTFyW4tdX8uD6natI7J6xLIT7RXwy0naPEwZQl3cBN3WjEqR2EVFapeaP0eLcvbEiOY7ZZpSh+QzZGQN1c99RrIAcjaGcEcx1VNPpLRW5I53JkubUd53yp2HzhV5Dd2065ilibaUj+R6wf8QDMmkGF3bTfTjRVjaLvh8Gzqj6Wd2WK3izjpZpDhF7s8TyGTTl2QFpJMY25JGLu+OW0xJx8fMZbqZW/I7CEjp7gjq+ig5uauug0cj5g0XASLdOotzkf7TUzRg8IxvkPf8AR9dRrD2je572O+t518WZUFcgBrcy2krj8rsXY9HMB7rjk1TCSCYEFDueKQfKjkHJl/w+2zfWk8b2ON5e4Y7Cx/dk2ijfZJNWWh4u+5nl8I1prRomjmjsjbq6olyw37fSE5ZkBCHvHx4S60pdh10fZZx0jji79USczV1LfaQvH85z+CIvBUXko3Cisk/OTiE7E7fteUOuRvHVo64mnSBZmjC4KxPgq52sYU7QwatMLcXf5KmZEz0hZk3jOQuUYbXDcaIODxG8GpHOib1kjv4uIUfNmUfST8RTq8cihldTkMCMgg9R/wAPb7bRLtFGOT3TL+cf/to2yO0nUzIHA2ZF3NG6naSRTyZGAIpAkksWWK7lfBK7afYfG0vYfjZejtLGAyPj5TngqL1s5IC02Zrl9mGBTlIIR8iFOxfxNYM7jErfRH0B/PyuLNj21wVQgoIzRuHAdQ6kqcjKncR2GtHaP0zPe6M0C91FePgsvRRszhAyAgH5Zz5nGriCPQ0OkjYWM4IWUxTyyYJkPzI0d8NjcXBoKsKiLzFl6ZY3MamSNZPnhHJUHVIWutCFUjJ4tbSZ6P8AcOV/w9us79o4bzHCOX5EMx7/AOjf9mkYeo1Jsm8DG6cNgx2qf0ncXyEXvJqaCNFAAAdQFAGAAKmU92/wpnEcSM7N0b7KqoySTjgBVjpaZWAIK2TICD+sK1ZXtnJOr9C9wsYSR0G0UGw7kNjeM8QD8TL/APF0ZsXF/jg9065RD+rQ18rJWHv5v6uXb5fzctXGRi38hqANdVLmtMSi7Qlo9FoOi6ZBxbpufaq4NaOtrGBfmQoF9bHizdp/wkbdLdWLRu6LvXotynz85L9gwKv7OGaQSphHjBTI8xttg2R9IYrSNr0BjnCDO1gsT0ZUKmQUHacmtMXcgmiZYhAkybDN84kYJHZV1pG5XaJMJV0ThgDe+cL82rOXP2mRf91Wy4HXKP5A0kC5H02bH4Cnt1/ZY/zFXK4HVEB4k1eS/sqi/wAqurg9fn48MU0ry6T20kZpGbYt1x0z8e0KvaasY5P1jvL77GrKCOGIFL6OOJfPtzvL4A3tEfOHZkVsFWAKsuMEHmCNXyHVZ779QD5kZ/WsN/2QdUhhlVlkhmHGKWM7SOO4+0VGIrhGeG4izkRTRnDqOzO8HmD5Z2bewtJrmXtWJSxFMXvNJXkk8pP05m2j6hmv6ONQidw5+vjqieTo42kfZUtsovFjjgo5mtEXix6RbZs5XjKJMdkvudsDGyNrJ3Y31bNB0d5JaMHI2umiUM645gBhv4b9fEkKK+Yir7BqNRvI3UozThR6NP5mkCNaTpKMcTsHJBPaKOUkRXU9asMj/CUEQzxOwKVR3D4v+nKwm36jaAYTZ7n2tvt1KzhAMIoyzsThUUdbEgCpNp4IQGwcqpJLbCZ+YmdlewagfyXSRihnPo7hBsxN91x5h+1jr1IJLqeRYbaM8Glk3Ln7I+U3YDTFxEuXkbjI7HaeRu12OT5Zw2lLu2sh91m6R/wSv0URx95/NGvTWjoLy/0HpVbyCUTGZLaBFMYUJGw2XfznOeS1o25up9Kz21zpKe5Q9A4a0eCCyQqVLN0UrbbLwOFHCp0/L9FO8B6KdEiW6LQtIgiOWcSGR1VuSxDWpXzukYEY3DzqcA8lG8mrd2PYMkd54Cpton9FGfFqiWNOpRrOSloIj3xEp/L/AAldwR9FgurSKCM8yKvIiFySQSwAXixIB80czwFSvITJCp2In8zpiArNkDCtncedSuvRJE/nJs5WUgKVzxBzVncSRxzxxSyMUjCFyBzJyADxFaNnjRTl5JTsALkDhj5XWuuREH2mA8au7dgDgkTIcHtwanRj2HPhXSMMfNic+AqKVJ9FZlVnQqJI23SQkn6Y4faArRWkm+8IY/GSrd7RbaGS5topHR+nmXzc5QkDolO0B255a4ROksRhjhzsmWWXzY1U8jnfnlxrTUhYKAzJbwrkgbzvVqvJ7u2jLxTGbYxAs+FMyBFXBX532SfiPkzaSupf/FEFHv1xkuPwRf8A/rWSMjBweINbz1mgM6t+Tj21+UXE/RrE0zHOyiqFALtwAAAFTmdzvMSEhfW3E1EkUY4KgwPJ+bPdAf8AkP8AhLRxeR2BLflBXBG7I2ewVo+2CLkKjSyOACclQCMBTzHA1bWCvHshHMRLDZGBg5HDG6ltY2JyTHbKuTjGeNXbgAcERFx+FXNx++B4AU8zd8z/AMjW6S4Amu2DtlYFOFTOeMjD90GrO3J7Y1bxpI4rG4Cw3wVQFVM+ZNgc4yd/2SdZ/M2ZSe77Zjvij/ZHnntxqk6K6t5Vlt5OSyJwz2Hg3WDSNGs8eSh4owJVk7cMCM6laODR8CSxKf0r3AIMo7FA2B251Y2SCG2uGOeeyiSuy35MWzt/kwJ6Hb7dny+C3WkF9bJGa9JMfxHlxFYThoLU5BfqZ+peoVGkcajCoihQPUPL4yCaX1PISP8ADJzcvc9KH4B4H3QlexVGzjrB1RrLcXcgghjbgzybvO+yBkt2CpZJha20cIkc5ZhGoXJ1Am00pJiTqjuseEqj94amKy3blTIOMUa75JP2Rw7SKjEcMESxxoPmogwANUZe90cGdUXjNC39JF3kDaX7QrSVqQQCMSA7j2CrhJImDTXeMrmCLG0gzjJckLu5E0AABgAeWuWsNMwl+xJ0aKvmzSg+sA+TxJqIGXc0Fqw3J1NIOvqX4gZY7gOsnhQx+TWkUR7WVd/+GSqXVhKqRoOM6TsFaDvO5l6iK0bKfvTRr4ZpBDeW9pmzi29sFHOJpAcDzhuXsGtElnv8W9qh5SnzukH6rG3Wkrv1FE91RUzy218i2sssz7RhLNmNgTwQtufXIUvNKB4wVOGjgG6V+852V7TQCgDAA3AU+Lm0lEkWTubkyN9lwSppiYLmMOFPylbgyN9pTuPljM11YP0H66P85F/qWgVaN0kKniPmMPV5Cs7uwVVUZJJ4ACkV73jFEd6wdp638PiU2oLZ/wApn6tmHeB62wP8NPtWeimZCQd0lyRh27kHmjtzqYLcWknSR5OAwxhkb7LrkGldEu7eOZFcbLqJFDAN26kaKKwjSK1Q80kAcyj9Yfd1DKbJ2hxyOYqQtepaRicn5QPIMebgYDHmdTvLa3sKW6E8IZIQT0Y7HBLDtzqjaWWV1SKMcXdzsqo7STTB5EBkuJBweaQ7Tt3Z4dnxEWxonT5luID81HkP5+P9hztUMMpIPeNUTSyyMFRFGSxPIUFlv2XjxWEHknb1t5EhihhglbaHFpBGzogz17JJ7BSzxxx3VnHcXBkGyxmJ6RdgDKKg4Pzq2DqSkkjROZY4FRMOFYk7SmTIB37l8hCt1pLZfB4pCPkD18f8JkZxnFOoZs7K5AJxxq4hKocN+cUgd9X8DGRlVdglyS3AeaDVyJnPJEdgM8CTjAU8jrTFjpSRmIHCK5+U69gkHnjtzqUm0iAnvT/kqcBO+Q+b3ZoAADAA1Jm70XG7SY4yW3GRe9PlrV0jfdDN4CnV4NFot28TAqZXDYjADcVVvObW5jtY7VpGkXBdGTfGyfbDY2RUFupwM5ZjvpIwj7cdo65VY7mQYRnyTxGVHUT8SUiukPTWNyRnoJ1GFY/Zbg46qtnttI6Ol6C8hfiCu5X7Qw586iaWaU4VF8ewDma2Zr6RcSTclB+YnZ4+THDJFtSvsvDGzbbxmPIZlJFWSQzzwwxXEyuSHWJtsEJjCsxALGoIgjxLHFkkmECIxNjr2lJznmdcZ/5dZuDKTwlcbxEPFqH+DHVdpgoycZJ4DyFIyWGD9k41xXTs8oeRRCdmTZQIFbPFRs5FW987ozldrowMOACuTvAOBmrO+nF1LDbpbrdKrSmMeaoCkbkC7WTXwPk2HkEjdJfAbTj5xwrVoyy0Vd2uC0CsZNuF+DKQE3A7iKniHYsR/m1XRHdGo8c1NJNd6SlXoVbZ/NLCwdphgbiOC9pq7uT/ANwjwxTn8l0w0aLK7ZKXCZEYLH5r5K9h1via+US3eDvS2B3J3yMPYKNZZ7Z/PizgTRNukjP3hw7amEtvdwrLG45qwyO49epyIoBHc3vUztviT1Dzjqz6jg1Gy3LoyNIf0wiYoJh9/GfiVjtdN2sRSC5xgSp6GbrT3at5Y74HZummXEgP0Pu9RG5uPxWYbOJh+UXJG5R9FetzUIiggXCL4knmTzP+A2ALZwOvGtc7CM2OvZGaGyJYUfGc421zrkJjjjtWRfo7YbOO/Gv5uk7L8ZAPI+bLMD++fJk29H6P27e06nIP5yX9sjA7BqyzWz4kiH6aJ9zx/tDh24pXTbQNsuMMMjOCOR1RmF7aQQQRE5C26jMZHY4O3qjeSeeRI4UT5TSOcKB25q5FxdR28S3EwGBJIqgO3rOp5JrXS+Cjtv6OWJArRd2BlNS5uLyZYo88FzvLnsUAk0pWC0hWNM8WxxY9rHedUWbrRsZFyFG+S14n1xHzh2Z1FlSVtu5lH6KBN7t38l7TUSxQwxrHFGu4KiDCqO4fFQ4kVSI513SJ6+Y7DUZmtC3mXKA7Pc30T5YJZjgADJJoPZWm4iHhNIP9gq3jggiGEjQYH9tHz9nax2ZxrUHYAOOvf5DEhblwOwYB183lB/cOvnE49q1zsoPcGvnZWZ9hkGviL6zPsmXU4RBxJqPJ5yOPAU2XaWUses7Z8mLZ0dpRnliwMLFPxli7j8pdUW1Y6IZJnB4ST8Yk9Xyzr2En0agW65dJbM3jGxyKmB7gTUyO2iUQQQHcwknBHS46lAIXtOvOERTbFcbYus/mdjPbx7M1FEPaaiQXF9amCwn4BJM7TJ3yAYB1lDfXga1skYZzJIpBfHUg307HvNbTwKeivIR+lt3+WveOK9oqVZoLmJJYpV4MjjKsPi0V0YYZWGQR2g050fMRkhBtxE/dPCoIrxBwMLjP7rYNaIvkI64GPgK0ZeseoQP/AOq0NcoD86UCIf68VpCG3TnHAOlf2nAqzBmHG5l8+X1E/J9X9pcVxn16wMNMiHubyCWxtj2MdfO1b8HGvlGcDyOV0T7UXWf07D2odfMVys4snuGNfztHW59krjXxWa2buxMmo/m1OQOvt1cppve8kI15dypdSNxMEURIUjqZzU8p/aNS4g0lIZbN2+bcAYZP21G7tGuXzISlzpHB4vxiiPvnVtNAD0V5EP0sD/LHeOK9oqVZobiJJIZFOQyOMqw7xq20tNDYMgII6S5lXJbuVThdUjRSROrpIpwUZDkMD1g1b/k17c2UUs8X2mHHHLaHnY5ajnRbWZSxxwWQHMwb7Z8NSszMQFVRkkncAO01O8lzFCXmDNkRvKxcxL9lM4/wIp3LEc+o1eILhFjLQIGkl/OkhAEQEknFNePDDKIZpFtJNmOXOBExIGHzyNTbfR3cIdWwGU7WN69+7yDwlmH+s6+dtIPYy6/Qt4V1a/TIfag1/Wl/FW8hgoWAAk9hIrafqwu6oCRnma3h9GKR6pj/AO6kQN1E0Rin2yoQgL2SKaUIhO88zXM7tThuhvZ437GXBI8lOjvxeujx8VRE3RqnWmxjGpmS9nuoxDKv6Iqdoy9gQDapzIwUBnIALEDecDr1GSSy03I9zDI5LFZf0sRPZxHZq2lgdulvJR+jt497nvPAdpqJYoYI1jjRRhVRBhQOwDVj8vgRkuokUlpbZN5l7oSd56jTr7RUe1ozR2zc3p5Pg+ZF+234A60i27ciV72QErbToMxxrjjI2cPyVDWibWH9ZexD3SaNiYLEGWCCGYylp/mFtwGE4/4FbjFEfGmniuEChJIZOjYENnII58u6kuGbpxcOHuZXV5x+ldScM/aatIYJJZ7fpGQYzsuPI5XEw/1nXzimHu6+cMnu19BfDWflNEf9GvldRfzGs5Y4woo7kMoCjgMSNqIAolUfRzgnnulByKOc0TjqrlAx9hzR3tuHr1HEcETSN3KM1/TtPJNP+snxI34nydGSXU1iRaXLRb2uxtfol+d0J3M1fBe8T9Y8UfvPVqkOk5h0FtFtrJ0UPF2yhIy51OqRopZ3YhQoG8kk8AKllsbDIfRrBB0pkHC5dW+aRuROo5NfCLScn3IYU8Q1Pczz3mwJZrhlZ9lOCjZC4XVE01xO/R21upAeeTqBPADizHcooxXd5ex7Fy2zmPo+UEat+iGeB48TWhtGQD/LtIk8FqNEHUqhfCmCqoJJJwABU7CRl257wxMqwQk424w4G27cE5DiaTYhiBwMkliTlmYnezMd5J3k+XYaHjjhnljVuieR8IxGTlq0ekyXEyol7aIEZC5wA8fMf2/zgT3jUyxRIVBZutjgAAcSTwFXkjRQHE8iW8rLCScASHZ8w9hq4EpiliDqRsspEgyCp8j61N46+qYf6Rr9E/u16JPd17vNhP4HX9bh97V6h1mjliawfyd7tn7klc4q4m6WR0aKcxsUbp94jLKMAox2d9RvOzvllB3pEm+SQ9iCjkNZT++ho7vmmiABQzm1l84/dokkqDnVvtbIpPedTycYovV8tvVR4XXig1ypDDEuXdyFUDtJqdho9Ds3t5GSpY87eI7iG+m3zRuG+okjiiRURFACqqjAAA4Aa1Z1t4JJXVeJEaliBVuILKxIc2y7ZFxIJGVekLgZjXY2lxufcfIkVLloJBAx4LIVIUnsBos00gMcBlk6WRULs/HbkxkEBiCNsjOPImjjiuFaLZdtnaDDeB6qvcvdENJNIAADJ5/nMiKu2+4ktvbdUySpnG0vXjOPL5X1yP8A7DXK6h98V9Ef28D/APjj8Gp3VHZGLJgMChDAjIPMV+VlJJlmmja4bYmkRtpWkRcAkVZpDPMqiVwTlvPDHs3kb/I+tSfyOv5zSj/Rr+ia4dBH7uvnFCfe18riH3xRwAMk0cIvyRX71b/yjStyZf1UEpkb2nAqQJLtxyRlhlduNg4DDqJG+rboXnToFgLB9iEfK3j6Zye7FExS21rdIssnmpNGpXYdWO4nA3jiKmLsELq2yQjgHBKMdzYPHFMSBXO1m9w1ziTwFFbm/K/mbRPOdmPDaAzsr1k0/SzOzSXEvpJX3u3/AK7KP/UL7g13yWrzMjRMWUEujArhWIzWk4blkZdomVSQcCNRvYngoAySaIIIyCNbqzmORki21Qv0Yy2C5AAHMmtEW4t57qWONbd0R3dA205jVcY8w5Oc4pHiZW2XjcEMp7dc08MrPs9JG4VUDcXfIJOzyA4mrm+jcXE2bprlGjeEBggWMHcx3ZOBg5NTQzSo/mypnLDmTrdVeBy4JiSUecpXGHBq6uHtjMk0kDbBR3TGCfNzjzR5oOKjMYmwX84kbiT+JPl8tJXX8Q0MlJFYD7pzWgglmwUCW02i8faQ/wAqpOkhuYlkR8EZVuHGksIo7O9eGJzBtuQO81bRaQtHbeyBYZYvu43Gs7E0SyLnjhxkf20f+nbd+0KlSKGJcu7HAAq9d0tkL3BjglfoVHOQBfNHfVyHeGPz0YbLA93kcro/iq6/TOPah8j0K6/nW0Z9jNqkVN2RmpA7CSI4HY4ptlPmoKOyigkjqA5miUSZiqq/mttA42cddKQltdTW8WeZd+lcj2gamURoxWfSBG1GhHFYhwkf/SKvtIb/AMoJMkwnBdVB2tmYMua0xA7277ULvbdFIuRggPEcYI3HzasLq6SHP5UY778oDw43lY5AhDLxGKF3a9JbSbAmtpFDbSHGyyhgc0ZdG2Jgj8xTi5mGyOJH9Ep7POq3jgQ8Qi4z2seJPadXpYz/AKdd0iwSwxxyQdEfOCkk5ZWUkHPA1ctPHBbfk8BVBEyocZOQT5x2amllWPOGkOW3nOuNHGCMMoO41bQLKwO04jUMQes4zQHxllYsgtIZummVmbMlWNnd2RxtQJGIT3q1fBW/nI+c86Iv+nNaNfQvSMBDchzND3SHAK06ukiqyMpyCrbwRX96Xf8AENdYrqr+7oq/vY6udjB7g+MmjghiXLySMFVR1kmrGeK2s44cXM3mGV5ssAsZ85QFAOWwd4/s0cYHGfWKLLDcR7DbJwwGc7sg094fyrH5UBOUScLwDpGFGBVlHFcvBIHlGcttbz5Hp1PtQa+V0B7UbyOPRgH1a92bUfg5o4CijjP4CoumvLlgttGeBYEEs3Ui8WNHRN0f+9Af94rQvn3bLbo1vdo5zJuOA4Q8M0JbZLu8t50gnUwSRvGjI2znnuVgVNXpZYL+cy3Eu4sXIbJA5nO4ChLZ6OPybTOxNOOuYjeqn6A39dIsaIoVUUAKoHIAV6S4HtiOsnohA81n+qbIaP8AYbh2EVztYfcGs8DCfwb+rc9F21ejXwrmq+FdVc9GWn8Na5aXu/4hrrFfRFfUUr+8gfwWuo1zsLf3B8WFL4OyGOAT2kZrS0F7pCzt5L9LWGxDQWcEGW3CVn2ppSCiMRtcSMAUmxd30r3l0D82SfztjtEa4Qd39m8THKPCmCJGpZmPAAcTWlIWMYJcIruUAAOWAXIGDxq8Sd0t3JABG4qSDhuRrmo1/OeI/wCga+Au4/xBHkcgw9jHXuzan8HFHzI+PaayYoRkhd7O2cBV7STgUyC8lhzKQcrbxKdoRJ2L84/ONNBO17OqQuxJj2cFmY7O/cBVssX/AC+NpdtCzRSNMNlCpYDeBnIq2S4FtIZI1cBgCVKncew0szLb3zGCGSVpIoSY1O0itnDduv6zIPbC2tSZLFjIQOLRMNmVf3d/eKIKtaREHrGzr9HCfxb+q6M0V0VhdyQrJIrvIQnMjIFRQvMYliBhjEQVV4bq5xr4V9FPCuqtLrHdx2FtGRKhiRnVACodt2a3j/nN3/EOr6Ir4Q6ThtoPNjt1uXWNV6lCkVdPMXkUuXJYnfxydX93we4Pi4mnuJnENrbqcNNK/wAlF8WPzVyakWe9u5OmvJwMB5MYCqDwRB5qDq/s5hwkBHqGq7v0aSGWK4kSUBrkSttP0hwfwxgVZLHdC3kUOpKjehX5PDhur0Se7r6oT/pOv63D4+RyeUexzrxtvbSKv7y76O8/KNaQmMei7q5nkjlAlhM6M3QxhdxAVRk4PVW6GO0iurvHAuy7ccX+40XRsOTEp/NF5BgybPJ8a/rSH2xJr5XwHtjcaxkHcQakA6KDpbd2IUNAWxjvjO49mNZxmCL3jqWR8FUSOMZeR3OFRBzYmp+juF+XbTr0UwPUUbVKIoYh5zHiSeAHWTyFQrBBJculqnzujTALMeZJ+M+D9hIljdywdNLI7M2weJUYrQ0TWUrDE1kpR4e9WJ2xTl4LuFJo3IxlHGRX96zavQp4VzSPVCpJjU5O/lQAyyH1kavoL4V9MeFfTXxrqrh/y6D3fipVihhQtJIeAA8ewcTUTRzuhSztW42kLcQ3+bJgFzy3KNW8QuEJ5E4z/Zqg75Bn9miAAMkncABWlLdzk7oy0hwBknCAnHbV9HcSCJ2wMjK43EZ4g8q5wx+6Ne7MUB97X825gP8ArHkcrib3zRy53KKuQvWBUhlkMUoBO/G9aB0npI8baA5Cds0nyY1799Kgup7y9e6Kjc0rSsGNO0mzE5eRvlO2OJrmo1+lgPtiGvlpCH8Qw1llaYA7fzELHCBjyLYOKgWUQOzIDyKuRg9YPMcDSyzW0qCWIJ55tl+ep57PNRxxmpFkjdQyupyCDU0aPPbqsSswBch84UHjq32GiHeK2HKW6I2XcdewPNXtzVvDK4+TtjYlQ9auMEeo1JPpiwA8+1mbN1COuJ/nj7Joq4y091K6EPaqgK7JU71dydnuzTqRbQrGSObcWOO0nPxn963HjXVWnLM6QTRlsjQF8HaVACuTu2q/vWXV6FPCvRx6vRJ4V/leGr0a+FfTHhX0hXVR838gi8h1QdbECrpC3UuW8KEz7+ITA/GpFdfDv1OsccalndiFVVUZJJPACkaPR1u4fR9u4KmVuVzKp4f5Snh8o79TfnXHnMPmKf5mvSr7v9m+lb3DRIjnheJsbjh1KnFaS0jHM1v+TF4mSLMQHySAp6sluNWapcW8YRHDEblTYXIHEgUd/QJu9Wsb2toveYawcrLCf9Y8iM3F3cXs8dpaocNM+c+pRxZuQr4Ryi4cZMaWsLQoTyQMNrZHLJzWl7OX9bYkfijitJNcwLFM7QQfmINlFyc7JLP6zVvHBJcEzSqiBQGfeF3fRG6kVAWZsAYGWOSfWa5xv4VzjXw18xan/QRr5aQtvxbGohVAJJPICo8/82bbCt82FfNiHYcbx21btNcdJMtrct/RmMSMC8p605jnUsjXEsgme6GOlEo4S+rkvVV3bWuj7lx0z2ymQQsd3SKr7kDnjjctRm4lntT+emkLTFg4IKtxUjliib+O4/NW2kicS2wO4mcfO2R8lhxNDFtZIEHaw4k9Z1EzRdRO9e40kZuLnG0wQK2VGAX6yOVOWWVGZ882HP4z+9p9SsWMat8o8cUzMzqjMzMWJPWSdXoU8K9FFq9EnhXVDq9EvhX0k92usV9EV9RTVKF6hxY9wqMRg/Pbe3qHAU7Ox5sc65CjDq594rYgZVJMhOI8AZJJPyaUroSJw8EJGDespyJZByhHFF+dxOrBlfdGvWes9gpizMSSTzJr0q+7/ZuABOB7VOrSll5pC4EqtvPLzc1pGCd8Z2Y2LHHWDwIr0QGvnar+DnXy2D7HGsM7O4jggTBeeVvkxoOs/gKZJL+aZ1fYJKQpuYQxZ+aOZ+cd9cTR/POBFD+slOwvsJpS2jJpdpmz/RBBtSR90hAI9ev6DeFeiTw184LU++NYLsL216ONflSP0gwq9ppxc2svnTGNd9ox6h86MVIGGkWCl1OQIFG1IwPdu9dDCDAQdSruApSZFuZwp5HMhOTUhdoJ2jl2sZyOe4ncaOYpVKupGQQRg0WljFu3Qzk5OAR5r9o5HnXnvs4SQ8R30C8jtsQxje0kjcFHieob6MY0jh3DIQY5kznKEBQSnBhjt15LR2+055Db4Dv3Z+J+CqTfkdzLAZpbo4JjOM7KitBizt3bzLqz23EX6xGqQSw3ESSROOBRxlTX97zavQr4V6KPUf0CeFEb4YqNH9EvhQONmHJoZND9GvhSjJKeFHBo/NFEKiWoG16zXmdcjfK9QpizHiSck+S6xxopZ3YhVVRxJJ4AVJ+SaEt9lwkqtm4yQFeZQMiPJGynPi1Xl7cN/k27j8XK1o7Sj9stykY9g26sktxaQRMjCVpGbbYrg5AGr0q+7/Zoz/8AITwNcxWkpbaa3jaOIwQRouH3MXV9sM2OdQSC4s9jYlDhS5Q7WXwBkk7zXIMPYx187Q/hJr5Jn2EU4z1DeaQL9pqkLwxh4NHKfoZxJMB/mEYX7IrconOB3qKOEjUsx7FGTSsbWYnSbOTwuJQR0fqztV6RvcOvqNeiTw187O3Psdxr+Qs0QsYvooJQC/33x6hW9GY/s5/lRYdOmxHHnKRhjtP0fUG1MVmmubgbY4xxhvOfv34XtNA20kC7MMsWA6Dq6mB5hsg0EjZmCxzruhlJ4Df8hz9E+o1zikHhTbKIN+BkkncAAOJJ3AUuzOylY4s5EEZ+b2ufnn1VtDDBkdTsvG68HRuTCiv5RgmKVRspcKvFlHJx89PWN1KZGLBI4l+VI7cEXtP4DfV0tzczyzzSOucDaAAUZ5KB5JphWnbu1solg6OKJguNpATXwiuJH3bcc8jTI69TK1FBJdXDzuF3KDL5xAzXUaILroq1yoYZ3Rih8rSsh1H9EtH9FHRNE/0K0f0Mfjq9EtfQj1ejXwr/AC/DV9EUSQsOADyGTRIrzhTDOuQRxJjLHrJwAAN5J4ADeaiMVujB7exbrHCSfkXHFU4L2muaQ/xk1Cvqlv751elX3f7NOMXMXjqv7aFkCF1eQBgH+Tkcd+N1aSt7iU8EjbJPM47udSlbmGOSQ5XCEBiSofhtqCCRyFTJPbzptRSocqy9Y1c7aQex1OtsIIm2m68CsuakMbXalrlk3GK2Bwxz1v8AJWlVERQqqOCgDAAo7lk2j3BAavOhguoQxtrdAuUcZ2XkbJO7jjFDAAwBXpvFT5H0Br2wklgheULlYsSkAv1A0wZWGQQcgg8xR/OyKIYvvzHYHjW6K2EUcY7EYDOokgcBTbKRqWY9QFJszzXTllJzsKN6p6s7+3UiujqVZGAIYHkQaWW6tEilJgztTRqq5PRFvlj7B39RpGiiILWkDEEry6ViNxY/N6l1Gs7O0GDKdl0ZeDo3JhyNTRzXCSPHblAqqsX0sL89+fZur0b6hqNMaY19C2/hivoivseGrSdxBOiKUeNiCOzuqUyz3brNK+AuXbicDUP0S0P0Mfjq9CtHjBF4mvUK9GtejioUOMS+FdUWr6C+FckPvHWcV5woPLPLkQ26DMkhHUDgADmx3CnSS5TJhiQkxW2foZxtP1yHf1YGr6EP8ZNf1S3986vSr7v9mnhNF7w1aV0il0js4kcxy+c7EkkMvnbmwM8BUcr3Fu5fpwwR5GZzIxfZAzlqjYtbaXnkuVBaOQTMxYtnjsupx1Fd1FVNhpC6h6MbiiGQvHu5Aq27Vzhm8Vo4A4mshOZ5mucTk+ym2YoYttz3DgO08BS4vL1hJMvo1AwkQ7EH451FtubSFtEQvNZEKmuEaKg/ZGNXK4XwPkcgfE6/kX9swjBGQIYpNhMjqbeaIkgY7T2LN5h7YW+aezhW0ptTJPPE67Lxug2EVh3tmuSeBGvfBauC/U8w3qvcnE9uK+st+KrrPN/do0aOv6DaxqFfCa6hjS4lQRxhY8BWI4qKvXvJZCNuSZy7nHaa5qK/y/DUOMS+Feji1D9Etegj940pNcehWt4FtHgftHV6Na9FF46vRLX0IdXo18KHJ/e8hFlnQ4kds9FB98ji3Ug39eKdpbiQDpZ3xtvjgN25VHJRuFHIo4NfQh/irQoV9Wt/fbV6Vfd/s0ZxJH741X1rGYhlw0yAr3gmtI2s0jfJWOUMT7KjaSe1lmju4E43NrtliAOckedpPWKvza3EkK9HeRIHEsL79l1bcw5rneprSc11a29+La2Ejkv0V6CHMx4MwfAXqFTIJZIrgpFtDbYADJAo4QcFpG6RbIyxSfNaVshIvvHGRVxM95aRNdNcn9NHGuUBPWzeaw7KIazs44bmY8nmdQ0SfsDzz6tcsMtml7LIsbph1CBokA5Ec99GjXKePyGCpGJGY9QVjV0iSH9HJmN/Y2KbEt26wRnq2/lN6lya3Rx2jRxjqVGUCjlTxU0o6STAc4w2F4AmvQtqwZ5m2IgeAPEsexRvNZ2UHE7yxJyWPaTvNenB9qLXnykbkHieoU3QNIuRFxc9wrRxOHIDsu2eB7lFXywZ+b0qJ+CA1eifHzelR/wcCtHMPtqpjb1A7mqcSpwYcGU9TA8NXo28gUK+u3HvnV9BfCuuLw1eiTwr0UXjq9CtDP5iPA9Z1eiFc7dPeOr0Yr0EfvavRLXo4dXok8KHOT3tTrFGgyzscAV0tnaHnvSeYdnONf8AUeykSGFBhVGFUVpaxixyadM+wGtKCYjlDFJJ/Ks9HNEkiZGDsuNoZFHIKRfxV1/V7b321elT3f7NOMFTnuYV11fpDJbTyTW4htVADO2cyBiVc9uATUlwbsTSTPcxlYnkeVssSFGB1CjwupaIXRek5yYOq2un3mPsSXivU1Sqlw+w0LsCQjxsHViB2ipnuLyG7E1zcP8AKdMbLqB81ArHCitywxOw7cDd7TVoola7iV4mGQklooGRnqfJBpOlkK7EUQ4ySPuVB3mirSW9xIsrgY22fD7XsaogLs3EsaKd6rGh3Tv9kjgOZqea7s9ks0775IXxnzscYyf3a3N+SW7N3sCTr5TRe95H9GryT3X6tHOyp+834Co4pQeUiCulUqrLHGZCyKX3EqDnBxXOCYfitKGaKJ2VSeJA3D1mtH3EEmyNto06VAe5C7L3HhVxFMRDJlVYFhu5rxFMFAQEk7gABkk0CDKuzCp3FIuI9b8T6hqwZXdOjU/cG89gpen0jP50UbbxGG4O45k8hTvLLJv6En3z/tFXVtY2ySbi7BF4H5I5+qp725x86K2Oz7XK1fy2bNw/KoWjX94bQoQXdtMuVIIkRh1qR4ipX/J1OJEO/YB5P9JDXmn5MsfNHHEV6N/I05fRW0N+8UMUcpRVXq3VpuZmYjpI5maZJB1MGo5Zrp2JAwMudrV6NfCuuDw1ehTwr0EPjqG7olr0Ce8dXoxX1ZfeNdVejFc7dPeOr0QoEBoYcHuOr0SeFDg8njURursAbUKnCx54GV+CD8TyFSLc3CnMYC7MMP6tDz+22W1M2yLO2wuTjgaUV1GvqFt/DFfQi/iLr3Zgt/ebV6VPd/sUimFSLUi04o0DS0B8nVdwRlF2mDyKpA6yCeFaStZZGOFRJAxJJxjdR3C4Yn2CoukimQqwJx3EdRHEGpk0vAOIlIgugPv/ACHPfio7y2VukSSKW2lBAZCDkqGFaQiJFxFmZgyCWCPz8nIGG80KwqwYof8AqbrMEXeq/Lb2Crx7qaLaMSBRHDGWGCVQZJOOZJpLYrdW0JDSyMuxIqbBICg9lRoGEUaM4GGfoxgZNYr0UfidfKSP3hrOykaFnPUAMml2bi9uHlkU8UTPmJ6hqJx1V9CYfgK+SmJ5e5D5g9bb/Vqt4pSInwzKCw3cm4ir65S3UxvNA8jSJIoAOzvOcdhJGNTYABJPYKXait+i6KM/OcjCL/M0rSSyuTDke1/5LSLNpOdNqKNt6xKf0kn8hzq5kuZ2be7nOB1KOAHYNbtNYu4/KLJm8xx1p9F+o06z2l5DtKSOKtuKsOscCKumeKfASIjGyAcjJ5mvRtr0rY24HHpLhF8TVxHcQS6TZo5Y2DKwyN4I1fWf5avRp4V12/gKFehTwr6vD7xria9EK+rL7xrqr0dW7vbpDsPIoyFbazvpGY4HAE1ay/I+iRUht7uNAqo+9HUHPLhU9vH3ZarpmKIASq4q3FxHuYFxvB7COFaPjbtfLUsMEYwi4TeTyVQBlj2Cuk0da9QwLmQdpGREO7Ld1QrFGpJCr1niT1k8yd51/UrX3Tq6jX1G3/hivoxfxF1+ig95qNbvzieH9gnAFHbYdVJimxUxFSt7acmj5OT5h1XqKr3IniUW4JjcYwSScNw508sl1JO0z3CBYWLFQnBRgAAYFcBKo3/cWsCjmif6Xr+ya3kcCdf0Br5wL7x18ip9jCui6ONiHupQTGzD5iAb27WrR1vcj6VvPsn92SrK6toUbpbrpkwCse8ICCQdo8aB3zvTrH0DCS6LqSpU/IQgDJLbzgEddaNlAHGS3PTr613OPYaurdkhEplzIAYwV4spwV7c0wBum21GDkRgYjHs3+un/Ci2GUj20CdlFG89QxSCgAZmCcOXE1uaUJLNjm8p3Z+6tXayroGAm4jVWUAR5UBSRhskbORTF7i6lLt69wUdgG4Voq/EUSF3kNvIFVRxJJG4Voe4nt9+zKNlQ+Po7RG1SMkkbFXRhgqynBBB4EamJWApdQDqDnYcD14Or0bauI0fcn2Rmi22RknOc+2ncfnU3Z3HfQr63/KhXok8KBAb8mx27tXoE8KjE0SIkckI3SDYOcgHjWjpgPtAL40kcbLGActnwofnwvmTx7mUdXaKurh8DkAtQswRcDaYmoVVCu8Y3GoUXuUChS8BqFFVCjLMxAAA5knhUStGeN5MCIf+2u5pfVhe2hJe3NpayytLIQHIRclE+bGp6lFaCto+2Wd3/BQtPY2w/wAu3DH2uWrSc1xCLCZxEQqoGDKAcKBq+pWvunV1GvqNv/DFfRi/iLQoV6KD3m1ekTwo6j/Xs7eyaJBLHBPxBwde7822/wBVdQpgoAJyTjhV9bMzZwBKpzjuNfOlT3Br9OvgfIU8McO2o2pMd5FFADFs8ftZqVR6quRHFGuXc4AAoT2+jDwjJ2Jbkdb/AEI+ziahUKmBn5oA5KKtIm7Ru8c1FsFj524cKXbcuFjjG4u7blWm25HYvNJ9N24nu5DqGqFX2twkAHSLz81iDQwkaKijqCjA8ngxY+0gV/0NrcOnZ0MWBR/O3+l7C2duZUAzMPWaEhgivYZJRGhkbZRgxwq7yd1ab07aNYWrSPBOqRW5UoT0ZQrtgHZ37RzSTmwSzBcxA9GoMS528buFWW1PLfXrvehFYRRIiZlV85ToirHAHnkgULaKO7llSO3hDDoOgVPMOQNrCsPPGQxzXyV0U4b1ypjUDjYbfjUMvLY3CIOG9kIFWkttKEbc4wDgcVPAio3Y9KnyVJ51ZzH9g1MOmkmD3FrN5uD9lqubWH1l6vGOyig7KY4DtqzW5SIqySMMOp45DCtFxuetyz+NWsMYVAAFQDFDzEUKKFCgDgYoUKHkxflsinDSBtmCM/al3gnsXJqYXjqcrDs7NvGR9GPftHtfJ1f3bc+4aGr+7Z/eTV9TtvA6hyNfUrf+GK6ov4i6/RQe82r0ieGs6iP64Mg0uN+d1HEibvLNfKGrflGwPVX0R4VKYpIkkQPjb82RcY2SQOPHrqYLcvKknS28YgC9GuyoCgncKlLKscahnOWOwuzknmTTinNbRw4I38xSUi0F1PsrkAADLMx4Ko5k09pbK3ybWaMuwX7TqdzHmBWiIpxjjbXA91wKsNJQSHcqNbE7R5AFcjJoKqxnags85ji6mf6cn4CsrH+LVL0S27qgnfdFIx4hX4DHbxpg6HgynKn1jVvhiLJbdTHg8vr+SvZ3/E8AW/Ag1/11vcRr29NFkUp6fR15Z35TnsR5ik9lTPBcW8gkilTirLVzDHDc4/Kegt0hafHpGXe1abvbe0wQIUlIAB4gcxUrqJk2JACRtrkNhusZGamllKIETbctsqOCjPAUirPeKIdHhvnbGUQ+uQ+wVdy3ct3dTSW7y736EEKN/UWBIr6J1c42H4VaQzBN69IgfB7M1bxRgEfJQL4UKUDJzUqZ/D20KG+tlQOJNZZiMbfAChQ+Iia+lU4YxsBCh6nlPmjuGT2VP06n/pIQUgH3vnSftbuypre3jRcKGdY1UDkASMCtPWAI5LKJD7EzU/TwCVo9vYZPOTjuYA1z0dce4df93ze8ur6pb+B1dRr6nB7grqi/iLr9FB7zavSJ4eScUPWKYH+tgHIoEbLZ7xR38x5ZrjzGtgBg5pgqZzsLXAY19dQy3Nww2ughALBfpNncBSXVof8APgZR7RkVeQS/dkBNI01zNkQ26fKft7FHMmpVlusEIF+RCD82IHn1txNSrHJdZEKEAjd1nt4Coge44oSL2VIsUMYycnCqO3tpXgszwhOVkmH+Z9FPscTzoYQDZCgYUDqA4YqE20p4yWzmBvXsYB9YrSQeN5VWYzRosqxH5Wy6AAn1Z6jShUUAKo4BRuA8lSfVURrZHrpx6hW0TA4Y/dO40mXTYil/WQcM/eWoOl+D3wihkeRQuVaC6/pk742303T6LvB0ujbxd6TRNvAz9JR5Ae30Rbvm7u+AIXeY4yeL+7QEWgNE46SaMfmwkfmNKPsqPNj6zUQjt7aFIokHBUQYAr6J1gavPcfNHLvNNhPoDhQqRl7OIqNNv6W/wpy3gPiCAqjJJ3ADrJqBr48OmDdHbr3ykHa7kDVcm4U/9NEDFb+sZ2pP2jjspVREGFVQAqjqAHCriaHbvJQ/RyMm0BHwOzRLnrbefx1fX7n/AG1zsJ/cNChX1CX3l1fVbfw1dRr6pB7gr/J/iDX6KD3m1ekTw8s4oesUwPd/WlHSKN1Z6B3w32TRBDDIPx5GyjbM14RlEPNYx89/wFIXkdtqV2bakdvpOa2gOojIq1tZGPPZCt7Rg1FsvIObF2IHAZbOFFYknXc7MD0UAP0scW6lG/rqFLmSQHpJZkV3fIwc5G4dg3CpOliH/SzucAdUchyV7myKjuVvHHm2hiPSE9/yMHBw2cYBoq8qHMUSnMcJ6x9J/tn1awT6qjbwoKPXTj1CmY/hSZ7zSKPV5K5R1KsOsGo1lsrhlPnZxkfIfI9hpBAsQBtJUXfbuowrL2ciOYrQ40roCZj0I4gD6drIfc3EV8MrWIvv/INI+ZKnZnc1aU0IkfpOncj3K+FMelZ03jR9lwY9RCFmPrK1osaG+DkWI5nA2ECdUrp/DSlMkshDXV04AedxzPUo+aurqPkchuHWTRyScn4ueOCP6cjBRnqGeJqyKoeFzdhok71j+W3r2RUsmkXByEkULAp+zCvm+tsmp4YVUfpHVAAO8itNWDzzSLHHEkwdmZjgAbOdX1yb3Nf164/lXOxn93X9Rk95dX1aDw1dRr6rD7grrh/iDX6ODxbV6RPA/EsVIpOkH0huNSA9a8CPV/V2AAFcOut4fjTdsLnmPiOB41vB8iRY40GWdjgChJaaOPBN6zXA+1zRD1cTSIqoNldgYVQOSimaefnFCDK/7WNy+sirC1itxs9CJZsP25Me2PDFQaP/APNL/wD4r8mgtWVunlhctIOoKXC7JPIgGogqLwVRnj4k8zUbUAO809vHKqukUrgBgrb2Cs2NxrTlrkcVR9s+xA1TXU5H0Ldz72zWj9IP3RRr4tWi9J//AFf/AOqsNKp+xE3g9T30H37Un3C1fCCzQngJi0PvgVd29yp5wyrJ7pNDUPJISVMmOTq7D2Go32E3I/EqP9y1DbX9nL8qORRIh9R4Gri+0aT8xGE8Y7lk318Kbkx9Qs1/m9R3WlXHK5cLF644gtJFGsS4jtbdVUL6lwFFWywwkjoCM7xz48e/V1eRwTee8/FO1xcjjb26maQfeC7l72IrotGRH7txcEfw0/1UjTXOP/yZ2MsvqZvkjsXArma0xpBokvrhEj/KHCqqyEAAAjcKJc9bHaP40OGkrb3xq5XU3ua/rk/8q52U3u6/qb+8ur6vB7urqNcraH3BXXF741+jg8W1ekj8D8WxVhwIOKXpk+lwapQW5qdzD1f1UkKNZ2Z4ztQt2jlXm3UHmup4nHxHyTW8a4kkVHDgMu1hl4HHWKiZVwcFgRtH7XZV70wPGGNxDF3FUJZvWaWOKMcEjTC+wYpnNec3VksfYKs/N2vOJABx2DNHhxHAjvFMbydeKREbAPa9SR2SHlEuW/fbNXM07dcjl/H4iR4nHBkYqR6xWmJp41/RXWJ1/wBeTWijF13FodoeuN/5GtIw3agZdVOHT7yHDCh5MKyLy5Fe0HlV8UP0WYo37y7jUAmA57Cv+KkVZIp6zH/7ar5IIzxUOF/BKH5VIObjzAexfK+aK4k5J8u5igUnzTIwXa7FHE+qtHSFTwnu820feEIMjewVfyzqeMEObaDuIUl2/aardIYhwSNAq+xavrW3A9LMie8RV/bXiwuElMMgcKxGQCRXWKHG/uf4hoVy0hb++NX1iX3Br+tzfyr6pL7uv6o/vLq9BD7urqNfV4vcFdcXvjXG+9IfmnrNQt68CgAWdcb88B5Q8tipHAg4odOn0uDipQWxkq25h6v6mMg8fIHnwkflSDmv08eNMMMPOHUfiDu5HWCcchX/AKNRo3eoqJR3bvCgx3YwSSKUKOoDFOsccalnc8ABxJotDZqSAODyDrc9R+j8ddSWs8RyksblGXuIoLLe3LiO2u4h/SNjOJVHvDyXWNRxZyFHtNaWsGuZW2UjEysxPUMGnoGs0xoYx5J3LvbyZo4Ix8+Rwi+1qsrm9zwlx0EH/klxn9kGr9LRD+isl871zSgn91RVuonb5U7kyTN3yOS2q8mtLg31unSxHDbLZyK0tpC4z9O5kYezNLk9Z3mud7D/AA66xQ43tx/EOrlfQe9q9PL7o1/Wpv5V9Vl8KFCvqre8NVtK46KLeFP0attn7zAVJCm7tapc7MSDcvUoFdI4YpkZxwYHlVkh7Wy3jVtEncgFDGdjVzI+IG7yyQRvBBwRQ/KI+3c49dSgOBvjbcw/qIG8UNx1jI4EHgQeINbR0XfN5o9G3NO8cqYOjqGVhwIPxB3/ADTrG/rrzh5BwLqZjJ2rGM49p+KkUeuiW7hUZ9ZrZXuGalb1HFEmj0FrBds8s7ghEAjbiavnuSOUELt+JwK0Rcy9TTSrGPYu1VtY2w+60p/1GtNXKKfmw4hH+gCriadjzlkZ/eJo7JByCN2CKbbvrDZSRzxkQ/Jc9vI1JinzQ1kbZ/AUVPqqND7RW8scnVcw26ngZHCZ7s8a0fdXQPCV1/Jov35cE+pTV9FZof0dmm0/rlmB/BRUHTTj9POxnl9TSEkerFaXRLqHAkhVJJHXIyMhQah0ndH7MAjHtdhXwdc9RnugPwRTW7aRT7Rmvr9v/uoUK53cXuV10ON3N751DheQ+9q9NL7oqN2+6pNWk3rXZ8ajCHp5DgsDUirtwuvAnGRU8rdwC1E7/ec1bRoTERnGTxFADuFD5q0KFDgoocSKAoUOOPinUeupBns+IOCOBFf/ACIu04ceupcPjfG25h/UBvoax+alG8jijDg47RTbLow6J+RDfJZfst+B+JOHA9vkjV8gG4Mn3TsjPq+J2gesGsOPYaBB7fIiiU4GcoD+PGlZe0ecKYMOsHPlHAewbd1lXU0fJOSTXLiaulnlH6K3U3D+yMNj11ovoVP6S8lEf/1x7be3FaVmxzitEFsv7/nufaKtYllPGUgvKe93y1bu1t34mr22efZLdEkyM+F4nZBzgaubw/wloUtco08K+uQHxoaonG1coR5p+hUTcRx3U0EYeeRhliTgsTyFXnqSP/2akndkmRhkgDIPYKTPeTUKHDMRlR1UMUKHzmocVNChQ5axQ8simrJpaUCiBTtTE/F6RtIAOPSTKviavW0lejdHHaKX87tYVafk2kFiMhTOfzecAt1N/UB30NQrC6SswzWjH9IvFoW7Dyost3b5R1fc52dxDfaXn8QcEVuYcR5XzYZT7WFAvDyA3snd1rTBlPAj4lQR20xU9XEU9qjngZZ1iB7i1aQtIBjOEDSH+WvIbrBwaxIO3cfaKyh6m1uqIgy7scKo6zQK29voV1iB4nbmTLntNHyLETKF3SPOsSA+xmPqFX9var9G2h22/fmz7tdPfN//AGpWlX9zcn4UiRoOCIoVfYKGKbYmisp3ibAOHVCVODXwgvwDxEbiIf8A1hau7q4J49LK7+8TSAf/AALgcOvZrfWj7iVXaPDhDg4RRxNWiRfrJVHhmru1j7gznwFSk4AG4UjyJ0qNjbK7xnqrRsHewL+9mreKP7qKvhX0x4ah89qFDgw1DgTQoax5LAVItEmlNKKxTUfi5UjHWzBfGtM2KY5dMpP4ZrSTTt1Qwu9fB3Tl6eRW32BXwJMIPB7u5CVdfBzRa9rGVhX/ABFZOtLK2ArT3wl0keeZzGpr4Oidx8+6uGkrRdpAzeghA2R1luQpumupsNczn5xHzR9kf1AUPNJ3a8jtHjQKujKdIxIOONwnA/BqI84DbUHOy3V3dXxB3jyvkNCyesHOpijHiRz7xwNIG+0n/o04z1Hcfir2VIMEFJCGhx3PuFAzvFGXk6JSyqoIGSfKjeRpGIVAQBkdZpgsanKRLuRf/Z7TXB9GYP8A5AfI+eSDqtLWY3KSs7TbR2dggDAUinjiB4C3sgfxbarSGl9k8ulEC/hs05aeNZNt3l6RiWcne2/NShRLBIhIGcbS4q5uZO4Kn8jVk0n6yRj4Yqwt4W6NhtKgzjvNYFdY8PI+mNQrmw1DiT5UiL3sBVwnq30zt3LULnvIFQqO8k0UXuWpW9W6nY+v4vdV5bx4+lIorScJPUmX8Kivbk9UcNfBbSEvU0nmDwrQ9hZjrmmyR+NfCbRdkOYiQMRXw10ncdawKVFR6Wvm65rgqDXwascj50zGQ1Z6PtR/lW61fygdSYXwqeaT7zk0o9mq0mnY/QUkVOLaLiYo/OkPr4CrZIV+ceLN2s3P+pDeBQ4a1DbiCpGQ6niprbfQ1++EXj0Z4mL7w4pTq8ciBkYcGB4H4jep+UKOQRuPkbmALI3U1IUdfx7R5DsPXRVvVUY9RpWFFvZRf92llPsH/uoM/ecnwxWxH91Bn2nJqRnPWxJoZxozxlWrRY5T+li8xvwq4S5T6D+Y/t4VaywN9tcA9x4HX9KTwGqIo97GBCrcREOB9fkZwDSA99Qw5UEZZRkZqUKOoA1K57gBWcDrrAJUgVIg9pqVj3ACtstgjJOpSckeFLRA1ddChUiL3sKuE9W+mdu5agc95AqBB3kmii9y1cP6t1Su3ex+LBqeKP77qvjWk7buV9r3c1cSSnqSMnxxWh9IT9XmY8M18HejHXM+PHZqbRlmO8Ejxr4WBetYE/8AWK0rpS7PfsitFyzHrmmNaH0fGesptn8aeKIdUcSrV1Kf2seFMW7yTQAo02KbNKxpMd5qRFq5kPYoArRkazj9LKTIp9vCkjRMbggAH4f1UeQCbe5GGI4xv82Re0GnAljcdBKT5rh/kOp+jJ+DfE70PHs7a3g6+o0mSPkuNzL3GlNzEPojzx3ilKsOIIwfjOVjGPbJrhSVDxVlDA+2i9lIfob0/dNQC7iHzoePrU1azy3LGTEKoS/LlSr5pDR2QOR3yH+VKFVUAAHkqaU0hpTSmgaBrNZplHealXxose4VEx7yBUSjvJNFF7lqdvVuqRz3sfiwTUiRAcS7BPGtN6PQjl06sfYpNaSaY9UULt+JArRWlLtuWzGq/wA2r4FXeDwaZmA8Fqw0Vo9T6R1JHtZq+GFha9awgZ/ALXwu0lddYiVsfiTUGkbo9ckoUfhitA2vfK5k8c1a2UH6uEVcsB1KAKmkbvc1ijRpqag1JisCnNFjS0tCloas05KA8Kbf/VBuNDzTrFADS2jwz2TH9Mnz4G7+VMRe26lZVf5bBdxz9pTub4k+afknq18RrtI3P0sYYesVdywk8FcbYoQXIH0X2T7GrRV0AOapt+7mraZPvRsvj5EEr/dQnwrRF42eZjKj2tio4LReuR9o+xavZbk80QdGlWUUCbG/YGCTniTR9RoYoUKFQp0hGNvZGcd9Dy2UeupUose4VGx7yBUajvNFR6qkPhTsfX8XvohB1t5o/GtNaOhI5Ncx59gNaZWbsghlk8FxVhpa9bkEhVPebNfADSc3U0pcD/SlfBjR2j1Pzp2B9+SvhfobRi8xEUyPYlf8TL2frS2EjD3qudO6RfrcrGD7QK+DDSkc7i6ZvwBNfB/Q9r29AJG9pAqeOEdUUKrV9cN/3Nn3cUS5+0S3jWB3DFNRFOPbTZoNS1upzTMaFChQoUtChS0lLQoUKFEiuP8AVBvocDrJBByD1HrpSidIv/NoVGQj8BcBRxVs4cURhxh0B2th8ZIzzG/IPMfEnzvmnr7NYwaFDWKjU94qzgbvjFaPtv8AxLVlbjujUVEi9y0tDUPm6xqFMg72AqZPVvoue5aic95AqJR3kmig7lqVvVup2PefjAcVpC0h+/Oi+JrTED45RB5fcBoX1wepIAvvstfBHSlzngWyPcRq+B8Nsp4NOT/vdK0pofRintiBH+l6/wCJrL1pbO7e4yVpzTuk27EwD63DV8HLu6I53F2VHsVq+COhISODSJ0zf6hX5FaLyEFsq1pO5PYrBPdAqeWT78rt4mlQeoU1NTinFbRpWpaNO1ZNLQoUKWloUKFLS0KFClFAahQpaGvrrq/qg3ihqFRrIjoySRsMrJGwwVIoyT6A0kSbVuJC5yYv1kWcp1ipFkilRXR1OVdWGQQeo/E/0ij94desahQ1jyBTKPXTiizdwqJj3mo0HeSaZR3LUz+3FMT3k/GKTVzDD9+RU8TWmLQkckfpPcBqe4mP2ICPf2a0DpK6J4bgPcD18D5EB4NNt/7ujpdF6PXrYx5H8Svh7bW/WsLk+5sV8K9KXx5iONiD62260dpO7PXLOIgfUpWvgpo7I4NO5mP4hqstGWgHDorVRjwrSMqjqQIngKuriTP0pnPgRSqT1kZ8aOO7dT01OKbNKxpDW6nPqFM5oGlpaWlpTS0KFLS0tChQoeQKAoDUKFDWppDS0eFcB/VR5p8gFYZyGSVflW84+RKlMIp4p9iBz8nbk3rsn0c3FepviThlOQawHX5a+Rup09ZFFT3A0rmo29ZpQKbHcBTv7aGe858o+UCanihHXI6p7xFaasAepZg59iZq9mm/V27n8WC1onSV03LCovgWNfAu6weDS9Jj3UrRuj7FTzkKbva718MdH2Q5iOQD3FWvhxe3Z5rCjv4s1Jpe8PWzLED+C18GYZMc7m4Z/wAMtWiNEWuOBS2DH/bV50Y6o40Ufzq9uW/7pHu4rDHrYlvezRA7gBTUwpxT1tGkahimxTtW0aWlpTSUlJS0tLSUtCloUtAaxrFDyRSk+qkNDFGjqUUgoD+sChqFDIPEddJtaW0fExg5G6g4vAcfOHFOo1KW0nZRjbZ9zXEXAS/eB3SdvxJwwpYx6ialx3KBUrn9qiTqPxQJqRIx1uwXxrTFipHITKx9i5q+kl/VQSN+JAFaM0ldNywqL/NjXwIvXB4NJ0p8EWtB2Nip5ybGR+/Ia+FmjNHjmEkUEfuIK/4i3Fx1pAJZP99XWm79vurGD6yoNfBl5sc7i8Y57wrGvg3oS2xwJh6VvaQKnhgXqhgVPHNaQum7BIE90CnaT77s/vE0qL3KBTn20aanFNmlY0ho4pzTMaFLS0DSUlLS0tLSUtKKFChQpaHlDyAaQ0mo6gKFLQH9gDfQ3jWdkg5Vuo1/8cflGbxAMrDO24syjjFNwcUNgnzLiAnLQSgZZD4qeY/qANOqDrZgvjWlbJCOXTKT7FzWkDJ+ridv5AVZX9yfsoq/zNfBC+fPAyB8fggrQVnZjrlK/wC56+EWjLBTxCuoI/dSv+IMsnWkO2/++r/TN+3YgQH1la+Dk85HO5uj4Bq+C+hICObR9Kfdp7W2HVDbqviTWkrk9zKnugVLLJ9+V28TSRjtCinNNTU9PW1SmhimNO1EmlpaWlpaWloUtLS0tAUtKKA1Ch5A1jWDSGl1HUBQFKKH9kDd5EKzQzRNHPEwyJI2GDQludCX5AVvTQ8QvV00XKrhLi2nTailQ7mH8iOYO8eWCanhhA5ySKnvEVp3R6nqE6ufYma0hJN+qt5G/EgCtF6Uuzy2UVf5sa+BN8wPBpS4HuLWhLCyB5yspI9rmvhLo2xXmE2QR7Er4fzyHmsJY/76vtL37d2yD7Vr4PzTkc57g+G1Xwd0RCRwLRhz7tNa246ooAPE1f3HqKp7oqeV/vyuf50kYPXsinxTU1NT1k0ppabFO1FqWhQpTSmhQpaWkpaUUBS0tAUPiBQ1ihSGkrdR1AUtKP7QHKhu18RVjFfWE4xLbyDgRwZCN4I5EbxWmXntnbaewuyA3c21lJO/zWr4CSkrxlgEsQP8Ra+Cmkw3UJU/mK+BOkZm6jOD7iNX/DuRAeDTGc+Kx1o/Q+jFPNghI/ed6+H1jYLzERVPdRa/4l3t11pE7t/varjTN83XjGf9Ar4Lzzkc7ic+G3XwV0PbkcGZFc+7RtLYdUUH/s1pGf8AZ2E8BVxPJ9+Zz/Okjz14BpsU1NTU9EmlalPtogU5pm9tDNLQNLSUppaWhSUopaFLQoUKHkih5YNIaTUdQFKKUf2wN+KHkEqfpCuhkH2oxn2jFR2qntiLeJq8WL7kCDxzWk7n9kqnuirieX78zt/Oo4/3RRxRpqYU4ok0jUv40QKc+oUzn10M0tCloUtLS0tClpaSkoUtChQoUKFChQ1jyFNIaXUdQGaUUo/wAPIFEqaG1SNSN7KRqXHrogVIadj66BNLQoUtLS0KWloUtLSihQpaFChQ8gUPKFIaShijRNClFLQH+BxxFcNYoUKGpaWloUKFClpaWhQoUKFChQ8kUPKFIaTUaNAUoxS0P8HjeBQ3jWKFChQoUtJS0tDWPIFDyB5ANIaTUdQFLSih/hcUNQoeQPJFDWDQ8hTSGlxRo6hS0o/xANx1ihQoeQPIUmkoYo0aFAUtAf4nAoZFDyVJpKGKNE6gKUUP8XigNYoCloD/APWh/8QASREAAgEDAQQHAwcJBwMEAwAAAQIDAAQREgUhMUEGEBNRYXGBIjKxFCNCUnJzkSAwM0BQYqGywQcVQ2OC0eEkJTQWVWRwgJKj/9oACAECAQE/AP8A7b0PjOk4/IWOR/dVj5CmVkOGBB7j+bs7SS+uUgjwGfOCeG4Zq82HtOxTXJCTH9dd4/ZguXAAAxgDfgZ3ULuYcDzzTTyOMEkjOcEk1qPh+ArW1a3+samJARM5XSD5k8TR3wKW4hsL5cT+YsdmT3p1e5H9Y/0qx6P26AHsgf3n31Fs2BBz9MAV/dtpG4nVPnFBAbzqCMJCkZAICgGtv9CLa+V7jZ4WGfiY+CP/ALGpYpYJXilQo6MVZSMEEftBVVI0V0DNx38s8quVDIrgAafZIH4j8vZlh8rk1P8Ao04+J7qsrJUVWZQN3sryAoUKRdcsa/vAn0q7upbbGgJgoTqY4AIZR4d/fVjdzTTvHImPZ1JgY3eOTx31/aDsJHgXasK4dCEnxzU7lb04fspYCce2m/HOuwAGTIvoCaeNVxpcN/CtJ8PxrA7xWB31EiyQozswO8D2c5A4c6vFCCMDJTf4b+dQRiaQLggczngK+TWx3aSM885xTo0bsrDBBwesAkgDia2PZLGqJjdGMnxY0NwpZYyQA6k92aFWi5lLdw+Na1jXUzBQOZOKk2xnK2kRmb653IK6aHanawNcXTyRSgkRjciMvIAfsrTI3JjQgmP+G34UbeZQSVxjjkjqCsRkA1pbuNQJJcRIyLwAUjhgqKvy0QWEjB94/AVaMyzqoBOs6SBzzRsnUFtSOQCQozvI5UzM7FmOSTknr2ege9hH72fw31YJptwfrEmp4e3j06yvtA7vCksyGjcuNatvKrjI7uNDhUF3LoxFF7R4sfdFGBpiGuHMh5Dgo9KUAAADArpugOy4X5rcAfip/ZXbyYA1HA4bzXaP31qNbKQS3BZm/RjUB3mpAJUZHOVYYbJ5UwAYgHIzuNWQjFpF2fDT/HnW2Wj0xL/iZJHgtbNljiu1L8wVB7iacNGjO6sFUEk44AVNJ2srvgLqYnA5Z69msFvoT4kfiMVZ/wDjR+VChSLu3/kdOZgtjaw83mLeiDH9f2bsiCSa9QqSAm9z4d3rV1aLNbSxp7LMuAcmmUqxBGCDg1si1FvZJnBaT2zzxqFdILdFaOcEBm9kjvxzrZEUU19GJCMDLAd5HKmCsCGAIIwc1MIhNIIiSgY6Se7rRzG6uvFSCPStkXKXFopU+I9aFRpzPVLdxRMykMSpUHA+twqCdJ01L6g8R1dKtoi/2oyocxwDs18SOJ/ZQjixkuc44aedW+yprpNcMcki5xnKqPHiau7ZrWdonUoy8Qxz8K2M8qX8aR+12h0sPDv9Kv454rKd4d7qhIHVsCCU7PUyk6Sx7Mc9NdJbeaO4jkyTEy4XwI4itlWsl3fRIhK4IZmHILU9rHPDJF7utSuRxGamiaCaSJsakYqceH5GwtrfIJwkh+aY/hUGh0V1IYMMgih1G1gMhk0AMSpJG7JU5GccajijjzoXGcZrpLt9LCFrW3fNw4wSP8MH+v7BIwaAz1YGgnx6n4j7K/Co/wBIvnQBJwKeCSOLUwxlh17ONubGDsP0egY/rnxrpPLA93Gigdoie23nvAro9cxW+0AHUfOjQrdxNXs/yK0luGU4RfxJ3CmJZie810enlvdnrld8R7PPIgDdXSqacXUduwKoqhh3MTzrZb3CbQg7AZcuAB3g8QaurecW0vYEGXQ2jzptWo6s5zvz+Tsjb13sptI+chPGMn4HlVl0k2TdgfPiJuayez/HhQubZhkTRkd4YVc7a2VagmS6i8lOo/gK2p0xllUxWKGMc5W970HKmZnYsxJJOSTvJ/WBzpYZW4Ix9KdGTcwII4g9Te8fOl5+R6vojzPU3H0FLx9D1D9G32loRSH6Jpwcjd9EVCpaVMAn2hVnBh9bcRwq/I7EfaHXsaxSx2dDGCGLDWzDeCWrpbawQXqSoQGmXLp5bs+tdForeTaimU+0iFo172FXfyf5LN8ox2WhtflTadR05xndmuj0kEmyYBCunSMMP3uZ9a6YXULyQW4UGRMszcwG5VsK7Wy2jHM6goAQ5P0QedXO3NmQQu4uYnKqSFVwST3bqnme4mklf3nYsfM/sIc6Q3LLhNZHDdUgce/nVnn1N7xpePoer6Pr1Nx9BS+8KAJOBVtbkrpUZYstHZ0wlEYw2r3SODDwJqaFQAVG/G+olZpFwPpCkTQMVefOKz8kOkefPqjiZ9/BBxbkKtOk15ZW6wRxxsqbkL5Jx6Gry8n2jdNNLgu+AAOA7gKzLs6UEHTOpBzx01c7X2ldxmOa4Zkbiu4A/hUUcZjeR3X2CMJzajNKSTrIzyBwKALMOJq5Cr7MQfstxywwSfyLPYmzru0cvEFI5ruPD9gDn5VGbgoVj16c8qlEg3SatWefU3Gl4+h6vo+vU3H0FIjFlwDxq2tW4moIjbmTUpUxb9/HUNw/A0bowxaMZLH2ce94gU06PgyQSKzA5KMpUHy40ZbePQdeFzxZSm/1otJLnQNK/XI3+gq6QJalRwXHUrx9gIjMwUnUygc6OATg5FIUDAuCRzAOKkeJgcIdX1i3Uk7IuAq+op21sWwBnkKVijAjjTTSsCCxweI762ds262rc9hbhS+ktvOBgVf9FNtbP0mSAMrcHVt2e7firi0ubRgs0ZXPDuNbG32xHeR8K6cdHtm7Jt7a4tUMZkk0MoPs8M1svo3sS92ZEJLOLLwxksBhslc5zUyCOV0HBWI/A/lLG7IzgeyvE/q4qNrjSVj14zvxUgkGA+rI7+puPoKXj1fRPmOpELso8N9JGSyRrkMcf6R/ueVQ2ciESdq6BAWwSpPs+DA891S3N28Cx5RgAMk5G8bs4353UkYTJyWY8WNNwXy/rUByTGeD8PtcqfczeZq8/wDGf0+P5vonZz2l+LmUARtEV3bz7WCK6S79nQ/fp8DXS21ubmC3MMLyCMuX0qTpGBvOK2Nn5P8A/r8K6c2LX9haIrhSLgcs8VNbAJWySIghokRDnngYzV4MXdwO6V/j+SqlmAAyTU9zrQRALhT7wAGf+P1ccfQ1GZRnsw3jgVJ2uMSasj63U3H0FL7w6vonzFRwPKMioYVhUF/hvNKwiaZpFAn7XcAB7PLiPqgU7u+NTE4GB5UvBvL+vUfdWo4pJWKopYgE4HcK7A3sjdiGMu8smNxxxINXSMYJVwcgcPI1bRK7M8mezjGpvHuUeddhaXP6BzE/KOUjB8n3fxxU0EFpYFJUYXbyD2WGNCD+pP5WxreG4ncSoHAUYB866Q7BjtY45bSGRiSdYUEgADjWwd1t/pT4V0h37Ni+9T4VscAvLkchWAt7egcp2+NdITm1tvC4T4GtlNgS+a1tAYv7of58n83UqO3BSfIU0UiDLKQOpvmlKj3z7x7vChARA0jeGP1ccajeZQVjzg8QBmn7Uj5zVkYxqrBph8BSj2l8xWKRXlYxpx3ZPcKt7FAURS4JIH6Rv96eGG2jxG2oyb9Z3sVHAH/ahknNEb6UDDeX9eqK0eaIMpUEkhFJwXPctFmtYARlZJG8iFQ/1Pwqe/Zj80gjJbU5H0mFXW0riW3Yo/ZyADUU9ktjgSRvJFT3TzoF0Im/U+kY1twyRRFHJ4nPVisdS7H2g8etYcjGcAgmtgAi6kB5KPjWyArSS5APsiiqpf3yqAoEu4CtuMDs1N/00rZMqK8uWHAU8ii+vDnjMTW2bhJbWEDlMh/ga2fdJH2mc78VewvNtK70Dd8ok3/6jUNlEm9vaNcBWAwwRnNLsiWTLW8bluGQpYL/AM0ejt/AhmmTEabzvGavN0Den6qBWKHGo3lXUqZ9riMZzRS5lDaldioycg7h30UZSVIIIOCDRU7vKoo2d1A7xQtRGmojJ4AHmTVtbLChHFjvJ8aD/JUkjBVmfc3hijwHURvNQQSzMUjUsxXgKihMkqRjizBfxq5n7WTKbkUkIO5anmluH1yMWOAMnwojJJNSg9m3lRUisGiOVFa00RWwbOwl2Tbq9rCwa3j1ZQe1ld+ahC29xdxxqFRZiFHcBR6N3GyZWujKrxy+GCCTmtmyyB5ME+6KkL/LrvjvetpBzZDOeK1YK2p/IUyE3Nx9utoKRbp9tatm3t6Vebry4+9f40CaGW3CgQnDj310cXNlJ98fgK20uNl3BxyX+YVefoG9Pj+qY6sUq7xUbSLnRnfxqSe7iAcO4KkE8Qcd4oRQ3jNIswVnBbQQSS3geG80sDsEJGARx9as9mOQjHCKcEZ5j61BO0mZjwjJVftcCfThVkFjl7Z9JWPeQfpcwKIzvPGsbhWBSwTSB3SN2VTvIBIFZMNqSPelOB9ld5/E0L5XRmkTVMEIV84JyMe131p3eprTmlheVwqLkmk2fczK+FCqMguxwo9a/ulOHy21z9urnZt1agM6AoeDqcqfWtG+ilFa2HDHLM+tFbevEA8TWyI1jR0BOkBcDuoqPll5981bc0nZq/bStnsFd/s1Jvvbk97Cr9s2ePFas29pvKmP/VT/AGqvWzbL9pahwdVXy4vbj71/jSpnfwHfSqz+zGpPkMk1JbzwgGSN0B4FlIzXRgA2Mv35+ArboH91XPkv8wq8/QN6fH9SA6gKAoLSJvHmKi7RM6DxGDupllcYfJxwBq3hktZA2higYMuBnSe7HdUctpOsZlniyh9oFgMJ3AeFT3DXLHsFIB3A/RUcN2eNaLeFSdIYnToGeG7fmmk1xkFQGJBYjdnHDdRWtO6lQkgAZJq5nMEqxxt+i5g/SPE1NPLcuGkZmIXGSc0ASawcUFqKKK1gZ5OAwG72bkvl30tvcbR9uV9MfBVHD0FHYlppxmQHvyKZbjZMmD85A+5lPBvAjkauo7dbluwYtHkFc+PKmSuh0Ecl7N2kasBFu1LnfkVt6ys4VgmiiVZDKqswGCRirB8F/Sif+quvvTW1pNViB+8tWraWPlTH/qZ/MVeOPku881qKVUJLMBu5mjeW4nmJkHEVd7UtTEFVixyKXbUSHCxsxNXDrJPLIRvZydOeGe80SW41syP/ALfbfdL8K6TLiK38WaujR02Mn3x+ArbbZ2XceS/zCrwfMN6fqQHUBSrSrSJvFRB0Ps7s0iOxAYk44UIwOVadwrTTLvNZXvFalJAGSScAAU0sFmPbAkl+rxVPPvNf3pCvtLbIrj3WBYYPfjJFGUk8KWVs8qVzjjQY441ZKHuYwe/P4b6nhE6QoxIwsbebStvqaZoCiqg0YGW5Dfio713Y5QFSpI08Rhsb6v8ARPs+RuWAR5g0PeFZGoeYrZ+gRh+JDbmzW2to27RQq0q/phz8KTbNjBqzMOXAE0du2olnbDHLkirnpELqPs448AEEkmv78mXOkIKO05y7sHILHfUt9NKuGdiO4mjOxrtGJrBHvnHhzqE65UTgrOoPecmo9jWCcLdfX2vjW24UhvtKKqjs13AYFbMYDZ9r90vwrpQwMVt9pq6Okiyk++PwFbZJOzZ/9P8AMKuwewb06sfqA6lpaQUgqLKtkHFKzbt+aGajiklbSgJNSWlzGuXicL36d340sCKnazEqnIDi/l4eNG+hJw1vCRyGkjd5qQT61Jewxqewi0ORgtq1EDw7qLFq1GtRoGhQzVgdN3FngTj8Rimjfs4mGCxjUAfvwnePWljgnCS4Vu44oRRrkhQM8d3Grx4pD2G7QuHmPJVG/HmanlWWZ3ChQzEgDkKY0bqQLgE4rVNLjJwKeNyPZb8aWCYk6iBSIEGB1CuVCPHvHT4c6s4Tc3McKHQXPvHedwzSdGE+nOx8lx/vTW6220eyXJCTgDPga1itvnVtAn/LWtntixt/ul+FdJDmO3+01bAbFm/3p+Ara7f9um8l/mFXZ+Yb0ob6xRWiMfnhQpTSmlNIRSNSsKhjLgux0Rji5+A7zVxfAL2UI0Jz7286jvpoTlGKnvBIP8KuLqW4Ys7MSeZOTRU91RWlzcHEUMkh7kUt8KTo3t2X3bCf1Qr8aPRLpF/7fN/CptgbZgGZNn3QHf2TYoq0bFWXBHIig1BqD45mjI96iywuRNHveMHiRu1AVHtKMMS7PBIT7RUZUnvKnnUm0oiPavHYd0cekn1NXLzyWxZI+xtweBO9yfjRNMaRNbAUevlQUscAE0qqvvN6Ctm2Em0XdInEegAk8Tvo9GFjid2nZtKk7lxwrYm7alv5t/Ka7QVdnO1pD/8AI/rWvxrbOGvSf3FqybFpAP8ALWtvHVHB5tWxDi0f70/AVtVv+3zf6f5hV3+gb0+NDqxurG6ilEEfmxQNZoGlag2KV6WSlkou7LjUdNKgrA7hWzdl3G0pSseFRfec8BWz+j2zLUAmITP9aTf/AA4VCqooVQABwAqPgKXqubKzvV03NvFMO50DfGtqf2f7KulZ7NmtZOQ95PwNbT2Vd7Iujb3IXUBkFTlWHeKCml1IQwYqRzFRbRE4Os28+k4JIDMPwr5ZEn6OCJD9bRk/xq4eWdtbyl6IFEVEmlc8zRrBoxke8QvnWUXgC3nWz9i3G04O1EyomojGOY8Kv+j67Ps3nM5dlK7sYG84rou+mW5+ytXMxNvL923wrZBxtCA+LfA12tTnO03P+d/Wi9bT33ZP7oq2lVbaIFgPYWtsTRskXtc2rZl3FDbMD9cn+AraO0Y3tZEA445+NTza4yuBWKArFGjRFEfnBQrNKTStSvStSsRQNCujqKuyYSOLM5bz1YqKo6j4CssBuGTUlxOnFAtS3U/1yPKumvTdOiaWrSW0l01yZNID6caMcSc99bb/ALRr7bNwsqWkMGlNIBYueOfCp+kW2Jgc3JUdyALVxdXNwfnZpJPtMW+NdFLya121AiH2JyUdeR3bj6V+FMKSMMcmjAG4JmuzAG8qK+bXgCfPdTM43e7/AAq02Bs+S3hlkeQl41YjIA3jNbfsbKyFv8nQrq16iSTnGK6PzaNn4/zWrbs+rZ0gzxK/GthXEULzlnAyq1cbStuykAfOVbgKsLuOK7jfecZ+FNtheSipb0tdM+4fOZptrv8AWNXN20smrPKhtB1RVB4DFT3TS4yeFCd1XANPK7biaOax1nrP50dQNLS0tIM0ooLWw5DHYQ43jfkf6jULow3HHgaQEYqPgKWiAauLJJkbQezYjcwGR+Ff2t9F+kU1tb3oeO6trISmQphGQPp3lfTqyaIJro4gXbNn39ofhWqgdRxVvG08ixRKuo54+HnTbKk/xrqBB3FiaZoorgqXDqr4zyIBr++rCH9FCB9lAK2vtEXd32gQj2AKi2zcrBEiqgCoo35PAVtO/uLjs9bA41YwKtruZIdPaMBk7s1c3OuIjOTuq3nMZbxprwkEZpJSrA18oY1rOc0JDQei1ZrUOonqzWRWaJrNcfzwoUKFIaQ0hpTWzL42qhW9pCd4qzuYLgAxuG7xzFQkigxAFCZxRmkP0qLM3Ek10uOno3tD7tR+LAVdbKsbvJkiAb6y7jV10ZmTJt5Q4+q241LaXVu4SWJ1JOBu4+VdHNjywXCXdwNJGdCHiM8zXaV2mDQmZTkGmuZPrUZDnNNdSnninlZzkkmvlTgADG4VJM78TQkYCi5NZrJrNA1qrNaq1VqrVWaz1ZrNE1n9QHUDSmlalelfFLLUVxjcaiuSpBViCOBBq36QbQgxibWO5xn+PGk6YXAA128beRK/71/6zXnZ/wD9f+Kfpt9WzHrJ/wAVcdM9osCI0hj8QCT/ABram17y/RhcTvIDyJ9n8BupkTluoqK0ikOK1mtddpWsmtVE0TWaz+Z1VqrVWqs1ms1ms1ms/qINCgaDUHoPQloS0JyOBoXjCvl/nRvqa/FPeE8BTzs3E0XrUKJrNZrNaqzWqs/ns1n9ZBoGs1qoNWs12lazXaV2lazWs1qrVWazWa1Vms1ms/s3NZrNaq1Vms1ms1ms/trJrP8A+U//xABKEQACAQMCAwMHBwkFBwUBAAABAgMABBEFEiExUQYTQRAiMmFxgbEUMDNCcnORByAjQFBSYqGyFSQ0wdElQ1NjZILhCBZwgKPi/9oACAEDAQE/AP8A5b3LnGR+YXRebAe00rKwypBHUfN315FYWslxICVTGQOZycVY9oNLv32RzBZP3H80/swwKSSeOc8ONfJojzHhiliRTkDBxjOBW0ev8a2itq9BUQBLNjjux7AKHCZsciuW9vh8xeahDacPSf8AdH+dXuuzEkGQj+FOFSajMx5D38audRuZbZoXbzGKkj1ip5C0jOCRkkiuz3bm5sGS31AtNb8hJzdP9RUM0VxEksTh0dQysDkEH9oEl5GZWKjlw8ceNQna7IcnPnA/n6je/JY9qfSNy9Q61eXjMxVW+03WjzpqvH2pj1GrW1iufTMnpgbVGSQVY+vp0q/s4YbeOSJ8+dtcE54+rA5cK/J1rzpO2kzNlHBeDPgRxZf2UZsZ8x+HqrvieSH34FI5IOVx/Os1n1GsnpUjlJXCKCOZ44wTVsxYuTgNw/CpXMSFuGfAdTXfzjjkH1YxmlYOoYciPKSACTWq3jOzvni5wvqFGmjkHEowHXFNV++XI6YFMrOdoBJPgKh0hnw1w/dr0HFjXYqLTEgmWC1SOaMjdJzdw3Un9lbkHiBRliH11/GhNGSADnPLh5MjqK3L1FTMkMjKzczuHvqz2yFpQeHoirlQYWJONvnA+yhcoxAwygkAk44UoCqAOAAwPLfPstJT/Dj8eFXzZmx+6Khl7l920NwI/GnvAQ6BDtYcAzZwevKmowGaRmydpYmookiHmgCjXYxyNSmTwaA/yYfsrukyTgcfUK2L0raK1B9kIUD0zgmkJjYMgwwORS5IGRg44iroubiTfzz/AC8K0wPukP1MAH21fI727bfAgkdQKUh2CqQWY4AzUSd3GiZztUDPl1Bd1nKPUD+BzV3/AIh6NHnUj54DymuxUJa9uJfBIdvvY5/y/ZuoyJHasG4luCj19fdUEximR2ywU5IoEMARyIq/m765fmAvmjw5VpErYeLGVHnA9M+FajI8dqxQHjgE9AaBIIIyCOWKiLmJC4AbaN3t8rqHRlPJgQa1W3aC5IPs/CjTvngPJHayyqrDaA27GT+7zqaF4X2t+PgaNdmNPNjpqs4xJOd7eoeA/ZW+TONg59am1COBtkjojYzjDH4CrecTxCRSGB5EDHxrU1RrR2fhs4g+vp76tZIpLmJZOCFhnyatMgvGEeMgDf7a0SaN4nTlIDk+sVfzpb2sjMAcjaAfEmop5IpEfO7awOD6qikWWJJFzhlBHv8AzNZ0z5bCWjH6RR+NTllZkIKkcCDR8nymfuwm8lQCADxxu4HGaeR5MbjnHKuzuhNfTLczri3Q5AP1yP8AL9kEgDJqO4ilcohyQMk+W8Ewupe99Pcc1oUcqwSOx8xm80ezma1iB5rQlT9GdxHUVbRi6uI4VYZc9fDxoDaAOgrWUitLxvO+kG/HiM1oCRNA86kFmbb7AK1BYWs5u9OFCk56YqC6iM8YlUiPcNxz4UuMDHLHD83VNDtdTG76OXwkA+PWrzs/qloT+hMq+DR+d/LnRt7hTgxSA9Cpq30fU7ogR2sntYbR+JrTeyUcRWS9cSEce7X0fefGlVUUKoAAGAB+s5HzhnhH1xW4YzmmZVHEgVfXQZNiHgeZrSwTLIQDgJxPv8uqXkl3eyucqAdqjoFrs3cTS2jxuCVibCt7fCu0Mk8ennux5rMA56CrbvvlEXc57zeNntoZwM4zjjWtRzJqM3enO45U+rwrsxbyqks5JCPhVHXHjWr2xu7F4lJDkgqB9YjwqDSb+aVFMEiAkAsykACoolhiSNfRRQo9g/YZx80SACTVxclwfBaM644A0szNhWPDwouFIyakfeasf0CiI+nKBIw6Aeh+Oc+R5FThzY8l8TVzoFtdztNI7qzekFwBmrW2hsbcRR52rk5PM+s1iO+jIIzCwIx+9UGmWFs4eKBVYcjxJFSO4dY1U+dnL+C0IowANoOOtEhR4CoCzedIUMnQHIA/MvNe1OzvUCzFgfBuI5/sE4oY+YLovNhV3eKfNXl8aZy4Oaht3nJxhVXi7twVR66NtAwGy7j9QdWUn8ARQsLtmGxBL92wkP4KTXdW1swM571wfokPAepm/wAhVlK8t60jnLOGJ8jI/fGQRDcBgEnwoZwM8DTBipCnB60iSKeLDHTHkaIMcktSrtUDJOOtMoYYNCKNSCFGRyrUdStdKtvlFwWCbgvAZOTVh2u0LUN4judrpxKMPOx14Zq2vLW8UtBIHA59R7RWtnF0D0B+NdgO1Op65dXVrdsrrFFvVsedzxitc7Wa9puqSdzduQs0oCscrhWxjFQOZIY3PNkU/iPzjIisqk8W5D9YOPGhj8+aQRIT4+FIygGeXigbAX99+nsHjRvEb07WBz1wy/0kClGnPlj30eOaDD59jcMfgamuGmAQAJGvoxjkP9T66PIeQ8zWn/4lfYfm+11/b3entaxk94sqniMDzeddkuGrXA/6eT+oV2Nura2nuVmmSMyBAm5gNx48BWtf4r3t8a/J5fLpup3sjIXBtTwBxyYV2pxLfGVSCJXkcercc4qwO6xtj1hj+H5rMFUknAFQW+xzIS2WHok5x+sHHjQx4fnS3EcJw3OpnlvH2wqSAOJ8FHUnkKuXVnSOM5jiG1T16t7z5ByPs8h5CiwUZJxTsqZJOBmrFgLlDnr8KlcgBV9Jjgf613k0X0ihl/eUfFaSSSa4yjAwqvMeLfna5cz21sjRSFCWOSPZXZrX5rySWK7mjAAHdliASSeXrrtB/i/++T412Y4axP8AcyfEVr7yJFBsYrlmzg4pGL6fYEnJNsmT7hXZYYvbwf8ATP8AEVry5MH/AHf5VphzptmetvF/SPIXRebAUskbnCsD5B+lIY+iPRHX10ZQZQg9/wCsHFDFZFZrNZFFooIjPNxXkifvn/QeJqXU55XLFICPuI/9Klup5wFdsIOSKAqg+wYHlHj7KyKaVVwPx9VRqJpCD6Kj+ZpLfDncSQMhatbWNbhcgEceB4jiKjiCEncx4YGeOBQNAgeHkyaz5G1rTUl7tptpzjJBA/Gu0RBtIiOIL/5VrskscMJRiuXPKo3eXTNPZ2LMYBkk5Jrs6pXWJeH+7k+Na/G7RQ4UnzjVtE506x4coF+ArQbN4L24Yn0oXH8xWs2buIT03VpsqRaVY7jx+TRf0ipLqR+C+aKPGlOOOcU+pxR4WeRAvQtgt/4pddspnEUT5kblwNW30w9/6qTWfJwrKjxAzWQazUkqRjJpbozyhAwUcSzc9qjiTV3eNdSEgbUACovRRXE1nAFbqJouFBJIAosACegqKELEA3EniaiRYl2r1otg8DULDvVOaElCSt4PGg9BqzXabU9TttWnMN3MpW5l2+efNweGKmeS6tbKWVtzvArMepIBNDtVZ61GtmsbJLFx55BCjFa3Ehhi4D0zVuF/s2yHSKtH2rqb/ZetTVTHGW8GqFh8jtvuxWmEfKpPsN8avlyE99WBzYWv3Ef9NEUxAGTQBbnwHSu0B/vkf3Q+JrSD/tKD2t8DVt9Mvv8A1PNZrNZrdRYVAsM7GNuDMMIfDd0Ptou0XmFD5pwfDFSXKp7elT3Bc8TxNSYtrYRjg8wDP6k5qvv5/h+azqGwSATUa97KQeSr/M0bcq6gHzCRkUTwFZqWVIlLOQAKfU7W3dAzFnIyEUEsfdX9tSDj/Z95t67Bn8M1Z6taXjFI3IkHONhtYe413nA0slBq16eWKBCjsvB+RI5Ctfd5micgbiWyetISbCw+4T4CuzoI1iQ/wSfGtYQtFH9uraM/2faA8MR1psCx37Nx+vWormNPtVCD8kg9SVYptun+y1XYOFrTjnT7X7lPhRYDhzPSiVTzpGUe04AqOeGUkJIjEcwCDXaH/GR/cj4mtGH+0oPa39Jq2+mX3/qWfITRai9F6MlGXHOprqO9QESIs+MNvO0P0OTwz1zT2eonlazkdQjHPvFJClu4e6ZRt49znLtjwOPR9ealmaWV5HOWZiTQat1Z4VuqOISKWb6x4eyoY1iBAxxzWQKLDbzPOi5NXM0t3cJHEeLDKHwRRwL+3pUQgsBtiXLn0mPEk+s0NQmB+r7MVLFBqkf/AA504pIPSU+3pVpJdG0U3KhZQCGwQQcePvpHrtfcSR2EPdyshMvHaxHDB6V2d1K/unuIJpmeJYWZUPIEmtWjyIuHi1Rr/c7QdIV+FaLFs1Nz/C9XcX6NOH1qhGLWEdFqzjPys4GfSq5heRVCqT51RWN18nhxGeK1Z6Pd9+zMoQYNSaFM4G6RVx6s1axtFbQxA8ERV3dcDpQAXlWoN/frj7xq7OnMs/2VrXhm7T7ofE1pS41CH2t8DVqT3w9/6ifIaZqZqZ6aSmmI5VNOdjZ6UZTW/lXeGi5yfbSlulANSRSzcF4L1618ilJALnHjXdACiiimAo1fOUtZCOZGPx4VYHa9xIBxMjIPsxDApEDgknj0poQBwPHOOPjwzVtuS4Ue6vqt7KUHBq/EhkKcRleK12e0u5E07LE30J8PWKutEv5wmID48yBUXZ+67i3XcgxGM58DirHswba4MssmchgABjnT6FC4AYucGo9Lt1ijUxg7RiodPghfcsaqeoFfJ0oRqAK836gz6/CpfMjd+bKpI6Ain1W/fnO3u4fCtGleWz3O5Y724k5q/Qm9uPvG+NaAu2Sf7K1rK7rlPux8TWmLi+i9/wAKtvpl8gP5ufnDRpzTmnamkIOQalkZxgnNEii4FCVT4ig7Ftq8TS28w+sc+0VHBI7AOeApFCgAVgURRWilMo61qCg2kuOJAz+HGrKVO8uI/wDmlx9iUcD7qLSISvEdRW5z41Arr5/HJ4IOpNRRlYwCSSBSJQtUJyQKWKGLOBxpSnitGWJQNozTuXOT5B5N+fRGfhV1MLe3eZxvCD0RwFP2ik+pAo9rE/6UkzT2HeNgF4iTj1iu7rRxtswP42q7TN1Mf4zWjLteX2LWqjNwv3Y+JrT1/vkXv+FWw/TL765Uazigc/PGiKNOKcVIpp0p0p1IOMZNQ2ZY7nFGxjaobdIR4E0GxzNPd2tuMyypGOrMB8aftHocXpX0HubPwodrOz2cfL4vfmodd0efhHqFqT071c0GDqGVsg8iKK0UFFAeYpEj0+Vo5lHcvwSXHIc9rGjbEgbdsieGTg+40ts2eECg9WbNQvAtyIy/eTEHkOCgfCgKUUx2LmhyoeUkLxJArczeivvNahepYIjSKZN5IAzgcKHaF5JEVYANzAcWzzrVhnT5h6h8RQiq34adGv8Ayf8AKhFWnjbbAfxGrhczyfaNaYMNJ7BWojM6/YFWAxdx+/4VbfTL76NE1mgxpXoHPzZ8hphRFMlOmaeKmjpVVGztBNNITRJ61e6hDZR7nGWPoqOZq91q/uMgSGJeicP51MSzEkknrUtP5La+vbJt1vcSxHqjlfhWl9v9VtmVLxVuo+uNrj3itO1S01a1W4ti20nBDDBU9CKJoqsg2Fd27hgjOaudHmsiuIru17wblByisOo3c6+Qzv8ASTyuP3e8x8KtligGxIhH7OOffStStUj5bHSgaBreDyBasOeZA9lX2rQ6fN3fdM77Qc561Y6095dJD3IRSDxzk8BWvx744PtNUEGJo+H11rUBm0lHs+NCKohi0Uf8utlWvCLHrqUZlc/xGrEcX9gq8jZpV4fVqzt3E6H2/CoEKyA0TRNHyCgaBrPzRHkxTLRFMtFadKZRRFGtaYtfyg+Crj2YqSpalpsE8TgVHbwvyctSW0A+oD7a/JZ+Sm4/KVNqKQX8NilgITIzRGQt327GACP3a7P/AJANE0K3MV1qV7dEvuJRUhU/11Zfk27GWRBGmJK3WZ2k/kTitO0rTNOGLSytrf7qJU/pAr8rGjWWpdir64mQd9YgTQSeKnIDD2EUCKVqL0sxXm2KDk8gTQ3kcwPZxpAh4+l/OrrV9QWeWNEjAV2AOCTwNaPc3dyZu/fdjbt4Ada1eASXmcfUFaXBsvEbHg3wrVImkWLh4morV96cPrCruF2gcdcfGhaP0pbciAD+ChYtUNtsTFGyUsT1NQ2yx0YEJyRSRIpyB5OPlAoDyChQ+aI8hphTU1PT07UzVqUKzSvngeGD04VcRSRE5GR1FSEHODUtPQJFQXjxOpcd4oPFc4J99f8Aps7bdk9Nv9R0yYy2V5qrWq24cM6SNFv4bxwHpeRoI244wfVQXu/ZX5SZGbsRrPgO4HD2uBWygOFSMIlLuWx0FLeL9S3lPuApVd4t20qSucdK/syaT6SVj9pia0yzEFvsBHpE1JYQmVycnLk1p9tFHvwvSri3Vpc7ByFW8G2QHFT2/eBfVSWgBBxTxK64oW6jwru+HKu7Fd3WytlAUBWDWKArbQFAVjyAfO4oijTinFSCpFNOKuYe9z4Gr+KSP0lIq761vck5Jrap5ihGn7tLgcgB7q7FDf2n07P/ABGP4Ka0ntl2g0TatteuYh/uZPPT3A8vdWj/AJWrGbamp2rQN4yxeenvU8RVprekanbPPaXsEqKMsQ4BUfxA8R76/Kd23tNQ0+XSNNcSxsR38w9FtpyFXrx8a7qhFXcBhgiltY+lLEMYpLSEc1pI1UYUYFC1jySfE0kSJ6IrYpOaCgVisVisVitoopWytlbK2CttYrbWKx5MVj580wplp1p46eKnhp4DUlvkEEZHQ1daDYXOd0RU9UOKfsZbMf0dxKvtAb/Sv/ZR8Lz/APL/APqo+xIz514fdF/5q27GachBkaaT1EgD+QrS9KtLB0NtAkRH1gPO/HnS3E3id1JcGvlHCpiZOFd1QioRihHQWgtYoDygeXFYrHlxWKx+fj9SIorRWjHTRU0NGCjbA8xRslNf2fQsDS2BpLICkgVaCVsoJWytlbKCVtrArHl4/N4rHlxWKx+q4rbRSjHXd+qu6Fd0K7odK7sUIx0oJQQ0FrFYrFYrBrFYrFY/ZuKxWBWBWKxWKxWKxWB+2MCsD/7Uf//Z)\n",
        "\n",
        "\n",
        "\n"
      ],
      "metadata": {
        "id": "WZ7cpmlXzMgs"
      }
    },
    {
      "cell_type": "markdown",
      "source": [
        "### **Before moving any further with our analysis the first question that we would like to know is what do we actually mean by the term 'data visualization' ?**\n",
        "### **The answer is simple,Data visualisation is a method of presenting information graphically, emphasising patterns and trends in data, and assisting the reader in gaining rapid insights as not all of us might be good in understanding complex set of codes.**"
      ],
      "metadata": {
        "id": "Q_txSzIh0qk5"
      }
    },
    {
      "cell_type": "markdown",
      "source": [
        "# **Visualizations used in this project:**\n",
        "### 1.Violin Plot       \n",
        "\n",
        "###2.Hist Plot\n",
        "\n",
        "###3.Count Plot\n",
        "\n",
        "###4.Bar Graph\n",
        "\n",
        "###5.Pie Chart\n",
        "\n",
        "###6.Kde Plot\n",
        "\n",
        "###7.Scatter Plot\n",
        "\n",
        "###8.Line Graph\n",
        "\n",
        "###9.Correlation Heatmap\n",
        "\n",
        "###10.Box Plot\n",
        "\n",
        "###11.Dist Plot\n",
        "\n",
        "\n",
        "\n",
        "\n",
        "---\n",
        "\n"
      ],
      "metadata": {
        "id": "FnwAaldvKc3S"
      }
    },
    {
      "cell_type": "markdown",
      "source": [
        "# **Violinplot**"
      ],
      "metadata": {
        "id": "E2VfBMv3evK-"
      }
    },
    {
      "cell_type": "code",
      "source": [
        "# Using violin plot to study the distribution of Ratings\n",
        "plt.figure(figsize=(9,9)) # defining figure size\n",
        "sns.violinplot(y=\"Rating\",data=play_df ,color='lime') # using seaborn to plot violinplot by passing necessary arguments\n",
        "plt.ylabel(\"Rating------------>\", fontsize=18) # value to be displayed at Y-axis\n",
        "plt.title(\"Violin plot for Rating\"); # Title\n"
      ],
      "metadata": {
        "id": "DaIba_QQs-lC",
        "colab": {
          "base_uri": "https://localhost:8080/",
          "height": 540
        },
        "outputId": "865e4fd1-212f-404c-f22c-4721ae8d5e22"
      },
      "execution_count": 34,
      "outputs": [
        {
          "output_type": "display_data",
          "data": {
            "text/plain": [
              "<Figure size 648x648 with 1 Axes>"
            ],
            "image/png": "[encoded data removed]"
          },
          "metadata": {
            "needs_background": "light"
          }
        }
      ]
    },
    {
      "cell_type": "markdown",
      "source": [
        "\n",
        "\n",
        "**Here violin plot is used to study the distribution of ratings, from above plot we can conclude that most of the ratings are between 4.4 and 4.3 and that's where the median also lies, because of univariate analysis we have used violin plot here.**\n",
        "\n",
        "\n",
        "\n",
        "\n"
      ],
      "metadata": {
        "id": "ybL-z7ZJ_iK6"
      }
    },
    {
      "cell_type": "code",
      "source": [
        "# Let's verify the above graph by printing top 5 most common ratings given by users\n",
        "play_df.Rating.value_counts().head().reset_index().rename(columns={'index':'Rating','Rating':'count'})"
      ],
      "metadata": {
        "colab": {
          "base_uri": "https://localhost:8080/",
          "height": 206
        },
        "id": "XCp5l3N4_2NH",
        "outputId": "1abacea2-ae3d-476b-f436-e46c420a065d"
      },
      "execution_count": 35,
      "outputs": [
        {
          "output_type": "execute_result",
          "data": {
            "text/plain": [
              "   Rating  count\n",
              "0     4.4   1032\n",
              "1     4.3   1016\n",
              "2     4.5    977\n",
              "3     4.2    888\n",
              "4     4.6    768"
            ],
            "text/html": [
              "\n",
              "  <div id=\"df-171a5def-894b-49a4-b9a0-5949858f94dc\">\n",
              "    <div class=\"colab-df-container\">\n",
              "      <div>\n",
              "<style scoped>\n",
              "    .dataframe tbody tr th:only-of-type {\n",
              "        vertical-align: middle;\n",
              "    }\n",
              "\n",
              "    .dataframe tbody tr th {\n",
              "        vertical-align: top;\n",
              "    }\n",
              "\n",
              "    .dataframe thead th {\n",
              "        text-align: right;\n",
              "    }\n",
              "</style>\n",
              "<table border=\"1\" class=\"dataframe\">\n",
              "  <thead>\n",
              "    <tr style=\"text-align: right;\">\n",
              "      <th></th>\n",
              "      <th>Rating</th>\n",
              "      <th>count</th>\n",
              "    </tr>\n",
              "  </thead>\n",
              "  <tbody>\n",
              "    <tr>\n",
              "      <th>0</th>\n",
              "      <td>4.4</td>\n",
              "      <td>1032</td>\n",
              "    </tr>\n",
              "    <tr>\n",
              "      <th>1</th>\n",
              "      <td>4.3</td>\n",
              "      <td>1016</td>\n",
              "    </tr>\n",
              "    <tr>\n",
              "      <th>2</th>\n",
              "      <td>4.5</td>\n",
              "      <td>977</td>\n",
              "    </tr>\n",
              "    <tr>\n",
              "      <th>3</th>\n",
              "      <td>4.2</td>\n",
              "      <td>888</td>\n",
              "    </tr>\n",
              "    <tr>\n",
              "      <th>4</th>\n",
              "      <td>4.6</td>\n",
              "      <td>768</td>\n",
              "    </tr>\n",
              "  </tbody>\n",
              "</table>\n",
              "</div>\n",
              "      <button class=\"colab-df-convert\" onclick=\"convertToInteractive('df-171a5def-894b-49a4-b9a0-5949858f94dc')\"\n",
              "              title=\"Convert this dataframe to an interactive table.\"\n",
              "              style=\"display:none;\">\n",
              "        \n",
              "  <svg xmlns=\"http://www.w3.org/2000/svg\" height=\"24px\"viewBox=\"0 0 24 24\"\n",
              "       width=\"24px\">\n",
              "    <path d=\"M0 0h24v24H0V0z\" fill=\"none\"/>\n",
              "    <path d=\"M18.56 5.44l.94 2.06.94-2.06 2.06-.94-2.06-.94-.94-2.06-.94 2.06-2.06.94zm-11 1L8.5 8.5l.94-2.06 2.06-.94-2.06-.94L8.5 2.5l-.94 2.06-2.06.94zm10 10l.94 2.06.94-2.06 2.06-.94-2.06-.94-.94-2.06-.94 2.06-2.06.94z\"/><path d=\"M17.41 7.96l-1.37-1.37c-.4-.4-.92-.59-1.43-.59-.52 0-1.04.2-1.43.59L10.3 9.45l-7.72 7.72c-.78.78-.78 2.05 0 2.83L4 21.41c.39.39.9.59 1.41.59.51 0 1.02-.2 1.41-.59l7.78-7.78 2.81-2.81c.8-.78.8-2.07 0-2.86zM5.41 20L4 18.59l7.72-7.72 1.47 1.35L5.41 20z\"/>\n",
              "  </svg>\n",
              "      </button>\n",
              "      \n",
              "  <style>\n",
              "    .colab-df-container {\n",
              "      display:flex;\n",
              "      flex-wrap:wrap;\n",
              "      gap: 12px;\n",
              "    }\n",
              "\n",
              "    .colab-df-convert {\n",
              "      background-color: #E8F0FE;\n",
              "      border: none;\n",
              "      border-radius: 50%;\n",
              "      cursor: pointer;\n",
              "      display: none;\n",
              "      fill: #1967D2;\n",
              "      height: 32px;\n",
              "      padding: 0 0 0 0;\n",
              "      width: 32px;\n",
              "    }\n",
              "\n",
              "    .colab-df-convert:hover {\n",
              "      background-color: #E2EBFA;\n",
              "      box-shadow: 0px 1px 2px rgba(60, 64, 67, 0.3), 0px 1px 3px 1px rgba(60, 64, 67, 0.15);\n",
              "      fill: #174EA6;\n",
              "    }\n",
              "\n",
              "    [theme=dark] .colab-df-convert {\n",
              "      background-color: #3B4455;\n",
              "      fill: #D2E3FC;\n",
              "    }\n",
              "\n",
              "    [theme=dark] .colab-df-convert:hover {\n",
              "      background-color: #434B5C;\n",
              "      box-shadow: 0px 1px 3px 1px rgba(0, 0, 0, 0.15);\n",
              "      filter: drop-shadow(0px 1px 2px rgba(0, 0, 0, 0.3));\n",
              "      fill: #FFFFFF;\n",
              "    }\n",
              "  </style>\n",
              "\n",
              "      <script>\n",
              "        const buttonEl =\n",
              "          document.querySelector('#df-171a5def-894b-49a4-b9a0-5949858f94dc button.colab-df-convert');\n",
              "        buttonEl.style.display =\n",
              "          google.colab.kernel.accessAllowed ? 'block' : 'none';\n",
              "\n",
              "        async function convertToInteractive(key) {\n",
              "          const element = document.querySelector('#df-171a5def-894b-49a4-b9a0-5949858f94dc');\n",
              "          const dataTable =\n",
              "            await google.colab.kernel.invokeFunction('convertToInteractive',\n",
              "                                                     [key], {});\n",
              "          if (!dataTable) return;\n",
              "\n",
              "          const docLinkHtml = 'Like what you see? Visit the ' +\n",
              "            '<a target=\"_blank\" href=https://colab.research.google.com/notebooks/data_table.ipynb>data table notebook</a>'\n",
              "            + ' to learn more about interactive tables.';\n",
              "          element.innerHTML = '';\n",
              "          dataTable['output_type'] = 'display_data';\n",
              "          await google.colab.output.renderOutput(dataTable, element);\n",
              "          const docLink = document.createElement('div');\n",
              "          docLink.innerHTML = docLinkHtml;\n",
              "          element.appendChild(docLink);\n",
              "        }\n",
              "      </script>\n",
              "    </div>\n",
              "  </div>\n",
              "  "
            ]
          },
          "metadata": {},
          "execution_count": 35
        }
      ]
    },
    {
      "cell_type": "markdown",
      "source": [
        "\n",
        "\n",
        "---\n",
        "\n"
      ],
      "metadata": {
        "id": "WnEFmwCQfGFZ"
      }
    },
    {
      "cell_type": "markdown",
      "source": [
        "# **Histplot**"
      ],
      "metadata": {
        "id": "5GZ9oQGZe23K"
      }
    },
    {
      "cell_type": "code",
      "source": [
        "# Another way of finding out distribution of rating is to plot a histplot\n",
        "plt.figure(figsize=(10,8)) # figure size\n",
        "plt.hist(play_df['Rating'],color=\"red\", ec=\"black\",lw=4); # command to initialize histplot using matplotlib\n",
        "plt.xlabel(\"Ratings---------------->\",fontsize=18) # x label\n",
        "plt.ylabel(\"Counts---------------->\",fontsize=18) # y label\n",
        "plt.title(\"Distribution of Ratings\"); # title"
      ],
      "metadata": {
        "id": "kzkYyoo-s-nJ",
        "colab": {
          "base_uri": "https://localhost:8080/",
          "height": 521
        },
        "outputId": "cbdaf29f-2c09-4006-9445-3e9941148337"
      },
      "execution_count": 36,
      "outputs": [
        {
          "output_type": "display_data",
          "data": {
            "text/plain": [
              "<Figure size 720x576 with 1 Axes>"
            ],
            "image/png": "[encoded data removed]"
          },
          "metadata": {
            "needs_background": "light"
          }
        }
      ]
    },
    {
      "cell_type": "markdown",
      "source": [
        "\n",
        "\n",
        "**The hist plot above is also used for univariate analysis just like violin plot and it's just another way of doing the same task that we performed using violin plot**\n",
        "\n",
        "\n",
        "\n",
        "---\n",
        "\n"
      ],
      "metadata": {
        "id": "y3IKsNxDBS5Y"
      }
    },
    {
      "cell_type": "markdown",
      "source": [
        "# **Countplot**"
      ],
      "metadata": {
        "id": "UTGlT1QDfMMZ"
      }
    },
    {
      "cell_type": "code",
      "source": [
        "# Finding out how many times an app has been installed using countplot\n",
        "plt.figure(figsize=(16,11)) # figure size\n",
        "sns.countplot(\"Installs\",data=play_df,palette=\"CMRmap\",ec=\"black\",lw=4) # initializing countplot using seaborn and passing necessary arguments\n",
        "plt.xticks(rotation=90) # to rotate values on X-axis so that they dont collide with each other\n",
        "plt.xlabel(\"Number of Installs---------------->\",fontsize=18) # X-axis label\n",
        "plt.ylabel(\"No. of Apps---------------->\",fontsize=18) # label at Y-axis\n",
        "plt.title(\"Number of times an app has been installed\"); # Title\n",
        "\n"
      ],
      "metadata": {
        "id": "Sauv9104s-pq",
        "colab": {
          "base_uri": "https://localhost:8080/",
          "height": 736
        },
        "outputId": "a9f37dba-9fb8-422d-ecc4-92a50b0be5b3"
      },
      "execution_count": 37,
      "outputs": [
        {
          "output_type": "display_data",
          "data": {
            "text/plain": [
              "<Figure size 1152x792 with 1 Axes>"
            ],
            "image/png": "[encoded data removed]"
          },
          "metadata": {
            "needs_background": "light"
          }
        }
      ]
    },
    {
      "cell_type": "markdown",
      "source": [
        "\n",
        "\n",
        "**The countplot show the counts of observations using bars.**\n",
        "\n",
        "**Here it shows the number of apps on Y axis and the number of times those apps have been installed on X axis**\n",
        "\n",
        "**The first major observation on y axis is 200 which is coinciding with the value 50 on x axis, this means that there are 200 apps which have been downloaded more than 50 times that are present in our dataset.**\n",
        "\n",
        "**Method of analysis used here is also univariate.**\n",
        "\n",
        "**The highest value shows that there are near about 1500 apps that have been installed more than a million times**\n",
        "\n",
        "\n",
        "\n",
        "---\n",
        "\n"
      ],
      "metadata": {
        "id": "NUDQTsfEH0gA"
      }
    },
    {
      "cell_type": "markdown",
      "source": [
        "# **Barplots**"
      ],
      "metadata": {
        "id": "N9PPMDykfksW"
      }
    },
    {
      "cell_type": "code",
      "source": [
        "# Finding out top 20 most expensive apps using barplot\n",
        "plt.rcParams['figure.figsize']=(15,10) # figure size\n",
        "bb=play_df.groupby('App')['Price($)'].mean().sort_values(ascending=False).head(20) # using bivariate analysis\n",
        "# performing bivariate analysis using groupby on column 'App' and 'Price'\n",
        "# .mean() method is used to generate average price values\n",
        "cc=pd.DataFrame(bb) # transforming our values into a seperate dataframe\n",
        "bb.plot(color='black') # command to initalize black line present over bars \n",
        "bb.plot(kind='bar',color=['pink'],linewidth=3,edgecolor='black') # command to initalize bar plot using matplotlib\n",
        "plt.title('Top 10 most expensive Apps') #title\n",
        "plt.ylabel('Price in $  ---->') # y axis label\n",
        "plt.xlabel('App Name ---->'); # x axis label"
      ],
      "metadata": {
        "id": "1g1SsToxs-sN",
        "colab": {
          "base_uri": "https://localhost:8080/",
          "height": 781
        },
        "outputId": "8b0b2e33-ff1f-440c-d014-834472b859dd"
      },
      "execution_count": 38,
      "outputs": [
        {
          "output_type": "display_data",
          "data": {
            "text/plain": [
              "<Figure size 1080x720 with 1 Axes>"
            ],
            "image/png": "[encoded data removed]"
          },
          "metadata": {
            "needs_background": "light"
          }
        }
      ]
    },
    {
      "cell_type": "code",
      "source": [
        "# Let's justify above bar graph by printing prices of top 20 most expensive apps\n",
        "cc.reset_index()"
      ],
      "metadata": {
        "colab": {
          "base_uri": "https://localhost:8080/",
          "height": 676
        },
        "id": "cwJ5pKQWeZiK",
        "outputId": "30c6f27a-0a64-46bf-c656-4b361dd98511"
      },
      "execution_count": 49,
      "outputs": [
        {
          "output_type": "execute_result",
          "data": {
            "text/plain": [
              "                                  App  Price($)\n",
              "0            I'm Rich - Trump Edition    400.00\n",
              "1   I'm Rich/Eu sou Rico/أنا غني/我很有錢    399.99\n",
              "2                           I am rich    399.99\n",
              "3                      I am Rich Plus    399.99\n",
              "4      I am rich (Most expensive app)    399.99\n",
              "5                           I am Rich    399.99\n",
              "6                  I am rich(premium)    399.99\n",
              "7              most expensive app (H)    399.99\n",
              "8                       I Am Rich Pro    399.99\n",
              "9                   I Am Rich Premium    399.99\n",
              "10                         💎 I'm rich    399.99\n",
              "11                 I AM RICH PRO PLUS    399.99\n",
              "12                         I am Rich!    399.99\n",
              "13                        Eu Sou Rico    394.99\n",
              "14                          I Am Rich    389.99\n",
              "15                I am extremely Rich    379.99\n",
              "16                      I am rich VIP    299.99\n",
              "17                       EP Cook Book    200.00\n",
              "18                      cronometra-br    154.99\n",
              "19            BP Fitness Lead Scanner    109.99"
            ],
            "text/html": [
              "\n",
              "  <div id=\"df-b11b8a73-d34b-4fa1-b863-259f514be11b\">\n",
              "    <div class=\"colab-df-container\">\n",
              "      <div>\n",
              "<style scoped>\n",
              "    .dataframe tbody tr th:only-of-type {\n",
              "        vertical-align: middle;\n",
              "    }\n",
              "\n",
              "    .dataframe tbody tr th {\n",
              "        vertical-align: top;\n",
              "    }\n",
              "\n",
              "    .dataframe thead th {\n",
              "        text-align: right;\n",
              "    }\n",
              "</style>\n",
              "<table border=\"1\" class=\"dataframe\">\n",
              "  <thead>\n",
              "    <tr style=\"text-align: right;\">\n",
              "      <th></th>\n",
              "      <th>App</th>\n",
              "      <th>Price($)</th>\n",
              "    </tr>\n",
              "  </thead>\n",
              "  <tbody>\n",
              "    <tr>\n",
              "      <th>0</th>\n",
              "      <td>I'm Rich - Trump Edition</td>\n",
              "      <td>400.00</td>\n",
              "    </tr>\n",
              "    <tr>\n",
              "      <th>1</th>\n",
              "      <td>I'm Rich/Eu sou Rico/أنا غني/我很有錢</td>\n",
              "      <td>399.99</td>\n",
              "    </tr>\n",
              "    <tr>\n",
              "      <th>2</th>\n",
              "      <td>I am rich</td>\n",
              "      <td>399.99</td>\n",
              "    </tr>\n",
              "    <tr>\n",
              "      <th>3</th>\n",
              "      <td>I am Rich Plus</td>\n",
              "      <td>399.99</td>\n",
              "    </tr>\n",
              "    <tr>\n",
              "      <th>4</th>\n",
              "      <td>I am rich (Most expensive app)</td>\n",
              "      <td>399.99</td>\n",
              "    </tr>\n",
              "    <tr>\n",
              "      <th>5</th>\n",
              "      <td>I am Rich</td>\n",
              "      <td>399.99</td>\n",
              "    </tr>\n",
              "    <tr>\n",
              "      <th>6</th>\n",
              "      <td>I am rich(premium)</td>\n",
              "      <td>399.99</td>\n",
              "    </tr>\n",
              "    <tr>\n",
              "      <th>7</th>\n",
              "      <td>most expensive app (H)</td>\n",
              "      <td>399.99</td>\n",
              "    </tr>\n",
              "    <tr>\n",
              "      <th>8</th>\n",
              "      <td>I Am Rich Pro</td>\n",
              "      <td>399.99</td>\n",
              "    </tr>\n",
              "    <tr>\n",
              "      <th>9</th>\n",
              "      <td>I Am Rich Premium</td>\n",
              "      <td>399.99</td>\n",
              "    </tr>\n",
              "    <tr>\n",
              "      <th>10</th>\n",
              "      <td>💎 I'm rich</td>\n",
              "      <td>399.99</td>\n",
              "    </tr>\n",
              "    <tr>\n",
              "      <th>11</th>\n",
              "      <td>I AM RICH PRO PLUS</td>\n",
              "      <td>399.99</td>\n",
              "    </tr>\n",
              "    <tr>\n",
              "      <th>12</th>\n",
              "      <td>I am Rich!</td>\n",
              "      <td>399.99</td>\n",
              "    </tr>\n",
              "    <tr>\n",
              "      <th>13</th>\n",
              "      <td>Eu Sou Rico</td>\n",
              "      <td>394.99</td>\n",
              "    </tr>\n",
              "    <tr>\n",
              "      <th>14</th>\n",
              "      <td>I Am Rich</td>\n",
              "      <td>389.99</td>\n",
              "    </tr>\n",
              "    <tr>\n",
              "      <th>15</th>\n",
              "      <td>I am extremely Rich</td>\n",
              "      <td>379.99</td>\n",
              "    </tr>\n",
              "    <tr>\n",
              "      <th>16</th>\n",
              "      <td>I am rich VIP</td>\n",
              "      <td>299.99</td>\n",
              "    </tr>\n",
              "    <tr>\n",
              "      <th>17</th>\n",
              "      <td>EP Cook Book</td>\n",
              "      <td>200.00</td>\n",
              "    </tr>\n",
              "    <tr>\n",
              "      <th>18</th>\n",
              "      <td>cronometra-br</td>\n",
              "      <td>154.99</td>\n",
              "    </tr>\n",
              "    <tr>\n",
              "      <th>19</th>\n",
              "      <td>BP Fitness Lead Scanner</td>\n",
              "      <td>109.99</td>\n",
              "    </tr>\n",
              "  </tbody>\n",
              "</table>\n",
              "</div>\n",
              "      <button class=\"colab-df-convert\" onclick=\"convertToInteractive('df-b11b8a73-d34b-4fa1-b863-259f514be11b')\"\n",
              "              title=\"Convert this dataframe to an interactive table.\"\n",
              "              style=\"display:none;\">\n",
              "        \n",
              "  <svg xmlns=\"http://www.w3.org/2000/svg\" height=\"24px\"viewBox=\"0 0 24 24\"\n",
              "       width=\"24px\">\n",
              "    <path d=\"M0 0h24v24H0V0z\" fill=\"none\"/>\n",
              "    <path d=\"M18.56 5.44l.94 2.06.94-2.06 2.06-.94-2.06-.94-.94-2.06-.94 2.06-2.06.94zm-11 1L8.5 8.5l.94-2.06 2.06-.94-2.06-.94L8.5 2.5l-.94 2.06-2.06.94zm10 10l.94 2.06.94-2.06 2.06-.94-2.06-.94-.94-2.06-.94 2.06-2.06.94z\"/><path d=\"M17.41 7.96l-1.37-1.37c-.4-.4-.92-.59-1.43-.59-.52 0-1.04.2-1.43.59L10.3 9.45l-7.72 7.72c-.78.78-.78 2.05 0 2.83L4 21.41c.39.39.9.59 1.41.59.51 0 1.02-.2 1.41-.59l7.78-7.78 2.81-2.81c.8-.78.8-2.07 0-2.86zM5.41 20L4 18.59l7.72-7.72 1.47 1.35L5.41 20z\"/>\n",
              "  </svg>\n",
              "      </button>\n",
              "      \n",
              "  <style>\n",
              "    .colab-df-container {\n",
              "      display:flex;\n",
              "      flex-wrap:wrap;\n",
              "      gap: 12px;\n",
              "    }\n",
              "\n",
              "    .colab-df-convert {\n",
              "      background-color: #E8F0FE;\n",
              "      border: none;\n",
              "      border-radius: 50%;\n",
              "      cursor: pointer;\n",
              "      display: none;\n",
              "      fill: #1967D2;\n",
              "      height: 32px;\n",
              "      padding: 0 0 0 0;\n",
              "      width: 32px;\n",
              "    }\n",
              "\n",
              "    .colab-df-convert:hover {\n",
              "      background-color: #E2EBFA;\n",
              "      box-shadow: 0px 1px 2px rgba(60, 64, 67, 0.3), 0px 1px 3px 1px rgba(60, 64, 67, 0.15);\n",
              "      fill: #174EA6;\n",
              "    }\n",
              "\n",
              "    [theme=dark] .colab-df-convert {\n",
              "      background-color: #3B4455;\n",
              "      fill: #D2E3FC;\n",
              "    }\n",
              "\n",
              "    [theme=dark] .colab-df-convert:hover {\n",
              "      background-color: #434B5C;\n",
              "      box-shadow: 0px 1px 3px 1px rgba(0, 0, 0, 0.15);\n",
              "      filter: drop-shadow(0px 1px 2px rgba(0, 0, 0, 0.3));\n",
              "      fill: #FFFFFF;\n",
              "    }\n",
              "  </style>\n",
              "\n",
              "      <script>\n",
              "        const buttonEl =\n",
              "          document.querySelector('#df-b11b8a73-d34b-4fa1-b863-259f514be11b button.colab-df-convert');\n",
              "        buttonEl.style.display =\n",
              "          google.colab.kernel.accessAllowed ? 'block' : 'none';\n",
              "\n",
              "        async function convertToInteractive(key) {\n",
              "          const element = document.querySelector('#df-b11b8a73-d34b-4fa1-b863-259f514be11b');\n",
              "          const dataTable =\n",
              "            await google.colab.kernel.invokeFunction('convertToInteractive',\n",
              "                                                     [key], {});\n",
              "          if (!dataTable) return;\n",
              "\n",
              "          const docLinkHtml = 'Like what you see? Visit the ' +\n",
              "            '<a target=\"_blank\" href=https://colab.research.google.com/notebooks/data_table.ipynb>data table notebook</a>'\n",
              "            + ' to learn more about interactive tables.';\n",
              "          element.innerHTML = '';\n",
              "          dataTable['output_type'] = 'display_data';\n",
              "          await google.colab.output.renderOutput(dataTable, element);\n",
              "          const docLink = document.createElement('div');\n",
              "          docLink.innerHTML = docLinkHtml;\n",
              "          element.appendChild(docLink);\n",
              "        }\n",
              "      </script>\n",
              "    </div>\n",
              "  </div>\n",
              "  "
            ]
          },
          "metadata": {},
          "execution_count": 49
        }
      ]
    },
    {
      "cell_type": "markdown",
      "source": [
        "\n",
        "**Barplot demonstrates the connection between a categorical and a numerical variable. The categorical variable's entities are each represented by a bar. The bar's size corresponds to its numerical value.**\n",
        "\n",
        "**Here we can notice a trend that a large proportion of the top 20  most expensive apps have kind of similar names and price , that might be because of same functionality or origins.**\n",
        "\n",
        "**Initially the graph is linear but at 14th obeservation it starts declining**\n",
        "\n",
        "\n",
        "\n",
        "\n"
      ],
      "metadata": {
        "id": "3qDMGSFgLjdP"
      }
    },
    {
      "cell_type": "code",
      "source": [
        "# Another visualization in which we will find out the most average downloaded categories using barplot\n",
        "plt.rcParams['figure.figsize']=(15,10) # figure size\n",
        "play_df.groupby('Category')['Installs'].mean().sort_values(ascending=False).plot(kind='bar',color=['red','g','b','y','black','pink','purple','maroon','lime','turquoise','brown','violet'],edgecolor='black',linewidth=3)\n",
        "# Applying groupby on 'Category' and 'Installs' columns to find out the average installs per category\n",
        "plt.xticks(rotation=90) # rotating x axis labels\n",
        "plt.title('Most preferred categories',fontsize=18) # title\n",
        "plt.ylabel('Total downloads  ---->',fontsize=18) # y axis label\n",
        "plt.xlabel('Category ---->',fontsize=18); #x axis label "
      ],
      "metadata": {
        "id": "0-w_enxis-xH",
        "colab": {
          "base_uri": "https://localhost:8080/",
          "height": 750
        },
        "outputId": "ec6bc561-8be3-4b74-b6b2-3fab1bb2c6fb"
      },
      "execution_count": 50,
      "outputs": [
        {
          "output_type": "display_data",
          "data": {
            "text/plain": [
              "<Figure size 1080x720 with 1 Axes>"
            ],
            "image/png": "[encoded data removed]"
          },
          "metadata": {
            "needs_background": "light"
          }
        }
      ]
    },
    {
      "cell_type": "markdown",
      "source": [
        "**Through bivariate analysis here we can notice that the most downloaded category is COMMUNICATION  as people love to communicate via video calls , texts and calls.**\n",
        "\n",
        "**Now let's find out what are the most downloaded apps that are present in COMMUNICATION category so we can have an idea why this category tops the charts**"
      ],
      "metadata": {
        "id": "0QS6z4YVgS7C"
      }
    },
    {
      "cell_type": "code",
      "source": [
        "# Top 10 apps in COMMUNICATION category that are preferred the most by users\n",
        "pp=play_df.groupby(['Category','App'])['Installs'].mean().sort_values(ascending=False).reset_index()\n",
        "# Using Multivariate analysis by performing operation on three columns at once\n",
        "pp=pd.DataFrame(pp) # creating a dataframe for the above values\n",
        "jj=pp[pp['Category']=='COMMUNICATION'] # filtering values that comes under the category COMMUNICATION\n",
        "jj.head(10).reset_index().drop(['index'],axis=1) # top 10 Apps"
      ],
      "metadata": {
        "colab": {
          "base_uri": "https://localhost:8080/",
          "height": 363
        },
        "id": "Jfm7TlgHRi2s",
        "outputId": "60b3ac7d-6d13-4c6c-f00b-114ec73c9f28"
      },
      "execution_count": 52,
      "outputs": [
        {
          "output_type": "execute_result",
          "data": {
            "text/plain": [
              "        Category                                          App      Installs\n",
              "0  COMMUNICATION                Skype - free IM & video calls  1.000000e+09\n",
              "1  COMMUNICATION                                     Hangouts  1.000000e+09\n",
              "2  COMMUNICATION                                        Gmail  1.000000e+09\n",
              "3  COMMUNICATION                 Google Chrome: Fast & Secure  1.000000e+09\n",
              "4  COMMUNICATION                           WhatsApp Messenger  1.000000e+09\n",
              "5  COMMUNICATION     Messenger – Text and Video Chat for Free  1.000000e+09\n",
              "6  COMMUNICATION                  LINE: Free Calls & Messages  5.000000e+08\n",
              "7  COMMUNICATION        Google Duo - High Quality Video Calls  5.000000e+08\n",
              "8  COMMUNICATION                imo free video calls and chat  5.000000e+08\n",
              "9  COMMUNICATION  UC Browser - Fast Download Private & Secure  5.000000e+08"
            ],
            "text/html": [
              "\n",
              "  <div id=\"df-692ccba5-9ffe-42df-b2ca-50f0ba961d7e\">\n",
              "    <div class=\"colab-df-container\">\n",
              "      <div>\n",
              "<style scoped>\n",
              "    .dataframe tbody tr th:only-of-type {\n",
              "        vertical-align: middle;\n",
              "    }\n",
              "\n",
              "    .dataframe tbody tr th {\n",
              "        vertical-align: top;\n",
              "    }\n",
              "\n",
              "    .dataframe thead th {\n",
              "        text-align: right;\n",
              "    }\n",
              "</style>\n",
              "<table border=\"1\" class=\"dataframe\">\n",
              "  <thead>\n",
              "    <tr style=\"text-align: right;\">\n",
              "      <th></th>\n",
              "      <th>Category</th>\n",
              "      <th>App</th>\n",
              "      <th>Installs</th>\n",
              "    </tr>\n",
              "  </thead>\n",
              "  <tbody>\n",
              "    <tr>\n",
              "      <th>0</th>\n",
              "      <td>COMMUNICATION</td>\n",
              "      <td>Skype - free IM &amp; video calls</td>\n",
              "      <td>1.000000e+09</td>\n",
              "    </tr>\n",
              "    <tr>\n",
              "      <th>1</th>\n",
              "      <td>COMMUNICATION</td>\n",
              "      <td>Hangouts</td>\n",
              "      <td>1.000000e+09</td>\n",
              "    </tr>\n",
              "    <tr>\n",
              "      <th>2</th>\n",
              "      <td>COMMUNICATION</td>\n",
              "      <td>Gmail</td>\n",
              "      <td>1.000000e+09</td>\n",
              "    </tr>\n",
              "    <tr>\n",
              "      <th>3</th>\n",
              "      <td>COMMUNICATION</td>\n",
              "      <td>Google Chrome: Fast &amp; Secure</td>\n",
              "      <td>1.000000e+09</td>\n",
              "    </tr>\n",
              "    <tr>\n",
              "      <th>4</th>\n",
              "      <td>COMMUNICATION</td>\n",
              "      <td>WhatsApp Messenger</td>\n",
              "      <td>1.000000e+09</td>\n",
              "    </tr>\n",
              "    <tr>\n",
              "      <th>5</th>\n",
              "      <td>COMMUNICATION</td>\n",
              "      <td>Messenger – Text and Video Chat for Free</td>\n",
              "      <td>1.000000e+09</td>\n",
              "    </tr>\n",
              "    <tr>\n",
              "      <th>6</th>\n",
              "      <td>COMMUNICATION</td>\n",
              "      <td>LINE: Free Calls &amp; Messages</td>\n",
              "      <td>5.000000e+08</td>\n",
              "    </tr>\n",
              "    <tr>\n",
              "      <th>7</th>\n",
              "      <td>COMMUNICATION</td>\n",
              "      <td>Google Duo - High Quality Video Calls</td>\n",
              "      <td>5.000000e+08</td>\n",
              "    </tr>\n",
              "    <tr>\n",
              "      <th>8</th>\n",
              "      <td>COMMUNICATION</td>\n",
              "      <td>imo free video calls and chat</td>\n",
              "      <td>5.000000e+08</td>\n",
              "    </tr>\n",
              "    <tr>\n",
              "      <th>9</th>\n",
              "      <td>COMMUNICATION</td>\n",
              "      <td>UC Browser - Fast Download Private &amp; Secure</td>\n",
              "      <td>5.000000e+08</td>\n",
              "    </tr>\n",
              "  </tbody>\n",
              "</table>\n",
              "</div>\n",
              "      <button class=\"colab-df-convert\" onclick=\"convertToInteractive('df-692ccba5-9ffe-42df-b2ca-50f0ba961d7e')\"\n",
              "              title=\"Convert this dataframe to an interactive table.\"\n",
              "              style=\"display:none;\">\n",
              "        \n",
              "  <svg xmlns=\"http://www.w3.org/2000/svg\" height=\"24px\"viewBox=\"0 0 24 24\"\n",
              "       width=\"24px\">\n",
              "    <path d=\"M0 0h24v24H0V0z\" fill=\"none\"/>\n",
              "    <path d=\"M18.56 5.44l.94 2.06.94-2.06 2.06-.94-2.06-.94-.94-2.06-.94 2.06-2.06.94zm-11 1L8.5 8.5l.94-2.06 2.06-.94-2.06-.94L8.5 2.5l-.94 2.06-2.06.94zm10 10l.94 2.06.94-2.06 2.06-.94-2.06-.94-.94-2.06-.94 2.06-2.06.94z\"/><path d=\"M17.41 7.96l-1.37-1.37c-.4-.4-.92-.59-1.43-.59-.52 0-1.04.2-1.43.59L10.3 9.45l-7.72 7.72c-.78.78-.78 2.05 0 2.83L4 21.41c.39.39.9.59 1.41.59.51 0 1.02-.2 1.41-.59l7.78-7.78 2.81-2.81c.8-.78.8-2.07 0-2.86zM5.41 20L4 18.59l7.72-7.72 1.47 1.35L5.41 20z\"/>\n",
              "  </svg>\n",
              "      </button>\n",
              "      \n",
              "  <style>\n",
              "    .colab-df-container {\n",
              "      display:flex;\n",
              "      flex-wrap:wrap;\n",
              "      gap: 12px;\n",
              "    }\n",
              "\n",
              "    .colab-df-convert {\n",
              "      background-color: #E8F0FE;\n",
              "      border: none;\n",
              "      border-radius: 50%;\n",
              "      cursor: pointer;\n",
              "      display: none;\n",
              "      fill: #1967D2;\n",
              "      height: 32px;\n",
              "      padding: 0 0 0 0;\n",
              "      width: 32px;\n",
              "    }\n",
              "\n",
              "    .colab-df-convert:hover {\n",
              "      background-color: #E2EBFA;\n",
              "      box-shadow: 0px 1px 2px rgba(60, 64, 67, 0.3), 0px 1px 3px 1px rgba(60, 64, 67, 0.15);\n",
              "      fill: #174EA6;\n",
              "    }\n",
              "\n",
              "    [theme=dark] .colab-df-convert {\n",
              "      background-color: #3B4455;\n",
              "      fill: #D2E3FC;\n",
              "    }\n",
              "\n",
              "    [theme=dark] .colab-df-convert:hover {\n",
              "      background-color: #434B5C;\n",
              "      box-shadow: 0px 1px 3px 1px rgba(0, 0, 0, 0.15);\n",
              "      filter: drop-shadow(0px 1px 2px rgba(0, 0, 0, 0.3));\n",
              "      fill: #FFFFFF;\n",
              "    }\n",
              "  </style>\n",
              "\n",
              "      <script>\n",
              "        const buttonEl =\n",
              "          document.querySelector('#df-692ccba5-9ffe-42df-b2ca-50f0ba961d7e button.colab-df-convert');\n",
              "        buttonEl.style.display =\n",
              "          google.colab.kernel.accessAllowed ? 'block' : 'none';\n",
              "\n",
              "        async function convertToInteractive(key) {\n",
              "          const element = document.querySelector('#df-692ccba5-9ffe-42df-b2ca-50f0ba961d7e');\n",
              "          const dataTable =\n",
              "            await google.colab.kernel.invokeFunction('convertToInteractive',\n",
              "                                                     [key], {});\n",
              "          if (!dataTable) return;\n",
              "\n",
              "          const docLinkHtml = 'Like what you see? Visit the ' +\n",
              "            '<a target=\"_blank\" href=https://colab.research.google.com/notebooks/data_table.ipynb>data table notebook</a>'\n",
              "            + ' to learn more about interactive tables.';\n",
              "          element.innerHTML = '';\n",
              "          dataTable['output_type'] = 'display_data';\n",
              "          await google.colab.output.renderOutput(dataTable, element);\n",
              "          const docLink = document.createElement('div');\n",
              "          docLink.innerHTML = docLinkHtml;\n",
              "          element.appendChild(docLink);\n",
              "        }\n",
              "      </script>\n",
              "    </div>\n",
              "  </div>\n",
              "  "
            ]
          },
          "metadata": {},
          "execution_count": 52
        }
      ]
    },
    {
      "cell_type": "markdown",
      "source": [
        "**So here are the top 10 most downloaded apps in COMUNICATION category.**\n",
        "\n",
        "**Most of the apps that are present in our Top 10 list comes pre installed in alot of devices which might be the reason for these apps to have near about a billion installs.**\n",
        "\n",
        "\n",
        "---\n",
        "\n"
      ],
      "metadata": {
        "id": "MY85xuVCl-jq"
      }
    },
    {
      "cell_type": "markdown",
      "source": [
        "# **Piecharts**"
      ],
      "metadata": {
        "id": "k9qZK4DQxMgJ"
      }
    },
    {
      "cell_type": "code",
      "source": [
        "# Finding out content rating with maximum average ratings using pie chart\n",
        "plt.rcParams['figure.figsize']=(10,10) # figure size\n",
        "ee=play_df.groupby('Content Rating')['Rating'].mean().sort_values(ascending=False)\n",
        "# Performing bivariate analysis using groupby to find out mean ratings for our content ratings and sorting them in decending order\n",
        "nn=pd.DataFrame(ee) # creating a dataframe for values in ee variable\n",
        "myexplode = [0.08, 0, 0, 0,0,0] # Used to highlight/seperate slices from rest of the slices\n",
        "plt.title('Maximum rated average content rating',fontsize=20) # Title\n",
        "plt.pie(ee,labels=['Adults only 18+','Everyone 10+','Teen','Everyone','Mature 17+', 'Unrated'],explode=myexplode,autopct='%1.1f%%',shadow=True)\n",
        "# Deploying piechart using matplotlib\n",
        "plt.legend(bbox_to_anchor=(0,1)); # Used to display and adjust the position of information box that is present on the left side of this pie chart"
      ],
      "metadata": {
        "colab": {
          "base_uri": "https://localhost:8080/",
          "height": 596
        },
        "id": "MTBtqlp2nUJZ",
        "outputId": "850b2275-49d7-4c2c-d396-be3e0788f87f"
      },
      "execution_count": 64,
      "outputs": [
        {
          "output_type": "display_data",
          "data": {
            "text/plain": [
              "<Figure size 720x720 with 1 Axes>"
            ],
            "image/png": "[encoded data removed]"
          },
          "metadata": {}
        }
      ]
    },
    {
      "cell_type": "markdown",
      "source": [
        "**A pie chart, sometimes known as a circle chart, is a circular statistical visual that shows numerical percentage through slices.It's one of the best methods to perform univariate and bivariate analysis.**\n",
        "\n",
        "**Above pie chart shows that content rating 'Adults only 18+' is highest rated among all other categories, but this does not mean that it is the most downloaded content rating, data analysis can be sometimes misguiding or tricky isn't it ?.So let's find out what's the most downloaded content rating.**"
      ],
      "metadata": {
        "id": "jqLZ3trRzvKi"
      }
    },
    {
      "cell_type": "code",
      "source": [
        "# Verifying above pie chart \n",
        "nn"
      ],
      "metadata": {
        "colab": {
          "base_uri": "https://localhost:8080/",
          "height": 269
        },
        "id": "U8qU8y8MnUTE",
        "outputId": "16145446-2970-4a09-9673-298d7719b9e9"
      },
      "execution_count": 56,
      "outputs": [
        {
          "output_type": "execute_result",
          "data": {
            "text/plain": [
              "                   Rating\n",
              "Content Rating           \n",
              "Adults only 18+  4.300000\n",
              "Everyone 10+     4.254167\n",
              "Teen             4.238845\n",
              "Everyone         4.180817\n",
              "Mature 17+       4.124331\n",
              "Unrated          4.100000"
            ],
            "text/html": [
              "\n",
              "  <div id=\"df-f48543d2-2999-4d64-8ab9-10e3f0f60403\">\n",
              "    <div class=\"colab-df-container\">\n",
              "      <div>\n",
              "<style scoped>\n",
              "    .dataframe tbody tr th:only-of-type {\n",
              "        vertical-align: middle;\n",
              "    }\n",
              "\n",
              "    .dataframe tbody tr th {\n",
              "        vertical-align: top;\n",
              "    }\n",
              "\n",
              "    .dataframe thead th {\n",
              "        text-align: right;\n",
              "    }\n",
              "</style>\n",
              "<table border=\"1\" class=\"dataframe\">\n",
              "  <thead>\n",
              "    <tr style=\"text-align: right;\">\n",
              "      <th></th>\n",
              "      <th>Rating</th>\n",
              "    </tr>\n",
              "    <tr>\n",
              "      <th>Content Rating</th>\n",
              "      <th></th>\n",
              "    </tr>\n",
              "  </thead>\n",
              "  <tbody>\n",
              "    <tr>\n",
              "      <th>Adults only 18+</th>\n",
              "      <td>4.300000</td>\n",
              "    </tr>\n",
              "    <tr>\n",
              "      <th>Everyone 10+</th>\n",
              "      <td>4.254167</td>\n",
              "    </tr>\n",
              "    <tr>\n",
              "      <th>Teen</th>\n",
              "      <td>4.238845</td>\n",
              "    </tr>\n",
              "    <tr>\n",
              "      <th>Everyone</th>\n",
              "      <td>4.180817</td>\n",
              "    </tr>\n",
              "    <tr>\n",
              "      <th>Mature 17+</th>\n",
              "      <td>4.124331</td>\n",
              "    </tr>\n",
              "    <tr>\n",
              "      <th>Unrated</th>\n",
              "      <td>4.100000</td>\n",
              "    </tr>\n",
              "  </tbody>\n",
              "</table>\n",
              "</div>\n",
              "      <button class=\"colab-df-convert\" onclick=\"convertToInteractive('df-f48543d2-2999-4d64-8ab9-10e3f0f60403')\"\n",
              "              title=\"Convert this dataframe to an interactive table.\"\n",
              "              style=\"display:none;\">\n",
              "        \n",
              "  <svg xmlns=\"http://www.w3.org/2000/svg\" height=\"24px\"viewBox=\"0 0 24 24\"\n",
              "       width=\"24px\">\n",
              "    <path d=\"M0 0h24v24H0V0z\" fill=\"none\"/>\n",
              "    <path d=\"M18.56 5.44l.94 2.06.94-2.06 2.06-.94-2.06-.94-.94-2.06-.94 2.06-2.06.94zm-11 1L8.5 8.5l.94-2.06 2.06-.94-2.06-.94L8.5 2.5l-.94 2.06-2.06.94zm10 10l.94 2.06.94-2.06 2.06-.94-2.06-.94-.94-2.06-.94 2.06-2.06.94z\"/><path d=\"M17.41 7.96l-1.37-1.37c-.4-.4-.92-.59-1.43-.59-.52 0-1.04.2-1.43.59L10.3 9.45l-7.72 7.72c-.78.78-.78 2.05 0 2.83L4 21.41c.39.39.9.59 1.41.59.51 0 1.02-.2 1.41-.59l7.78-7.78 2.81-2.81c.8-.78.8-2.07 0-2.86zM5.41 20L4 18.59l7.72-7.72 1.47 1.35L5.41 20z\"/>\n",
              "  </svg>\n",
              "      </button>\n",
              "      \n",
              "  <style>\n",
              "    .colab-df-container {\n",
              "      display:flex;\n",
              "      flex-wrap:wrap;\n",
              "      gap: 12px;\n",
              "    }\n",
              "\n",
              "    .colab-df-convert {\n",
              "      background-color: #E8F0FE;\n",
              "      border: none;\n",
              "      border-radius: 50%;\n",
              "      cursor: pointer;\n",
              "      display: none;\n",
              "      fill: #1967D2;\n",
              "      height: 32px;\n",
              "      padding: 0 0 0 0;\n",
              "      width: 32px;\n",
              "    }\n",
              "\n",
              "    .colab-df-convert:hover {\n",
              "      background-color: #E2EBFA;\n",
              "      box-shadow: 0px 1px 2px rgba(60, 64, 67, 0.3), 0px 1px 3px 1px rgba(60, 64, 67, 0.15);\n",
              "      fill: #174EA6;\n",
              "    }\n",
              "\n",
              "    [theme=dark] .colab-df-convert {\n",
              "      background-color: #3B4455;\n",
              "      fill: #D2E3FC;\n",
              "    }\n",
              "\n",
              "    [theme=dark] .colab-df-convert:hover {\n",
              "      background-color: #434B5C;\n",
              "      box-shadow: 0px 1px 3px 1px rgba(0, 0, 0, 0.15);\n",
              "      filter: drop-shadow(0px 1px 2px rgba(0, 0, 0, 0.3));\n",
              "      fill: #FFFFFF;\n",
              "    }\n",
              "  </style>\n",
              "\n",
              "      <script>\n",
              "        const buttonEl =\n",
              "          document.querySelector('#df-f48543d2-2999-4d64-8ab9-10e3f0f60403 button.colab-df-convert');\n",
              "        buttonEl.style.display =\n",
              "          google.colab.kernel.accessAllowed ? 'block' : 'none';\n",
              "\n",
              "        async function convertToInteractive(key) {\n",
              "          const element = document.querySelector('#df-f48543d2-2999-4d64-8ab9-10e3f0f60403');\n",
              "          const dataTable =\n",
              "            await google.colab.kernel.invokeFunction('convertToInteractive',\n",
              "                                                     [key], {});\n",
              "          if (!dataTable) return;\n",
              "\n",
              "          const docLinkHtml = 'Like what you see? Visit the ' +\n",
              "            '<a target=\"_blank\" href=https://colab.research.google.com/notebooks/data_table.ipynb>data table notebook</a>'\n",
              "            + ' to learn more about interactive tables.';\n",
              "          element.innerHTML = '';\n",
              "          dataTable['output_type'] = 'display_data';\n",
              "          await google.colab.output.renderOutput(dataTable, element);\n",
              "          const docLink = document.createElement('div');\n",
              "          docLink.innerHTML = docLinkHtml;\n",
              "          element.appendChild(docLink);\n",
              "        }\n",
              "      </script>\n",
              "    </div>\n",
              "  </div>\n",
              "  "
            ]
          },
          "metadata": {},
          "execution_count": 56
        }
      ]
    },
    {
      "cell_type": "markdown",
      "source": [
        "## **Now let's find out what are the most downloaded content ratings**"
      ],
      "metadata": {
        "id": "2BhYu50o2qBK"
      }
    },
    {
      "cell_type": "code",
      "source": [
        "# Finding out what content rating have been downloaded the most using pie chart\n",
        "plt.rcParams['figure.figsize']=(10,10) # figure size\n",
        "# Performing bivariate analysis on columns 'Content Rating' and 'Installs' using groupby to find average installs per content rating and sorting values in decending order\n",
        "ab=play_df.groupby('Content Rating')['Installs'].mean().sort_values(ascending=False)\n",
        "# Deploying pie chart using matplotlib and passing required arguments \n",
        "plt.pie(ab,labels=['Everyone 10+','Teen','Everyone','Mature 17+','Adults only 18+', 'Unrated'],autopct='%1.1f%%',shadow=True);\n",
        "plt.title('Content rating vs Installs',fontsize=20) # Title\n",
        "plt.legend(bbox_to_anchor=(0,1)); # Used to display and adjust the position of information box that is present on the left side of this pie chart"
      ],
      "metadata": {
        "colab": {
          "base_uri": "https://localhost:8080/",
          "height": 596
        },
        "id": "cwSBjWLDnUVh",
        "outputId": "905c631b-df81-41b5-d333-591bd4106249"
      },
      "execution_count": 60,
      "outputs": [
        {
          "output_type": "display_data",
          "data": {
            "text/plain": [
              "<Figure size 720x720 with 1 Axes>"
            ],
            "image/png": "[encoded data removed]"
          },
          "metadata": {}
        }
      ]
    },
    {
      "cell_type": "markdown",
      "source": [
        "**The above pie chart shows that the most downloaded content rating is \"Everyone 10+\" as it aquires 37.7% of area in pie chart , it could be a very useful information for App Devs as they would focus more on building apps that falls in this content rating.**\n",
        "\n",
        "**We can also notice that content ratings \"Unrated\" and \"Adults only 18+\" are the least downloaded categories , this is a bit surprising because of the fact that \"Adults only 18+\" was the highest rated content rating in our previous analysis**"
      ],
      "metadata": {
        "id": "olEvFOH33_hM"
      }
    },
    {
      "cell_type": "code",
      "source": [
        "ab.reset_index()"
      ],
      "metadata": {
        "colab": {
          "base_uri": "https://localhost:8080/",
          "height": 237
        },
        "id": "eHwZkiOpnUX8",
        "outputId": "8e556334-7bd7-4e25-9b9b-4067d7859bc3"
      },
      "execution_count": 58,
      "outputs": [
        {
          "output_type": "execute_result",
          "data": {
            "text/plain": [
              "    Content Rating      Installs\n",
              "0     Everyone 10+  2.976402e+07\n",
              "1             Teen  2.697930e+07\n",
              "2         Everyone  1.195772e+07\n",
              "3       Mature 17+  9.598874e+06\n",
              "4  Adults only 18+  6.666667e+05\n",
              "5          Unrated  2.525000e+04"
            ],
            "text/html": [
              "\n",
              "  <div id=\"df-2b11b958-0051-4842-a679-573d38caa14b\">\n",
              "    <div class=\"colab-df-container\">\n",
              "      <div>\n",
              "<style scoped>\n",
              "    .dataframe tbody tr th:only-of-type {\n",
              "        vertical-align: middle;\n",
              "    }\n",
              "\n",
              "    .dataframe tbody tr th {\n",
              "        vertical-align: top;\n",
              "    }\n",
              "\n",
              "    .dataframe thead th {\n",
              "        text-align: right;\n",
              "    }\n",
              "</style>\n",
              "<table border=\"1\" class=\"dataframe\">\n",
              "  <thead>\n",
              "    <tr style=\"text-align: right;\">\n",
              "      <th></th>\n",
              "      <th>Content Rating</th>\n",
              "      <th>Installs</th>\n",
              "    </tr>\n",
              "  </thead>\n",
              "  <tbody>\n",
              "    <tr>\n",
              "      <th>0</th>\n",
              "      <td>Everyone 10+</td>\n",
              "      <td>2.976402e+07</td>\n",
              "    </tr>\n",
              "    <tr>\n",
              "      <th>1</th>\n",
              "      <td>Teen</td>\n",
              "      <td>2.697930e+07</td>\n",
              "    </tr>\n",
              "    <tr>\n",
              "      <th>2</th>\n",
              "      <td>Everyone</td>\n",
              "      <td>1.195772e+07</td>\n",
              "    </tr>\n",
              "    <tr>\n",
              "      <th>3</th>\n",
              "      <td>Mature 17+</td>\n",
              "      <td>9.598874e+06</td>\n",
              "    </tr>\n",
              "    <tr>\n",
              "      <th>4</th>\n",
              "      <td>Adults only 18+</td>\n",
              "      <td>6.666667e+05</td>\n",
              "    </tr>\n",
              "    <tr>\n",
              "      <th>5</th>\n",
              "      <td>Unrated</td>\n",
              "      <td>2.525000e+04</td>\n",
              "    </tr>\n",
              "  </tbody>\n",
              "</table>\n",
              "</div>\n",
              "      <button class=\"colab-df-convert\" onclick=\"convertToInteractive('df-2b11b958-0051-4842-a679-573d38caa14b')\"\n",
              "              title=\"Convert this dataframe to an interactive table.\"\n",
              "              style=\"display:none;\">\n",
              "        \n",
              "  <svg xmlns=\"http://www.w3.org/2000/svg\" height=\"24px\"viewBox=\"0 0 24 24\"\n",
              "       width=\"24px\">\n",
              "    <path d=\"M0 0h24v24H0V0z\" fill=\"none\"/>\n",
              "    <path d=\"M18.56 5.44l.94 2.06.94-2.06 2.06-.94-2.06-.94-.94-2.06-.94 2.06-2.06.94zm-11 1L8.5 8.5l.94-2.06 2.06-.94-2.06-.94L8.5 2.5l-.94 2.06-2.06.94zm10 10l.94 2.06.94-2.06 2.06-.94-2.06-.94-.94-2.06-.94 2.06-2.06.94z\"/><path d=\"M17.41 7.96l-1.37-1.37c-.4-.4-.92-.59-1.43-.59-.52 0-1.04.2-1.43.59L10.3 9.45l-7.72 7.72c-.78.78-.78 2.05 0 2.83L4 21.41c.39.39.9.59 1.41.59.51 0 1.02-.2 1.41-.59l7.78-7.78 2.81-2.81c.8-.78.8-2.07 0-2.86zM5.41 20L4 18.59l7.72-7.72 1.47 1.35L5.41 20z\"/>\n",
              "  </svg>\n",
              "      </button>\n",
              "      \n",
              "  <style>\n",
              "    .colab-df-container {\n",
              "      display:flex;\n",
              "      flex-wrap:wrap;\n",
              "      gap: 12px;\n",
              "    }\n",
              "\n",
              "    .colab-df-convert {\n",
              "      background-color: #E8F0FE;\n",
              "      border: none;\n",
              "      border-radius: 50%;\n",
              "      cursor: pointer;\n",
              "      display: none;\n",
              "      fill: #1967D2;\n",
              "      height: 32px;\n",
              "      padding: 0 0 0 0;\n",
              "      width: 32px;\n",
              "    }\n",
              "\n",
              "    .colab-df-convert:hover {\n",
              "      background-color: #E2EBFA;\n",
              "      box-shadow: 0px 1px 2px rgba(60, 64, 67, 0.3), 0px 1px 3px 1px rgba(60, 64, 67, 0.15);\n",
              "      fill: #174EA6;\n",
              "    }\n",
              "\n",
              "    [theme=dark] .colab-df-convert {\n",
              "      background-color: #3B4455;\n",
              "      fill: #D2E3FC;\n",
              "    }\n",
              "\n",
              "    [theme=dark] .colab-df-convert:hover {\n",
              "      background-color: #434B5C;\n",
              "      box-shadow: 0px 1px 3px 1px rgba(0, 0, 0, 0.15);\n",
              "      filter: drop-shadow(0px 1px 2px rgba(0, 0, 0, 0.3));\n",
              "      fill: #FFFFFF;\n",
              "    }\n",
              "  </style>\n",
              "\n",
              "      <script>\n",
              "        const buttonEl =\n",
              "          document.querySelector('#df-2b11b958-0051-4842-a679-573d38caa14b button.colab-df-convert');\n",
              "        buttonEl.style.display =\n",
              "          google.colab.kernel.accessAllowed ? 'block' : 'none';\n",
              "\n",
              "        async function convertToInteractive(key) {\n",
              "          const element = document.querySelector('#df-2b11b958-0051-4842-a679-573d38caa14b');\n",
              "          const dataTable =\n",
              "            await google.colab.kernel.invokeFunction('convertToInteractive',\n",
              "                                                     [key], {});\n",
              "          if (!dataTable) return;\n",
              "\n",
              "          const docLinkHtml = 'Like what you see? Visit the ' +\n",
              "            '<a target=\"_blank\" href=https://colab.research.google.com/notebooks/data_table.ipynb>data table notebook</a>'\n",
              "            + ' to learn more about interactive tables.';\n",
              "          element.innerHTML = '';\n",
              "          dataTable['output_type'] = 'display_data';\n",
              "          await google.colab.output.renderOutput(dataTable, element);\n",
              "          const docLink = document.createElement('div');\n",
              "          docLink.innerHTML = docLinkHtml;\n",
              "          element.appendChild(docLink);\n",
              "        }\n",
              "      </script>\n",
              "    </div>\n",
              "  </div>\n",
              "  "
            ]
          },
          "metadata": {},
          "execution_count": 58
        }
      ]
    },
    {
      "cell_type": "markdown",
      "source": [
        "## **Analysing Free v/s Paid apps**"
      ],
      "metadata": {
        "id": "Xq2FV2ay8JB8"
      }
    },
    {
      "cell_type": "code",
      "source": [
        "# Let's know about the apps which are free or paid\n",
        "bb=play_df.Type.value_counts() # counting number of free and paid apps\n",
        "plt.rcParams['figure.figsize'] = (10,10) # figure size\n",
        "plt.pie(bb,labels=['Free','Paid'],autopct='%1.1f%%',explode=[0.1,0],shadow=True)  # autopct is used to display percentages on pie chart\n",
        "plt.title('Paid vs Free Apps',fontsize=20) # title\n",
        "plt.legend(bbox_to_anchor=(0,1)); # adjusting the position of information box\n"
      ],
      "metadata": {
        "colab": {
          "base_uri": "https://localhost:8080/",
          "height": 596
        },
        "id": "oa0xyQP3nUan",
        "outputId": "63959ca0-f893-43b1-8654-87fe7a671896"
      },
      "execution_count": 62,
      "outputs": [
        {
          "output_type": "display_data",
          "data": {
            "text/plain": [
              "<Figure size 720x720 with 1 Axes>"
            ],
            "image/png": "[encoded data removed]"
          },
          "metadata": {}
        }
      ]
    },
    {
      "cell_type": "markdown",
      "source": [
        "**The vast majority of apps present on google play store are free as we can see from above piechart ,Free apps(92.6%) are domaniting Paid apps(7.4%) , it's quite understandable from here why devs focus more on building free apps rather than paid.**\n",
        "\n",
        "\n",
        "---\n",
        "\n"
      ],
      "metadata": {
        "id": "citEPT0k8qL5"
      }
    },
    {
      "cell_type": "code",
      "source": [],
      "metadata": {
        "id": "yP_1Bsv7nUdC"
      },
      "execution_count": null,
      "outputs": []
    },
    {
      "cell_type": "code",
      "source": [],
      "metadata": {
        "id": "Pqwd-l09nUfa"
      },
      "execution_count": null,
      "outputs": []
    },
    {
      "cell_type": "code",
      "source": [],
      "metadata": {
        "id": "AD2p2YWhnUrX"
      },
      "execution_count": null,
      "outputs": []
    },
    {
      "cell_type": "code",
      "source": [],
      "metadata": {
        "id": "J_74qimWnUuE"
      },
      "execution_count": null,
      "outputs": []
    }
  ]
}